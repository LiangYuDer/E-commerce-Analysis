{
 "cells": [
  {
   "cell_type": "code",
   "execution_count": 1,
   "metadata": {},
   "outputs": [],
   "source": [
    "import numpy as np\n",
    "import pandas as pd\n",
    "import matplotlib.pyplot as plt\n",
    "import seaborn as sns"
   ]
  },
  {
   "cell_type": "code",
   "execution_count": 2,
   "metadata": {},
   "outputs": [
    {
     "name": "stderr",
     "output_type": "stream",
     "text": [
      "c:\\Users\\LiangYu\\anaconda3\\lib\\site-packages\\IPython\\core\\interactiveshell.py:3165: DtypeWarning: Columns (1,2,3,7,8,9,11,12,13,14,17,18,19) have mixed types.Specify dtype option on import or set low_memory=False.\n",
      "  has_raised = await self.run_ast_nodes(code_ast.body, cell_name,\n"
     ]
    },
    {
     "name": "stdout",
     "output_type": "stream",
     "text": [
      "<class 'pandas.core.frame.DataFrame'>\n",
      "RangeIndex: 1048575 entries, 0 to 1048574\n",
      "Data columns (total 26 columns):\n",
      " #   Column                 Non-Null Count   Dtype  \n",
      "---  ------                 --------------   -----  \n",
      " 0   item_id                584524 non-null  float64\n",
      " 1   status                 584509 non-null  object \n",
      " 2   created_at             584524 non-null  object \n",
      " 3   sku                    584504 non-null  object \n",
      " 4   price                  584524 non-null  float64\n",
      " 5   qty_ordered            584524 non-null  float64\n",
      " 6   grand_total            584524 non-null  float64\n",
      " 7   increment_id           584524 non-null  object \n",
      " 8   category_name_1        584360 non-null  object \n",
      " 9   sales_commission_code  447349 non-null  object \n",
      " 10  discount_amount        584524 non-null  float64\n",
      " 11  payment_method         584524 non-null  object \n",
      " 12  Working Date           584524 non-null  object \n",
      " 13  BI Status              584524 non-null  object \n",
      " 14   MV                    584524 non-null  object \n",
      " 15  Year                   584524 non-null  float64\n",
      " 16  Month                  584524 non-null  float64\n",
      " 17  Customer Since         584513 non-null  object \n",
      " 18  M-Y                    584524 non-null  object \n",
      " 19  FY                     584524 non-null  object \n",
      " 20  Customer ID            584513 non-null  float64\n",
      " 21  Unnamed: 21            0 non-null       float64\n",
      " 22  Unnamed: 22            0 non-null       float64\n",
      " 23  Unnamed: 23            0 non-null       float64\n",
      " 24  Unnamed: 24            0 non-null       float64\n",
      " 25  Unnamed: 25            0 non-null       float64\n",
      "dtypes: float64(13), object(13)\n",
      "memory usage: 208.0+ MB\n"
     ]
    }
   ],
   "source": [
    "dt = pd.read_csv(\"F:/Kaggle/Pakistan Largest Ecommerce Dataset.csv\")\n",
    "dt.info()"
   ]
  },
  {
   "cell_type": "code",
   "execution_count": 3,
   "metadata": {},
   "outputs": [],
   "source": [
    "#保留需要的columns，並且刪除整行是空值的欄位\n",
    "dt = dt.loc[:,[\"item_id\", \"status\", \"created_at\", \"sku\", \"price\", \"qty_ordered\", \"grand_total\", \"category_name_1\",\"discount_amount\", \\\n",
    "    \"payment_method\", \"Year\", \"Month\", \"Customer ID\"]]\n",
    "dt = dt.dropna(how = 'all')"
   ]
  },
  {
   "cell_type": "code",
   "execution_count": 4,
   "metadata": {},
   "outputs": [
    {
     "data": {
      "text/html": [
       "<div>\n",
       "<style scoped>\n",
       "    .dataframe tbody tr th:only-of-type {\n",
       "        vertical-align: middle;\n",
       "    }\n",
       "\n",
       "    .dataframe tbody tr th {\n",
       "        vertical-align: top;\n",
       "    }\n",
       "\n",
       "    .dataframe thead th {\n",
       "        text-align: right;\n",
       "    }\n",
       "</style>\n",
       "<table border=\"1\" class=\"dataframe\">\n",
       "  <thead>\n",
       "    <tr style=\"text-align: right;\">\n",
       "      <th></th>\n",
       "      <th>item_id</th>\n",
       "      <th>price</th>\n",
       "      <th>qty_ordered</th>\n",
       "      <th>grand_total</th>\n",
       "      <th>discount_amount</th>\n",
       "      <th>Year</th>\n",
       "      <th>Month</th>\n",
       "      <th>Customer ID</th>\n",
       "    </tr>\n",
       "  </thead>\n",
       "  <tbody>\n",
       "    <tr>\n",
       "      <th>count</th>\n",
       "      <td>584524.000000</td>\n",
       "      <td>5.845240e+05</td>\n",
       "      <td>584524.000000</td>\n",
       "      <td>5.845240e+05</td>\n",
       "      <td>584524.000000</td>\n",
       "      <td>584524.000000</td>\n",
       "      <td>584524.000000</td>\n",
       "      <td>584513.000000</td>\n",
       "    </tr>\n",
       "    <tr>\n",
       "      <th>mean</th>\n",
       "      <td>565667.074218</td>\n",
       "      <td>6.348748e+03</td>\n",
       "      <td>1.296388</td>\n",
       "      <td>8.530619e+03</td>\n",
       "      <td>499.492775</td>\n",
       "      <td>2017.044115</td>\n",
       "      <td>7.167654</td>\n",
       "      <td>45790.511965</td>\n",
       "    </tr>\n",
       "    <tr>\n",
       "      <th>std</th>\n",
       "      <td>200121.173648</td>\n",
       "      <td>1.494927e+04</td>\n",
       "      <td>3.996061</td>\n",
       "      <td>6.132081e+04</td>\n",
       "      <td>1506.943046</td>\n",
       "      <td>0.707355</td>\n",
       "      <td>3.486305</td>\n",
       "      <td>34414.962389</td>\n",
       "    </tr>\n",
       "    <tr>\n",
       "      <th>min</th>\n",
       "      <td>211131.000000</td>\n",
       "      <td>0.000000e+00</td>\n",
       "      <td>1.000000</td>\n",
       "      <td>-1.594000e+03</td>\n",
       "      <td>-599.500000</td>\n",
       "      <td>2016.000000</td>\n",
       "      <td>1.000000</td>\n",
       "      <td>1.000000</td>\n",
       "    </tr>\n",
       "    <tr>\n",
       "      <th>25%</th>\n",
       "      <td>395000.750000</td>\n",
       "      <td>3.600000e+02</td>\n",
       "      <td>1.000000</td>\n",
       "      <td>9.450000e+02</td>\n",
       "      <td>0.000000</td>\n",
       "      <td>2017.000000</td>\n",
       "      <td>4.000000</td>\n",
       "      <td>13516.000000</td>\n",
       "    </tr>\n",
       "    <tr>\n",
       "      <th>50%</th>\n",
       "      <td>568424.500000</td>\n",
       "      <td>8.990000e+02</td>\n",
       "      <td>1.000000</td>\n",
       "      <td>1.960400e+03</td>\n",
       "      <td>0.000000</td>\n",
       "      <td>2017.000000</td>\n",
       "      <td>7.000000</td>\n",
       "      <td>42856.000000</td>\n",
       "    </tr>\n",
       "    <tr>\n",
       "      <th>75%</th>\n",
       "      <td>739106.250000</td>\n",
       "      <td>4.070000e+03</td>\n",
       "      <td>1.000000</td>\n",
       "      <td>6.999000e+03</td>\n",
       "      <td>160.500000</td>\n",
       "      <td>2018.000000</td>\n",
       "      <td>11.000000</td>\n",
       "      <td>73536.000000</td>\n",
       "    </tr>\n",
       "    <tr>\n",
       "      <th>max</th>\n",
       "      <td>905208.000000</td>\n",
       "      <td>1.012626e+06</td>\n",
       "      <td>1000.000000</td>\n",
       "      <td>1.788800e+07</td>\n",
       "      <td>90300.000000</td>\n",
       "      <td>2018.000000</td>\n",
       "      <td>12.000000</td>\n",
       "      <td>115326.000000</td>\n",
       "    </tr>\n",
       "  </tbody>\n",
       "</table>\n",
       "</div>"
      ],
      "text/plain": [
       "             item_id         price    qty_ordered   grand_total  \\\n",
       "count  584524.000000  5.845240e+05  584524.000000  5.845240e+05   \n",
       "mean   565667.074218  6.348748e+03       1.296388  8.530619e+03   \n",
       "std    200121.173648  1.494927e+04       3.996061  6.132081e+04   \n",
       "min    211131.000000  0.000000e+00       1.000000 -1.594000e+03   \n",
       "25%    395000.750000  3.600000e+02       1.000000  9.450000e+02   \n",
       "50%    568424.500000  8.990000e+02       1.000000  1.960400e+03   \n",
       "75%    739106.250000  4.070000e+03       1.000000  6.999000e+03   \n",
       "max    905208.000000  1.012626e+06    1000.000000  1.788800e+07   \n",
       "\n",
       "       discount_amount           Year          Month    Customer ID  \n",
       "count    584524.000000  584524.000000  584524.000000  584513.000000  \n",
       "mean        499.492775    2017.044115       7.167654   45790.511965  \n",
       "std        1506.943046       0.707355       3.486305   34414.962389  \n",
       "min        -599.500000    2016.000000       1.000000       1.000000  \n",
       "25%           0.000000    2017.000000       4.000000   13516.000000  \n",
       "50%           0.000000    2017.000000       7.000000   42856.000000  \n",
       "75%         160.500000    2018.000000      11.000000   73536.000000  \n",
       "max       90300.000000    2018.000000      12.000000  115326.000000  "
      ]
     },
     "execution_count": 4,
     "metadata": {},
     "output_type": "execute_result"
    }
   ],
   "source": [
    "dt.describe()"
   ]
  },
  {
   "cell_type": "code",
   "execution_count": 5,
   "metadata": {},
   "outputs": [
    {
     "data": {
      "text/html": [
       "<div>\n",
       "<style scoped>\n",
       "    .dataframe tbody tr th:only-of-type {\n",
       "        vertical-align: middle;\n",
       "    }\n",
       "\n",
       "    .dataframe tbody tr th {\n",
       "        vertical-align: top;\n",
       "    }\n",
       "\n",
       "    .dataframe thead th {\n",
       "        text-align: right;\n",
       "    }\n",
       "</style>\n",
       "<table border=\"1\" class=\"dataframe\">\n",
       "  <thead>\n",
       "    <tr style=\"text-align: right;\">\n",
       "      <th></th>\n",
       "      <th>status</th>\n",
       "      <th>created_at</th>\n",
       "      <th>sku</th>\n",
       "      <th>category_name_1</th>\n",
       "      <th>payment_method</th>\n",
       "    </tr>\n",
       "  </thead>\n",
       "  <tbody>\n",
       "    <tr>\n",
       "      <th>count</th>\n",
       "      <td>584509</td>\n",
       "      <td>584524</td>\n",
       "      <td>584504</td>\n",
       "      <td>584360</td>\n",
       "      <td>584524</td>\n",
       "    </tr>\n",
       "    <tr>\n",
       "      <th>unique</th>\n",
       "      <td>16</td>\n",
       "      <td>789</td>\n",
       "      <td>84889</td>\n",
       "      <td>16</td>\n",
       "      <td>18</td>\n",
       "    </tr>\n",
       "    <tr>\n",
       "      <th>top</th>\n",
       "      <td>complete</td>\n",
       "      <td>11/25/2016</td>\n",
       "      <td>MATSAM59DB75ADB2F80</td>\n",
       "      <td>Mobiles &amp; Tablets</td>\n",
       "      <td>cod</td>\n",
       "    </tr>\n",
       "    <tr>\n",
       "      <th>freq</th>\n",
       "      <td>233685</td>\n",
       "      <td>15169</td>\n",
       "      <td>3775</td>\n",
       "      <td>115710</td>\n",
       "      <td>271960</td>\n",
       "    </tr>\n",
       "  </tbody>\n",
       "</table>\n",
       "</div>"
      ],
      "text/plain": [
       "          status  created_at                  sku    category_name_1  \\\n",
       "count     584509      584524               584504             584360   \n",
       "unique        16         789                84889                 16   \n",
       "top     complete  11/25/2016  MATSAM59DB75ADB2F80  Mobiles & Tablets   \n",
       "freq      233685       15169                 3775             115710   \n",
       "\n",
       "       payment_method  \n",
       "count          584524  \n",
       "unique             18  \n",
       "top               cod  \n",
       "freq           271960  "
      ]
     },
     "execution_count": 5,
     "metadata": {},
     "output_type": "execute_result"
    }
   ],
   "source": [
    "dt.describe(include=['object','bool'])"
   ]
  },
  {
   "cell_type": "markdown",
   "metadata": {},
   "source": [
    "Insights:\n",
    "- grand_total欄位代表營收，最小值是負值可能數據有誤，接下來確認這些異常訂單與訂單狀態的關係。\n",
    "- status 訂單狀態有16種，需要再進一步做整理。"
   ]
  },
  {
   "cell_type": "code",
   "execution_count": 6,
   "metadata": {},
   "outputs": [
    {
     "data": {
      "text/plain": [
       "Text(0, 0.5, 'Counts')"
      ]
     },
     "execution_count": 6,
     "metadata": {},
     "output_type": "execute_result"
    },
    {
     "data": {
      "image/png": "[encoded data removed]",
      "text/plain": [
       "<Figure size 1080x360 with 1 Axes>"
      ]
     },
     "metadata": {
      "needs_background": "light"
     },
     "output_type": "display_data"
    }
   ],
   "source": [
    "grand_total_check = dt[dt[\"grand_total\"] < 0][\"status\"].value_counts().rename_axis(\"status\").reset_index(name=\"counts\")\n",
    "#grand_total_check\n",
    "\n",
    "fig, ax = plt.subplots(figsize=(15,5))\n",
    "sns.set_style(\"darkgrid\")\n",
    "g = sns.barplot(data=grand_total_check, x=\"status\", y=\"counts\", palette=\"colorblind\")\n",
    "ax.bar_label(g.containers[0], padding = 0, fontsize = 16)\n",
    "plt.xticks(fontsize=16)\n",
    "plt.yticks(fontsize=16)\n",
    "plt.xlabel('Order Status', fontsize=12, labelpad=10)\n",
    "plt.ylabel('Counts', fontsize=12, labelpad=10)"
   ]
  },
  {
   "cell_type": "markdown",
   "metadata": {},
   "source": [
    "Insights:\n",
    "上表grand_total為負值的76筆訂單在每個狀態都有出現，沒有顯示具備特別意義，所以將這些異常資料移除。"
   ]
  },
  {
   "cell_type": "code",
   "execution_count": 7,
   "metadata": {},
   "outputs": [],
   "source": [
    "dt = dt[dt[\"grand_total\"] >= 0]"
   ]
  },
  {
   "cell_type": "code",
   "execution_count": 8,
   "metadata": {},
   "outputs": [
    {
     "data": {
      "text/plain": [
       "array(['complete', 'canceled', 'order_refunded', 'received', 'refund',\n",
       "       'closed', 'fraud', 'holded', 'exchange', 'pending_paypal', 'paid',\n",
       "       '\\\\N', 'cod', 'pending', nan, 'processing', 'payment_review'],\n",
       "      dtype=object)"
      ]
     },
     "execution_count": 8,
     "metadata": {},
     "output_type": "execute_result"
    }
   ],
   "source": [
    "#檢查 status 內不同的分類，接著把意思相近的分類整理成 \"已完成\"、\"取消\"、\"處理中\"\n",
    "dt[\"status\"].unique()"
   ]
  },
  {
   "cell_type": "code",
   "execution_count": 9,
   "metadata": {},
   "outputs": [],
   "source": [
    "dt[\"status\"] = dt[\"status\"].replace(\n",
    "    {\"complete\": \"completed\",\n",
    "    \"received\": \"completed\",\n",
    "    \"cod\": \"completed\",\n",
    "    \"paid\": \"completed\",\n",
    "    \"closed\": \"completed\",\n",
    "    \"exchange\": \"completed\",\n",
    "    \"canceled\": \"canceled\",\n",
    "    \"order_refunded\": \"canceled\",\n",
    "    \"refund\": \"canceled\",\n",
    "    \"fraud\": \"canceled\",\n",
    "    \"payment_review\": \"pending\",\n",
    "    \"pending\": \"pending\",\n",
    "    \"processing\": \"pending\",\n",
    "    \"holded\": \"pending\",\n",
    "    \"pending_paypal\": \"pending\"})"
   ]
  },
  {
   "cell_type": "code",
   "execution_count": 10,
   "metadata": {},
   "outputs": [],
   "source": [
    "#將部分columns轉換成正確的資料類型\n",
    "dt['Customer ID'] = dt['Customer ID'].astype(str)\n",
    "dt['item_id'] = dt['item_id'].astype(str)\n",
    "dt['qty_ordered'] = dt['qty_ordered'].astype(int)  \n",
    "dt['Year'] = dt['Year'].astype(int)  \n",
    "dt['Month'] = dt['Month'].astype(int)"
   ]
  },
  {
   "cell_type": "code",
   "execution_count": 11,
   "metadata": {},
   "outputs": [
    {
     "name": "stdout",
     "output_type": "stream",
     "text": [
      "2016-07-01 00:00:00\n",
      "2018-08-28 00:00:00\n"
     ]
    }
   ],
   "source": [
    "#將消費日期轉為正確格式 %Y/%m/%m\n",
    "dt[\"Day\"] = dt[\"created_at\"].str.split('/', expand=True)[1].apply(lambda x: x if len(x)>1 else \"0\"+x)\n",
    "dt[\"Month\"] = dt[\"Month\"].astype(str).apply(lambda x: x if len(x)>1 else \"0\"+x)\n",
    "dt[\"created_at\"] = dt[\"Year\"].astype(str) + \"-\" + dt[\"Month\"] + \"-\" + dt[\"Day\"].astype(str)\n",
    "dt[\"created_at_date\"] = pd.to_datetime(dt[\"created_at\"])\n",
    "print(dt[\"created_at_date\"].min())\n",
    "print(dt[\"created_at_date\"].max())"
   ]
  },
  {
   "cell_type": "code",
   "execution_count": 12,
   "metadata": {},
   "outputs": [],
   "source": [
    "#1: 計算2016/07/01 - 2018/08/28 月營收\n",
    "revenue = dt[dt[\"status\"] == \"completed\"][[\"Year\", \"Month\", \"qty_ordered\", \"grand_total\"]].groupby([\"Year\", \"Month\"]).agg('sum').sort_values(by=[\"Year\", \"Month\"]).reset_index()\n",
    "created_at_y_m = revenue[\"Year\"].astype(str) + \"-\" + revenue[\"Month\"]\n",
    "revenue.insert(0,\"Year_Month\",created_at_y_m)"
   ]
  },
  {
   "cell_type": "code",
   "execution_count": 13,
   "metadata": {},
   "outputs": [
    {
     "data": {
      "text/plain": [
       "([0,\n",
       "  1,\n",
       "  2,\n",
       "  3,\n",
       "  4,\n",
       "  5,\n",
       "  6,\n",
       "  7,\n",
       "  8,\n",
       "  9,\n",
       "  10,\n",
       "  11,\n",
       "  12,\n",
       "  13,\n",
       "  14,\n",
       "  15,\n",
       "  16,\n",
       "  17,\n",
       "  18,\n",
       "  19,\n",
       "  20,\n",
       "  21,\n",
       "  22,\n",
       "  23,\n",
       "  24,\n",
       "  25],\n",
       " [Text(0, 0, '2016-07'),\n",
       "  Text(1, 0, '2016-08'),\n",
       "  Text(2, 0, '2016-09'),\n",
       "  Text(3, 0, '2016-10'),\n",
       "  Text(4, 0, '2016-11'),\n",
       "  Text(5, 0, '2016-12'),\n",
       "  Text(6, 0, '2017-01'),\n",
       "  Text(7, 0, '2017-02'),\n",
       "  Text(8, 0, '2017-03'),\n",
       "  Text(9, 0, '2017-04'),\n",
       "  Text(10, 0, '2017-05'),\n",
       "  Text(11, 0, '2017-06'),\n",
       "  Text(12, 0, '2017-07'),\n",
       "  Text(13, 0, '2017-08'),\n",
       "  Text(14, 0, '2017-09'),\n",
       "  Text(15, 0, '2017-10'),\n",
       "  Text(16, 0, '2017-11'),\n",
       "  Text(17, 0, '2017-12'),\n",
       "  Text(18, 0, '2018-01'),\n",
       "  Text(19, 0, '2018-02'),\n",
       "  Text(20, 0, '2018-03'),\n",
       "  Text(21, 0, '2018-04'),\n",
       "  Text(22, 0, '2018-05'),\n",
       "  Text(23, 0, '2018-06'),\n",
       "  Text(24, 0, '2018-07'),\n",
       "  Text(25, 0, '2018-08')])"
      ]
     },
     "execution_count": 13,
     "metadata": {},
     "output_type": "execute_result"
    },
    {
     "data": {
      "image/png": "[encoded data removed]",
      "text/plain": [
       "<Figure size 1440x360 with 1 Axes>"
      ]
     },
     "metadata": {},
     "output_type": "display_data"
    }
   ],
   "source": [
    "fig, ax = plt.subplots(figsize=(20, 5))\n",
    "sns.set_style(\"darkgrid\")\n",
    "sns.lineplot(data=revenue, x=\"Year_Month\", y=\"grand_total\")\n",
    "ax.yaxis.get_major_formatter().set_scientific(False)\n",
    "#ax.yaxis.get_major_formatter().set_useOffset(False)\n",
    "ax.set_xlabel('')\n",
    "ax.set_ylabel('Revenue')\n",
    "plt.xticks(rotation=45)"
   ]
  },
  {
   "cell_type": "code",
   "execution_count": null,
   "metadata": {},
   "outputs": [],
   "source": []
  },
  {
   "cell_type": "markdown",
   "metadata": {},
   "source": [
    "人均訂單數、客單價\n"
   ]
  },
  {
   "cell_type": "code",
   "execution_count": null,
   "metadata": {},
   "outputs": [],
   "source": []
  },
  {
   "cell_type": "code",
   "execution_count": 14,
   "metadata": {},
   "outputs": [],
   "source": [
    "# shop_sum = revenue.groupby(\"invoice_date_y\")[\"price\"].agg(\"sum\")\n",
    "# customer_id_count = df.groupby(\"invoice_date_y\")[\"invoice_no\",\"customer_id\"].nunique()\n",
    "# customer_id_count\n",
    "# shop_per_num =pd.concat([shop_sum,customer_id_count],axis=1)\n",
    "# shop_per_num"
   ]
  },
  {
   "cell_type": "code",
   "execution_count": 15,
   "metadata": {},
   "outputs": [],
   "source": [
    "#order_data = pd.merge(df_orders, df_order_payments, on=\"order_id\")\n",
    "# order_count = order_data[order_data[\"order_status\"] != \"canceled\"].groupby(\"order_purchase_y\").agg(\"count\")\n",
    "# customer_id_count = order_data[order_data[\"order_status\"] != \"canceled\"].groupby(\"order_purchase_y\")[\"customer_id\"].nunique()\n",
    "# order_count"
   ]
  },
  {
   "cell_type": "markdown",
   "metadata": {},
   "source": [
    "使用 customer_unique_id 辨識消費者是否為新舊客。\n",
    "消費人數(分新舊客)"
   ]
  },
  {
   "cell_type": "code",
   "execution_count": 16,
   "metadata": {},
   "outputs": [],
   "source": [
    "#2016 - 2018 人均訂單數\n",
    "# customer_id\n",
    "# order_count = order_data[order_data[\"order_status\"] != \"canceled\"].groupby(\"order_purchase_y\").agg(\"count\")\n",
    "# customer_id_count = order_data[order_data[\"order_status\"] != \"canceled\"].groupby(\"order_purchase_y\")[\"customer_id\"].nunique()\n",
    "# order_count\n"
   ]
  },
  {
   "cell_type": "code",
   "execution_count": 17,
   "metadata": {},
   "outputs": [],
   "source": [
    "# customer_id_count"
   ]
  }
 ],
 "metadata": {
  "kernelspec": {
   "display_name": "Python 3.8.8 ('base')",
   "language": "python",
   "name": "python3"
  },
  "language_info": {
   "codemirror_mode": {
    "name": "ipython",
    "version": 3
   },
   "file_extension": ".py",
   "mimetype": "text/x-python",
   "name": "python",
   "nbconvert_exporter": "python",
   "pygments_lexer": "ipython3",
   "version": "3.8.8"
  },
  "orig_nbformat": 4,
  "vscode": {
   "interpreter": {
    "hash": "0f34cc79250ad0e4a99eb7fe7afdf3165bc4aa2cc1bb10fa40edf34315c4e305"
   }
  }
 },
 "nbformat": 4,
 "nbformat_minor": 2
}
