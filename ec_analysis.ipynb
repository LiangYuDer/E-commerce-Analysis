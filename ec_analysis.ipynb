{
 "cells": [
  {
   "cell_type": "markdown",
   "metadata": {},
   "source": [
    "<div class=\"alert alert-light\">\n",
    "<h3><b>電商平台銷售概況與客戶分群分析</b></h3>\n",
    "資料區間： 2016年07月01日 - 2018年08月28日<br>\n",
    "資料來源： Kaggle, Pakistan's Largest E-Commerce Dataset \n",
    "</div>"
   ]
  },
  {
   "cell_type": "markdown",
   "metadata": {},
   "source": [
    "<div class=\"alert alert-light\">\n",
    "<h4><b>資料集介紹</b></h4>\n",
    "透過分析位於巴基斯坦某間電商平台銷售數據，探索從 2016/07/07 至 2018/08/28 約二年的營運情形，以及經由顧客分群深入了解其購買習慣，作為後續規劃行銷活動的參考。<br>\n",
    "<br>\n",
    "本次案例中會針對以下的指標進行探究：<br>\n",
    "1. 資料區間的營業額成長狀況。<br>\n",
    "2. 每月份的客單價，了解顧客對於不同種類的商品，願意花費的範圍為何。<br>\n",
    "3. 每月份的顧客購買頻次，代表顧客對於平台的使用需求高低。<br>\n",
    "4. 每月份的新舊客的消費人數佔比、成交總額、回購率等消費數據。<br>\n",
    "5. 運用RFM模型細分顧客，將結果視覺化，並進一步針對不同客群建立顧客導向的策略。<br>\n",
    "</div>"
   ]
  },
  {
   "cell_type": "markdown",
   "metadata": {},
   "source": [
    "<div class=\"alert alert-light\">\n",
    "<h4><b>資料集欄位說明</b></h4>\n",
    "• status：訂單狀態，主要分為完成、取消和退款(completed, cancelled, refund)<br>\n",
    "• created_at：訂單成立日期<br>\n",
    "• sku：商品貨號<br>\n",
    "• qty_ordered：訂單內商品的購買數量<br>\n",
    "• grand_total：結帳金額<br>\n",
    "• increment_id：可視為發票號碼來辨識同筆訂單<br>\n",
    "• category_name_1：商品分類<br>\n",
    "• payment_method：付款方式<br>\n",
    "• CustomerID：顧客專屬ID<br>\n",
    "</div>"
   ]
  },
  {
   "cell_type": "code",
   "execution_count": 67,
   "metadata": {},
   "outputs": [],
   "source": [
    "import numpy as np\n",
    "import pandas as pd\n",
    "import matplotlib.pyplot as plt\n",
    "import plotly.express as px\n",
    "import seaborn as sns\n",
    "import datetime\n",
    "#from datetime import timedelta\n",
    "pd.set_option(\"display.float_format\", \"{:.2f}\".format)"
   ]
  },
  {
   "cell_type": "code",
   "execution_count": 68,
   "metadata": {},
   "outputs": [
    {
     "name": "stderr",
     "output_type": "stream",
     "text": [
      "c:\\Users\\LiangYu\\anaconda3\\lib\\site-packages\\IPython\\core\\interactiveshell.py:3165: DtypeWarning: Columns (1,2,3,7,8,9,11,12,13,14,17,18,19) have mixed types.Specify dtype option on import or set low_memory=False.\n",
      "  has_raised = await self.run_ast_nodes(code_ast.body, cell_name,\n"
     ]
    }
   ],
   "source": [
    "#匯入資料\n",
    "dt = pd.read_csv(\"F:/Kaggle/E-commerce-Analysis/Pakistan Largest Ecommerce Dataset.csv\")\n"
   ]
  },
  {
   "cell_type": "code",
   "execution_count": 69,
   "metadata": {},
   "outputs": [
    {
     "name": "stdout",
     "output_type": "stream",
     "text": [
      "<class 'pandas.core.frame.DataFrame'>\n",
      "RangeIndex: 1048575 entries, 0 to 1048574\n",
      "Data columns (total 26 columns):\n",
      " #   Column                 Non-Null Count   Dtype  \n",
      "---  ------                 --------------   -----  \n",
      " 0   item_id                584524 non-null  float64\n",
      " 1   status                 584509 non-null  object \n",
      " 2   created_at             584524 non-null  object \n",
      " 3   sku                    584504 non-null  object \n",
      " 4   price                  584524 non-null  float64\n",
      " 5   qty_ordered            584524 non-null  float64\n",
      " 6   grand_total            584524 non-null  float64\n",
      " 7   increment_id           584524 non-null  object \n",
      " 8   category_name_1        584360 non-null  object \n",
      " 9   sales_commission_code  447349 non-null  object \n",
      " 10  discount_amount        584524 non-null  float64\n",
      " 11  payment_method         584524 non-null  object \n",
      " 12  Working Date           584524 non-null  object \n",
      " 13  BI Status              584524 non-null  object \n",
      " 14   MV                    584524 non-null  object \n",
      " 15  Year                   584524 non-null  float64\n",
      " 16  Month                  584524 non-null  float64\n",
      " 17  Customer Since         584513 non-null  object \n",
      " 18  M-Y                    584524 non-null  object \n",
      " 19  FY                     584524 non-null  object \n",
      " 20  Customer ID            584513 non-null  float64\n",
      " 21  Unnamed: 21            0 non-null       float64\n",
      " 22  Unnamed: 22            0 non-null       float64\n",
      " 23  Unnamed: 23            0 non-null       float64\n",
      " 24  Unnamed: 24            0 non-null       float64\n",
      " 25  Unnamed: 25            0 non-null       float64\n",
      "dtypes: float64(13), object(13)\n",
      "memory usage: 208.0+ MB\n"
     ]
    }
   ],
   "source": [
    "dt.info()"
   ]
  },
  {
   "cell_type": "code",
   "execution_count": 70,
   "metadata": {},
   "outputs": [],
   "source": [
    "#保留需要的columns，並且刪除整行是空值的欄位。\n",
    "dt = dt.loc[:,[\"item_id\", \"status\", \"created_at\", \"sku\", \"price\", \"qty_ordered\", \"grand_total\", \"increment_id\", \"category_name_1\",\"discount_amount\", \\\n",
    "    \"payment_method\", \"Year\", \"Month\", \"Customer ID\"]]\n",
    "dt = dt.dropna(how = 'all')"
   ]
  },
  {
   "cell_type": "code",
   "execution_count": 71,
   "metadata": {},
   "outputs": [],
   "source": [
    "#另有11筆資料缺少會員id，也將這些訂單資料刪除。\n",
    "#dt[dt[\"Customer ID\"].isna()]\n",
    "dt = dt.dropna(subset=[\"Customer ID\"])"
   ]
  },
  {
   "cell_type": "code",
   "execution_count": 72,
   "metadata": {},
   "outputs": [
    {
     "data": {
      "text/html": [
       "<div>\n",
       "<style scoped>\n",
       "    .dataframe tbody tr th:only-of-type {\n",
       "        vertical-align: middle;\n",
       "    }\n",
       "\n",
       "    .dataframe tbody tr th {\n",
       "        vertical-align: top;\n",
       "    }\n",
       "\n",
       "    .dataframe thead th {\n",
       "        text-align: right;\n",
       "    }\n",
       "</style>\n",
       "<table border=\"1\" class=\"dataframe\">\n",
       "  <thead>\n",
       "    <tr style=\"text-align: right;\">\n",
       "      <th></th>\n",
       "      <th>item_id</th>\n",
       "      <th>price</th>\n",
       "      <th>qty_ordered</th>\n",
       "      <th>grand_total</th>\n",
       "      <th>discount_amount</th>\n",
       "      <th>Year</th>\n",
       "      <th>Month</th>\n",
       "      <th>Customer ID</th>\n",
       "    </tr>\n",
       "  </thead>\n",
       "  <tbody>\n",
       "    <tr>\n",
       "      <th>count</th>\n",
       "      <td>584513.00</td>\n",
       "      <td>584513.00</td>\n",
       "      <td>584513.00</td>\n",
       "      <td>584513.00</td>\n",
       "      <td>584513.00</td>\n",
       "      <td>584513.00</td>\n",
       "      <td>584513.00</td>\n",
       "      <td>584513.00</td>\n",
       "    </tr>\n",
       "    <tr>\n",
       "      <th>mean</th>\n",
       "      <td>565663.13</td>\n",
       "      <td>6348.82</td>\n",
       "      <td>1.30</td>\n",
       "      <td>8530.68</td>\n",
       "      <td>499.50</td>\n",
       "      <td>2017.04</td>\n",
       "      <td>7.17</td>\n",
       "      <td>45790.51</td>\n",
       "    </tr>\n",
       "    <tr>\n",
       "      <th>std</th>\n",
       "      <td>200120.93</td>\n",
       "      <td>14949.40</td>\n",
       "      <td>4.00</td>\n",
       "      <td>61321.38</td>\n",
       "      <td>1506.96</td>\n",
       "      <td>0.71</td>\n",
       "      <td>3.49</td>\n",
       "      <td>34414.96</td>\n",
       "    </tr>\n",
       "    <tr>\n",
       "      <th>min</th>\n",
       "      <td>211131.00</td>\n",
       "      <td>0.00</td>\n",
       "      <td>1.00</td>\n",
       "      <td>-1594.00</td>\n",
       "      <td>-599.50</td>\n",
       "      <td>2016.00</td>\n",
       "      <td>1.00</td>\n",
       "      <td>1.00</td>\n",
       "    </tr>\n",
       "    <tr>\n",
       "      <th>25%</th>\n",
       "      <td>394997.00</td>\n",
       "      <td>360.00</td>\n",
       "      <td>1.00</td>\n",
       "      <td>945.00</td>\n",
       "      <td>0.00</td>\n",
       "      <td>2017.00</td>\n",
       "      <td>4.00</td>\n",
       "      <td>13516.00</td>\n",
       "    </tr>\n",
       "    <tr>\n",
       "      <th>50%</th>\n",
       "      <td>568417.00</td>\n",
       "      <td>899.00</td>\n",
       "      <td>1.00</td>\n",
       "      <td>1960.40</td>\n",
       "      <td>0.00</td>\n",
       "      <td>2017.00</td>\n",
       "      <td>7.00</td>\n",
       "      <td>42856.00</td>\n",
       "    </tr>\n",
       "    <tr>\n",
       "      <th>75%</th>\n",
       "      <td>739102.00</td>\n",
       "      <td>4070.00</td>\n",
       "      <td>1.00</td>\n",
       "      <td>6999.00</td>\n",
       "      <td>160.52</td>\n",
       "      <td>2018.00</td>\n",
       "      <td>11.00</td>\n",
       "      <td>73536.00</td>\n",
       "    </tr>\n",
       "    <tr>\n",
       "      <th>max</th>\n",
       "      <td>905208.00</td>\n",
       "      <td>1012625.90</td>\n",
       "      <td>1000.00</td>\n",
       "      <td>17888000.00</td>\n",
       "      <td>90300.00</td>\n",
       "      <td>2018.00</td>\n",
       "      <td>12.00</td>\n",
       "      <td>115326.00</td>\n",
       "    </tr>\n",
       "  </tbody>\n",
       "</table>\n",
       "</div>"
      ],
      "text/plain": [
       "        item_id      price  qty_ordered  grand_total  discount_amount  \\\n",
       "count 584513.00  584513.00    584513.00    584513.00        584513.00   \n",
       "mean  565663.13    6348.82         1.30      8530.68           499.50   \n",
       "std   200120.93   14949.40         4.00     61321.38          1506.96   \n",
       "min   211131.00       0.00         1.00     -1594.00          -599.50   \n",
       "25%   394997.00     360.00         1.00       945.00             0.00   \n",
       "50%   568417.00     899.00         1.00      1960.40             0.00   \n",
       "75%   739102.00    4070.00         1.00      6999.00           160.52   \n",
       "max   905208.00 1012625.90      1000.00  17888000.00         90300.00   \n",
       "\n",
       "           Year     Month  Customer ID  \n",
       "count 584513.00 584513.00    584513.00  \n",
       "mean    2017.04      7.17     45790.51  \n",
       "std        0.71      3.49     34414.96  \n",
       "min     2016.00      1.00         1.00  \n",
       "25%     2017.00      4.00     13516.00  \n",
       "50%     2017.00      7.00     42856.00  \n",
       "75%     2018.00     11.00     73536.00  \n",
       "max     2018.00     12.00    115326.00  "
      ]
     },
     "execution_count": 72,
     "metadata": {},
     "output_type": "execute_result"
    }
   ],
   "source": [
    "dt.describe()"
   ]
  },
  {
   "cell_type": "code",
   "execution_count": 73,
   "metadata": {},
   "outputs": [
    {
     "data": {
      "text/html": [
       "<div>\n",
       "<style scoped>\n",
       "    .dataframe tbody tr th:only-of-type {\n",
       "        vertical-align: middle;\n",
       "    }\n",
       "\n",
       "    .dataframe tbody tr th {\n",
       "        vertical-align: top;\n",
       "    }\n",
       "\n",
       "    .dataframe thead th {\n",
       "        text-align: right;\n",
       "    }\n",
       "</style>\n",
       "<table border=\"1\" class=\"dataframe\">\n",
       "  <thead>\n",
       "    <tr style=\"text-align: right;\">\n",
       "      <th></th>\n",
       "      <th>status</th>\n",
       "      <th>created_at</th>\n",
       "      <th>sku</th>\n",
       "      <th>increment_id</th>\n",
       "      <th>category_name_1</th>\n",
       "      <th>payment_method</th>\n",
       "    </tr>\n",
       "  </thead>\n",
       "  <tbody>\n",
       "    <tr>\n",
       "      <th>count</th>\n",
       "      <td>584498</td>\n",
       "      <td>584513</td>\n",
       "      <td>584493</td>\n",
       "      <td>584513</td>\n",
       "      <td>584349</td>\n",
       "      <td>584513</td>\n",
       "    </tr>\n",
       "    <tr>\n",
       "      <th>unique</th>\n",
       "      <td>16</td>\n",
       "      <td>789</td>\n",
       "      <td>84888</td>\n",
       "      <td>408776</td>\n",
       "      <td>16</td>\n",
       "      <td>18</td>\n",
       "    </tr>\n",
       "    <tr>\n",
       "      <th>top</th>\n",
       "      <td>complete</td>\n",
       "      <td>11/25/2016</td>\n",
       "      <td>MATSAM59DB75ADB2F80</td>\n",
       "      <td>100266667</td>\n",
       "      <td>Mobiles &amp; Tablets</td>\n",
       "      <td>cod</td>\n",
       "    </tr>\n",
       "    <tr>\n",
       "      <th>freq</th>\n",
       "      <td>233685</td>\n",
       "      <td>15169</td>\n",
       "      <td>3775</td>\n",
       "      <td>72</td>\n",
       "      <td>115710</td>\n",
       "      <td>271955</td>\n",
       "    </tr>\n",
       "  </tbody>\n",
       "</table>\n",
       "</div>"
      ],
      "text/plain": [
       "          status  created_at                  sku increment_id  \\\n",
       "count     584498      584513               584493       584513   \n",
       "unique        16         789                84888       408776   \n",
       "top     complete  11/25/2016  MATSAM59DB75ADB2F80    100266667   \n",
       "freq      233685       15169                 3775           72   \n",
       "\n",
       "          category_name_1 payment_method  \n",
       "count              584349         584513  \n",
       "unique                 16             18  \n",
       "top     Mobiles & Tablets            cod  \n",
       "freq               115710         271955  "
      ]
     },
     "execution_count": 73,
     "metadata": {},
     "output_type": "execute_result"
    }
   ],
   "source": [
    "dt.describe(include=['object','bool'])"
   ]
  },
  {
   "cell_type": "code",
   "execution_count": 74,
   "metadata": {},
   "outputs": [
    {
     "data": {
      "text/plain": [
       "array(['complete', 'canceled', 'order_refunded', 'received', 'refund',\n",
       "       'closed', 'fraud', 'holded', 'exchange', 'pending_paypal', 'paid',\n",
       "       '\\\\N', 'cod', 'pending', nan, 'processing', 'payment_review'],\n",
       "      dtype=object)"
      ]
     },
     "execution_count": 74,
     "metadata": {},
     "output_type": "execute_result"
    }
   ],
   "source": [
    "#檢查 status 內不同的分類，接著把意思相近的分類整理成 \"已完成\"、\"取消\"、\"處理中\"。\n",
    "dt[\"status\"].unique()"
   ]
  },
  {
   "cell_type": "code",
   "execution_count": 75,
   "metadata": {},
   "outputs": [],
   "source": [
    "dt[\"status\"] = dt[\"status\"].replace(\n",
    "    {\"complete\": \"completed\",\n",
    "    \"received\": \"completed\",\n",
    "    \"cod\": \"completed\",\n",
    "    \"paid\": \"completed\",\n",
    "    \"closed\": \"completed\",\n",
    "    \"exchange\": \"completed\",\n",
    "    \"canceled\": \"canceled\",\n",
    "    \"order_refunded\": \"canceled\",\n",
    "    \"refund\": \"canceled\",\n",
    "    \"fraud\": \"canceled\",\n",
    "    \"payment_review\": \"pending\",\n",
    "    \"pending\": \"pending\",\n",
    "    \"processing\": \"pending\",\n",
    "    \"holded\": \"pending\",\n",
    "    \"pending_paypal\": \"pending\"})"
   ]
  },
  {
   "cell_type": "code",
   "execution_count": 76,
   "metadata": {},
   "outputs": [],
   "source": [
    "#將所需的 column 轉換成正確的資料類型\n",
    "dt[\"Customer ID\"] = dt[\"Customer ID\"].astype(int)\n",
    "dt[\"item_id\"] = dt[\"item_id\"].astype(str)\n",
    "dt[\"qty_ordered\"] = dt[\"qty_ordered\"].astype(int)  \n",
    "dt[\"Year\"] = dt[\"Year\"].astype(int)  \n",
    "dt[\"Month\"] = dt[\"Month\"].astype(int)"
   ]
  },
  {
   "cell_type": "code",
   "execution_count": 77,
   "metadata": {},
   "outputs": [
    {
     "name": "stdout",
     "output_type": "stream",
     "text": [
      "訂單最早時間：2016-07-01 00:00:00\n",
      "訂單最晚時間：2018-08-28 00:00:00\n"
     ]
    }
   ],
   "source": [
    "#將消費日期轉為正確格式 %Y/%m/%m\n",
    "dt[\"Day\"] = dt[\"created_at\"].str.split('/', expand=True)[1].apply(lambda x: x if len(x)>1 else \"0\"+x)\n",
    "dt[\"Month\"] = dt[\"Month\"].astype(str).apply(lambda x: x if len(x)>1 else \"0\"+x)\n",
    "dt[\"created_at\"] = dt[\"Year\"].astype(str) + \"-\" + dt[\"Month\"] + \"-\" + dt[\"Day\"].astype(str)\n",
    "dt[\"created_at_date\"] = pd.to_datetime(dt[\"created_at\"])\n",
    "\n",
    "print(f\"訂單最早時間：{dt['created_at_date'].min()}\")\n",
    "print(f\"訂單最晚時間：{dt['created_at_date'].max()}\")"
   ]
  },
  {
   "cell_type": "markdown",
   "metadata": {},
   "source": [
    "<div class=\"alert alert-success\">\n",
    "1. 統計2016/07/01 - 2018/08/28 月營收\n",
    "</div>"
   ]
  },
  {
   "cell_type": "code",
   "execution_count": 81,
   "metadata": {},
   "outputs": [
    {
     "name": "stdout",
     "output_type": "stream",
     "text": [
      "平均月營收：62773491.0\n",
      "平均月成長率：0.75\n"
     ]
    },
    {
     "data": {
      "text/html": [
       "<div>\n",
       "<style scoped>\n",
       "    .dataframe tbody tr th:only-of-type {\n",
       "        vertical-align: middle;\n",
       "    }\n",
       "\n",
       "    .dataframe tbody tr th {\n",
       "        vertical-align: top;\n",
       "    }\n",
       "\n",
       "    .dataframe thead th {\n",
       "        text-align: right;\n",
       "    }\n",
       "</style>\n",
       "<table border=\"1\" class=\"dataframe\">\n",
       "  <thead>\n",
       "    <tr style=\"text-align: right;\">\n",
       "      <th></th>\n",
       "      <th>Year_Month</th>\n",
       "      <th>Year</th>\n",
       "      <th>Month</th>\n",
       "      <th>qty_ordered</th>\n",
       "      <th>grand_total</th>\n",
       "      <th>pct</th>\n",
       "    </tr>\n",
       "  </thead>\n",
       "  <tbody>\n",
       "    <tr>\n",
       "      <th>0</th>\n",
       "      <td>2016-07</td>\n",
       "      <td>2016</td>\n",
       "      <td>07</td>\n",
       "      <td>6639</td>\n",
       "      <td>11720820.27</td>\n",
       "      <td>0.00</td>\n",
       "    </tr>\n",
       "    <tr>\n",
       "      <th>1</th>\n",
       "      <td>2016-08</td>\n",
       "      <td>2016</td>\n",
       "      <td>08</td>\n",
       "      <td>8506</td>\n",
       "      <td>17588479.23</td>\n",
       "      <td>0.50</td>\n",
       "    </tr>\n",
       "    <tr>\n",
       "      <th>2</th>\n",
       "      <td>2016-09</td>\n",
       "      <td>2016</td>\n",
       "      <td>09</td>\n",
       "      <td>9150</td>\n",
       "      <td>27503668.06</td>\n",
       "      <td>0.56</td>\n",
       "    </tr>\n",
       "    <tr>\n",
       "      <th>3</th>\n",
       "      <td>2016-10</td>\n",
       "      <td>2016</td>\n",
       "      <td>10</td>\n",
       "      <td>9074</td>\n",
       "      <td>24824142.90</td>\n",
       "      <td>-0.10</td>\n",
       "    </tr>\n",
       "    <tr>\n",
       "      <th>4</th>\n",
       "      <td>2016-11</td>\n",
       "      <td>2016</td>\n",
       "      <td>11</td>\n",
       "      <td>42330</td>\n",
       "      <td>97895239.77</td>\n",
       "      <td>2.94</td>\n",
       "    </tr>\n",
       "    <tr>\n",
       "      <th>5</th>\n",
       "      <td>2016-12</td>\n",
       "      <td>2016</td>\n",
       "      <td>12</td>\n",
       "      <td>9125</td>\n",
       "      <td>26814176.77</td>\n",
       "      <td>-0.73</td>\n",
       "    </tr>\n",
       "    <tr>\n",
       "      <th>6</th>\n",
       "      <td>2017-01</td>\n",
       "      <td>2017</td>\n",
       "      <td>01</td>\n",
       "      <td>9755</td>\n",
       "      <td>32184798.24</td>\n",
       "      <td>0.20</td>\n",
       "    </tr>\n",
       "    <tr>\n",
       "      <th>7</th>\n",
       "      <td>2017-02</td>\n",
       "      <td>2017</td>\n",
       "      <td>02</td>\n",
       "      <td>9422</td>\n",
       "      <td>30109818.33</td>\n",
       "      <td>-0.06</td>\n",
       "    </tr>\n",
       "    <tr>\n",
       "      <th>8</th>\n",
       "      <td>2017-03</td>\n",
       "      <td>2017</td>\n",
       "      <td>03</td>\n",
       "      <td>13812</td>\n",
       "      <td>51529073.94</td>\n",
       "      <td>0.71</td>\n",
       "    </tr>\n",
       "    <tr>\n",
       "      <th>9</th>\n",
       "      <td>2017-04</td>\n",
       "      <td>2017</td>\n",
       "      <td>04</td>\n",
       "      <td>19237</td>\n",
       "      <td>44655625.57</td>\n",
       "      <td>-0.13</td>\n",
       "    </tr>\n",
       "    <tr>\n",
       "      <th>10</th>\n",
       "      <td>2017-05</td>\n",
       "      <td>2017</td>\n",
       "      <td>05</td>\n",
       "      <td>20213</td>\n",
       "      <td>68151062.50</td>\n",
       "      <td>0.53</td>\n",
       "    </tr>\n",
       "    <tr>\n",
       "      <th>11</th>\n",
       "      <td>2017-06</td>\n",
       "      <td>2017</td>\n",
       "      <td>06</td>\n",
       "      <td>14634</td>\n",
       "      <td>63242915.60</td>\n",
       "      <td>-0.07</td>\n",
       "    </tr>\n",
       "    <tr>\n",
       "      <th>12</th>\n",
       "      <td>2017-07</td>\n",
       "      <td>2017</td>\n",
       "      <td>07</td>\n",
       "      <td>14926</td>\n",
       "      <td>29245528.97</td>\n",
       "      <td>-0.54</td>\n",
       "    </tr>\n",
       "    <tr>\n",
       "      <th>13</th>\n",
       "      <td>2017-08</td>\n",
       "      <td>2017</td>\n",
       "      <td>08</td>\n",
       "      <td>19398</td>\n",
       "      <td>49215451.75</td>\n",
       "      <td>0.68</td>\n",
       "    </tr>\n",
       "    <tr>\n",
       "      <th>14</th>\n",
       "      <td>2017-09</td>\n",
       "      <td>2017</td>\n",
       "      <td>09</td>\n",
       "      <td>4375</td>\n",
       "      <td>17478576.27</td>\n",
       "      <td>-0.64</td>\n",
       "    </tr>\n",
       "    <tr>\n",
       "      <th>15</th>\n",
       "      <td>2017-10</td>\n",
       "      <td>2017</td>\n",
       "      <td>10</td>\n",
       "      <td>8376</td>\n",
       "      <td>32912749.40</td>\n",
       "      <td>0.88</td>\n",
       "    </tr>\n",
       "    <tr>\n",
       "      <th>16</th>\n",
       "      <td>2017-11</td>\n",
       "      <td>2017</td>\n",
       "      <td>11</td>\n",
       "      <td>50534</td>\n",
       "      <td>361206994.83</td>\n",
       "      <td>9.97</td>\n",
       "    </tr>\n",
       "    <tr>\n",
       "      <th>17</th>\n",
       "      <td>2017-12</td>\n",
       "      <td>2017</td>\n",
       "      <td>12</td>\n",
       "      <td>13576</td>\n",
       "      <td>27147689.67</td>\n",
       "      <td>-0.92</td>\n",
       "    </tr>\n",
       "    <tr>\n",
       "      <th>18</th>\n",
       "      <td>2018-01</td>\n",
       "      <td>2018</td>\n",
       "      <td>01</td>\n",
       "      <td>9099</td>\n",
       "      <td>31388174.90</td>\n",
       "      <td>0.16</td>\n",
       "    </tr>\n",
       "    <tr>\n",
       "      <th>19</th>\n",
       "      <td>2018-02</td>\n",
       "      <td>2018</td>\n",
       "      <td>02</td>\n",
       "      <td>18854</td>\n",
       "      <td>139235230.93</td>\n",
       "      <td>3.44</td>\n",
       "    </tr>\n",
       "    <tr>\n",
       "      <th>20</th>\n",
       "      <td>2018-03</td>\n",
       "      <td>2018</td>\n",
       "      <td>03</td>\n",
       "      <td>34263</td>\n",
       "      <td>161853996.82</td>\n",
       "      <td>0.16</td>\n",
       "    </tr>\n",
       "    <tr>\n",
       "      <th>21</th>\n",
       "      <td>2018-04</td>\n",
       "      <td>2018</td>\n",
       "      <td>04</td>\n",
       "      <td>8383</td>\n",
       "      <td>30127326.15</td>\n",
       "      <td>-0.81</td>\n",
       "    </tr>\n",
       "    <tr>\n",
       "      <th>22</th>\n",
       "      <td>2018-05</td>\n",
       "      <td>2018</td>\n",
       "      <td>05</td>\n",
       "      <td>17697</td>\n",
       "      <td>135216108.62</td>\n",
       "      <td>3.49</td>\n",
       "    </tr>\n",
       "    <tr>\n",
       "      <th>23</th>\n",
       "      <td>2018-06</td>\n",
       "      <td>2018</td>\n",
       "      <td>06</td>\n",
       "      <td>9288</td>\n",
       "      <td>47278934.87</td>\n",
       "      <td>-0.65</td>\n",
       "    </tr>\n",
       "    <tr>\n",
       "      <th>24</th>\n",
       "      <td>2018-07</td>\n",
       "      <td>2018</td>\n",
       "      <td>07</td>\n",
       "      <td>5849</td>\n",
       "      <td>32264731.37</td>\n",
       "      <td>-0.32</td>\n",
       "    </tr>\n",
       "    <tr>\n",
       "      <th>25</th>\n",
       "      <td>2018-08</td>\n",
       "      <td>2018</td>\n",
       "      <td>08</td>\n",
       "      <td>8387</td>\n",
       "      <td>41319448.80</td>\n",
       "      <td>0.28</td>\n",
       "    </tr>\n",
       "  </tbody>\n",
       "</table>\n",
       "</div>"
      ],
      "text/plain": [
       "   Year_Month  Year Month  qty_ordered  grand_total   pct\n",
       "0     2016-07  2016    07         6639  11720820.27  0.00\n",
       "1     2016-08  2016    08         8506  17588479.23  0.50\n",
       "2     2016-09  2016    09         9150  27503668.06  0.56\n",
       "3     2016-10  2016    10         9074  24824142.90 -0.10\n",
       "4     2016-11  2016    11        42330  97895239.77  2.94\n",
       "5     2016-12  2016    12         9125  26814176.77 -0.73\n",
       "6     2017-01  2017    01         9755  32184798.24  0.20\n",
       "7     2017-02  2017    02         9422  30109818.33 -0.06\n",
       "8     2017-03  2017    03        13812  51529073.94  0.71\n",
       "9     2017-04  2017    04        19237  44655625.57 -0.13\n",
       "10    2017-05  2017    05        20213  68151062.50  0.53\n",
       "11    2017-06  2017    06        14634  63242915.60 -0.07\n",
       "12    2017-07  2017    07        14926  29245528.97 -0.54\n",
       "13    2017-08  2017    08        19398  49215451.75  0.68\n",
       "14    2017-09  2017    09         4375  17478576.27 -0.64\n",
       "15    2017-10  2017    10         8376  32912749.40  0.88\n",
       "16    2017-11  2017    11        50534 361206994.83  9.97\n",
       "17    2017-12  2017    12        13576  27147689.67 -0.92\n",
       "18    2018-01  2018    01         9099  31388174.90  0.16\n",
       "19    2018-02  2018    02        18854 139235230.93  3.44\n",
       "20    2018-03  2018    03        34263 161853996.82  0.16\n",
       "21    2018-04  2018    04         8383  30127326.15 -0.81\n",
       "22    2018-05  2018    05        17697 135216108.62  3.49\n",
       "23    2018-06  2018    06         9288  47278934.87 -0.65\n",
       "24    2018-07  2018    07         5849  32264731.37 -0.32\n",
       "25    2018-08  2018    08         8387  41319448.80  0.28"
      ]
     },
     "execution_count": 81,
     "metadata": {},
     "output_type": "execute_result"
    }
   ],
   "source": [
    "# 篩選訂單狀態是 completed 的訂單按照年月計算總營收\n",
    "# 合併年、月兩欄新增 Year_Month 欄位\n",
    "revenue = dt[dt[\"status\"] == \"completed\"][[\"Year\", \"Month\", \"qty_ordered\", \"grand_total\"]].groupby([\"Year\", \"Month\"]).agg(\"sum\").sort_values(by=[\"Year\", \"Month\"]).reset_index()\n",
    "created_at_y_m = revenue[\"Year\"].astype(str) + \"-\" + revenue[\"Month\"]\n",
    "revenue.insert(0,\"Year_Month\",created_at_y_m)\n",
    "revenue[\"pct\"] = revenue[\"grand_total\"].pct_change()\n",
    "revenue[\"pct\"] = revenue[\"pct\"].fillna(0)\n",
    "avg_revenue = round(revenue[\"grand_total\"].mean(),0)\n",
    "avg_mom = round(revenue[\"pct\"].mean(),2)\n",
    "print(f\"平均月營收：{avg_revenue}\")\n",
    "print(f\"平均月成長率：{avg_mom}\")\n",
    "revenue"
   ]
  },
  {
   "cell_type": "markdown",
   "metadata": {},
   "source": [
    "<div class=\"alert alert-warning\">\n",
    "<b>Insight</b><br>\n",
    "2016年07月至2018年08月這段時間，該電商平台平均月營收為62,773,491、月平均成長率為75%，主要原因是仰賴特定月份創新高，後續立即恢復常態，其餘月份並非穩定成長，需要再了解公司營收不穩定的原因。<br>\n",
    "營收爆發式表現的月份像是2016/11月營收業績為平均的1.5倍，2017/11月更高達5.75倍，推測在11月份平台有舉辦雙11的購物節活動，帶動買氣有大幅成長。\n",
    "</div>"
   ]
  },
  {
   "cell_type": "code",
   "execution_count": 79,
   "metadata": {},
   "outputs": [
    {
     "data": {
      "image/png": "[encoded data removed]",
      "text/plain": [
       "<Figure size 1440x360 with 1 Axes>"
      ]
     },
     "metadata": {},
     "output_type": "display_data"
    }
   ],
   "source": [
    "fig, ax = plt.subplots(figsize=(20, 5))\n",
    "sns.set(style=\"darkgrid\", palette=\"Set1\")\n",
    "sns.lineplot(data=revenue, x=\"Year_Month\", y=\"grand_total\",marker=\"o\")\n",
    "plt.axhline(y=avg_revenue, c=\"gray\", ls=\"--\", lw=1)\n",
    "ax.yaxis.get_major_formatter().set_scientific(False)\n",
    "#ax.yaxis.get_major_formatter().set_useOffset(False)\n",
    "ax.set_xlabel(\"\")\n",
    "ax.set_ylabel(\"Revenue\")\n",
    "plt.xticks(rotation=45);"
   ]
  },
  {
   "cell_type": "markdown",
   "metadata": {},
   "source": [
    "<div class=\"alert alert-success\">\n",
    "2. 統計每月份平均客單價\n",
    "</div>"
   ]
  },
  {
   "cell_type": "code",
   "execution_count": 83,
   "metadata": {},
   "outputs": [],
   "source": [
    "created_at_y_m = dt[\"Year\"].astype(str) + \"-\" + dt[\"Month\"]\n",
    "dt.insert(0,\"Year_Month\",created_at_y_m)"
   ]
  },
  {
   "cell_type": "code",
   "execution_count": 84,
   "metadata": {},
   "outputs": [
    {
     "name": "stdout",
     "output_type": "stream",
     "text": [
      "平均客單價：7879.84\n"
     ]
    },
    {
     "data": {
      "text/html": [
       "<div>\n",
       "<style scoped>\n",
       "    .dataframe tbody tr th:only-of-type {\n",
       "        vertical-align: middle;\n",
       "    }\n",
       "\n",
       "    .dataframe tbody tr th {\n",
       "        vertical-align: top;\n",
       "    }\n",
       "\n",
       "    .dataframe thead th {\n",
       "        text-align: right;\n",
       "    }\n",
       "</style>\n",
       "<table border=\"1\" class=\"dataframe\">\n",
       "  <thead>\n",
       "    <tr style=\"text-align: right;\">\n",
       "      <th></th>\n",
       "      <th>Year_Month</th>\n",
       "      <th>grand_total</th>\n",
       "      <th>total_order</th>\n",
       "      <th>AOV</th>\n",
       "    </tr>\n",
       "  </thead>\n",
       "  <tbody>\n",
       "    <tr>\n",
       "      <th>0</th>\n",
       "      <td>2016-07</td>\n",
       "      <td>11720820.27</td>\n",
       "      <td>4930</td>\n",
       "      <td>2377.45</td>\n",
       "    </tr>\n",
       "    <tr>\n",
       "      <th>1</th>\n",
       "      <td>2016-08</td>\n",
       "      <td>17588479.23</td>\n",
       "      <td>6467</td>\n",
       "      <td>2719.73</td>\n",
       "    </tr>\n",
       "    <tr>\n",
       "      <th>2</th>\n",
       "      <td>2016-09</td>\n",
       "      <td>27503668.06</td>\n",
       "      <td>7035</td>\n",
       "      <td>3909.55</td>\n",
       "    </tr>\n",
       "    <tr>\n",
       "      <th>3</th>\n",
       "      <td>2016-10</td>\n",
       "      <td>24824142.90</td>\n",
       "      <td>6304</td>\n",
       "      <td>3937.84</td>\n",
       "    </tr>\n",
       "    <tr>\n",
       "      <th>4</th>\n",
       "      <td>2016-11</td>\n",
       "      <td>97895239.77</td>\n",
       "      <td>30544</td>\n",
       "      <td>3205.06</td>\n",
       "    </tr>\n",
       "  </tbody>\n",
       "</table>\n",
       "</div>"
      ],
      "text/plain": [
       "  Year_Month  grand_total  total_order     AOV\n",
       "0    2016-07  11720820.27         4930 2377.45\n",
       "1    2016-08  17588479.23         6467 2719.73\n",
       "2    2016-09  27503668.06         7035 3909.55\n",
       "3    2016-10  24824142.90         6304 3937.84\n",
       "4    2016-11  97895239.77        30544 3205.06"
      ]
     },
     "execution_count": 84,
     "metadata": {},
     "output_type": "execute_result"
    }
   ],
   "source": [
    "# 篩選訂單狀態是 completed 的訂單按照年月計算每個月份的訂單數量\n",
    "orders = dt[dt[\"status\"] == \"completed\"].groupby(\"Year_Month\")[\"increment_id\"].nunique().reset_index()\n",
    "revenue[\"total_order\"] = orders[\"increment_id\"]\n",
    "revenue[\"AOV\"] = revenue[\"grand_total\"]/revenue[\"total_order\"]\n",
    "avg_aov = round(revenue[\"AOV\"].mean(),2)\n",
    "print(f\"平均客單價：{avg_aov}\")\n",
    "revenue[[\"Year_Month\",\"grand_total\",\"total_order\",\"AOV\"]].head()"
   ]
  },
  {
   "cell_type": "code",
   "execution_count": 85,
   "metadata": {},
   "outputs": [
    {
     "data": {
      "image/png": "[encoded data removed]",
      "text/plain": [
       "<Figure size 1440x360 with 1 Axes>"
      ]
     },
     "metadata": {},
     "output_type": "display_data"
    }
   ],
   "source": [
    "fig, ax = plt.subplots(figsize=(20, 5))\n",
    "sns.set(style=\"darkgrid\", palette=\"YlGn\")\n",
    "sns.lineplot(data=revenue, x=\"Year_Month\", y=\"AOV\",marker=\"o\")\n",
    "plt.axhline(y=avg_aov, c=\"gray\", ls=\"--\", lw=1)\n",
    "ax.set_xlabel(\"\")\n",
    "ax.set_ylabel(\"AOV\")\n",
    "plt.xticks(rotation=45);"
   ]
  },
  {
   "cell_type": "markdown",
   "metadata": {},
   "source": [
    "<div class=\"alert alert-success\">\n",
    "3. 統計每月份顧客購買頻次（平均顧客訂單數）\n",
    "</div>"
   ]
  },
  {
   "cell_type": "code",
   "execution_count": 87,
   "metadata": {},
   "outputs": [
    {
     "name": "stdout",
     "output_type": "stream",
     "text": [
      "平均顧客訂單數：1.74\n"
     ]
    },
    {
     "data": {
      "text/html": [
       "<div>\n",
       "<style scoped>\n",
       "    .dataframe tbody tr th:only-of-type {\n",
       "        vertical-align: middle;\n",
       "    }\n",
       "\n",
       "    .dataframe tbody tr th {\n",
       "        vertical-align: top;\n",
       "    }\n",
       "\n",
       "    .dataframe thead th {\n",
       "        text-align: right;\n",
       "    }\n",
       "</style>\n",
       "<table border=\"1\" class=\"dataframe\">\n",
       "  <thead>\n",
       "    <tr style=\"text-align: right;\">\n",
       "      <th></th>\n",
       "      <th>Year_Month</th>\n",
       "      <th>Customer ID</th>\n",
       "      <th>total_monthly_order</th>\n",
       "      <th>average_monthly_order</th>\n",
       "    </tr>\n",
       "  </thead>\n",
       "  <tbody>\n",
       "    <tr>\n",
       "      <th>0</th>\n",
       "      <td>2016-07</td>\n",
       "      <td>1622</td>\n",
       "      <td>4930</td>\n",
       "      <td>3.04</td>\n",
       "    </tr>\n",
       "    <tr>\n",
       "      <th>1</th>\n",
       "      <td>2016-08</td>\n",
       "      <td>2640</td>\n",
       "      <td>6467</td>\n",
       "      <td>2.45</td>\n",
       "    </tr>\n",
       "    <tr>\n",
       "      <th>2</th>\n",
       "      <td>2016-09</td>\n",
       "      <td>3772</td>\n",
       "      <td>7035</td>\n",
       "      <td>1.87</td>\n",
       "    </tr>\n",
       "    <tr>\n",
       "      <th>3</th>\n",
       "      <td>2016-10</td>\n",
       "      <td>2765</td>\n",
       "      <td>6304</td>\n",
       "      <td>2.28</td>\n",
       "    </tr>\n",
       "    <tr>\n",
       "      <th>4</th>\n",
       "      <td>2016-11</td>\n",
       "      <td>12811</td>\n",
       "      <td>30544</td>\n",
       "      <td>2.38</td>\n",
       "    </tr>\n",
       "  </tbody>\n",
       "</table>\n",
       "</div>"
      ],
      "text/plain": [
       "  Year_Month  Customer ID  total_monthly_order  average_monthly_order\n",
       "0    2016-07         1622                 4930                   3.04\n",
       "1    2016-08         2640                 6467                   2.45\n",
       "2    2016-09         3772                 7035                   1.87\n",
       "3    2016-10         2765                 6304                   2.28\n",
       "4    2016-11        12811                30544                   2.38"
      ]
     },
     "execution_count": 87,
     "metadata": {},
     "output_type": "execute_result"
    }
   ],
   "source": [
    "# 篩選訂單狀態是 completed 的訂單按照年月計算每個月份的顧客數量\n",
    "customer_id_count = dt[dt[\"status\"] == \"completed\"].groupby([\"Year_Month\"])[\"Customer ID\"].nunique().reset_index()\n",
    "customer_id_count[\"total_monthly_order\"] = orders[\"increment_id\"]\n",
    "customer_id_count[\"average_monthly_order\"] = round(customer_id_count[\"total_monthly_order\"]/customer_id_count[\"Customer ID\"],2)\n",
    "avg_amo = round(customer_id_count[\"average_monthly_order\"].mean(),2)\n",
    "print(f\"平均顧客訂單數：{avg_amo}\")\n",
    "customer_id_count.head()"
   ]
  },
  {
   "cell_type": "markdown",
   "metadata": {},
   "source": [
    "<div class=\"alert alert-warning\">\n",
    "<b>Insight</b><br>\n",
    "通常顧客購買頻率越高，代表他們忠誠度可能也越高，或是會固定回購某些商品。可以觀察到頻次從2017年開始，除了部分月份有超過均值之外，其餘下滑到約1.5，可推測有非常高比例的客人只購買一次，需再針對這樣的狀況設計回購方案，提醒他們回來逛甚至下單。\n",
    "</div>"
   ]
  },
  {
   "cell_type": "code",
   "execution_count": 93,
   "metadata": {},
   "outputs": [
    {
     "data": {
      "image/png": "[encoded data removed]",
      "text/plain": [
       "<Figure size 1440x360 with 1 Axes>"
      ]
     },
     "metadata": {},
     "output_type": "display_data"
    }
   ],
   "source": [
    "fig, ax = plt.subplots(figsize=(20, 5))\n",
    "sns.set(style=\"darkgrid\", palette=\"Set1\")\n",
    "sns.lineplot(data=customer_id_count, x=\"Year_Month\", y=\"average_monthly_order\",marker=\"o\")\n",
    "plt.axhline(y=avg_amo, c=\"gray\", ls=\"--\", lw=1)\n",
    "ax.set_xlabel(\"\")\n",
    "ax.set_ylabel(\"average monthly order\")\n",
    "plt.xticks(rotation=45);"
   ]
  },
  {
   "cell_type": "markdown",
   "metadata": {},
   "source": [
    "<div class=\"alert alert-success\">\n",
    "4. 統計顧客訂單數比例(購買1次 vs 購買2次以上)\n",
    "</div>"
   ]
  },
  {
   "cell_type": "code",
   "execution_count": 96,
   "metadata": {},
   "outputs": [
    {
     "data": {
      "text/html": [
       "<div>\n",
       "<style scoped>\n",
       "    .dataframe tbody tr th:only-of-type {\n",
       "        vertical-align: middle;\n",
       "    }\n",
       "\n",
       "    .dataframe tbody tr th {\n",
       "        vertical-align: top;\n",
       "    }\n",
       "\n",
       "    .dataframe thead th {\n",
       "        text-align: right;\n",
       "    }\n",
       "</style>\n",
       "<table border=\"1\" class=\"dataframe\">\n",
       "  <thead>\n",
       "    <tr style=\"text-align: right;\">\n",
       "      <th></th>\n",
       "      <th>Order</th>\n",
       "      <th>Customer_Counts</th>\n",
       "      <th>%</th>\n",
       "    </tr>\n",
       "  </thead>\n",
       "  <tbody>\n",
       "    <tr>\n",
       "      <th>0</th>\n",
       "      <td>One Order</td>\n",
       "      <td>51801</td>\n",
       "      <td>0.65</td>\n",
       "    </tr>\n",
       "    <tr>\n",
       "      <th>1</th>\n",
       "      <td>More than One Order</td>\n",
       "      <td>28320</td>\n",
       "      <td>0.35</td>\n",
       "    </tr>\n",
       "  </tbody>\n",
       "</table>\n",
       "</div>"
      ],
      "text/plain": [
       "                 Order  Customer_Counts    %\n",
       "0            One Order            51801 0.65\n",
       "1  More than One Order            28320 0.35"
      ]
     },
     "execution_count": 96,
     "metadata": {},
     "output_type": "execute_result"
    }
   ],
   "source": [
    "number_of_orders = dt[dt[\"status\"] == \"completed\"].groupby(\"Customer ID\")[\"increment_id\"].nunique().reset_index()\n",
    "one = len(number_of_orders[number_of_orders[\"increment_id\"]==1])\n",
    "more = len(number_of_orders[number_of_orders[\"increment_id\"]!=1])\n",
    "data = {\"Order\": [\"One Order\", \"More than One Order\"], \"Customer_Counts\": [one, more], \"%\":[one/(one+more),more/(one+more)]}\n",
    "order_counts = pd.DataFrame.from_dict(data)\n",
    "order_counts"
   ]
  },
  {
   "cell_type": "markdown",
   "metadata": {},
   "source": [
    "<div class=\"alert alert-warning\">\n",
    "<b>Insight</b><br>\n",
    "接續第3點分析顧客在資料區間內平均購買次數各自占的比例，發現僅有35%的客人購買超過2次，符合上述所推測的狀況。\n",
    "</div>"
   ]
  },
  {
   "cell_type": "markdown",
   "metadata": {},
   "source": [
    "<div class=\"alert alert-success\">\n",
    "5. 統計每月新舊客的人數和各自的營收貢獻<br>\n",
    "新舊客定義為第一次購買為新客，若往後月份回購即列為舊客。\n",
    "</div>"
   ]
  },
  {
   "cell_type": "code",
   "execution_count": 97,
   "metadata": {},
   "outputs": [
    {
     "data": {
      "text/html": [
       "<div>\n",
       "<style scoped>\n",
       "    .dataframe tbody tr th:only-of-type {\n",
       "        vertical-align: middle;\n",
       "    }\n",
       "\n",
       "    .dataframe tbody tr th {\n",
       "        vertical-align: top;\n",
       "    }\n",
       "\n",
       "    .dataframe thead th {\n",
       "        text-align: right;\n",
       "    }\n",
       "</style>\n",
       "<table border=\"1\" class=\"dataframe\">\n",
       "  <thead>\n",
       "    <tr style=\"text-align: right;\">\n",
       "      <th></th>\n",
       "      <th>Customer ID</th>\n",
       "      <th>first_perchase</th>\n",
       "      <th>Year_Month</th>\n",
       "      <th>item_id</th>\n",
       "      <th>status</th>\n",
       "      <th>created_at</th>\n",
       "      <th>sku</th>\n",
       "      <th>price</th>\n",
       "      <th>qty_ordered</th>\n",
       "      <th>grand_total</th>\n",
       "      <th>increment_id</th>\n",
       "      <th>category_name_1</th>\n",
       "      <th>discount_amount</th>\n",
       "      <th>payment_method</th>\n",
       "      <th>Year</th>\n",
       "      <th>Month</th>\n",
       "      <th>Day</th>\n",
       "      <th>created_at_date</th>\n",
       "    </tr>\n",
       "  </thead>\n",
       "  <tbody>\n",
       "    <tr>\n",
       "      <th>0</th>\n",
       "      <td>1</td>\n",
       "      <td>2016-07-01</td>\n",
       "      <td>2016-07</td>\n",
       "      <td>211131.0</td>\n",
       "      <td>completed</td>\n",
       "      <td>2016-07-01</td>\n",
       "      <td>kreations_YI 06-L</td>\n",
       "      <td>1950.00</td>\n",
       "      <td>1</td>\n",
       "      <td>1950.00</td>\n",
       "      <td>100147443</td>\n",
       "      <td>Women's Fashion</td>\n",
       "      <td>0.00</td>\n",
       "      <td>cod</td>\n",
       "      <td>2016</td>\n",
       "      <td>07</td>\n",
       "      <td>01</td>\n",
       "      <td>2016-07-01</td>\n",
       "    </tr>\n",
       "    <tr>\n",
       "      <th>4</th>\n",
       "      <td>3</td>\n",
       "      <td>2016-07-01</td>\n",
       "      <td>2017-05</td>\n",
       "      <td>473369.0</td>\n",
       "      <td>completed</td>\n",
       "      <td>2017-05-19</td>\n",
       "      <td>BT_BT-422</td>\n",
       "      <td>530.00</td>\n",
       "      <td>1</td>\n",
       "      <td>1245.00</td>\n",
       "      <td>100306394</td>\n",
       "      <td>Men's Fashion</td>\n",
       "      <td>0.00</td>\n",
       "      <td>cod</td>\n",
       "      <td>2017</td>\n",
       "      <td>05</td>\n",
       "      <td>19</td>\n",
       "      <td>2017-05-19</td>\n",
       "    </tr>\n",
       "    <tr>\n",
       "      <th>5</th>\n",
       "      <td>3</td>\n",
       "      <td>2016-07-01</td>\n",
       "      <td>2017-05</td>\n",
       "      <td>473370.0</td>\n",
       "      <td>completed</td>\n",
       "      <td>2017-05-19</td>\n",
       "      <td>ALHAMRA_US-0961-K</td>\n",
       "      <td>299.00</td>\n",
       "      <td>1</td>\n",
       "      <td>1245.00</td>\n",
       "      <td>100306394</td>\n",
       "      <td>Men's Fashion</td>\n",
       "      <td>0.00</td>\n",
       "      <td>cod</td>\n",
       "      <td>2017</td>\n",
       "      <td>05</td>\n",
       "      <td>19</td>\n",
       "      <td>2017-05-19</td>\n",
       "    </tr>\n",
       "    <tr>\n",
       "      <th>6</th>\n",
       "      <td>3</td>\n",
       "      <td>2016-07-01</td>\n",
       "      <td>2017-05</td>\n",
       "      <td>473371.0</td>\n",
       "      <td>completed</td>\n",
       "      <td>2017-05-19</td>\n",
       "      <td>e-seller_7</td>\n",
       "      <td>66.00</td>\n",
       "      <td>1</td>\n",
       "      <td>1245.00</td>\n",
       "      <td>100306394</td>\n",
       "      <td>Mobiles &amp; Tablets</td>\n",
       "      <td>0.00</td>\n",
       "      <td>cod</td>\n",
       "      <td>2017</td>\n",
       "      <td>05</td>\n",
       "      <td>19</td>\n",
       "      <td>2017-05-19</td>\n",
       "    </tr>\n",
       "    <tr>\n",
       "      <th>7</th>\n",
       "      <td>3</td>\n",
       "      <td>2016-07-01</td>\n",
       "      <td>2017-05</td>\n",
       "      <td>473372.0</td>\n",
       "      <td>completed</td>\n",
       "      <td>2017-05-19</td>\n",
       "      <td>BD_BIG DEAL_16</td>\n",
       "      <td>350.00</td>\n",
       "      <td>1</td>\n",
       "      <td>1245.00</td>\n",
       "      <td>100306394</td>\n",
       "      <td>Mobiles &amp; Tablets</td>\n",
       "      <td>0.00</td>\n",
       "      <td>cod</td>\n",
       "      <td>2017</td>\n",
       "      <td>05</td>\n",
       "      <td>19</td>\n",
       "      <td>2017-05-19</td>\n",
       "    </tr>\n",
       "  </tbody>\n",
       "</table>\n",
       "</div>"
      ],
      "text/plain": [
       "   Customer ID first_perchase Year_Month   item_id     status  created_at  \\\n",
       "0            1     2016-07-01    2016-07  211131.0  completed  2016-07-01   \n",
       "4            3     2016-07-01    2017-05  473369.0  completed  2017-05-19   \n",
       "5            3     2016-07-01    2017-05  473370.0  completed  2017-05-19   \n",
       "6            3     2016-07-01    2017-05  473371.0  completed  2017-05-19   \n",
       "7            3     2016-07-01    2017-05  473372.0  completed  2017-05-19   \n",
       "\n",
       "                 sku   price  qty_ordered  grand_total increment_id  \\\n",
       "0  kreations_YI 06-L 1950.00            1      1950.00    100147443   \n",
       "4          BT_BT-422  530.00            1      1245.00    100306394   \n",
       "5  ALHAMRA_US-0961-K  299.00            1      1245.00    100306394   \n",
       "6         e-seller_7   66.00            1      1245.00    100306394   \n",
       "7     BD_BIG DEAL_16  350.00            1      1245.00    100306394   \n",
       "\n",
       "     category_name_1  discount_amount payment_method  Year Month Day  \\\n",
       "0    Women's Fashion             0.00            cod  2016    07  01   \n",
       "4      Men's Fashion             0.00            cod  2017    05  19   \n",
       "5      Men's Fashion             0.00            cod  2017    05  19   \n",
       "6  Mobiles & Tablets             0.00            cod  2017    05  19   \n",
       "7  Mobiles & Tablets             0.00            cod  2017    05  19   \n",
       "\n",
       "  created_at_date  \n",
       "0      2016-07-01  \n",
       "4      2017-05-19  \n",
       "5      2017-05-19  \n",
       "6      2017-05-19  \n",
       "7      2017-05-19  "
      ]
     },
     "execution_count": 97,
     "metadata": {},
     "output_type": "execute_result"
    }
   ],
   "source": [
    "#找出每個客人首購的訂單時間\n",
    "iffirst_perchase = dt.groupby(\"Customer ID\")[\"created_at_date\"].agg(\"min\").reset_index()\n",
    "iffirst_perchase.columns = [\"Customer ID\",\"first_perchase\"]\n",
    "iffirst_perchase = iffirst_perchase.merge(dt,how=\"left\")\n",
    "iffirst_perchase = iffirst_perchase[iffirst_perchase[\"status\"] == \"completed\"]\n",
    "iffirst_perchase.head()"
   ]
  },
  {
   "cell_type": "code",
   "execution_count": 98,
   "metadata": {},
   "outputs": [],
   "source": [
    "#依照首購時間判斷是否為新舊客\n",
    "def ifReturn(creat_d, first_d):\n",
    "    if creat_d > first_d:\n",
    "        return \"return_customer\"\n",
    "    else:\n",
    "        return \"new_customer\"\n",
    "\n",
    "iffirst_perchase[\"new_return\"] = iffirst_perchase.apply(lambda x: ifReturn(x[\"created_at_date\"],x[\"first_perchase\"]),axis=1)"
   ]
  },
  {
   "cell_type": "code",
   "execution_count": 99,
   "metadata": {},
   "outputs": [
    {
     "data": {
      "text/html": [
       "<div>\n",
       "<style scoped>\n",
       "    .dataframe tbody tr th:only-of-type {\n",
       "        vertical-align: middle;\n",
       "    }\n",
       "\n",
       "    .dataframe tbody tr th {\n",
       "        vertical-align: top;\n",
       "    }\n",
       "\n",
       "    .dataframe thead th {\n",
       "        text-align: right;\n",
       "    }\n",
       "</style>\n",
       "<table border=\"1\" class=\"dataframe\">\n",
       "  <thead>\n",
       "    <tr style=\"text-align: right;\">\n",
       "      <th></th>\n",
       "      <th>Customer ID</th>\n",
       "      <th>first_perchase</th>\n",
       "      <th>Year_Month</th>\n",
       "      <th>item_id</th>\n",
       "      <th>status</th>\n",
       "      <th>created_at</th>\n",
       "      <th>sku</th>\n",
       "      <th>price</th>\n",
       "      <th>qty_ordered</th>\n",
       "      <th>grand_total</th>\n",
       "      <th>increment_id</th>\n",
       "      <th>category_name_1</th>\n",
       "      <th>discount_amount</th>\n",
       "      <th>payment_method</th>\n",
       "      <th>Year</th>\n",
       "      <th>Month</th>\n",
       "      <th>Day</th>\n",
       "      <th>created_at_date</th>\n",
       "      <th>new_return</th>\n",
       "    </tr>\n",
       "  </thead>\n",
       "  <tbody>\n",
       "    <tr>\n",
       "      <th>0</th>\n",
       "      <td>1</td>\n",
       "      <td>2016-07-01</td>\n",
       "      <td>2016-07</td>\n",
       "      <td>211131.0</td>\n",
       "      <td>completed</td>\n",
       "      <td>2016-07-01</td>\n",
       "      <td>kreations_YI 06-L</td>\n",
       "      <td>1950.00</td>\n",
       "      <td>1</td>\n",
       "      <td>1950.00</td>\n",
       "      <td>100147443</td>\n",
       "      <td>Women's Fashion</td>\n",
       "      <td>0.00</td>\n",
       "      <td>cod</td>\n",
       "      <td>2016</td>\n",
       "      <td>07</td>\n",
       "      <td>01</td>\n",
       "      <td>2016-07-01</td>\n",
       "      <td>new_customer</td>\n",
       "    </tr>\n",
       "    <tr>\n",
       "      <th>4</th>\n",
       "      <td>3</td>\n",
       "      <td>2016-07-01</td>\n",
       "      <td>2017-05</td>\n",
       "      <td>473369.0</td>\n",
       "      <td>completed</td>\n",
       "      <td>2017-05-19</td>\n",
       "      <td>BT_BT-422</td>\n",
       "      <td>530.00</td>\n",
       "      <td>1</td>\n",
       "      <td>1245.00</td>\n",
       "      <td>100306394</td>\n",
       "      <td>Men's Fashion</td>\n",
       "      <td>0.00</td>\n",
       "      <td>cod</td>\n",
       "      <td>2017</td>\n",
       "      <td>05</td>\n",
       "      <td>19</td>\n",
       "      <td>2017-05-19</td>\n",
       "      <td>return_customer</td>\n",
       "    </tr>\n",
       "    <tr>\n",
       "      <th>5</th>\n",
       "      <td>3</td>\n",
       "      <td>2016-07-01</td>\n",
       "      <td>2017-05</td>\n",
       "      <td>473370.0</td>\n",
       "      <td>completed</td>\n",
       "      <td>2017-05-19</td>\n",
       "      <td>ALHAMRA_US-0961-K</td>\n",
       "      <td>299.00</td>\n",
       "      <td>1</td>\n",
       "      <td>1245.00</td>\n",
       "      <td>100306394</td>\n",
       "      <td>Men's Fashion</td>\n",
       "      <td>0.00</td>\n",
       "      <td>cod</td>\n",
       "      <td>2017</td>\n",
       "      <td>05</td>\n",
       "      <td>19</td>\n",
       "      <td>2017-05-19</td>\n",
       "      <td>return_customer</td>\n",
       "    </tr>\n",
       "  </tbody>\n",
       "</table>\n",
       "</div>"
      ],
      "text/plain": [
       "   Customer ID first_perchase Year_Month   item_id     status  created_at  \\\n",
       "0            1     2016-07-01    2016-07  211131.0  completed  2016-07-01   \n",
       "4            3     2016-07-01    2017-05  473369.0  completed  2017-05-19   \n",
       "5            3     2016-07-01    2017-05  473370.0  completed  2017-05-19   \n",
       "\n",
       "                 sku   price  qty_ordered  grand_total increment_id  \\\n",
       "0  kreations_YI 06-L 1950.00            1      1950.00    100147443   \n",
       "4          BT_BT-422  530.00            1      1245.00    100306394   \n",
       "5  ALHAMRA_US-0961-K  299.00            1      1245.00    100306394   \n",
       "\n",
       "   category_name_1  discount_amount payment_method  Year Month Day  \\\n",
       "0  Women's Fashion             0.00            cod  2016    07  01   \n",
       "4    Men's Fashion             0.00            cod  2017    05  19   \n",
       "5    Men's Fashion             0.00            cod  2017    05  19   \n",
       "\n",
       "  created_at_date       new_return  \n",
       "0      2016-07-01     new_customer  \n",
       "4      2017-05-19  return_customer  \n",
       "5      2017-05-19  return_customer  "
      ]
     },
     "execution_count": 99,
     "metadata": {},
     "output_type": "execute_result"
    }
   ],
   "source": [
    "iffirst_perchase.head(3)"
   ]
  },
  {
   "cell_type": "code",
   "execution_count": 149,
   "metadata": {},
   "outputs": [
    {
     "data": {
      "text/plain": [
       "Year_Month         315490\n",
       "item_id            315490\n",
       "status             315490\n",
       "created_at         315490\n",
       "sku                315489\n",
       "price              315490\n",
       "qty_ordered        315490\n",
       "grand_total        315490\n",
       "increment_id       315490\n",
       "category_name_1    315480\n",
       "discount_amount    315490\n",
       "payment_method     315490\n",
       "Year               315490\n",
       "Month              315490\n",
       "Customer ID        315490\n",
       "Day                315490\n",
       "created_at_date    315490\n",
       "dtype: int64"
      ]
     },
     "execution_count": 149,
     "metadata": {},
     "output_type": "execute_result"
    }
   ],
   "source": [
    "???dt[dt[\"status\"] == \"completed\"].count()"
   ]
  },
  {
   "cell_type": "code",
   "execution_count": 140,
   "metadata": {},
   "outputs": [
    {
     "data": {
      "text/html": [
       "<div>\n",
       "<style scoped>\n",
       "    .dataframe tbody tr th:only-of-type {\n",
       "        vertical-align: middle;\n",
       "    }\n",
       "\n",
       "    .dataframe tbody tr th {\n",
       "        vertical-align: top;\n",
       "    }\n",
       "\n",
       "    .dataframe thead th {\n",
       "        text-align: right;\n",
       "    }\n",
       "</style>\n",
       "<table border=\"1\" class=\"dataframe\">\n",
       "  <thead>\n",
       "    <tr style=\"text-align: right;\">\n",
       "      <th></th>\n",
       "      <th>Year_Month</th>\n",
       "      <th>new_return</th>\n",
       "      <th>Customer ID</th>\n",
       "      <th>sum</th>\n",
       "      <th>count</th>\n",
       "      <th>total_customer</th>\n",
       "      <th>new_return_ratio</th>\n",
       "    </tr>\n",
       "  </thead>\n",
       "  <tbody>\n",
       "    <tr>\n",
       "      <th>0</th>\n",
       "      <td>2016-07</td>\n",
       "      <td>new_customer</td>\n",
       "      <td>1496</td>\n",
       "      <td>7486043.52</td>\n",
       "      <td>2681</td>\n",
       "      <td>1847</td>\n",
       "      <td>0.81</td>\n",
       "    </tr>\n",
       "    <tr>\n",
       "      <th>1</th>\n",
       "      <td>2016-07</td>\n",
       "      <td>return_customer</td>\n",
       "      <td>351</td>\n",
       "      <td>4234776.75</td>\n",
       "      <td>3242</td>\n",
       "      <td>1847</td>\n",
       "      <td>0.19</td>\n",
       "    </tr>\n",
       "    <tr>\n",
       "      <th>2</th>\n",
       "      <td>2016-08</td>\n",
       "      <td>new_customer</td>\n",
       "      <td>2140</td>\n",
       "      <td>11524951.63</td>\n",
       "      <td>3073</td>\n",
       "      <td>2866</td>\n",
       "      <td>0.75</td>\n",
       "    </tr>\n",
       "    <tr>\n",
       "      <th>3</th>\n",
       "      <td>2016-08</td>\n",
       "      <td>return_customer</td>\n",
       "      <td>726</td>\n",
       "      <td>6063527.60</td>\n",
       "      <td>4495</td>\n",
       "      <td>2866</td>\n",
       "      <td>0.25</td>\n",
       "    </tr>\n",
       "    <tr>\n",
       "      <th>4</th>\n",
       "      <td>2016-09</td>\n",
       "      <td>new_customer</td>\n",
       "      <td>2959</td>\n",
       "      <td>17211146.60</td>\n",
       "      <td>3985</td>\n",
       "      <td>4129</td>\n",
       "      <td>0.72</td>\n",
       "    </tr>\n",
       "    <tr>\n",
       "      <th>5</th>\n",
       "      <td>2016-09</td>\n",
       "      <td>return_customer</td>\n",
       "      <td>1170</td>\n",
       "      <td>10292521.46</td>\n",
       "      <td>4271</td>\n",
       "      <td>4129</td>\n",
       "      <td>0.28</td>\n",
       "    </tr>\n",
       "    <tr>\n",
       "      <th>6</th>\n",
       "      <td>2016-10</td>\n",
       "      <td>new_customer</td>\n",
       "      <td>1673</td>\n",
       "      <td>11604383.55</td>\n",
       "      <td>2211</td>\n",
       "      <td>2935</td>\n",
       "      <td>0.57</td>\n",
       "    </tr>\n",
       "    <tr>\n",
       "      <th>7</th>\n",
       "      <td>2016-10</td>\n",
       "      <td>return_customer</td>\n",
       "      <td>1262</td>\n",
       "      <td>13219759.35</td>\n",
       "      <td>5445</td>\n",
       "      <td>2935</td>\n",
       "      <td>0.43</td>\n",
       "    </tr>\n",
       "    <tr>\n",
       "      <th>8</th>\n",
       "      <td>2016-11</td>\n",
       "      <td>new_customer</td>\n",
       "      <td>9957</td>\n",
       "      <td>40860679.85</td>\n",
       "      <td>16455</td>\n",
       "      <td>14402</td>\n",
       "      <td>0.69</td>\n",
       "    </tr>\n",
       "    <tr>\n",
       "      <th>9</th>\n",
       "      <td>2016-11</td>\n",
       "      <td>return_customer</td>\n",
       "      <td>4445</td>\n",
       "      <td>57034559.92</td>\n",
       "      <td>23512</td>\n",
       "      <td>14402</td>\n",
       "      <td>0.31</td>\n",
       "    </tr>\n",
       "    <tr>\n",
       "      <th>10</th>\n",
       "      <td>2016-12</td>\n",
       "      <td>new_customer</td>\n",
       "      <td>1752</td>\n",
       "      <td>8393077.18</td>\n",
       "      <td>2340</td>\n",
       "      <td>3819</td>\n",
       "      <td>0.46</td>\n",
       "    </tr>\n",
       "    <tr>\n",
       "      <th>11</th>\n",
       "      <td>2016-12</td>\n",
       "      <td>return_customer</td>\n",
       "      <td>2067</td>\n",
       "      <td>18421099.59</td>\n",
       "      <td>6001</td>\n",
       "      <td>3819</td>\n",
       "      <td>0.54</td>\n",
       "    </tr>\n",
       "    <tr>\n",
       "      <th>12</th>\n",
       "      <td>2017-01</td>\n",
       "      <td>new_customer</td>\n",
       "      <td>1689</td>\n",
       "      <td>12263607.10</td>\n",
       "      <td>2833</td>\n",
       "      <td>3334</td>\n",
       "      <td>0.51</td>\n",
       "    </tr>\n",
       "    <tr>\n",
       "      <th>13</th>\n",
       "      <td>2017-01</td>\n",
       "      <td>return_customer</td>\n",
       "      <td>1645</td>\n",
       "      <td>19921191.14</td>\n",
       "      <td>5283</td>\n",
       "      <td>3334</td>\n",
       "      <td>0.49</td>\n",
       "    </tr>\n",
       "    <tr>\n",
       "      <th>14</th>\n",
       "      <td>2017-02</td>\n",
       "      <td>new_customer</td>\n",
       "      <td>1947</td>\n",
       "      <td>8951328.18</td>\n",
       "      <td>2705</td>\n",
       "      <td>3447</td>\n",
       "      <td>0.56</td>\n",
       "    </tr>\n",
       "    <tr>\n",
       "      <th>15</th>\n",
       "      <td>2017-02</td>\n",
       "      <td>return_customer</td>\n",
       "      <td>1500</td>\n",
       "      <td>21158490.15</td>\n",
       "      <td>4520</td>\n",
       "      <td>3447</td>\n",
       "      <td>0.44</td>\n",
       "    </tr>\n",
       "    <tr>\n",
       "      <th>16</th>\n",
       "      <td>2017-03</td>\n",
       "      <td>new_customer</td>\n",
       "      <td>3122</td>\n",
       "      <td>25082039.28</td>\n",
       "      <td>5029</td>\n",
       "      <td>5207</td>\n",
       "      <td>0.60</td>\n",
       "    </tr>\n",
       "    <tr>\n",
       "      <th>17</th>\n",
       "      <td>2017-03</td>\n",
       "      <td>return_customer</td>\n",
       "      <td>2085</td>\n",
       "      <td>26447034.66</td>\n",
       "      <td>6859</td>\n",
       "      <td>5207</td>\n",
       "      <td>0.40</td>\n",
       "    </tr>\n",
       "    <tr>\n",
       "      <th>18</th>\n",
       "      <td>2017-04</td>\n",
       "      <td>new_customer</td>\n",
       "      <td>2177</td>\n",
       "      <td>15980265.03</td>\n",
       "      <td>4141</td>\n",
       "      <td>4299</td>\n",
       "      <td>0.51</td>\n",
       "    </tr>\n",
       "    <tr>\n",
       "      <th>19</th>\n",
       "      <td>2017-04</td>\n",
       "      <td>return_customer</td>\n",
       "      <td>2122</td>\n",
       "      <td>28675360.54</td>\n",
       "      <td>9545</td>\n",
       "      <td>4299</td>\n",
       "      <td>0.49</td>\n",
       "    </tr>\n",
       "    <tr>\n",
       "      <th>20</th>\n",
       "      <td>2017-05</td>\n",
       "      <td>new_customer</td>\n",
       "      <td>3290</td>\n",
       "      <td>31288479.31</td>\n",
       "      <td>6545</td>\n",
       "      <td>5912</td>\n",
       "      <td>0.56</td>\n",
       "    </tr>\n",
       "    <tr>\n",
       "      <th>21</th>\n",
       "      <td>2017-05</td>\n",
       "      <td>return_customer</td>\n",
       "      <td>2622</td>\n",
       "      <td>36862583.19</td>\n",
       "      <td>9920</td>\n",
       "      <td>5912</td>\n",
       "      <td>0.44</td>\n",
       "    </tr>\n",
       "    <tr>\n",
       "      <th>22</th>\n",
       "      <td>2017-06</td>\n",
       "      <td>new_customer</td>\n",
       "      <td>1723</td>\n",
       "      <td>45394129.78</td>\n",
       "      <td>3417</td>\n",
       "      <td>3431</td>\n",
       "      <td>0.50</td>\n",
       "    </tr>\n",
       "    <tr>\n",
       "      <th>23</th>\n",
       "      <td>2017-06</td>\n",
       "      <td>return_customer</td>\n",
       "      <td>1708</td>\n",
       "      <td>17848785.82</td>\n",
       "      <td>6372</td>\n",
       "      <td>3431</td>\n",
       "      <td>0.50</td>\n",
       "    </tr>\n",
       "    <tr>\n",
       "      <th>24</th>\n",
       "      <td>2017-07</td>\n",
       "      <td>new_customer</td>\n",
       "      <td>2268</td>\n",
       "      <td>10565960.03</td>\n",
       "      <td>4207</td>\n",
       "      <td>4677</td>\n",
       "      <td>0.48</td>\n",
       "    </tr>\n",
       "    <tr>\n",
       "      <th>25</th>\n",
       "      <td>2017-07</td>\n",
       "      <td>return_customer</td>\n",
       "      <td>2409</td>\n",
       "      <td>18679568.94</td>\n",
       "      <td>7954</td>\n",
       "      <td>4677</td>\n",
       "      <td>0.52</td>\n",
       "    </tr>\n",
       "    <tr>\n",
       "      <th>26</th>\n",
       "      <td>2017-08</td>\n",
       "      <td>new_customer</td>\n",
       "      <td>2696</td>\n",
       "      <td>17818000.46</td>\n",
       "      <td>5108</td>\n",
       "      <td>5156</td>\n",
       "      <td>0.52</td>\n",
       "    </tr>\n",
       "    <tr>\n",
       "      <th>27</th>\n",
       "      <td>2017-08</td>\n",
       "      <td>return_customer</td>\n",
       "      <td>2460</td>\n",
       "      <td>31397451.29</td>\n",
       "      <td>9536</td>\n",
       "      <td>5156</td>\n",
       "      <td>0.48</td>\n",
       "    </tr>\n",
       "    <tr>\n",
       "      <th>28</th>\n",
       "      <td>2017-09</td>\n",
       "      <td>new_customer</td>\n",
       "      <td>732</td>\n",
       "      <td>5000890.79</td>\n",
       "      <td>1327</td>\n",
       "      <td>1638</td>\n",
       "      <td>0.45</td>\n",
       "    </tr>\n",
       "    <tr>\n",
       "      <th>29</th>\n",
       "      <td>2017-09</td>\n",
       "      <td>return_customer</td>\n",
       "      <td>906</td>\n",
       "      <td>12477685.48</td>\n",
       "      <td>2510</td>\n",
       "      <td>1638</td>\n",
       "      <td>0.55</td>\n",
       "    </tr>\n",
       "    <tr>\n",
       "      <th>30</th>\n",
       "      <td>2017-10</td>\n",
       "      <td>new_customer</td>\n",
       "      <td>1570</td>\n",
       "      <td>12189221.45</td>\n",
       "      <td>2539</td>\n",
       "      <td>3108</td>\n",
       "      <td>0.51</td>\n",
       "    </tr>\n",
       "    <tr>\n",
       "      <th>31</th>\n",
       "      <td>2017-10</td>\n",
       "      <td>return_customer</td>\n",
       "      <td>1538</td>\n",
       "      <td>20723527.95</td>\n",
       "      <td>4527</td>\n",
       "      <td>3108</td>\n",
       "      <td>0.49</td>\n",
       "    </tr>\n",
       "    <tr>\n",
       "      <th>32</th>\n",
       "      <td>2017-11</td>\n",
       "      <td>new_customer</td>\n",
       "      <td>10688</td>\n",
       "      <td>192033597.95</td>\n",
       "      <td>23265</td>\n",
       "      <td>16805</td>\n",
       "      <td>0.64</td>\n",
       "    </tr>\n",
       "    <tr>\n",
       "      <th>33</th>\n",
       "      <td>2017-11</td>\n",
       "      <td>return_customer</td>\n",
       "      <td>6117</td>\n",
       "      <td>169173396.88</td>\n",
       "      <td>23077</td>\n",
       "      <td>16805</td>\n",
       "      <td>0.36</td>\n",
       "    </tr>\n",
       "    <tr>\n",
       "      <th>34</th>\n",
       "      <td>2017-12</td>\n",
       "      <td>new_customer</td>\n",
       "      <td>1477</td>\n",
       "      <td>8282202.70</td>\n",
       "      <td>2562</td>\n",
       "      <td>3613</td>\n",
       "      <td>0.41</td>\n",
       "    </tr>\n",
       "    <tr>\n",
       "      <th>35</th>\n",
       "      <td>2017-12</td>\n",
       "      <td>return_customer</td>\n",
       "      <td>2136</td>\n",
       "      <td>18865486.97</td>\n",
       "      <td>6233</td>\n",
       "      <td>3613</td>\n",
       "      <td>0.59</td>\n",
       "    </tr>\n",
       "    <tr>\n",
       "      <th>36</th>\n",
       "      <td>2018-01</td>\n",
       "      <td>new_customer</td>\n",
       "      <td>1168</td>\n",
       "      <td>8957515.93</td>\n",
       "      <td>2153</td>\n",
       "      <td>2719</td>\n",
       "      <td>0.43</td>\n",
       "    </tr>\n",
       "    <tr>\n",
       "      <th>37</th>\n",
       "      <td>2018-01</td>\n",
       "      <td>return_customer</td>\n",
       "      <td>1551</td>\n",
       "      <td>22430658.97</td>\n",
       "      <td>4973</td>\n",
       "      <td>2719</td>\n",
       "      <td>0.57</td>\n",
       "    </tr>\n",
       "    <tr>\n",
       "      <th>38</th>\n",
       "      <td>2018-02</td>\n",
       "      <td>new_customer</td>\n",
       "      <td>3707</td>\n",
       "      <td>58870432.31</td>\n",
       "      <td>7544</td>\n",
       "      <td>6012</td>\n",
       "      <td>0.62</td>\n",
       "    </tr>\n",
       "    <tr>\n",
       "      <th>39</th>\n",
       "      <td>2018-02</td>\n",
       "      <td>return_customer</td>\n",
       "      <td>2305</td>\n",
       "      <td>80364798.63</td>\n",
       "      <td>7325</td>\n",
       "      <td>6012</td>\n",
       "      <td>0.38</td>\n",
       "    </tr>\n",
       "    <tr>\n",
       "      <th>40</th>\n",
       "      <td>2018-03</td>\n",
       "      <td>new_customer</td>\n",
       "      <td>5761</td>\n",
       "      <td>79542220.00</td>\n",
       "      <td>8647</td>\n",
       "      <td>9226</td>\n",
       "      <td>0.62</td>\n",
       "    </tr>\n",
       "    <tr>\n",
       "      <th>41</th>\n",
       "      <td>2018-03</td>\n",
       "      <td>return_customer</td>\n",
       "      <td>3465</td>\n",
       "      <td>82311776.82</td>\n",
       "      <td>9737</td>\n",
       "      <td>9226</td>\n",
       "      <td>0.38</td>\n",
       "    </tr>\n",
       "    <tr>\n",
       "      <th>42</th>\n",
       "      <td>2018-04</td>\n",
       "      <td>new_customer</td>\n",
       "      <td>1426</td>\n",
       "      <td>9712646.70</td>\n",
       "      <td>2449</td>\n",
       "      <td>2938</td>\n",
       "      <td>0.49</td>\n",
       "    </tr>\n",
       "    <tr>\n",
       "      <th>43</th>\n",
       "      <td>2018-04</td>\n",
       "      <td>return_customer</td>\n",
       "      <td>1512</td>\n",
       "      <td>20414679.45</td>\n",
       "      <td>4520</td>\n",
       "      <td>2938</td>\n",
       "      <td>0.51</td>\n",
       "    </tr>\n",
       "    <tr>\n",
       "      <th>44</th>\n",
       "      <td>2018-05</td>\n",
       "      <td>new_customer</td>\n",
       "      <td>2219</td>\n",
       "      <td>59858891.27</td>\n",
       "      <td>4700</td>\n",
       "      <td>4844</td>\n",
       "      <td>0.46</td>\n",
       "    </tr>\n",
       "    <tr>\n",
       "      <th>45</th>\n",
       "      <td>2018-05</td>\n",
       "      <td>return_customer</td>\n",
       "      <td>2625</td>\n",
       "      <td>75357217.35</td>\n",
       "      <td>8674</td>\n",
       "      <td>4844</td>\n",
       "      <td>0.54</td>\n",
       "    </tr>\n",
       "    <tr>\n",
       "      <th>46</th>\n",
       "      <td>2018-06</td>\n",
       "      <td>new_customer</td>\n",
       "      <td>1008</td>\n",
       "      <td>15861735.52</td>\n",
       "      <td>1850</td>\n",
       "      <td>2329</td>\n",
       "      <td>0.43</td>\n",
       "    </tr>\n",
       "    <tr>\n",
       "      <th>47</th>\n",
       "      <td>2018-06</td>\n",
       "      <td>return_customer</td>\n",
       "      <td>1321</td>\n",
       "      <td>31417199.35</td>\n",
       "      <td>4750</td>\n",
       "      <td>2329</td>\n",
       "      <td>0.57</td>\n",
       "    </tr>\n",
       "    <tr>\n",
       "      <th>48</th>\n",
       "      <td>2018-07</td>\n",
       "      <td>new_customer</td>\n",
       "      <td>861</td>\n",
       "      <td>8139545.25</td>\n",
       "      <td>1451</td>\n",
       "      <td>1812</td>\n",
       "      <td>0.48</td>\n",
       "    </tr>\n",
       "    <tr>\n",
       "      <th>49</th>\n",
       "      <td>2018-07</td>\n",
       "      <td>return_customer</td>\n",
       "      <td>951</td>\n",
       "      <td>24125186.12</td>\n",
       "      <td>3017</td>\n",
       "      <td>1812</td>\n",
       "      <td>0.52</td>\n",
       "    </tr>\n",
       "    <tr>\n",
       "      <th>50</th>\n",
       "      <td>2018-08</td>\n",
       "      <td>new_customer</td>\n",
       "      <td>901</td>\n",
       "      <td>9278167.51</td>\n",
       "      <td>1579</td>\n",
       "      <td>2234</td>\n",
       "      <td>0.40</td>\n",
       "    </tr>\n",
       "    <tr>\n",
       "      <th>51</th>\n",
       "      <td>2018-08</td>\n",
       "      <td>return_customer</td>\n",
       "      <td>1333</td>\n",
       "      <td>32041281.29</td>\n",
       "      <td>4396</td>\n",
       "      <td>2234</td>\n",
       "      <td>0.60</td>\n",
       "    </tr>\n",
       "  </tbody>\n",
       "</table>\n",
       "</div>"
      ],
      "text/plain": [
       "   Year_Month       new_return  Customer ID          sum  count  \\\n",
       "0     2016-07     new_customer         1496   7486043.52   2681   \n",
       "1     2016-07  return_customer          351   4234776.75   3242   \n",
       "2     2016-08     new_customer         2140  11524951.63   3073   \n",
       "3     2016-08  return_customer          726   6063527.60   4495   \n",
       "4     2016-09     new_customer         2959  17211146.60   3985   \n",
       "5     2016-09  return_customer         1170  10292521.46   4271   \n",
       "6     2016-10     new_customer         1673  11604383.55   2211   \n",
       "7     2016-10  return_customer         1262  13219759.35   5445   \n",
       "8     2016-11     new_customer         9957  40860679.85  16455   \n",
       "9     2016-11  return_customer         4445  57034559.92  23512   \n",
       "10    2016-12     new_customer         1752   8393077.18   2340   \n",
       "11    2016-12  return_customer         2067  18421099.59   6001   \n",
       "12    2017-01     new_customer         1689  12263607.10   2833   \n",
       "13    2017-01  return_customer         1645  19921191.14   5283   \n",
       "14    2017-02     new_customer         1947   8951328.18   2705   \n",
       "15    2017-02  return_customer         1500  21158490.15   4520   \n",
       "16    2017-03     new_customer         3122  25082039.28   5029   \n",
       "17    2017-03  return_customer         2085  26447034.66   6859   \n",
       "18    2017-04     new_customer         2177  15980265.03   4141   \n",
       "19    2017-04  return_customer         2122  28675360.54   9545   \n",
       "20    2017-05     new_customer         3290  31288479.31   6545   \n",
       "21    2017-05  return_customer         2622  36862583.19   9920   \n",
       "22    2017-06     new_customer         1723  45394129.78   3417   \n",
       "23    2017-06  return_customer         1708  17848785.82   6372   \n",
       "24    2017-07     new_customer         2268  10565960.03   4207   \n",
       "25    2017-07  return_customer         2409  18679568.94   7954   \n",
       "26    2017-08     new_customer         2696  17818000.46   5108   \n",
       "27    2017-08  return_customer         2460  31397451.29   9536   \n",
       "28    2017-09     new_customer          732   5000890.79   1327   \n",
       "29    2017-09  return_customer          906  12477685.48   2510   \n",
       "30    2017-10     new_customer         1570  12189221.45   2539   \n",
       "31    2017-10  return_customer         1538  20723527.95   4527   \n",
       "32    2017-11     new_customer        10688 192033597.95  23265   \n",
       "33    2017-11  return_customer         6117 169173396.88  23077   \n",
       "34    2017-12     new_customer         1477   8282202.70   2562   \n",
       "35    2017-12  return_customer         2136  18865486.97   6233   \n",
       "36    2018-01     new_customer         1168   8957515.93   2153   \n",
       "37    2018-01  return_customer         1551  22430658.97   4973   \n",
       "38    2018-02     new_customer         3707  58870432.31   7544   \n",
       "39    2018-02  return_customer         2305  80364798.63   7325   \n",
       "40    2018-03     new_customer         5761  79542220.00   8647   \n",
       "41    2018-03  return_customer         3465  82311776.82   9737   \n",
       "42    2018-04     new_customer         1426   9712646.70   2449   \n",
       "43    2018-04  return_customer         1512  20414679.45   4520   \n",
       "44    2018-05     new_customer         2219  59858891.27   4700   \n",
       "45    2018-05  return_customer         2625  75357217.35   8674   \n",
       "46    2018-06     new_customer         1008  15861735.52   1850   \n",
       "47    2018-06  return_customer         1321  31417199.35   4750   \n",
       "48    2018-07     new_customer          861   8139545.25   1451   \n",
       "49    2018-07  return_customer          951  24125186.12   3017   \n",
       "50    2018-08     new_customer          901   9278167.51   1579   \n",
       "51    2018-08  return_customer         1333  32041281.29   4396   \n",
       "\n",
       "    total_customer  new_return_ratio  \n",
       "0             1847              0.81  \n",
       "1             1847              0.19  \n",
       "2             2866              0.75  \n",
       "3             2866              0.25  \n",
       "4             4129              0.72  \n",
       "5             4129              0.28  \n",
       "6             2935              0.57  \n",
       "7             2935              0.43  \n",
       "8            14402              0.69  \n",
       "9            14402              0.31  \n",
       "10            3819              0.46  \n",
       "11            3819              0.54  \n",
       "12            3334              0.51  \n",
       "13            3334              0.49  \n",
       "14            3447              0.56  \n",
       "15            3447              0.44  \n",
       "16            5207              0.60  \n",
       "17            5207              0.40  \n",
       "18            4299              0.51  \n",
       "19            4299              0.49  \n",
       "20            5912              0.56  \n",
       "21            5912              0.44  \n",
       "22            3431              0.50  \n",
       "23            3431              0.50  \n",
       "24            4677              0.48  \n",
       "25            4677              0.52  \n",
       "26            5156              0.52  \n",
       "27            5156              0.48  \n",
       "28            1638              0.45  \n",
       "29            1638              0.55  \n",
       "30            3108              0.51  \n",
       "31            3108              0.49  \n",
       "32           16805              0.64  \n",
       "33           16805              0.36  \n",
       "34            3613              0.41  \n",
       "35            3613              0.59  \n",
       "36            2719              0.43  \n",
       "37            2719              0.57  \n",
       "38            6012              0.62  \n",
       "39            6012              0.38  \n",
       "40            9226              0.62  \n",
       "41            9226              0.38  \n",
       "42            2938              0.49  \n",
       "43            2938              0.51  \n",
       "44            4844              0.46  \n",
       "45            4844              0.54  \n",
       "46            2329              0.43  \n",
       "47            2329              0.57  \n",
       "48            1812              0.48  \n",
       "49            1812              0.52  \n",
       "50            2234              0.40  \n",
       "51            2234              0.60  "
      ]
     },
     "execution_count": 140,
     "metadata": {},
     "output_type": "execute_result"
    }
   ],
   "source": [
    "#統計每月新舊客人數、比例、訂單數及消費金額\n",
    "new_return_G = iffirst_perchase.groupby([\"Year_Month\",\"new_return\"])[\"grand_total\"].agg([\"sum\",\"count\"]).reset_index()\n",
    "new_return_C = iffirst_perchase.groupby([\"Year_Month\",\"new_return\"])[\"Customer ID\"].nunique().reset_index()\n",
    "monthly_total_C = new_return_C.groupby(\"Year_Month\")[\"Customer ID\"].agg(\"sum\").reset_index()\n",
    "monthly_total_C.columns = [\"Year_Month\",\"total_customer\"]\n",
    "new_return_T = pd.merge(new_return_C,new_return_G,how=\"left\")\n",
    "new_return_T = pd.merge(new_return_T,monthly_total_C,on=\"Year_Month\",how=\"left\")\n",
    "new_return_T[\"new_return_ratio\"] = round(new_return_T[\"Customer ID\"]/new_return_T[\"total_customer\"],2)\n",
    "new_return_T.head()"
   ]
  },
  {
   "cell_type": "code",
   "execution_count": 138,
   "metadata": {},
   "outputs": [
    {
     "data": {
      "image/png": "[encoded data removed]",
      "text/plain": [
       "<Figure size 1440x432 with 1 Axes>"
      ]
     },
     "metadata": {},
     "output_type": "display_data"
    }
   ],
   "source": [
    "#每月新舊客人數比例\n",
    "fig, ax = plt.subplots(figsize=(20, 6))\n",
    "sns.set(style=\"darkgrid\",palette=\"Set1\")\n",
    "sns.lineplot(data=new_return_T, x=\"Year_Month\", y=\"new_return_ratio\", hue = \"new_return\", marker= \"o\")\n",
    "ax.set_xlabel(\"\")\n",
    "ax.set_ylabel(\"Number of Customers\")\n",
    "ax.xaxis.set_tick_params(rotation=45)\n",
    "plt.legend();"
   ]
  },
  {
   "cell_type": "code",
   "execution_count": 139,
   "metadata": {},
   "outputs": [
    {
     "data": {
      "image/png": "[encoded data removed]",
      "text/plain": [
       "<Figure size 1440x432 with 1 Axes>"
      ]
     },
     "metadata": {},
     "output_type": "display_data"
    }
   ],
   "source": [
    "#每月新舊客人數圖表 & 訂單數\n",
    "fig, ax = plt.subplots(figsize=(20, 6))\n",
    "sns.set(style=\"darkgrid\",palette=\"Set1\")\n",
    "sns.barplot(data=new_return_T, x=\"Year_Month\", y=\"Customer ID\", hue = \"new_return\")\n",
    "sns.lineplot(data=new_return_T, x=\"Year_Month\", y=\"count\", hue = \"new_return\", marker= \"o\", legend= False)\n",
    "ax.set_xlabel(\"\")\n",
    "ax.set_ylabel(\"Number of Customers\")\n",
    "# ax2 = ax.twinx()\n",
    "# ax2.set_ylabel(\"Number of Orders\")\n",
    "ax.yaxis.get_major_formatter().set_scientific(False)\n",
    "ax.xaxis.set_tick_params(rotation=45)\n",
    "plt.legend();"
   ]
  },
  {
   "cell_type": "code",
   "execution_count": 24,
   "metadata": {},
   "outputs": [
    {
     "data": {
      "image/png": "[encoded data removed]",
      "text/plain": [
       "<Figure size 1440x360 with 1 Axes>"
      ]
     },
     "metadata": {},
     "output_type": "display_data"
    }
   ],
   "source": [
    "#每月新舊客消費金額圖表 & 訂單數\n",
    "fig, ax = plt.subplots(figsize=(20, 5))\n",
    "sns.set(style=\"darkgrid\",palette=\"bright\")\n",
    "sns.barplot(data=new_return_T, x=\"Year_Month\", y=\"sum\", hue = \"new_return\")\n",
    "#sns.barplot(data=dt_temR, x=\"Year_Month\", y=\"grand_total\")\n",
    "ax.set_xlabel(\"\")\n",
    "ax.set_ylabel(\"Revenue\")\n",
    "ax.yaxis.get_major_formatter().set_scientific(False)\n",
    "ax.xaxis.set_tick_params(rotation=45)\n",
    "plt.legend(title=\"New Customer VS Return Customer\");"
   ]
  },
  {
   "cell_type": "markdown",
   "metadata": {},
   "source": [
    "<div class=\"alert alert-success\">\n",
    "6. 計算每個月的回購率\n",
    "</div>"
   ]
  },
  {
   "cell_type": "code",
   "execution_count": 25,
   "metadata": {},
   "outputs": [
    {
     "data": {
      "text/html": [
       "<div>\n",
       "<style scoped>\n",
       "    .dataframe tbody tr th:only-of-type {\n",
       "        vertical-align: middle;\n",
       "    }\n",
       "\n",
       "    .dataframe tbody tr th {\n",
       "        vertical-align: top;\n",
       "    }\n",
       "\n",
       "    .dataframe thead th {\n",
       "        text-align: right;\n",
       "    }\n",
       "</style>\n",
       "<table border=\"1\" class=\"dataframe\">\n",
       "  <thead>\n",
       "    <tr style=\"text-align: right;\">\n",
       "      <th>Year_Month</th>\n",
       "      <th>2016-07</th>\n",
       "      <th>2016-08</th>\n",
       "      <th>2016-09</th>\n",
       "      <th>2016-10</th>\n",
       "      <th>2016-11</th>\n",
       "      <th>2016-12</th>\n",
       "      <th>2017-01</th>\n",
       "      <th>2017-02</th>\n",
       "      <th>2017-03</th>\n",
       "      <th>2017-04</th>\n",
       "      <th>...</th>\n",
       "      <th>2017-11</th>\n",
       "      <th>2017-12</th>\n",
       "      <th>2018-01</th>\n",
       "      <th>2018-02</th>\n",
       "      <th>2018-03</th>\n",
       "      <th>2018-04</th>\n",
       "      <th>2018-05</th>\n",
       "      <th>2018-06</th>\n",
       "      <th>2018-07</th>\n",
       "      <th>2018-08</th>\n",
       "    </tr>\n",
       "    <tr>\n",
       "      <th>Customer ID</th>\n",
       "      <th></th>\n",
       "      <th></th>\n",
       "      <th></th>\n",
       "      <th></th>\n",
       "      <th></th>\n",
       "      <th></th>\n",
       "      <th></th>\n",
       "      <th></th>\n",
       "      <th></th>\n",
       "      <th></th>\n",
       "      <th></th>\n",
       "      <th></th>\n",
       "      <th></th>\n",
       "      <th></th>\n",
       "      <th></th>\n",
       "      <th></th>\n",
       "      <th></th>\n",
       "      <th></th>\n",
       "      <th></th>\n",
       "      <th></th>\n",
       "      <th></th>\n",
       "    </tr>\n",
       "  </thead>\n",
       "  <tbody>\n",
       "    <tr>\n",
       "      <th>1</th>\n",
       "      <td>1</td>\n",
       "      <td>0</td>\n",
       "      <td>0</td>\n",
       "      <td>0</td>\n",
       "      <td>0</td>\n",
       "      <td>0</td>\n",
       "      <td>0</td>\n",
       "      <td>0</td>\n",
       "      <td>0</td>\n",
       "      <td>0</td>\n",
       "      <td>...</td>\n",
       "      <td>0</td>\n",
       "      <td>0</td>\n",
       "      <td>0</td>\n",
       "      <td>0</td>\n",
       "      <td>0</td>\n",
       "      <td>0</td>\n",
       "      <td>0</td>\n",
       "      <td>0</td>\n",
       "      <td>0</td>\n",
       "      <td>0</td>\n",
       "    </tr>\n",
       "    <tr>\n",
       "      <th>3</th>\n",
       "      <td>0</td>\n",
       "      <td>0</td>\n",
       "      <td>0</td>\n",
       "      <td>0</td>\n",
       "      <td>0</td>\n",
       "      <td>0</td>\n",
       "      <td>0</td>\n",
       "      <td>0</td>\n",
       "      <td>0</td>\n",
       "      <td>0</td>\n",
       "      <td>...</td>\n",
       "      <td>0</td>\n",
       "      <td>0</td>\n",
       "      <td>0</td>\n",
       "      <td>0</td>\n",
       "      <td>0</td>\n",
       "      <td>0</td>\n",
       "      <td>0</td>\n",
       "      <td>0</td>\n",
       "      <td>0</td>\n",
       "      <td>0</td>\n",
       "    </tr>\n",
       "    <tr>\n",
       "      <th>4</th>\n",
       "      <td>9</td>\n",
       "      <td>20</td>\n",
       "      <td>17</td>\n",
       "      <td>30</td>\n",
       "      <td>62</td>\n",
       "      <td>19</td>\n",
       "      <td>5</td>\n",
       "      <td>16</td>\n",
       "      <td>20</td>\n",
       "      <td>9</td>\n",
       "      <td>...</td>\n",
       "      <td>10</td>\n",
       "      <td>1</td>\n",
       "      <td>1</td>\n",
       "      <td>2</td>\n",
       "      <td>0</td>\n",
       "      <td>0</td>\n",
       "      <td>0</td>\n",
       "      <td>0</td>\n",
       "      <td>0</td>\n",
       "      <td>4</td>\n",
       "    </tr>\n",
       "    <tr>\n",
       "      <th>6</th>\n",
       "      <td>1</td>\n",
       "      <td>0</td>\n",
       "      <td>0</td>\n",
       "      <td>0</td>\n",
       "      <td>0</td>\n",
       "      <td>0</td>\n",
       "      <td>0</td>\n",
       "      <td>0</td>\n",
       "      <td>0</td>\n",
       "      <td>0</td>\n",
       "      <td>...</td>\n",
       "      <td>0</td>\n",
       "      <td>0</td>\n",
       "      <td>0</td>\n",
       "      <td>0</td>\n",
       "      <td>0</td>\n",
       "      <td>0</td>\n",
       "      <td>0</td>\n",
       "      <td>0</td>\n",
       "      <td>0</td>\n",
       "      <td>0</td>\n",
       "    </tr>\n",
       "    <tr>\n",
       "      <th>7</th>\n",
       "      <td>1</td>\n",
       "      <td>0</td>\n",
       "      <td>0</td>\n",
       "      <td>0</td>\n",
       "      <td>0</td>\n",
       "      <td>0</td>\n",
       "      <td>0</td>\n",
       "      <td>0</td>\n",
       "      <td>0</td>\n",
       "      <td>3</td>\n",
       "      <td>...</td>\n",
       "      <td>0</td>\n",
       "      <td>0</td>\n",
       "      <td>0</td>\n",
       "      <td>0</td>\n",
       "      <td>0</td>\n",
       "      <td>0</td>\n",
       "      <td>0</td>\n",
       "      <td>0</td>\n",
       "      <td>0</td>\n",
       "      <td>0</td>\n",
       "    </tr>\n",
       "  </tbody>\n",
       "</table>\n",
       "<p>5 rows × 26 columns</p>\n",
       "</div>"
      ],
      "text/plain": [
       "Year_Month   2016-07  2016-08  2016-09  2016-10  2016-11  2016-12  2017-01  \\\n",
       "Customer ID                                                                  \n",
       "1                  1        0        0        0        0        0        0   \n",
       "3                  0        0        0        0        0        0        0   \n",
       "4                  9       20       17       30       62       19        5   \n",
       "6                  1        0        0        0        0        0        0   \n",
       "7                  1        0        0        0        0        0        0   \n",
       "\n",
       "Year_Month   2017-02  2017-03  2017-04  ...  2017-11  2017-12  2018-01  \\\n",
       "Customer ID                             ...                              \n",
       "1                  0        0        0  ...        0        0        0   \n",
       "3                  0        0        0  ...        0        0        0   \n",
       "4                 16       20        9  ...       10        1        1   \n",
       "6                  0        0        0  ...        0        0        0   \n",
       "7                  0        0        3  ...        0        0        0   \n",
       "\n",
       "Year_Month   2018-02  2018-03  2018-04  2018-05  2018-06  2018-07  2018-08  \n",
       "Customer ID                                                                 \n",
       "1                  0        0        0        0        0        0        0  \n",
       "3                  0        0        0        0        0        0        0  \n",
       "4                  2        0        0        0        0        0        4  \n",
       "6                  0        0        0        0        0        0        0  \n",
       "7                  0        0        0        0        0        0        0  \n",
       "\n",
       "[5 rows x 26 columns]"
      ]
     },
     "execution_count": 25,
     "metadata": {},
     "output_type": "execute_result"
    }
   ],
   "source": [
    "purchase_time = dt[dt[\"status\"] == \"completed\"].pivot_table(index=\"Customer ID\",columns=\"Year_Month\",values=\"increment_id\",aggfunc=\"nunique\",fill_value=0)\n",
    "purchase_time.head()"
   ]
  },
  {
   "cell_type": "code",
   "execution_count": 26,
   "metadata": {},
   "outputs": [],
   "source": [
    "pivot_purchase = purchase_time.applymap(lambda x:1 if x>0 else 0)\n",
    "pivot_repurchase = (pivot_purchase.shift(-1,axis=1).fillna(0)+pivot_purchase).applymap(lambda x: 1 if x>1 else 0 )\n",
    "pivot_repurchase = pivot_repurchase.shift(1,axis=1).fillna(0)\n",
    "repurchase_rate = pivot_repurchase.sum()/pivot_purchase.sum()\n",
    "repurchase_rate = repurchase_rate.reset_index(name = \"repurchase_rate\")"
   ]
  },
  {
   "cell_type": "code",
   "execution_count": 27,
   "metadata": {},
   "outputs": [
    {
     "data": {
      "image/png": "[encoded data removed]",
      "text/plain": [
       "<Figure size 1440x360 with 1 Axes>"
      ]
     },
     "metadata": {},
     "output_type": "display_data"
    }
   ],
   "source": [
    "fig, ax = plt.subplots(figsize=(20, 5))\n",
    "sns.set(style=\"darkgrid\", palette=\"Set1\")\n",
    "sns.lineplot(data=repurchase_rate, x=\"Year_Month\", y=\"repurchase_rate\",marker=\"o\")\n",
    "ax.set_xlabel(\"repurchase rate each month\")\n",
    "ax.set_ylabel(\"\")\n",
    "plt.xticks(rotation=45);"
   ]
  },
  {
   "cell_type": "markdown",
   "metadata": {},
   "source": [
    "<div class=\"alert alert-success\">\n",
    "7. 使用RFM模型將顧客分類成不同客群<br>\n",
    "• 最近一次消費（Recency）。顧客上次消費時間愈近，價值愈大。<br>\n",
    "• 消費頻率（Frequency）。顧客在一個月或一年中，買了多少次東西？購買頻率愈高，用戶價值愈大。<br>\n",
    "• 消費金額（Monetary）。顧客一共在產品上花了多少錢？創造了多少利潤？消費金額愈高，用戶價值愈大。<br>\n",
    "</div>"
   ]
  },
  {
   "cell_type": "code",
   "execution_count": 28,
   "metadata": {},
   "outputs": [
    {
     "name": "stdout",
     "output_type": "stream",
     "text": [
      "Set the reference date as 2018-08-31 00:00:00\n"
     ]
    }
   ],
   "source": [
    "#把 reference_date 設定在顧客最後消費的3天後\n",
    "reference_date = dt[\"created_at_date\"].max() + timedelta(days=3)\n",
    "print(f\"Set the reference date as {reference_date}\")"
   ]
  },
  {
   "cell_type": "code",
   "execution_count": 29,
   "metadata": {},
   "outputs": [],
   "source": [
    "rfm_dt = dt[dt[\"status\"] == \"completed\"].groupby(\"Customer ID\").agg \\\n",
    "    ({\"created_at_date\" : lambda created_at_date :(reference_date - created_at_date.max()).days,  # Recency\n",
    "      \"increment_id\" : lambda increment_id: increment_id.nunique(),  # Frequency\n",
    "      \"grand_total\":  lambda grand_total: grand_total.sum()}).reset_index().sort_values(by=\"Customer ID\")    # Monetary"
   ]
  },
  {
   "cell_type": "code",
   "execution_count": 30,
   "metadata": {},
   "outputs": [
    {
     "data": {
      "text/html": [
       "<div>\n",
       "<style scoped>\n",
       "    .dataframe tbody tr th:only-of-type {\n",
       "        vertical-align: middle;\n",
       "    }\n",
       "\n",
       "    .dataframe tbody tr th {\n",
       "        vertical-align: top;\n",
       "    }\n",
       "\n",
       "    .dataframe thead th {\n",
       "        text-align: right;\n",
       "    }\n",
       "</style>\n",
       "<table border=\"1\" class=\"dataframe\">\n",
       "  <thead>\n",
       "    <tr style=\"text-align: right;\">\n",
       "      <th></th>\n",
       "      <th>Customer ID</th>\n",
       "      <th>created_at_date</th>\n",
       "      <th>increment_id</th>\n",
       "      <th>grand_total</th>\n",
       "    </tr>\n",
       "  </thead>\n",
       "  <tbody>\n",
       "    <tr>\n",
       "      <th>0</th>\n",
       "      <td>1</td>\n",
       "      <td>791</td>\n",
       "      <td>1</td>\n",
       "      <td>1950.00</td>\n",
       "    </tr>\n",
       "    <tr>\n",
       "      <th>1</th>\n",
       "      <td>3</td>\n",
       "      <td>469</td>\n",
       "      <td>1</td>\n",
       "      <td>4980.00</td>\n",
       "    </tr>\n",
       "    <tr>\n",
       "      <th>2</th>\n",
       "      <td>4</td>\n",
       "      <td>4</td>\n",
       "      <td>236</td>\n",
       "      <td>1316173.25</td>\n",
       "    </tr>\n",
       "    <tr>\n",
       "      <th>3</th>\n",
       "      <td>6</td>\n",
       "      <td>791</td>\n",
       "      <td>1</td>\n",
       "      <td>170.00</td>\n",
       "    </tr>\n",
       "    <tr>\n",
       "      <th>4</th>\n",
       "      <td>7</td>\n",
       "      <td>503</td>\n",
       "      <td>4</td>\n",
       "      <td>105.00</td>\n",
       "    </tr>\n",
       "  </tbody>\n",
       "</table>\n",
       "</div>"
      ],
      "text/plain": [
       "   Customer ID  created_at_date  increment_id  grand_total\n",
       "0            1              791             1      1950.00\n",
       "1            3              469             1      4980.00\n",
       "2            4                4           236   1316173.25\n",
       "3            6              791             1       170.00\n",
       "4            7              503             4       105.00"
      ]
     },
     "execution_count": 30,
     "metadata": {},
     "output_type": "execute_result"
    }
   ],
   "source": [
    "rfm_dt.head()"
   ]
  },
  {
   "cell_type": "code",
   "execution_count": 31,
   "metadata": {},
   "outputs": [
    {
     "data": {
      "text/html": [
       "<div>\n",
       "<style scoped>\n",
       "    .dataframe tbody tr th:only-of-type {\n",
       "        vertical-align: middle;\n",
       "    }\n",
       "\n",
       "    .dataframe tbody tr th {\n",
       "        vertical-align: top;\n",
       "    }\n",
       "\n",
       "    .dataframe thead th {\n",
       "        text-align: right;\n",
       "    }\n",
       "</style>\n",
       "<table border=\"1\" class=\"dataframe\">\n",
       "  <thead>\n",
       "    <tr style=\"text-align: right;\">\n",
       "      <th></th>\n",
       "      <th>Customer ID</th>\n",
       "      <th>Recency</th>\n",
       "      <th>Frequency</th>\n",
       "      <th>Monetary</th>\n",
       "    </tr>\n",
       "  </thead>\n",
       "  <tbody>\n",
       "    <tr>\n",
       "      <th>0</th>\n",
       "      <td>1</td>\n",
       "      <td>791</td>\n",
       "      <td>1</td>\n",
       "      <td>1950.00</td>\n",
       "    </tr>\n",
       "    <tr>\n",
       "      <th>1</th>\n",
       "      <td>3</td>\n",
       "      <td>469</td>\n",
       "      <td>1</td>\n",
       "      <td>4980.00</td>\n",
       "    </tr>\n",
       "    <tr>\n",
       "      <th>2</th>\n",
       "      <td>4</td>\n",
       "      <td>4</td>\n",
       "      <td>236</td>\n",
       "      <td>1316173.25</td>\n",
       "    </tr>\n",
       "    <tr>\n",
       "      <th>3</th>\n",
       "      <td>6</td>\n",
       "      <td>791</td>\n",
       "      <td>1</td>\n",
       "      <td>170.00</td>\n",
       "    </tr>\n",
       "    <tr>\n",
       "      <th>4</th>\n",
       "      <td>7</td>\n",
       "      <td>503</td>\n",
       "      <td>4</td>\n",
       "      <td>105.00</td>\n",
       "    </tr>\n",
       "  </tbody>\n",
       "</table>\n",
       "</div>"
      ],
      "text/plain": [
       "   Customer ID  Recency  Frequency   Monetary\n",
       "0            1      791          1    1950.00\n",
       "1            3      469          1    4980.00\n",
       "2            4        4        236 1316173.25\n",
       "3            6      791          1     170.00\n",
       "4            7      503          4     105.00"
      ]
     },
     "execution_count": 31,
     "metadata": {},
     "output_type": "execute_result"
    }
   ],
   "source": [
    "#把欄位重新命名為 Recency, Frequency, Monetary\n",
    "rfm_dt.columns = [\"Customer ID\", \"Recency\", \"Frequency\", \"Monetary\"]\n",
    "rfm_dt.head()"
   ]
  },
  {
   "cell_type": "code",
   "execution_count": 32,
   "metadata": {},
   "outputs": [],
   "source": [
    "#R、F、M每一個維度劃分1~5分，5分代表最高分。\n",
    "# Recency指標數字越小表示客戶近期剛購買，因此Recency越低則可得到更高分(5分)。\n",
    "# Frequency和Monetary指標的表示客戶購買頻繁並且消費更多的金額，因此Frequency和Monetary值越高可得到更高分(5分)。\n",
    "rfm_dt[\"Recency_Score\"]  = pd.qcut(rfm_dt['Recency'], 5, [5, 4, 3, 2, 1])\n",
    "rfm_dt[\"Frequency_Score\"]  = pd.qcut(rfm_dt['Frequency'].rank(method=\"first\"),  5, [1, 2, 3, 4, 5])\n",
    "rfm_dt[\"Monetary_Score\"]  = pd.qcut(rfm_dt['Monetary'], 5, [1, 2, 3, 4, 5])"
   ]
  },
  {
   "cell_type": "code",
   "execution_count": 33,
   "metadata": {},
   "outputs": [
    {
     "data": {
      "text/html": [
       "<div>\n",
       "<style scoped>\n",
       "    .dataframe tbody tr th:only-of-type {\n",
       "        vertical-align: middle;\n",
       "    }\n",
       "\n",
       "    .dataframe tbody tr th {\n",
       "        vertical-align: top;\n",
       "    }\n",
       "\n",
       "    .dataframe thead th {\n",
       "        text-align: right;\n",
       "    }\n",
       "</style>\n",
       "<table border=\"1\" class=\"dataframe\">\n",
       "  <thead>\n",
       "    <tr style=\"text-align: right;\">\n",
       "      <th></th>\n",
       "      <th>Customer ID</th>\n",
       "      <th>Recency</th>\n",
       "      <th>Frequency</th>\n",
       "      <th>Monetary</th>\n",
       "      <th>Recency_Score</th>\n",
       "      <th>Frequency_Score</th>\n",
       "      <th>Monetary_Score</th>\n",
       "      <th>RFM_SCORE</th>\n",
       "    </tr>\n",
       "  </thead>\n",
       "  <tbody>\n",
       "    <tr>\n",
       "      <th>0</th>\n",
       "      <td>1</td>\n",
       "      <td>791</td>\n",
       "      <td>1</td>\n",
       "      <td>1950.00</td>\n",
       "      <td>1</td>\n",
       "      <td>1</td>\n",
       "      <td>2</td>\n",
       "      <td>112</td>\n",
       "    </tr>\n",
       "    <tr>\n",
       "      <th>1</th>\n",
       "      <td>3</td>\n",
       "      <td>469</td>\n",
       "      <td>1</td>\n",
       "      <td>4980.00</td>\n",
       "      <td>2</td>\n",
       "      <td>1</td>\n",
       "      <td>3</td>\n",
       "      <td>213</td>\n",
       "    </tr>\n",
       "    <tr>\n",
       "      <th>2</th>\n",
       "      <td>4</td>\n",
       "      <td>4</td>\n",
       "      <td>236</td>\n",
       "      <td>1316173.25</td>\n",
       "      <td>5</td>\n",
       "      <td>5</td>\n",
       "      <td>5</td>\n",
       "      <td>555</td>\n",
       "    </tr>\n",
       "    <tr>\n",
       "      <th>3</th>\n",
       "      <td>6</td>\n",
       "      <td>791</td>\n",
       "      <td>1</td>\n",
       "      <td>170.00</td>\n",
       "      <td>1</td>\n",
       "      <td>1</td>\n",
       "      <td>1</td>\n",
       "      <td>111</td>\n",
       "    </tr>\n",
       "    <tr>\n",
       "      <th>4</th>\n",
       "      <td>7</td>\n",
       "      <td>503</td>\n",
       "      <td>4</td>\n",
       "      <td>105.00</td>\n",
       "      <td>2</td>\n",
       "      <td>5</td>\n",
       "      <td>1</td>\n",
       "      <td>251</td>\n",
       "    </tr>\n",
       "  </tbody>\n",
       "</table>\n",
       "</div>"
      ],
      "text/plain": [
       "   Customer ID  Recency  Frequency   Monetary Recency_Score Frequency_Score  \\\n",
       "0            1      791          1    1950.00             1               1   \n",
       "1            3      469          1    4980.00             2               1   \n",
       "2            4        4        236 1316173.25             5               5   \n",
       "3            6      791          1     170.00             1               1   \n",
       "4            7      503          4     105.00             2               5   \n",
       "\n",
       "  Monetary_Score RFM_SCORE  \n",
       "0              2       112  \n",
       "1              3       213  \n",
       "2              5       555  \n",
       "3              1       111  \n",
       "4              1       251  "
      ]
     },
     "execution_count": 33,
     "metadata": {},
     "output_type": "execute_result"
    }
   ],
   "source": [
    "rfm_dt[\"RFM_SCORE\"] = (rfm_dt[\"Recency_Score\"].astype(str) + rfm_dt[\"Frequency_Score\"].astype(str) + rfm_dt[\"Monetary_Score\"].astype(str))\n",
    "rfm_dt.head()"
   ]
  },
  {
   "cell_type": "markdown",
   "metadata": {},
   "source": [
    "<div class=\"alert alert-success\">\n",
    "在電商零售產業，若消費者每個月有固定搜尋和購買的習慣，那麼推測他會得到較高的 Recency_Score 和 Frequency_Score，這兩個分數比起 Monetary_Score 更為重要。<br>\n",
    "因此，接下來我們使用 Recency_Score 和 Frequency_Score 來把顧客做分群。\n",
    "</div>"
   ]
  },
  {
   "cell_type": "markdown",
   "metadata": {},
   "source": [
    "<img src =\"https://github.com/LiangYuDer/E-commerce-Analysis/blob/main/Recency%20and%20Frequency%20Grid.JPG?raw=true\" width = \"750\" height =\"410\" >"
   ]
  },
  {
   "cell_type": "code",
   "execution_count": 34,
   "metadata": {},
   "outputs": [],
   "source": [
    "#1. Champions VIP顧客\n",
    "#2. Loyal Customers 忠實顧客\n",
    "#3. Potential Loyalists 潛在的忠誠顧客\n",
    "#4. New Customers 新顧客\n",
    "#5. Promising 有希望的顧客\n",
    "#6. Need Attention 需要關注的顧客\n",
    "#7. About to Sleep 快睡著(流失)的顧客\n",
    "#8. Can't Lose Them 不能失去的顧客\n",
    "#9. At Risk 有風險的顧客\n",
    "#10. Hibernating 冬眠(流失)的顧客\n",
    "\n",
    "seg_map = {\n",
    "    r\"[1-2][1-2]\": \"Hibernating\",\n",
    "    r\"[1-2][3-4]\": \"At Risk\",\n",
    "    r\"[1-2]5\": \"Can't Lose Them\",\n",
    "    r\"3[1-2]\": \"About To Sleep\",\n",
    "    r\"33\": \"Need Attention\",\n",
    "    r\"[3-4][4-5]\": \"Loyal Customers\",\n",
    "    r\"41\": \"Promising\",\n",
    "    r\"51\": \"New Customers\",\n",
    "    r\"[4-5][2-3]\": \"Potential Loyalists\",\n",
    "    r\"5[4-5]\": \"Champions\"\n",
    "}"
   ]
  },
  {
   "cell_type": "code",
   "execution_count": 35,
   "metadata": {},
   "outputs": [
    {
     "data": {
      "text/html": [
       "<div>\n",
       "<style scoped>\n",
       "    .dataframe tbody tr th:only-of-type {\n",
       "        vertical-align: middle;\n",
       "    }\n",
       "\n",
       "    .dataframe tbody tr th {\n",
       "        vertical-align: top;\n",
       "    }\n",
       "\n",
       "    .dataframe thead th {\n",
       "        text-align: right;\n",
       "    }\n",
       "</style>\n",
       "<table border=\"1\" class=\"dataframe\">\n",
       "  <thead>\n",
       "    <tr style=\"text-align: right;\">\n",
       "      <th></th>\n",
       "      <th>Customer ID</th>\n",
       "      <th>Recency</th>\n",
       "      <th>Frequency</th>\n",
       "      <th>Monetary</th>\n",
       "      <th>Recency_Score</th>\n",
       "      <th>Frequency_Score</th>\n",
       "      <th>Monetary_Score</th>\n",
       "      <th>RFM_SCORE</th>\n",
       "      <th>Segment</th>\n",
       "    </tr>\n",
       "  </thead>\n",
       "  <tbody>\n",
       "    <tr>\n",
       "      <th>0</th>\n",
       "      <td>1</td>\n",
       "      <td>791</td>\n",
       "      <td>1</td>\n",
       "      <td>1950.00</td>\n",
       "      <td>1</td>\n",
       "      <td>1</td>\n",
       "      <td>2</td>\n",
       "      <td>112</td>\n",
       "      <td>Hibernating</td>\n",
       "    </tr>\n",
       "    <tr>\n",
       "      <th>1</th>\n",
       "      <td>3</td>\n",
       "      <td>469</td>\n",
       "      <td>1</td>\n",
       "      <td>4980.00</td>\n",
       "      <td>2</td>\n",
       "      <td>1</td>\n",
       "      <td>3</td>\n",
       "      <td>213</td>\n",
       "      <td>Hibernating</td>\n",
       "    </tr>\n",
       "    <tr>\n",
       "      <th>2</th>\n",
       "      <td>4</td>\n",
       "      <td>4</td>\n",
       "      <td>236</td>\n",
       "      <td>1316173.25</td>\n",
       "      <td>5</td>\n",
       "      <td>5</td>\n",
       "      <td>5</td>\n",
       "      <td>555</td>\n",
       "      <td>Champions</td>\n",
       "    </tr>\n",
       "    <tr>\n",
       "      <th>3</th>\n",
       "      <td>6</td>\n",
       "      <td>791</td>\n",
       "      <td>1</td>\n",
       "      <td>170.00</td>\n",
       "      <td>1</td>\n",
       "      <td>1</td>\n",
       "      <td>1</td>\n",
       "      <td>111</td>\n",
       "      <td>Hibernating</td>\n",
       "    </tr>\n",
       "    <tr>\n",
       "      <th>4</th>\n",
       "      <td>7</td>\n",
       "      <td>503</td>\n",
       "      <td>4</td>\n",
       "      <td>105.00</td>\n",
       "      <td>2</td>\n",
       "      <td>5</td>\n",
       "      <td>1</td>\n",
       "      <td>251</td>\n",
       "      <td>Can't Lose Them</td>\n",
       "    </tr>\n",
       "  </tbody>\n",
       "</table>\n",
       "</div>"
      ],
      "text/plain": [
       "   Customer ID  Recency  Frequency   Monetary Recency_Score Frequency_Score  \\\n",
       "0            1      791          1    1950.00             1               1   \n",
       "1            3      469          1    4980.00             2               1   \n",
       "2            4        4        236 1316173.25             5               5   \n",
       "3            6      791          1     170.00             1               1   \n",
       "4            7      503          4     105.00             2               5   \n",
       "\n",
       "  Monetary_Score RFM_SCORE          Segment  \n",
       "0              2       112      Hibernating  \n",
       "1              3       213      Hibernating  \n",
       "2              5       555        Champions  \n",
       "3              1       111      Hibernating  \n",
       "4              1       251  Can't Lose Them  "
      ]
     },
     "execution_count": 35,
     "metadata": {},
     "output_type": "execute_result"
    }
   ],
   "source": [
    "rfm_dt[\"Segment\"] = rfm_dt[\"Recency_Score\"].astype(str) + rfm_dt[\"Frequency_Score\"].astype(str)\n",
    "rfm_dt[\"Segment\"] = rfm_dt[\"Segment\"].replace(seg_map, regex=True)\n",
    "rfm_dt.head()"
   ]
  },
  {
   "cell_type": "code",
   "execution_count": 36,
   "metadata": {},
   "outputs": [
    {
     "data": {
      "text/html": [
       "<div>\n",
       "<style scoped>\n",
       "    .dataframe tbody tr th:only-of-type {\n",
       "        vertical-align: middle;\n",
       "    }\n",
       "\n",
       "    .dataframe tbody tr th {\n",
       "        vertical-align: top;\n",
       "    }\n",
       "\n",
       "    .dataframe thead th {\n",
       "        text-align: right;\n",
       "    }\n",
       "</style>\n",
       "<table border=\"1\" class=\"dataframe\">\n",
       "  <thead>\n",
       "    <tr style=\"text-align: right;\">\n",
       "      <th></th>\n",
       "      <th>Segment</th>\n",
       "      <th>Customer Number</th>\n",
       "      <th>%</th>\n",
       "    </tr>\n",
       "  </thead>\n",
       "  <tbody>\n",
       "    <tr>\n",
       "      <th>0</th>\n",
       "      <td>Hibernating</td>\n",
       "      <td>23565</td>\n",
       "      <td>29.41</td>\n",
       "    </tr>\n",
       "    <tr>\n",
       "      <th>1</th>\n",
       "      <td>Potential Loyalists</td>\n",
       "      <td>14508</td>\n",
       "      <td>18.11</td>\n",
       "    </tr>\n",
       "    <tr>\n",
       "      <th>2</th>\n",
       "      <td>Loyal Customers</td>\n",
       "      <td>12434</td>\n",
       "      <td>15.52</td>\n",
       "    </tr>\n",
       "    <tr>\n",
       "      <th>3</th>\n",
       "      <td>Champions</td>\n",
       "      <td>11146</td>\n",
       "      <td>13.91</td>\n",
       "    </tr>\n",
       "    <tr>\n",
       "      <th>4</th>\n",
       "      <td>About To Sleep</td>\n",
       "      <td>7931</td>\n",
       "      <td>9.90</td>\n",
       "    </tr>\n",
       "    <tr>\n",
       "      <th>5</th>\n",
       "      <td>At Risk</td>\n",
       "      <td>4653</td>\n",
       "      <td>5.81</td>\n",
       "    </tr>\n",
       "    <tr>\n",
       "      <th>6</th>\n",
       "      <td>Can't Lose Them</td>\n",
       "      <td>3815</td>\n",
       "      <td>4.76</td>\n",
       "    </tr>\n",
       "    <tr>\n",
       "      <th>7</th>\n",
       "      <td>Need Attention</td>\n",
       "      <td>1918</td>\n",
       "      <td>2.39</td>\n",
       "    </tr>\n",
       "    <tr>\n",
       "      <th>8</th>\n",
       "      <td>Promising</td>\n",
       "      <td>82</td>\n",
       "      <td>0.10</td>\n",
       "    </tr>\n",
       "    <tr>\n",
       "      <th>9</th>\n",
       "      <td>New Customers</td>\n",
       "      <td>69</td>\n",
       "      <td>0.09</td>\n",
       "    </tr>\n",
       "  </tbody>\n",
       "</table>\n",
       "</div>"
      ],
      "text/plain": [
       "               Segment  Customer Number     %\n",
       "0          Hibernating            23565 29.41\n",
       "1  Potential Loyalists            14508 18.11\n",
       "2      Loyal Customers            12434 15.52\n",
       "3            Champions            11146 13.91\n",
       "4       About To Sleep             7931  9.90\n",
       "5              At Risk             4653  5.81\n",
       "6      Can't Lose Them             3815  4.76\n",
       "7       Need Attention             1918  2.39\n",
       "8            Promising               82  0.10\n",
       "9        New Customers               69  0.09"
      ]
     },
     "execution_count": 36,
     "metadata": {},
     "output_type": "execute_result"
    }
   ],
   "source": [
    "#統計每個分組的顧客人數和比例\n",
    "rfm_dt_segnum = rfm_dt.groupby(\"Segment\").agg({\"Customer ID\":\"count\"}).sort_values(\"Customer ID\", ascending=False).reset_index()\n",
    "rfm_dt_segnum[\"%\"] = 100 * (rfm_dt_segnum[\"Customer ID\"] / rfm_dt_segnum[\"Customer ID\"].sum())\n",
    "rfm_dt_segnum.columns = [\"Segment\", \"Customer Number\",\"%\"]\n",
    "rfm_dt_segnum"
   ]
  },
  {
   "cell_type": "code",
   "execution_count": 37,
   "metadata": {},
   "outputs": [
    {
     "data": {
      "application/vnd.plotly.v1+json": {
       "config": {
        "plotlyServerURL": "https://plot.ly"
       },
       "data": [
        {
         "branchvalues": "total",
         "domain": {
          "x": [
           0,
           1
          ],
          "y": [
           0,
           1
          ]
         },
         "hovertemplate": "labels=%{label}<br>Customer Number=%{value}<br>parent=%{parent}<br>id=%{id}<extra></extra>",
         "ids": [
          "About To Sleep",
          "At Risk",
          "Can't Lose Them",
          "Champions",
          "Hibernating",
          "Loyal Customers",
          "Need Attention",
          "New Customers",
          "Potential Loyalists",
          "Promising"
         ],
         "labels": [
          "About To Sleep",
          "At Risk",
          "Can't Lose Them",
          "Champions",
          "Hibernating",
          "Loyal Customers",
          "Need Attention",
          "New Customers",
          "Potential Loyalists",
          "Promising"
         ],
         "name": "",
         "parents": [
          "",
          "",
          "",
          "",
          "",
          "",
          "",
          "",
          "",
          ""
         ],
         "type": "treemap",
         "values": [
          7931,
          4653,
          3815,
          11146,
          23565,
          12434,
          1918,
          69,
          14508,
          82
         ]
        }
       ],
       "layout": {
        "height": 400,
        "legend": {
         "tracegroupgap": 0
        },
        "margin": {
         "b": 10,
         "l": 20,
         "r": 20,
         "t": 10
        },
        "template": {
         "data": {
          "bar": [
           {
            "error_x": {
             "color": "#2a3f5f"
            },
            "error_y": {
             "color": "#2a3f5f"
            },
            "marker": {
             "line": {
              "color": "#E5ECF6",
              "width": 0.5
             },
             "pattern": {
              "fillmode": "overlay",
              "size": 10,
              "solidity": 0.2
             }
            },
            "type": "bar"
           }
          ],
          "barpolar": [
           {
            "marker": {
             "line": {
              "color": "#E5ECF6",
              "width": 0.5
             },
             "pattern": {
              "fillmode": "overlay",
              "size": 10,
              "solidity": 0.2
             }
            },
            "type": "barpolar"
           }
          ],
          "carpet": [
           {
            "aaxis": {
             "endlinecolor": "#2a3f5f",
             "gridcolor": "white",
             "linecolor": "white",
             "minorgridcolor": "white",
             "startlinecolor": "#2a3f5f"
            },
            "baxis": {
             "endlinecolor": "#2a3f5f",
             "gridcolor": "white",
             "linecolor": "white",
             "minorgridcolor": "white",
             "startlinecolor": "#2a3f5f"
            },
            "type": "carpet"
           }
          ],
          "choropleth": [
           {
            "colorbar": {
             "outlinewidth": 0,
             "ticks": ""
            },
            "type": "choropleth"
           }
          ],
          "contour": [
           {
            "colorbar": {
             "outlinewidth": 0,
             "ticks": ""
            },
            "colorscale": [
             [
              0,
              "#0d0887"
             ],
             [
              0.1111111111111111,
              "#46039f"
             ],
             [
              0.2222222222222222,
              "#7201a8"
             ],
             [
              0.3333333333333333,
              "#9c179e"
             ],
             [
              0.4444444444444444,
              "#bd3786"
             ],
             [
              0.5555555555555556,
              "#d8576b"
             ],
             [
              0.6666666666666666,
              "#ed7953"
             ],
             [
              0.7777777777777778,
              "#fb9f3a"
             ],
             [
              0.8888888888888888,
              "#fdca26"
             ],
             [
              1,
              "#f0f921"
             ]
            ],
            "type": "contour"
           }
          ],
          "contourcarpet": [
           {
            "colorbar": {
             "outlinewidth": 0,
             "ticks": ""
            },
            "type": "contourcarpet"
           }
          ],
          "heatmap": [
           {
            "colorbar": {
             "outlinewidth": 0,
             "ticks": ""
            },
            "colorscale": [
             [
              0,
              "#0d0887"
             ],
             [
              0.1111111111111111,
              "#46039f"
             ],
             [
              0.2222222222222222,
              "#7201a8"
             ],
             [
              0.3333333333333333,
              "#9c179e"
             ],
             [
              0.4444444444444444,
              "#bd3786"
             ],
             [
              0.5555555555555556,
              "#d8576b"
             ],
             [
              0.6666666666666666,
              "#ed7953"
             ],
             [
              0.7777777777777778,
              "#fb9f3a"
             ],
             [
              0.8888888888888888,
              "#fdca26"
             ],
             [
              1,
              "#f0f921"
             ]
            ],
            "type": "heatmap"
           }
          ],
          "heatmapgl": [
           {
            "colorbar": {
             "outlinewidth": 0,
             "ticks": ""
            },
            "colorscale": [
             [
              0,
              "#0d0887"
             ],
             [
              0.1111111111111111,
              "#46039f"
             ],
             [
              0.2222222222222222,
              "#7201a8"
             ],
             [
              0.3333333333333333,
              "#9c179e"
             ],
             [
              0.4444444444444444,
              "#bd3786"
             ],
             [
              0.5555555555555556,
              "#d8576b"
             ],
             [
              0.6666666666666666,
              "#ed7953"
             ],
             [
              0.7777777777777778,
              "#fb9f3a"
             ],
             [
              0.8888888888888888,
              "#fdca26"
             ],
             [
              1,
              "#f0f921"
             ]
            ],
            "type": "heatmapgl"
           }
          ],
          "histogram": [
           {
            "marker": {
             "pattern": {
              "fillmode": "overlay",
              "size": 10,
              "solidity": 0.2
             }
            },
            "type": "histogram"
           }
          ],
          "histogram2d": [
           {
            "colorbar": {
             "outlinewidth": 0,
             "ticks": ""
            },
            "colorscale": [
             [
              0,
              "#0d0887"
             ],
             [
              0.1111111111111111,
              "#46039f"
             ],
             [
              0.2222222222222222,
              "#7201a8"
             ],
             [
              0.3333333333333333,
              "#9c179e"
             ],
             [
              0.4444444444444444,
              "#bd3786"
             ],
             [
              0.5555555555555556,
              "#d8576b"
             ],
             [
              0.6666666666666666,
              "#ed7953"
             ],
             [
              0.7777777777777778,
              "#fb9f3a"
             ],
             [
              0.8888888888888888,
              "#fdca26"
             ],
             [
              1,
              "#f0f921"
             ]
            ],
            "type": "histogram2d"
           }
          ],
          "histogram2dcontour": [
           {
            "colorbar": {
             "outlinewidth": 0,
             "ticks": ""
            },
            "colorscale": [
             [
              0,
              "#0d0887"
             ],
             [
              0.1111111111111111,
              "#46039f"
             ],
             [
              0.2222222222222222,
              "#7201a8"
             ],
             [
              0.3333333333333333,
              "#9c179e"
             ],
             [
              0.4444444444444444,
              "#bd3786"
             ],
             [
              0.5555555555555556,
              "#d8576b"
             ],
             [
              0.6666666666666666,
              "#ed7953"
             ],
             [
              0.7777777777777778,
              "#fb9f3a"
             ],
             [
              0.8888888888888888,
              "#fdca26"
             ],
             [
              1,
              "#f0f921"
             ]
            ],
            "type": "histogram2dcontour"
           }
          ],
          "mesh3d": [
           {
            "colorbar": {
             "outlinewidth": 0,
             "ticks": ""
            },
            "type": "mesh3d"
           }
          ],
          "parcoords": [
           {
            "line": {
             "colorbar": {
              "outlinewidth": 0,
              "ticks": ""
             }
            },
            "type": "parcoords"
           }
          ],
          "pie": [
           {
            "automargin": true,
            "type": "pie"
           }
          ],
          "scatter": [
           {
            "fillpattern": {
             "fillmode": "overlay",
             "size": 10,
             "solidity": 0.2
            },
            "type": "scatter"
           }
          ],
          "scatter3d": [
           {
            "line": {
             "colorbar": {
              "outlinewidth": 0,
              "ticks": ""
             }
            },
            "marker": {
             "colorbar": {
              "outlinewidth": 0,
              "ticks": ""
             }
            },
            "type": "scatter3d"
           }
          ],
          "scattercarpet": [
           {
            "marker": {
             "colorbar": {
              "outlinewidth": 0,
              "ticks": ""
             }
            },
            "type": "scattercarpet"
           }
          ],
          "scattergeo": [
           {
            "marker": {
             "colorbar": {
              "outlinewidth": 0,
              "ticks": ""
             }
            },
            "type": "scattergeo"
           }
          ],
          "scattergl": [
           {
            "marker": {
             "colorbar": {
              "outlinewidth": 0,
              "ticks": ""
             }
            },
            "type": "scattergl"
           }
          ],
          "scattermapbox": [
           {
            "marker": {
             "colorbar": {
              "outlinewidth": 0,
              "ticks": ""
             }
            },
            "type": "scattermapbox"
           }
          ],
          "scatterpolar": [
           {
            "marker": {
             "colorbar": {
              "outlinewidth": 0,
              "ticks": ""
             }
            },
            "type": "scatterpolar"
           }
          ],
          "scatterpolargl": [
           {
            "marker": {
             "colorbar": {
              "outlinewidth": 0,
              "ticks": ""
             }
            },
            "type": "scatterpolargl"
           }
          ],
          "scatterternary": [
           {
            "marker": {
             "colorbar": {
              "outlinewidth": 0,
              "ticks": ""
             }
            },
            "type": "scatterternary"
           }
          ],
          "surface": [
           {
            "colorbar": {
             "outlinewidth": 0,
             "ticks": ""
            },
            "colorscale": [
             [
              0,
              "#0d0887"
             ],
             [
              0.1111111111111111,
              "#46039f"
             ],
             [
              0.2222222222222222,
              "#7201a8"
             ],
             [
              0.3333333333333333,
              "#9c179e"
             ],
             [
              0.4444444444444444,
              "#bd3786"
             ],
             [
              0.5555555555555556,
              "#d8576b"
             ],
             [
              0.6666666666666666,
              "#ed7953"
             ],
             [
              0.7777777777777778,
              "#fb9f3a"
             ],
             [
              0.8888888888888888,
              "#fdca26"
             ],
             [
              1,
              "#f0f921"
             ]
            ],
            "type": "surface"
           }
          ],
          "table": [
           {
            "cells": {
             "fill": {
              "color": "#EBF0F8"
             },
             "line": {
              "color": "white"
             }
            },
            "header": {
             "fill": {
              "color": "#C8D4E3"
             },
             "line": {
              "color": "white"
             }
            },
            "type": "table"
           }
          ]
         },
         "layout": {
          "annotationdefaults": {
           "arrowcolor": "#2a3f5f",
           "arrowhead": 0,
           "arrowwidth": 1
          },
          "autotypenumbers": "strict",
          "coloraxis": {
           "colorbar": {
            "outlinewidth": 0,
            "ticks": ""
           }
          },
          "colorscale": {
           "diverging": [
            [
             0,
             "#8e0152"
            ],
            [
             0.1,
             "#c51b7d"
            ],
            [
             0.2,
             "#de77ae"
            ],
            [
             0.3,
             "#f1b6da"
            ],
            [
             0.4,
             "#fde0ef"
            ],
            [
             0.5,
             "#f7f7f7"
            ],
            [
             0.6,
             "#e6f5d0"
            ],
            [
             0.7,
             "#b8e186"
            ],
            [
             0.8,
             "#7fbc41"
            ],
            [
             0.9,
             "#4d9221"
            ],
            [
             1,
             "#276419"
            ]
           ],
           "sequential": [
            [
             0,
             "#0d0887"
            ],
            [
             0.1111111111111111,
             "#46039f"
            ],
            [
             0.2222222222222222,
             "#7201a8"
            ],
            [
             0.3333333333333333,
             "#9c179e"
            ],
            [
             0.4444444444444444,
             "#bd3786"
            ],
            [
             0.5555555555555556,
             "#d8576b"
            ],
            [
             0.6666666666666666,
             "#ed7953"
            ],
            [
             0.7777777777777778,
             "#fb9f3a"
            ],
            [
             0.8888888888888888,
             "#fdca26"
            ],
            [
             1,
             "#f0f921"
            ]
           ],
           "sequentialminus": [
            [
             0,
             "#0d0887"
            ],
            [
             0.1111111111111111,
             "#46039f"
            ],
            [
             0.2222222222222222,
             "#7201a8"
            ],
            [
             0.3333333333333333,
             "#9c179e"
            ],
            [
             0.4444444444444444,
             "#bd3786"
            ],
            [
             0.5555555555555556,
             "#d8576b"
            ],
            [
             0.6666666666666666,
             "#ed7953"
            ],
            [
             0.7777777777777778,
             "#fb9f3a"
            ],
            [
             0.8888888888888888,
             "#fdca26"
            ],
            [
             1,
             "#f0f921"
            ]
           ]
          },
          "colorway": [
           "#636efa",
           "#EF553B",
           "#00cc96",
           "#ab63fa",
           "#FFA15A",
           "#19d3f3",
           "#FF6692",
           "#B6E880",
           "#FF97FF",
           "#FECB52"
          ],
          "font": {
           "color": "#2a3f5f"
          },
          "geo": {
           "bgcolor": "white",
           "lakecolor": "white",
           "landcolor": "#E5ECF6",
           "showlakes": true,
           "showland": true,
           "subunitcolor": "white"
          },
          "hoverlabel": {
           "align": "left"
          },
          "hovermode": "closest",
          "mapbox": {
           "style": "light"
          },
          "paper_bgcolor": "white",
          "plot_bgcolor": "#E5ECF6",
          "polar": {
           "angularaxis": {
            "gridcolor": "white",
            "linecolor": "white",
            "ticks": ""
           },
           "bgcolor": "#E5ECF6",
           "radialaxis": {
            "gridcolor": "white",
            "linecolor": "white",
            "ticks": ""
           }
          },
          "scene": {
           "xaxis": {
            "backgroundcolor": "#E5ECF6",
            "gridcolor": "white",
            "gridwidth": 2,
            "linecolor": "white",
            "showbackground": true,
            "ticks": "",
            "zerolinecolor": "white"
           },
           "yaxis": {
            "backgroundcolor": "#E5ECF6",
            "gridcolor": "white",
            "gridwidth": 2,
            "linecolor": "white",
            "showbackground": true,
            "ticks": "",
            "zerolinecolor": "white"
           },
           "zaxis": {
            "backgroundcolor": "#E5ECF6",
            "gridcolor": "white",
            "gridwidth": 2,
            "linecolor": "white",
            "showbackground": true,
            "ticks": "",
            "zerolinecolor": "white"
           }
          },
          "shapedefaults": {
           "line": {
            "color": "#2a3f5f"
           }
          },
          "ternary": {
           "aaxis": {
            "gridcolor": "white",
            "linecolor": "white",
            "ticks": ""
           },
           "baxis": {
            "gridcolor": "white",
            "linecolor": "white",
            "ticks": ""
           },
           "bgcolor": "#E5ECF6",
           "caxis": {
            "gridcolor": "white",
            "linecolor": "white",
            "ticks": ""
           }
          },
          "title": {
           "x": 0.05
          },
          "xaxis": {
           "automargin": true,
           "gridcolor": "white",
           "linecolor": "white",
           "ticks": "",
           "title": {
            "standoff": 15
           },
           "zerolinecolor": "white",
           "zerolinewidth": 2
          },
          "yaxis": {
           "automargin": true,
           "gridcolor": "white",
           "linecolor": "white",
           "ticks": "",
           "title": {
            "standoff": 15
           },
           "zerolinecolor": "white",
           "zerolinewidth": 2
          }
         }
        },
        "treemapcolorway": [
         "#fae588",
         "#f79d65",
         "#f9dc5c",
         "#e8ac65",
         "#e76f51",
         "#ef233c",
         "#b7094c"
        ],
        "width": 800
       }
      }
     },
     "metadata": {},
     "output_type": "display_data"
    }
   ],
   "source": [
    "#利用 treemap 呈現每個分組的顧客數量\n",
    "colors=['#fae588','#f79d65','#f9dc5c','#e8ac65','#e76f51','#ef233c','#b7094c']\n",
    "fig = px.treemap(rfm_dt_segnum, path=['Segment'],values='Customer Number', width=800, height=400)\n",
    "fig.update_layout(\n",
    "    treemapcolorway = colors, #defines the colors in the treemap\n",
    "    margin = dict(t=10, l=20, r=20, b=10))\n",
    "fig.show()"
   ]
  },
  {
   "cell_type": "code",
   "execution_count": 38,
   "metadata": {},
   "outputs": [
    {
     "data": {
      "text/html": [
       "<div>\n",
       "<style scoped>\n",
       "    .dataframe tbody tr th:only-of-type {\n",
       "        vertical-align: middle;\n",
       "    }\n",
       "\n",
       "    .dataframe tbody tr th {\n",
       "        vertical-align: top;\n",
       "    }\n",
       "\n",
       "    .dataframe thead th {\n",
       "        text-align: right;\n",
       "    }\n",
       "</style>\n",
       "<table border=\"1\" class=\"dataframe\">\n",
       "  <thead>\n",
       "    <tr style=\"text-align: right;\">\n",
       "      <th></th>\n",
       "      <th>Recency</th>\n",
       "      <th>Frequency</th>\n",
       "      <th>Monetary</th>\n",
       "    </tr>\n",
       "    <tr>\n",
       "      <th>Segment</th>\n",
       "      <th></th>\n",
       "      <th></th>\n",
       "      <th></th>\n",
       "    </tr>\n",
       "  </thead>\n",
       "  <tbody>\n",
       "    <tr>\n",
       "      <th>About To Sleep</th>\n",
       "      <td>348.39</td>\n",
       "      <td>1.00</td>\n",
       "      <td>5620.94</td>\n",
       "    </tr>\n",
       "    <tr>\n",
       "      <th>At Risk</th>\n",
       "      <td>583.89</td>\n",
       "      <td>2.03</td>\n",
       "      <td>9968.36</td>\n",
       "    </tr>\n",
       "    <tr>\n",
       "      <th>Can't Lose Them</th>\n",
       "      <td>562.63</td>\n",
       "      <td>7.68</td>\n",
       "      <td>33207.72</td>\n",
       "    </tr>\n",
       "    <tr>\n",
       "      <th>Champions</th>\n",
       "      <td>86.20</td>\n",
       "      <td>5.57</td>\n",
       "      <td>54086.09</td>\n",
       "    </tr>\n",
       "    <tr>\n",
       "      <th>Hibernating</th>\n",
       "      <td>598.35</td>\n",
       "      <td>1.00</td>\n",
       "      <td>6757.04</td>\n",
       "    </tr>\n",
       "    <tr>\n",
       "      <th>Loyal Customers</th>\n",
       "      <td>277.38</td>\n",
       "      <td>4.66</td>\n",
       "      <td>41969.94</td>\n",
       "    </tr>\n",
       "    <tr>\n",
       "      <th>Need Attention</th>\n",
       "      <td>283.76</td>\n",
       "      <td>1.00</td>\n",
       "      <td>7732.71</td>\n",
       "    </tr>\n",
       "    <tr>\n",
       "      <th>New Customers</th>\n",
       "      <td>104.35</td>\n",
       "      <td>1.00</td>\n",
       "      <td>9837.70</td>\n",
       "    </tr>\n",
       "    <tr>\n",
       "      <th>Potential Loyalists</th>\n",
       "      <td>200.67</td>\n",
       "      <td>1.00</td>\n",
       "      <td>7881.36</td>\n",
       "    </tr>\n",
       "    <tr>\n",
       "      <th>Promising</th>\n",
       "      <td>237.55</td>\n",
       "      <td>1.00</td>\n",
       "      <td>8298.31</td>\n",
       "    </tr>\n",
       "  </tbody>\n",
       "</table>\n",
       "</div>"
      ],
      "text/plain": [
       "                     Recency  Frequency  Monetary\n",
       "Segment                                          \n",
       "About To Sleep        348.39       1.00   5620.94\n",
       "At Risk               583.89       2.03   9968.36\n",
       "Can't Lose Them       562.63       7.68  33207.72\n",
       "Champions              86.20       5.57  54086.09\n",
       "Hibernating           598.35       1.00   6757.04\n",
       "Loyal Customers       277.38       4.66  41969.94\n",
       "Need Attention        283.76       1.00   7732.71\n",
       "New Customers         104.35       1.00   9837.70\n",
       "Potential Loyalists   200.67       1.00   7881.36\n",
       "Promising             237.55       1.00   8298.31"
      ]
     },
     "execution_count": 38,
     "metadata": {},
     "output_type": "execute_result"
    }
   ],
   "source": [
    "rfm_dt[[\"Segment\",\"Recency\", \"Frequency\", \"Monetary\"]].groupby(\"Segment\").agg(\"mean\")"
   ]
  },
  {
   "cell_type": "markdown",
   "metadata": {},
   "source": [
    "<div class=\"alert alert-success\">\n",
    "8. 統計最有價值顧客購買的產品和消費總金額\n",
    "</div>"
   ]
  },
  {
   "cell_type": "code",
   "execution_count": 39,
   "metadata": {},
   "outputs": [
    {
     "data": {
      "text/html": [
       "<div>\n",
       "<style scoped>\n",
       "    .dataframe tbody tr th:only-of-type {\n",
       "        vertical-align: middle;\n",
       "    }\n",
       "\n",
       "    .dataframe tbody tr th {\n",
       "        vertical-align: top;\n",
       "    }\n",
       "\n",
       "    .dataframe thead th {\n",
       "        text-align: right;\n",
       "    }\n",
       "</style>\n",
       "<table border=\"1\" class=\"dataframe\">\n",
       "  <thead>\n",
       "    <tr style=\"text-align: right;\">\n",
       "      <th></th>\n",
       "      <th>category_name_1</th>\n",
       "      <th>count</th>\n",
       "      <th>sum</th>\n",
       "    </tr>\n",
       "  </thead>\n",
       "  <tbody>\n",
       "    <tr>\n",
       "      <th>0</th>\n",
       "      <td>Appliances</td>\n",
       "      <td>9426</td>\n",
       "      <td>106733401.86</td>\n",
       "    </tr>\n",
       "    <tr>\n",
       "      <th>1</th>\n",
       "      <td>Beauty &amp; Grooming</td>\n",
       "      <td>8470</td>\n",
       "      <td>16529698.62</td>\n",
       "    </tr>\n",
       "    <tr>\n",
       "      <th>2</th>\n",
       "      <td>Books</td>\n",
       "      <td>352</td>\n",
       "      <td>549723.02</td>\n",
       "    </tr>\n",
       "    <tr>\n",
       "      <th>3</th>\n",
       "      <td>Computing</td>\n",
       "      <td>2287</td>\n",
       "      <td>23105740.16</td>\n",
       "    </tr>\n",
       "    <tr>\n",
       "      <th>4</th>\n",
       "      <td>Entertainment</td>\n",
       "      <td>4502</td>\n",
       "      <td>81876816.60</td>\n",
       "    </tr>\n",
       "    <tr>\n",
       "      <th>5</th>\n",
       "      <td>Health &amp; Sports</td>\n",
       "      <td>4963</td>\n",
       "      <td>9867515.07</td>\n",
       "    </tr>\n",
       "    <tr>\n",
       "      <th>6</th>\n",
       "      <td>Home &amp; Living</td>\n",
       "      <td>5047</td>\n",
       "      <td>14345832.34</td>\n",
       "    </tr>\n",
       "    <tr>\n",
       "      <th>7</th>\n",
       "      <td>Kids &amp; Baby</td>\n",
       "      <td>2695</td>\n",
       "      <td>7227147.44</td>\n",
       "    </tr>\n",
       "    <tr>\n",
       "      <th>8</th>\n",
       "      <td>Men's Fashion</td>\n",
       "      <td>11945</td>\n",
       "      <td>21257698.73</td>\n",
       "    </tr>\n",
       "    <tr>\n",
       "      <th>9</th>\n",
       "      <td>Mobiles &amp; Tablets</td>\n",
       "      <td>15227</td>\n",
       "      <td>218141664.23</td>\n",
       "    </tr>\n",
       "    <tr>\n",
       "      <th>10</th>\n",
       "      <td>Others</td>\n",
       "      <td>3012</td>\n",
       "      <td>14269108.84</td>\n",
       "    </tr>\n",
       "    <tr>\n",
       "      <th>11</th>\n",
       "      <td>School &amp; Education</td>\n",
       "      <td>555</td>\n",
       "      <td>938348.44</td>\n",
       "    </tr>\n",
       "    <tr>\n",
       "      <th>12</th>\n",
       "      <td>Soghaat</td>\n",
       "      <td>8057</td>\n",
       "      <td>9964569.82</td>\n",
       "    </tr>\n",
       "    <tr>\n",
       "      <th>13</th>\n",
       "      <td>Superstore</td>\n",
       "      <td>13288</td>\n",
       "      <td>31763279.03</td>\n",
       "    </tr>\n",
       "    <tr>\n",
       "      <th>14</th>\n",
       "      <td>Women's Fashion</td>\n",
       "      <td>11096</td>\n",
       "      <td>43833354.33</td>\n",
       "    </tr>\n",
       "    <tr>\n",
       "      <th>15</th>\n",
       "      <td>\\N</td>\n",
       "      <td>420</td>\n",
       "      <td>2437043.24</td>\n",
       "    </tr>\n",
       "  </tbody>\n",
       "</table>\n",
       "</div>"
      ],
      "text/plain": [
       "       category_name_1  count          sum\n",
       "0           Appliances   9426 106733401.86\n",
       "1    Beauty & Grooming   8470  16529698.62\n",
       "2                Books    352    549723.02\n",
       "3            Computing   2287  23105740.16\n",
       "4        Entertainment   4502  81876816.60\n",
       "5      Health & Sports   4963   9867515.07\n",
       "6        Home & Living   5047  14345832.34\n",
       "7          Kids & Baby   2695   7227147.44\n",
       "8        Men's Fashion  11945  21257698.73\n",
       "9    Mobiles & Tablets  15227 218141664.23\n",
       "10              Others   3012  14269108.84\n",
       "11  School & Education    555    938348.44\n",
       "12             Soghaat   8057   9964569.82\n",
       "13          Superstore  13288  31763279.03\n",
       "14     Women's Fashion  11096  43833354.33\n",
       "15                  \\N    420   2437043.24"
      ]
     },
     "execution_count": 39,
     "metadata": {},
     "output_type": "execute_result"
    }
   ],
   "source": [
    "rfm_dt_mapping = rfm_dt[[\"Customer ID\",\"Segment\"]]\n",
    "dt_rfm = dt.merge(rfm_dt_mapping,how=\"left\")\n",
    "dt_rfm_champ =dt_rfm[(dt_rfm[\"status\"] == \"completed\") & (dt_rfm[\"Segment\"] == \"Champions\")].groupby(\"category_name_1\")[\"grand_total\"].agg([\"count\",\"sum\"]).reset_index()\n",
    "dt_rfm_champ"
   ]
  },
  {
   "cell_type": "code",
   "execution_count": 40,
   "metadata": {},
   "outputs": [
    {
     "data": {
      "image/png": "[encoded data removed]",
      "text/plain": [
       "<Figure size 720x720 with 1 Axes>"
      ]
     },
     "metadata": {},
     "output_type": "display_data"
    }
   ],
   "source": [
    "#8-1 最有價值顧客購買的商品圓餅圖\n",
    "fig, ax = plt.subplots(figsize=(10, 10))\n",
    "colors = sns.color_palette(\"Set3\")[0:5]\n",
    "plt.pie(dt_rfm_champ[\"count\"], labels = dt_rfm_champ[\"category_name_1\"], colors=colors, autopct='%.0f%%')\n",
    "plt.show()"
   ]
  },
  {
   "cell_type": "code",
   "execution_count": 41,
   "metadata": {},
   "outputs": [
    {
     "data": {
      "image/png": "[encoded data removed]",
      "text/plain": [
       "<Figure size 720x720 with 1 Axes>"
      ]
     },
     "metadata": {},
     "output_type": "display_data"
    }
   ],
   "source": [
    "#8-2 最有價值顧客購買商品的消費總金額圓餅圖\n",
    "fig, ax = plt.subplots(figsize=(10, 10))\n",
    "colors = sns.color_palette(\"Set3\")[0:5]\n",
    "plt.pie(dt_rfm_champ[\"sum\"], labels = dt_rfm_champ[\"category_name_1\"], colors=colors, autopct='%.0f%%')\n",
    "plt.show()"
   ]
  },
  {
   "cell_type": "code",
   "execution_count": 42,
   "metadata": {},
   "outputs": [],
   "source": [
    "# shop_sum = revenue.groupby(\"invoice_date_y\")[\"price\"].agg(\"sum\")\n",
    "# customer_id_count = df.groupby(\"invoice_date_y\")[\"invoice_no\",\"customer_id\"].nunique()\n",
    "# customer_id_count\n",
    "# shop_per_num =pd.concat([shop_sum,customer_id_count],axis=1)\n",
    "# shop_per_num"
   ]
  },
  {
   "cell_type": "code",
   "execution_count": 43,
   "metadata": {},
   "outputs": [],
   "source": [
    "#order_data = pd.merge(df_orders, df_order_payments, on=\"order_id\")\n",
    "# order_count = order_data[order_data[\"order_status\"] != \"canceled\"].groupby(\"order_purchase_y\").agg(\"count\")\n",
    "# customer_id_count = order_data[order_data[\"order_status\"] != \"canceled\"].groupby(\"order_purchase_y\")[\"customer_id\"].nunique()\n",
    "# order_count"
   ]
  },
  {
   "cell_type": "markdown",
   "metadata": {},
   "source": [
    "- 為什麼而做\n",
    "- 資料說明:用了什麼資料\n",
    "- 以什麼角度來分析\n",
    "- 洞察或後續建議行動的方向"
   ]
  },
  {
   "cell_type": "markdown",
   "metadata": {},
   "source": []
  },
  {
   "cell_type": "code",
   "execution_count": 44,
   "metadata": {},
   "outputs": [],
   "source": [
    "#2016 - 2018 人均訂單數\n",
    "# customer_id\n",
    "# order_count = order_data[order_data[\"order_status\"] != \"canceled\"].groupby(\"order_purchase_y\").agg(\"count\")\n",
    "# customer_id_count = order_data[order_data[\"order_status\"] != \"canceled\"].groupby(\"order_purchase_y\")[\"customer_id\"].nunique()\n",
    "# order_count\n"
   ]
  },
  {
   "cell_type": "code",
   "execution_count": 45,
   "metadata": {},
   "outputs": [],
   "source": [
    "# customer_id_count\n",
    "\n",
    "\n",
    "# grand_total_check = dt[dt[\"grand_total\"] < 0][\"status\"].value_counts().rename_axis(\"status\").reset_index(name=\"counts\")\n",
    "# #grand_total_check\n",
    "# fig, ax = plt.subplots(figsize=(15,5))\n",
    "# sns.set(style=\"darkgrid\", palette=\"bright\")\n",
    "# g = sns.barplot(data=grand_total_check, x=\"status\", y=\"counts\")\n",
    "# ax.bar_label(g.containers[0], padding = 0, fontsize = 12)\n",
    "# plt.xticks(fontsize=12)\n",
    "# plt.yticks(fontsize=12)\n",
    "# plt.xlabel('Order Status', fontsize=12, labelpad=10)\n",
    "# plt.ylabel('Counts', fontsize=12, labelpad=10)"
   ]
  }
 ],
 "metadata": {
  "kernelspec": {
   "display_name": "Python 3.8.8 ('base')",
   "language": "python",
   "name": "python3"
  },
  "language_info": {
   "codemirror_mode": {
    "name": "ipython",
    "version": 3
   },
   "file_extension": ".py",
   "mimetype": "text/x-python",
   "name": "python",
   "nbconvert_exporter": "python",
   "pygments_lexer": "ipython3",
   "version": "3.8.8"
  },
  "orig_nbformat": 4,
  "vscode": {
   "interpreter": {
    "hash": "0f34cc79250ad0e4a99eb7fe7afdf3165bc4aa2cc1bb10fa40edf34315c4e305"
   }
  }
 },
 "nbformat": 4,
 "nbformat_minor": 2
}
