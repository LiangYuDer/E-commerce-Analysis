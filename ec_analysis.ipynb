{
 "cells": [
  {
   "cell_type": "markdown",
   "metadata": {},
   "source": [
    "<div class=\"alert alert-light\">\n",
    "<h3><b>電商平台銷售概況與客戶分群分析</b></h3>\n",
    "資料區間： 2016年07月01日 - 2018年08月28日<br>\n",
    "資料來源： Kaggle, Pakistan's Largest E-Commerce Dataset \n",
    "</div>"
   ]
  },
  {
   "cell_type": "markdown",
   "metadata": {},
   "source": [
    "<div class=\"alert alert-light\">\n",
    "<h4><b>資料集介紹</b></h4>\n",
    "透過分析位於巴基斯坦某間電商平台銷售數據，探索從 2016/07/07 至 2018/08/28 約二年的營運情形，以及經由顧客分群深入了解其購買習慣，作為後續規劃行銷活動的參考。<br>\n",
    "<br>\n",
    "本次案例中會針對以下的指標進行探究：<br>\n",
    "1. 資料區間的營業額成長狀況。<br>\n",
    "2. 每月份的客單價，了解顧客對於不同種類的商品，願意花費的範圍為何。<br>\n",
    "3. 每月份的顧客購買頻次，代表顧客對於平台的使用需求高低。<br>\n",
    "4. 每月份的新舊客的消費人數佔比、成交總額、回購率等消費數據。<br>\n",
    "5. 運用RFM模型細分顧客，將結果視覺化，並進一步針對不同客群建立顧客導向的策略。<br>\n",
    "</div>"
   ]
  },
  {
   "cell_type": "markdown",
   "metadata": {},
   "source": [
    "<div class=\"alert alert-light\">\n",
    "<h4><b>資料集欄位說明</b></h4>\n",
    "• status：訂單狀態，主要分為完成、取消和退款(completed, cancelled, refund)<br>\n",
    "• created_at：訂單成立日期<br>\n",
    "• sku：商品貨號<br>\n",
    "• qty_ordered：訂單內商品的購買數量<br>\n",
    "• grand_total：結帳金額<br>\n",
    "• increment_id：可視為發票號碼來辨識同筆訂單<br>\n",
    "• category_name_1：商品分類<br>\n",
    "• payment_method：付款方式<br>\n",
    "• CustomerID：顧客專屬ID<br>\n",
    "</div>"
   ]
  },
  {
   "cell_type": "code",
   "execution_count": 43,
   "metadata": {},
   "outputs": [],
   "source": [
    "import numpy as np\n",
    "import pandas as pd\n",
    "import matplotlib.pyplot as plt\n",
    "import plotly.express as px\n",
    "import seaborn as sns\n",
    "import datetime\n",
    "#from datetime import timedelta\n",
    "pd.set_option(\"display.float_format\", \"{:.2f}\".format)"
   ]
  },
  {
   "cell_type": "code",
   "execution_count": 44,
   "metadata": {},
   "outputs": [
    {
     "name": "stderr",
     "output_type": "stream",
     "text": [
      "c:\\Users\\LiangYu\\anaconda3\\lib\\site-packages\\IPython\\core\\interactiveshell.py:3165: DtypeWarning: Columns (1,2,3,7,8,9,11,12,13,14,17,18,19) have mixed types.Specify dtype option on import or set low_memory=False.\n",
      "  has_raised = await self.run_ast_nodes(code_ast.body, cell_name,\n"
     ]
    }
   ],
   "source": [
    "#匯入資料\n",
    "dt = pd.read_csv(\"F:/Kaggle/E-commerce-Analysis/Pakistan Largest Ecommerce Dataset.csv\")\n"
   ]
  },
  {
   "cell_type": "code",
   "execution_count": 45,
   "metadata": {},
   "outputs": [
    {
     "name": "stdout",
     "output_type": "stream",
     "text": [
      "<class 'pandas.core.frame.DataFrame'>\n",
      "RangeIndex: 1048575 entries, 0 to 1048574\n",
      "Data columns (total 26 columns):\n",
      " #   Column                 Non-Null Count   Dtype  \n",
      "---  ------                 --------------   -----  \n",
      " 0   item_id                584524 non-null  float64\n",
      " 1   status                 584509 non-null  object \n",
      " 2   created_at             584524 non-null  object \n",
      " 3   sku                    584504 non-null  object \n",
      " 4   price                  584524 non-null  float64\n",
      " 5   qty_ordered            584524 non-null  float64\n",
      " 6   grand_total            584524 non-null  float64\n",
      " 7   increment_id           584524 non-null  object \n",
      " 8   category_name_1        584360 non-null  object \n",
      " 9   sales_commission_code  447349 non-null  object \n",
      " 10  discount_amount        584524 non-null  float64\n",
      " 11  payment_method         584524 non-null  object \n",
      " 12  Working Date           584524 non-null  object \n",
      " 13  BI Status              584524 non-null  object \n",
      " 14   MV                    584524 non-null  object \n",
      " 15  Year                   584524 non-null  float64\n",
      " 16  Month                  584524 non-null  float64\n",
      " 17  Customer Since         584513 non-null  object \n",
      " 18  M-Y                    584524 non-null  object \n",
      " 19  FY                     584524 non-null  object \n",
      " 20  Customer ID            584513 non-null  float64\n",
      " 21  Unnamed: 21            0 non-null       float64\n",
      " 22  Unnamed: 22            0 non-null       float64\n",
      " 23  Unnamed: 23            0 non-null       float64\n",
      " 24  Unnamed: 24            0 non-null       float64\n",
      " 25  Unnamed: 25            0 non-null       float64\n",
      "dtypes: float64(13), object(13)\n",
      "memory usage: 208.0+ MB\n"
     ]
    }
   ],
   "source": [
    "dt.info()"
   ]
  },
  {
   "cell_type": "code",
   "execution_count": 46,
   "metadata": {},
   "outputs": [],
   "source": [
    "#保留需要的columns，並且刪除整行是空值的欄位。\n",
    "dt = dt.loc[:,[\"item_id\", \"status\", \"created_at\", \"sku\", \"price\", \"qty_ordered\", \"grand_total\", \"increment_id\", \"category_name_1\",\"discount_amount\", \\\n",
    "    \"payment_method\", \"Year\", \"Month\", \"Customer ID\"]]\n",
    "dt = dt.dropna(how = 'all')"
   ]
  },
  {
   "cell_type": "code",
   "execution_count": 47,
   "metadata": {},
   "outputs": [],
   "source": [
    "#另有11筆資料缺少會員id，也將這些訂單資料刪除。\n",
    "#dt[dt[\"Customer ID\"].isna()]\n",
    "dt = dt.dropna(subset=[\"Customer ID\"])"
   ]
  },
  {
   "cell_type": "code",
   "execution_count": 48,
   "metadata": {},
   "outputs": [
    {
     "data": {
      "text/html": [
       "<div>\n",
       "<style scoped>\n",
       "    .dataframe tbody tr th:only-of-type {\n",
       "        vertical-align: middle;\n",
       "    }\n",
       "\n",
       "    .dataframe tbody tr th {\n",
       "        vertical-align: top;\n",
       "    }\n",
       "\n",
       "    .dataframe thead th {\n",
       "        text-align: right;\n",
       "    }\n",
       "</style>\n",
       "<table border=\"1\" class=\"dataframe\">\n",
       "  <thead>\n",
       "    <tr style=\"text-align: right;\">\n",
       "      <th></th>\n",
       "      <th>item_id</th>\n",
       "      <th>price</th>\n",
       "      <th>qty_ordered</th>\n",
       "      <th>grand_total</th>\n",
       "      <th>discount_amount</th>\n",
       "      <th>Year</th>\n",
       "      <th>Month</th>\n",
       "      <th>Customer ID</th>\n",
       "    </tr>\n",
       "  </thead>\n",
       "  <tbody>\n",
       "    <tr>\n",
       "      <th>count</th>\n",
       "      <td>584513.00</td>\n",
       "      <td>584513.00</td>\n",
       "      <td>584513.00</td>\n",
       "      <td>584513.00</td>\n",
       "      <td>584513.00</td>\n",
       "      <td>584513.00</td>\n",
       "      <td>584513.00</td>\n",
       "      <td>584513.00</td>\n",
       "    </tr>\n",
       "    <tr>\n",
       "      <th>mean</th>\n",
       "      <td>565663.13</td>\n",
       "      <td>6348.82</td>\n",
       "      <td>1.30</td>\n",
       "      <td>8530.68</td>\n",
       "      <td>499.50</td>\n",
       "      <td>2017.04</td>\n",
       "      <td>7.17</td>\n",
       "      <td>45790.51</td>\n",
       "    </tr>\n",
       "    <tr>\n",
       "      <th>std</th>\n",
       "      <td>200120.93</td>\n",
       "      <td>14949.40</td>\n",
       "      <td>4.00</td>\n",
       "      <td>61321.38</td>\n",
       "      <td>1506.96</td>\n",
       "      <td>0.71</td>\n",
       "      <td>3.49</td>\n",
       "      <td>34414.96</td>\n",
       "    </tr>\n",
       "    <tr>\n",
       "      <th>min</th>\n",
       "      <td>211131.00</td>\n",
       "      <td>0.00</td>\n",
       "      <td>1.00</td>\n",
       "      <td>-1594.00</td>\n",
       "      <td>-599.50</td>\n",
       "      <td>2016.00</td>\n",
       "      <td>1.00</td>\n",
       "      <td>1.00</td>\n",
       "    </tr>\n",
       "    <tr>\n",
       "      <th>25%</th>\n",
       "      <td>394997.00</td>\n",
       "      <td>360.00</td>\n",
       "      <td>1.00</td>\n",
       "      <td>945.00</td>\n",
       "      <td>0.00</td>\n",
       "      <td>2017.00</td>\n",
       "      <td>4.00</td>\n",
       "      <td>13516.00</td>\n",
       "    </tr>\n",
       "    <tr>\n",
       "      <th>50%</th>\n",
       "      <td>568417.00</td>\n",
       "      <td>899.00</td>\n",
       "      <td>1.00</td>\n",
       "      <td>1960.40</td>\n",
       "      <td>0.00</td>\n",
       "      <td>2017.00</td>\n",
       "      <td>7.00</td>\n",
       "      <td>42856.00</td>\n",
       "    </tr>\n",
       "    <tr>\n",
       "      <th>75%</th>\n",
       "      <td>739102.00</td>\n",
       "      <td>4070.00</td>\n",
       "      <td>1.00</td>\n",
       "      <td>6999.00</td>\n",
       "      <td>160.52</td>\n",
       "      <td>2018.00</td>\n",
       "      <td>11.00</td>\n",
       "      <td>73536.00</td>\n",
       "    </tr>\n",
       "    <tr>\n",
       "      <th>max</th>\n",
       "      <td>905208.00</td>\n",
       "      <td>1012625.90</td>\n",
       "      <td>1000.00</td>\n",
       "      <td>17888000.00</td>\n",
       "      <td>90300.00</td>\n",
       "      <td>2018.00</td>\n",
       "      <td>12.00</td>\n",
       "      <td>115326.00</td>\n",
       "    </tr>\n",
       "  </tbody>\n",
       "</table>\n",
       "</div>"
      ],
      "text/plain": [
       "        item_id      price  qty_ordered  grand_total  discount_amount  \\\n",
       "count 584513.00  584513.00    584513.00    584513.00        584513.00   \n",
       "mean  565663.13    6348.82         1.30      8530.68           499.50   \n",
       "std   200120.93   14949.40         4.00     61321.38          1506.96   \n",
       "min   211131.00       0.00         1.00     -1594.00          -599.50   \n",
       "25%   394997.00     360.00         1.00       945.00             0.00   \n",
       "50%   568417.00     899.00         1.00      1960.40             0.00   \n",
       "75%   739102.00    4070.00         1.00      6999.00           160.52   \n",
       "max   905208.00 1012625.90      1000.00  17888000.00         90300.00   \n",
       "\n",
       "           Year     Month  Customer ID  \n",
       "count 584513.00 584513.00    584513.00  \n",
       "mean    2017.04      7.17     45790.51  \n",
       "std        0.71      3.49     34414.96  \n",
       "min     2016.00      1.00         1.00  \n",
       "25%     2017.00      4.00     13516.00  \n",
       "50%     2017.00      7.00     42856.00  \n",
       "75%     2018.00     11.00     73536.00  \n",
       "max     2018.00     12.00    115326.00  "
      ]
     },
     "execution_count": 48,
     "metadata": {},
     "output_type": "execute_result"
    }
   ],
   "source": [
    "dt.describe()"
   ]
  },
  {
   "cell_type": "code",
   "execution_count": 49,
   "metadata": {},
   "outputs": [
    {
     "data": {
      "text/html": [
       "<div>\n",
       "<style scoped>\n",
       "    .dataframe tbody tr th:only-of-type {\n",
       "        vertical-align: middle;\n",
       "    }\n",
       "\n",
       "    .dataframe tbody tr th {\n",
       "        vertical-align: top;\n",
       "    }\n",
       "\n",
       "    .dataframe thead th {\n",
       "        text-align: right;\n",
       "    }\n",
       "</style>\n",
       "<table border=\"1\" class=\"dataframe\">\n",
       "  <thead>\n",
       "    <tr style=\"text-align: right;\">\n",
       "      <th></th>\n",
       "      <th>status</th>\n",
       "      <th>created_at</th>\n",
       "      <th>sku</th>\n",
       "      <th>increment_id</th>\n",
       "      <th>category_name_1</th>\n",
       "      <th>payment_method</th>\n",
       "    </tr>\n",
       "  </thead>\n",
       "  <tbody>\n",
       "    <tr>\n",
       "      <th>count</th>\n",
       "      <td>584498</td>\n",
       "      <td>584513</td>\n",
       "      <td>584493</td>\n",
       "      <td>584513</td>\n",
       "      <td>584349</td>\n",
       "      <td>584513</td>\n",
       "    </tr>\n",
       "    <tr>\n",
       "      <th>unique</th>\n",
       "      <td>16</td>\n",
       "      <td>789</td>\n",
       "      <td>84888</td>\n",
       "      <td>408776</td>\n",
       "      <td>16</td>\n",
       "      <td>18</td>\n",
       "    </tr>\n",
       "    <tr>\n",
       "      <th>top</th>\n",
       "      <td>complete</td>\n",
       "      <td>11/25/2016</td>\n",
       "      <td>MATSAM59DB75ADB2F80</td>\n",
       "      <td>100266667</td>\n",
       "      <td>Mobiles &amp; Tablets</td>\n",
       "      <td>cod</td>\n",
       "    </tr>\n",
       "    <tr>\n",
       "      <th>freq</th>\n",
       "      <td>233685</td>\n",
       "      <td>15169</td>\n",
       "      <td>3775</td>\n",
       "      <td>72</td>\n",
       "      <td>115710</td>\n",
       "      <td>271955</td>\n",
       "    </tr>\n",
       "  </tbody>\n",
       "</table>\n",
       "</div>"
      ],
      "text/plain": [
       "          status  created_at                  sku increment_id  \\\n",
       "count     584498      584513               584493       584513   \n",
       "unique        16         789                84888       408776   \n",
       "top     complete  11/25/2016  MATSAM59DB75ADB2F80    100266667   \n",
       "freq      233685       15169                 3775           72   \n",
       "\n",
       "          category_name_1 payment_method  \n",
       "count              584349         584513  \n",
       "unique                 16             18  \n",
       "top     Mobiles & Tablets            cod  \n",
       "freq               115710         271955  "
      ]
     },
     "execution_count": 49,
     "metadata": {},
     "output_type": "execute_result"
    }
   ],
   "source": [
    "dt.describe(include=['object','bool'])"
   ]
  },
  {
   "cell_type": "code",
   "execution_count": 50,
   "metadata": {},
   "outputs": [
    {
     "data": {
      "text/plain": [
       "array(['complete', 'canceled', 'order_refunded', 'received', 'refund',\n",
       "       'closed', 'fraud', 'holded', 'exchange', 'pending_paypal', 'paid',\n",
       "       '\\\\N', 'cod', 'pending', nan, 'processing', 'payment_review'],\n",
       "      dtype=object)"
      ]
     },
     "execution_count": 50,
     "metadata": {},
     "output_type": "execute_result"
    }
   ],
   "source": [
    "#檢查 status 內不同的分類，接著把意思相近的分類整理成 \"已完成\"、\"取消\"、\"處理中\"。\n",
    "dt[\"status\"].unique()"
   ]
  },
  {
   "cell_type": "code",
   "execution_count": 51,
   "metadata": {},
   "outputs": [],
   "source": [
    "dt[\"status\"] = dt[\"status\"].replace(\n",
    "    {\"complete\": \"completed\",\n",
    "    \"received\": \"completed\",\n",
    "    \"cod\": \"completed\",\n",
    "    \"paid\": \"completed\",\n",
    "    \"closed\": \"completed\",\n",
    "    \"exchange\": \"completed\",\n",
    "    \"canceled\": \"canceled\",\n",
    "    \"order_refunded\": \"canceled\",\n",
    "    \"refund\": \"canceled\",\n",
    "    \"fraud\": \"canceled\",\n",
    "    \"payment_review\": \"pending\",\n",
    "    \"pending\": \"pending\",\n",
    "    \"processing\": \"pending\",\n",
    "    \"holded\": \"pending\",\n",
    "    \"pending_paypal\": \"pending\"})"
   ]
  },
  {
   "cell_type": "code",
   "execution_count": 52,
   "metadata": {},
   "outputs": [],
   "source": [
    "#將所需的 column 轉換成正確的資料類型\n",
    "dt[\"Customer ID\"] = dt[\"Customer ID\"].astype(int)\n",
    "dt[\"item_id\"] = dt[\"item_id\"].astype(str)\n",
    "dt[\"qty_ordered\"] = dt[\"qty_ordered\"].astype(int)  \n",
    "dt[\"Year\"] = dt[\"Year\"].astype(int)  \n",
    "dt[\"Month\"] = dt[\"Month\"].astype(int)"
   ]
  },
  {
   "cell_type": "code",
   "execution_count": 53,
   "metadata": {},
   "outputs": [
    {
     "name": "stdout",
     "output_type": "stream",
     "text": [
      "訂單最早時間：2016-07-01 00:00:00\n",
      "訂單最晚時間：2018-08-28 00:00:00\n"
     ]
    }
   ],
   "source": [
    "#將消費日期轉為正確格式 %Y/%m/%m\n",
    "dt[\"Day\"] = dt[\"created_at\"].str.split('/', expand=True)[1].apply(lambda x: x if len(x)>1 else \"0\"+x)\n",
    "dt[\"Month\"] = dt[\"Month\"].astype(str).apply(lambda x: x if len(x)>1 else \"0\"+x)\n",
    "dt[\"created_at\"] = dt[\"Year\"].astype(str) + \"-\" + dt[\"Month\"] + \"-\" + dt[\"Day\"].astype(str)\n",
    "dt[\"created_at_date\"] = pd.to_datetime(dt[\"created_at\"])\n",
    "\n",
    "print(f\"訂單最早時間：{dt['created_at_date'].min()}\")\n",
    "print(f\"訂單最晚時間：{dt['created_at_date'].max()}\")"
   ]
  },
  {
   "cell_type": "markdown",
   "metadata": {},
   "source": [
    "<div class=\"alert alert-success\">\n",
    "1. 統計2016/07/01 - 2018/08/28 月營收\n",
    "</div>"
   ]
  },
  {
   "cell_type": "code",
   "execution_count": 54,
   "metadata": {},
   "outputs": [],
   "source": [
    "# 篩選訂單狀態是 completed 的訂單按照年月計算總營收\n",
    "# 合併年、月兩欄新增 Year_Month 欄位\n",
    "order_completed = dt[dt[\"status\"] == \"completed\"]\n",
    "created_at_y_m = order_completed[\"Year\"].astype(str) + \"-\" + order_completed[\"Month\"]\n",
    "order_completed.insert(0,\"Year_Month\",created_at_y_m)"
   ]
  },
  {
   "cell_type": "code",
   "execution_count": 61,
   "metadata": {},
   "outputs": [
    {
     "name": "stdout",
     "output_type": "stream",
     "text": [
      "平均月營收：62773491.0\n",
      "平均月成長率：0.75\n"
     ]
    },
    {
     "data": {
      "text/html": [
       "<div>\n",
       "<style scoped>\n",
       "    .dataframe tbody tr th:only-of-type {\n",
       "        vertical-align: middle;\n",
       "    }\n",
       "\n",
       "    .dataframe tbody tr th {\n",
       "        vertical-align: top;\n",
       "    }\n",
       "\n",
       "    .dataframe thead th {\n",
       "        text-align: right;\n",
       "    }\n",
       "</style>\n",
       "<table border=\"1\" class=\"dataframe\">\n",
       "  <thead>\n",
       "    <tr style=\"text-align: right;\">\n",
       "      <th></th>\n",
       "      <th>Year_Month</th>\n",
       "      <th>qty_ordered</th>\n",
       "      <th>grand_total</th>\n",
       "      <th>pct</th>\n",
       "    </tr>\n",
       "  </thead>\n",
       "  <tbody>\n",
       "    <tr>\n",
       "      <th>0</th>\n",
       "      <td>2016-07</td>\n",
       "      <td>6639</td>\n",
       "      <td>11720820.27</td>\n",
       "      <td>0.00</td>\n",
       "    </tr>\n",
       "    <tr>\n",
       "      <th>1</th>\n",
       "      <td>2016-08</td>\n",
       "      <td>8506</td>\n",
       "      <td>17588479.23</td>\n",
       "      <td>0.50</td>\n",
       "    </tr>\n",
       "    <tr>\n",
       "      <th>2</th>\n",
       "      <td>2016-09</td>\n",
       "      <td>9150</td>\n",
       "      <td>27503668.06</td>\n",
       "      <td>0.56</td>\n",
       "    </tr>\n",
       "    <tr>\n",
       "      <th>3</th>\n",
       "      <td>2016-10</td>\n",
       "      <td>9074</td>\n",
       "      <td>24824142.90</td>\n",
       "      <td>-0.10</td>\n",
       "    </tr>\n",
       "    <tr>\n",
       "      <th>4</th>\n",
       "      <td>2016-11</td>\n",
       "      <td>42330</td>\n",
       "      <td>97895239.77</td>\n",
       "      <td>2.94</td>\n",
       "    </tr>\n",
       "  </tbody>\n",
       "</table>\n",
       "</div>"
      ],
      "text/plain": [
       "  Year_Month  qty_ordered  grand_total   pct\n",
       "0    2016-07         6639  11720820.27  0.00\n",
       "1    2016-08         8506  17588479.23  0.50\n",
       "2    2016-09         9150  27503668.06  0.56\n",
       "3    2016-10         9074  24824142.90 -0.10\n",
       "4    2016-11        42330  97895239.77  2.94"
      ]
     },
     "execution_count": 61,
     "metadata": {},
     "output_type": "execute_result"
    }
   ],
   "source": [
    "revenue = order_completed[[\"Year_Month\",\"qty_ordered\", \"grand_total\"]].groupby([\"Year_Month\"]).agg(\"sum\").sort_values(by=[\"Year_Month\"]).reset_index()\n",
    "revenue[\"pct\"] = revenue[\"grand_total\"].pct_change()\n",
    "revenue[\"pct\"] = revenue[\"pct\"].fillna(0)\n",
    "avg_revenue = round(revenue[\"grand_total\"].mean(),0)\n",
    "avg_mom = round(revenue[\"pct\"].mean(),2)\n",
    "print(f\"平均月營收：{avg_revenue}\")\n",
    "print(f\"平均月成長率：{avg_mom}\")\n",
    "revenue.head()"
   ]
  },
  {
   "cell_type": "markdown",
   "metadata": {},
   "source": [
    "<div class=\"alert alert-warning\">\n",
    "<b>Insight 1.</b><br>\n",
    "<br>\n",
    "2016年07月至2018年08月這段時間，該電商平台平均月營收為62,773,491、月平均成長率為75%，主要原因是仰賴特定月份創新高，後續立即恢復常態，其餘月份並非穩定成長，需要再了解公司營收不穩定的原因。<br>\n",
    "營收爆發式表現的月份像是2016/11月營收業績為平均的1.5倍，2017/11月更高達5.75倍，推測在11月份平台有舉辦雙11的購物節活動，帶動買氣有大幅成長。\n",
    "</div>"
   ]
  },
  {
   "cell_type": "code",
   "execution_count": 62,
   "metadata": {},
   "outputs": [
    {
     "data": {
      "image/png": "[encoded data removed]",
      "text/plain": [
       "<Figure size 1440x360 with 1 Axes>"
      ]
     },
     "metadata": {},
     "output_type": "display_data"
    }
   ],
   "source": [
    "fig, ax = plt.subplots(figsize=(20, 5))\n",
    "sns.set(style=\"darkgrid\", palette=\"Set1\")\n",
    "sns.lineplot(data=revenue, x=\"Year_Month\", y=\"grand_total\",marker=\"o\")\n",
    "plt.axhline(y=avg_revenue, c=\"gray\", ls=\"--\", lw=1)\n",
    "ax.yaxis.get_major_formatter().set_scientific(False)\n",
    "#ax.yaxis.get_major_formatter().set_useOffset(False)\n",
    "ax.set_xlabel(\"\")\n",
    "ax.set_ylabel(\"Revenue\")\n",
    "plt.xticks(rotation=45);"
   ]
  },
  {
   "cell_type": "markdown",
   "metadata": {},
   "source": [
    "<div class=\"alert alert-success\">\n",
    "2. 統計每月份平均客單價\n",
    "</div>"
   ]
  },
  {
   "cell_type": "code",
   "execution_count": 64,
   "metadata": {},
   "outputs": [
    {
     "name": "stdout",
     "output_type": "stream",
     "text": [
      "平均客單價：7879.84\n"
     ]
    },
    {
     "data": {
      "text/html": [
       "<div>\n",
       "<style scoped>\n",
       "    .dataframe tbody tr th:only-of-type {\n",
       "        vertical-align: middle;\n",
       "    }\n",
       "\n",
       "    .dataframe tbody tr th {\n",
       "        vertical-align: top;\n",
       "    }\n",
       "\n",
       "    .dataframe thead th {\n",
       "        text-align: right;\n",
       "    }\n",
       "</style>\n",
       "<table border=\"1\" class=\"dataframe\">\n",
       "  <thead>\n",
       "    <tr style=\"text-align: right;\">\n",
       "      <th></th>\n",
       "      <th>Year_Month</th>\n",
       "      <th>grand_total</th>\n",
       "      <th>total_order</th>\n",
       "      <th>AOV</th>\n",
       "    </tr>\n",
       "  </thead>\n",
       "  <tbody>\n",
       "    <tr>\n",
       "      <th>0</th>\n",
       "      <td>2016-07</td>\n",
       "      <td>11720820.27</td>\n",
       "      <td>4930</td>\n",
       "      <td>2377.45</td>\n",
       "    </tr>\n",
       "    <tr>\n",
       "      <th>1</th>\n",
       "      <td>2016-08</td>\n",
       "      <td>17588479.23</td>\n",
       "      <td>6467</td>\n",
       "      <td>2719.73</td>\n",
       "    </tr>\n",
       "    <tr>\n",
       "      <th>2</th>\n",
       "      <td>2016-09</td>\n",
       "      <td>27503668.06</td>\n",
       "      <td>7035</td>\n",
       "      <td>3909.55</td>\n",
       "    </tr>\n",
       "    <tr>\n",
       "      <th>3</th>\n",
       "      <td>2016-10</td>\n",
       "      <td>24824142.90</td>\n",
       "      <td>6304</td>\n",
       "      <td>3937.84</td>\n",
       "    </tr>\n",
       "    <tr>\n",
       "      <th>4</th>\n",
       "      <td>2016-11</td>\n",
       "      <td>97895239.77</td>\n",
       "      <td>30544</td>\n",
       "      <td>3205.06</td>\n",
       "    </tr>\n",
       "  </tbody>\n",
       "</table>\n",
       "</div>"
      ],
      "text/plain": [
       "  Year_Month  grand_total  total_order     AOV\n",
       "0    2016-07  11720820.27         4930 2377.45\n",
       "1    2016-08  17588479.23         6467 2719.73\n",
       "2    2016-09  27503668.06         7035 3909.55\n",
       "3    2016-10  24824142.90         6304 3937.84\n",
       "4    2016-11  97895239.77        30544 3205.06"
      ]
     },
     "execution_count": 64,
     "metadata": {},
     "output_type": "execute_result"
    }
   ],
   "source": [
    "# 篩選訂單狀態是 completed 的訂單按照年月計算每個月份的訂單數量\n",
    "orders = order_completed.groupby(\"Year_Month\")[\"increment_id\"].nunique().reset_index()\n",
    "revenue[\"total_order\"] = orders[\"increment_id\"]\n",
    "revenue[\"AOV\"] = revenue[\"grand_total\"]/revenue[\"total_order\"]\n",
    "avg_aov = round(revenue[\"AOV\"].mean(),2)\n",
    "print(f\"平均客單價：{avg_aov}\")\n",
    "revenue[[\"Year_Month\",\"grand_total\",\"total_order\",\"AOV\"]].head()"
   ]
  },
  {
   "cell_type": "markdown",
   "metadata": {},
   "source": [
    "<div class=\"alert alert-warning\">\n",
    "<b>Insight 2.</b><br>\n",
    "<br>\n",
    "每個月的客單價有上升的趨勢，對照月營收並沒有成正比，接下來需觀察訂單數量的走勢是否有同步提高。\n",
    "</div>"
   ]
  },
  {
   "cell_type": "code",
   "execution_count": 65,
   "metadata": {},
   "outputs": [
    {
     "data": {
      "image/png": "[encoded data removed]",
      "text/plain": [
       "<Figure size 1440x360 with 1 Axes>"
      ]
     },
     "metadata": {},
     "output_type": "display_data"
    }
   ],
   "source": [
    "fig, ax = plt.subplots(figsize=(20, 5))\n",
    "sns.set(style=\"darkgrid\", palette=\"YlGn\")\n",
    "sns.lineplot(data=revenue, x=\"Year_Month\", y=\"AOV\",marker=\"o\")\n",
    "plt.axhline(y=avg_aov, c=\"gray\", ls=\"--\", lw=1)\n",
    "ax.set_xlabel(\"\")\n",
    "ax.set_ylabel(\"AOV\")\n",
    "plt.xticks(rotation=45);"
   ]
  },
  {
   "cell_type": "markdown",
   "metadata": {},
   "source": [
    "<div class=\"alert alert-success\">\n",
    "3. 統計每月份顧客購買頻次（平均顧客訂單數）\n",
    "</div>"
   ]
  },
  {
   "cell_type": "code",
   "execution_count": 66,
   "metadata": {},
   "outputs": [
    {
     "name": "stdout",
     "output_type": "stream",
     "text": [
      "平均顧客訂單數：1.74\n"
     ]
    },
    {
     "data": {
      "text/html": [
       "<div>\n",
       "<style scoped>\n",
       "    .dataframe tbody tr th:only-of-type {\n",
       "        vertical-align: middle;\n",
       "    }\n",
       "\n",
       "    .dataframe tbody tr th {\n",
       "        vertical-align: top;\n",
       "    }\n",
       "\n",
       "    .dataframe thead th {\n",
       "        text-align: right;\n",
       "    }\n",
       "</style>\n",
       "<table border=\"1\" class=\"dataframe\">\n",
       "  <thead>\n",
       "    <tr style=\"text-align: right;\">\n",
       "      <th></th>\n",
       "      <th>Year_Month</th>\n",
       "      <th>Customer ID</th>\n",
       "      <th>total_monthly_order</th>\n",
       "      <th>average_monthly_order</th>\n",
       "    </tr>\n",
       "  </thead>\n",
       "  <tbody>\n",
       "    <tr>\n",
       "      <th>0</th>\n",
       "      <td>2016-07</td>\n",
       "      <td>1622</td>\n",
       "      <td>4930</td>\n",
       "      <td>3.04</td>\n",
       "    </tr>\n",
       "    <tr>\n",
       "      <th>1</th>\n",
       "      <td>2016-08</td>\n",
       "      <td>2640</td>\n",
       "      <td>6467</td>\n",
       "      <td>2.45</td>\n",
       "    </tr>\n",
       "    <tr>\n",
       "      <th>2</th>\n",
       "      <td>2016-09</td>\n",
       "      <td>3772</td>\n",
       "      <td>7035</td>\n",
       "      <td>1.87</td>\n",
       "    </tr>\n",
       "    <tr>\n",
       "      <th>3</th>\n",
       "      <td>2016-10</td>\n",
       "      <td>2765</td>\n",
       "      <td>6304</td>\n",
       "      <td>2.28</td>\n",
       "    </tr>\n",
       "    <tr>\n",
       "      <th>4</th>\n",
       "      <td>2016-11</td>\n",
       "      <td>12811</td>\n",
       "      <td>30544</td>\n",
       "      <td>2.38</td>\n",
       "    </tr>\n",
       "  </tbody>\n",
       "</table>\n",
       "</div>"
      ],
      "text/plain": [
       "  Year_Month  Customer ID  total_monthly_order  average_monthly_order\n",
       "0    2016-07         1622                 4930                   3.04\n",
       "1    2016-08         2640                 6467                   2.45\n",
       "2    2016-09         3772                 7035                   1.87\n",
       "3    2016-10         2765                 6304                   2.28\n",
       "4    2016-11        12811                30544                   2.38"
      ]
     },
     "execution_count": 66,
     "metadata": {},
     "output_type": "execute_result"
    }
   ],
   "source": [
    "# 篩選訂單狀態是 completed 的訂單按照年月計算每個月份的顧客數量\n",
    "customer_id_count = order_completed.groupby([\"Year_Month\"])[\"Customer ID\"].nunique().reset_index()\n",
    "customer_id_count[\"total_monthly_order\"] = orders[\"increment_id\"]\n",
    "customer_id_count[\"average_monthly_order\"] = round(customer_id_count[\"total_monthly_order\"]/customer_id_count[\"Customer ID\"],2)\n",
    "avg_amo = round(customer_id_count[\"average_monthly_order\"].mean(),2)\n",
    "print(f\"平均顧客訂單數：{avg_amo}\")\n",
    "customer_id_count.head()"
   ]
  },
  {
   "cell_type": "markdown",
   "metadata": {},
   "source": [
    "<div class=\"alert alert-warning\">\n",
    "<b>Insight 3.</b><br>\n",
    "<br>\n",
    "通常顧客購買頻率越高，代表他們忠誠度可能也越高，或是會固定回購某些商品。可以觀察到頻次從2017年開始，除了部分月份有超過均值之外，其餘下滑到約1.5，可推測有非常高比例的客人只購買一次，需再針對這樣的狀況設計回購方案，提醒他們回來逛甚至下單。\n",
    "</div>"
   ]
  },
  {
   "cell_type": "code",
   "execution_count": 67,
   "metadata": {},
   "outputs": [
    {
     "data": {
      "image/png": "[encoded data removed]",
      "text/plain": [
       "<Figure size 1440x360 with 1 Axes>"
      ]
     },
     "metadata": {},
     "output_type": "display_data"
    }
   ],
   "source": [
    "fig, ax = plt.subplots(figsize=(20, 5))\n",
    "sns.set(style=\"darkgrid\", palette=\"Set1\")\n",
    "sns.lineplot(data=customer_id_count, x=\"Year_Month\", y=\"average_monthly_order\",marker=\"o\")\n",
    "plt.axhline(y=avg_amo, c=\"gray\", ls=\"--\", lw=1)\n",
    "ax.set_xlabel(\"\")\n",
    "ax.set_ylabel(\"Average Orders\")\n",
    "plt.xticks(rotation=45);"
   ]
  },
  {
   "cell_type": "code",
   "execution_count": 68,
   "metadata": {},
   "outputs": [
    {
     "data": {
      "image/png": "[encoded data removed]",
      "text/plain": [
       "<Figure size 1440x360 with 1 Axes>"
      ]
     },
     "metadata": {},
     "output_type": "display_data"
    }
   ],
   "source": [
    "fig, ax = plt.subplots(figsize=(20, 5))\n",
    "sns.set(style=\"darkgrid\", palette=\"Set1\")\n",
    "sns.lineplot(data=customer_id_count, x=\"Year_Month\", y=\"Customer ID\",marker=\"o\")\n",
    "plt.axhline(y=avg_amo, c=\"gray\", ls=\"--\", lw=1)\n",
    "ax.set_xlabel(\"\")\n",
    "ax.set_ylabel(\"Number of Customers\")\n",
    "plt.xticks(rotation=45);"
   ]
  },
  {
   "cell_type": "markdown",
   "metadata": {},
   "source": [
    "<div class=\"alert alert-success\">\n",
    "4. 統計顧客訂單數比例(購買1次 vs 購買2次以上)\n",
    "</div>"
   ]
  },
  {
   "cell_type": "code",
   "execution_count": 69,
   "metadata": {},
   "outputs": [
    {
     "data": {
      "text/html": [
       "<div>\n",
       "<style scoped>\n",
       "    .dataframe tbody tr th:only-of-type {\n",
       "        vertical-align: middle;\n",
       "    }\n",
       "\n",
       "    .dataframe tbody tr th {\n",
       "        vertical-align: top;\n",
       "    }\n",
       "\n",
       "    .dataframe thead th {\n",
       "        text-align: right;\n",
       "    }\n",
       "</style>\n",
       "<table border=\"1\" class=\"dataframe\">\n",
       "  <thead>\n",
       "    <tr style=\"text-align: right;\">\n",
       "      <th></th>\n",
       "      <th>Order</th>\n",
       "      <th>Customer_Counts</th>\n",
       "      <th>%</th>\n",
       "    </tr>\n",
       "  </thead>\n",
       "  <tbody>\n",
       "    <tr>\n",
       "      <th>0</th>\n",
       "      <td>One Order</td>\n",
       "      <td>51801</td>\n",
       "      <td>0.65</td>\n",
       "    </tr>\n",
       "    <tr>\n",
       "      <th>1</th>\n",
       "      <td>More than One Order</td>\n",
       "      <td>28320</td>\n",
       "      <td>0.35</td>\n",
       "    </tr>\n",
       "  </tbody>\n",
       "</table>\n",
       "</div>"
      ],
      "text/plain": [
       "                 Order  Customer_Counts    %\n",
       "0            One Order            51801 0.65\n",
       "1  More than One Order            28320 0.35"
      ]
     },
     "execution_count": 69,
     "metadata": {},
     "output_type": "execute_result"
    }
   ],
   "source": [
    "number_of_orders = order_completed.groupby(\"Customer ID\")[\"increment_id\"].nunique().reset_index()\n",
    "one = len(number_of_orders[number_of_orders[\"increment_id\"]==1])\n",
    "more = len(number_of_orders[number_of_orders[\"increment_id\"]!=1])\n",
    "data = {\"Order\": [\"One Order\", \"More than One Order\"], \"Customer_Counts\": [one, more], \"%\":[one/(one+more),more/(one+more)]}\n",
    "order_counts = pd.DataFrame.from_dict(data)\n",
    "order_counts"
   ]
  },
  {
   "cell_type": "markdown",
   "metadata": {},
   "source": [
    "<div class=\"alert alert-warning\">\n",
    "<b>Insight 4.</b><br>\n",
    "<br>\n",
    "接續第3點分析顧客在資料區間內平均購買次數各自占的比例，發現僅有35%的客人購買超過2次，符合上述所推測的狀況。\n",
    "</div>"
   ]
  },
  {
   "cell_type": "markdown",
   "metadata": {},
   "source": [
    "<div class=\"alert alert-success\">\n",
    "5. 統計每月新舊客的人數和各自的營收貢獻<br>\n",
    "新舊客定義為第一次購買為新客，若客人首購後並且當月份有回購的話則歸類為新客。\n",
    "</div>"
   ]
  },
  {
   "cell_type": "code",
   "execution_count": 70,
   "metadata": {},
   "outputs": [
    {
     "data": {
      "text/html": [
       "<div>\n",
       "<style scoped>\n",
       "    .dataframe tbody tr th:only-of-type {\n",
       "        vertical-align: middle;\n",
       "    }\n",
       "\n",
       "    .dataframe tbody tr th {\n",
       "        vertical-align: top;\n",
       "    }\n",
       "\n",
       "    .dataframe thead th {\n",
       "        text-align: right;\n",
       "    }\n",
       "</style>\n",
       "<table border=\"1\" class=\"dataframe\">\n",
       "  <thead>\n",
       "    <tr style=\"text-align: right;\">\n",
       "      <th></th>\n",
       "      <th>Year_Month</th>\n",
       "      <th>item_id</th>\n",
       "      <th>status</th>\n",
       "      <th>created_at</th>\n",
       "      <th>sku</th>\n",
       "      <th>price</th>\n",
       "      <th>qty_ordered</th>\n",
       "      <th>grand_total</th>\n",
       "      <th>increment_id</th>\n",
       "      <th>category_name_1</th>\n",
       "      <th>discount_amount</th>\n",
       "      <th>payment_method</th>\n",
       "      <th>Year</th>\n",
       "      <th>Month</th>\n",
       "      <th>Customer ID</th>\n",
       "      <th>Day</th>\n",
       "      <th>created_at_date</th>\n",
       "      <th>first_perchase</th>\n",
       "    </tr>\n",
       "  </thead>\n",
       "  <tbody>\n",
       "    <tr>\n",
       "      <th>0</th>\n",
       "      <td>2016-07</td>\n",
       "      <td>211131.0</td>\n",
       "      <td>completed</td>\n",
       "      <td>2016-07-01</td>\n",
       "      <td>kreations_YI 06-L</td>\n",
       "      <td>1950.00</td>\n",
       "      <td>1</td>\n",
       "      <td>1950.00</td>\n",
       "      <td>100147443</td>\n",
       "      <td>Women's Fashion</td>\n",
       "      <td>0.00</td>\n",
       "      <td>cod</td>\n",
       "      <td>2016</td>\n",
       "      <td>07</td>\n",
       "      <td>1</td>\n",
       "      <td>01</td>\n",
       "      <td>2016-07-01</td>\n",
       "      <td>2016-07-01</td>\n",
       "    </tr>\n",
       "    <tr>\n",
       "      <th>1</th>\n",
       "      <td>2016-07</td>\n",
       "      <td>211135.0</td>\n",
       "      <td>completed</td>\n",
       "      <td>2016-07-01</td>\n",
       "      <td>kcc_krone deal</td>\n",
       "      <td>360.00</td>\n",
       "      <td>1</td>\n",
       "      <td>60.00</td>\n",
       "      <td>100147446</td>\n",
       "      <td>Beauty &amp; Grooming</td>\n",
       "      <td>300.00</td>\n",
       "      <td>cod</td>\n",
       "      <td>2016</td>\n",
       "      <td>07</td>\n",
       "      <td>4</td>\n",
       "      <td>01</td>\n",
       "      <td>2016-07-01</td>\n",
       "      <td>2016-07-01</td>\n",
       "    </tr>\n",
       "    <tr>\n",
       "      <th>2</th>\n",
       "      <td>2016-07</td>\n",
       "      <td>211138.0</td>\n",
       "      <td>completed</td>\n",
       "      <td>2016-07-01</td>\n",
       "      <td>kcc_krone deal</td>\n",
       "      <td>360.00</td>\n",
       "      <td>1</td>\n",
       "      <td>60.00</td>\n",
       "      <td>100147449</td>\n",
       "      <td>Beauty &amp; Grooming</td>\n",
       "      <td>300.00</td>\n",
       "      <td>cod</td>\n",
       "      <td>2016</td>\n",
       "      <td>07</td>\n",
       "      <td>7</td>\n",
       "      <td>01</td>\n",
       "      <td>2016-07-01</td>\n",
       "      <td>2016-07-01</td>\n",
       "    </tr>\n",
       "    <tr>\n",
       "      <th>3</th>\n",
       "      <td>2016-07</td>\n",
       "      <td>211139.0</td>\n",
       "      <td>completed</td>\n",
       "      <td>2016-07-01</td>\n",
       "      <td>UK_Namkino Mix Nimco 400 Gms</td>\n",
       "      <td>170.00</td>\n",
       "      <td>1</td>\n",
       "      <td>170.00</td>\n",
       "      <td>100147450</td>\n",
       "      <td>Soghaat</td>\n",
       "      <td>0.00</td>\n",
       "      <td>cod</td>\n",
       "      <td>2016</td>\n",
       "      <td>07</td>\n",
       "      <td>6</td>\n",
       "      <td>01</td>\n",
       "      <td>2016-07-01</td>\n",
       "      <td>2016-07-01</td>\n",
       "    </tr>\n",
       "    <tr>\n",
       "      <th>4</th>\n",
       "      <td>2016-07</td>\n",
       "      <td>211142.0</td>\n",
       "      <td>completed</td>\n",
       "      <td>2016-07-01</td>\n",
       "      <td>GFC_Pedestal Myga Cross Base (Special Guard) 24\"</td>\n",
       "      <td>5500.00</td>\n",
       "      <td>1</td>\n",
       "      <td>5500.00</td>\n",
       "      <td>100147453</td>\n",
       "      <td>Appliances</td>\n",
       "      <td>0.00</td>\n",
       "      <td>cod</td>\n",
       "      <td>2016</td>\n",
       "      <td>07</td>\n",
       "      <td>9</td>\n",
       "      <td>01</td>\n",
       "      <td>2016-07-01</td>\n",
       "      <td>2016-07-01</td>\n",
       "    </tr>\n",
       "  </tbody>\n",
       "</table>\n",
       "</div>"
      ],
      "text/plain": [
       "  Year_Month   item_id     status  created_at  \\\n",
       "0    2016-07  211131.0  completed  2016-07-01   \n",
       "1    2016-07  211135.0  completed  2016-07-01   \n",
       "2    2016-07  211138.0  completed  2016-07-01   \n",
       "3    2016-07  211139.0  completed  2016-07-01   \n",
       "4    2016-07  211142.0  completed  2016-07-01   \n",
       "\n",
       "                                                sku   price  qty_ordered  \\\n",
       "0                                 kreations_YI 06-L 1950.00            1   \n",
       "1                                    kcc_krone deal  360.00            1   \n",
       "2                                    kcc_krone deal  360.00            1   \n",
       "3                      UK_Namkino Mix Nimco 400 Gms  170.00            1   \n",
       "4  GFC_Pedestal Myga Cross Base (Special Guard) 24\" 5500.00            1   \n",
       "\n",
       "   grand_total increment_id    category_name_1  discount_amount  \\\n",
       "0      1950.00    100147443    Women's Fashion             0.00   \n",
       "1        60.00    100147446  Beauty & Grooming           300.00   \n",
       "2        60.00    100147449  Beauty & Grooming           300.00   \n",
       "3       170.00    100147450            Soghaat             0.00   \n",
       "4      5500.00    100147453         Appliances             0.00   \n",
       "\n",
       "  payment_method  Year Month  Customer ID Day created_at_date first_perchase  \n",
       "0            cod  2016    07            1  01      2016-07-01     2016-07-01  \n",
       "1            cod  2016    07            4  01      2016-07-01     2016-07-01  \n",
       "2            cod  2016    07            7  01      2016-07-01     2016-07-01  \n",
       "3            cod  2016    07            6  01      2016-07-01     2016-07-01  \n",
       "4            cod  2016    07            9  01      2016-07-01     2016-07-01  "
      ]
     },
     "execution_count": 70,
     "metadata": {},
     "output_type": "execute_result"
    }
   ],
   "source": [
    "#找出每個客人首購的訂單時間\n",
    "iffirst_perchase = order_completed.groupby(\"Customer ID\")[\"created_at_date\"].agg(\"min\").reset_index()\n",
    "iffirst_perchase.columns = [\"Customer ID\",\"first_perchase\"]\n",
    "iffirst_perchase = pd.merge(order_completed, iffirst_perchase, on=\"Customer ID\", how=\"left\")\n",
    "#iffirst_perchase = iffirst_perchase[iffirst_perchase[\"status\"] == \"completed\"]\n",
    "\n",
    "#計算每個客人當月購買的次數\n",
    "# buy_count = iffirst_perchase.groupby([\"Customer ID\",\"Year_Month\"])[\"first_perchase\"].agg(\"count\").reset_index()\n",
    "# buy_count.columns =[\"Customer ID\",\"Year_Month\",\"buy_count\"]\n",
    "# iffirst_perchase = pd.merge(iffirst_perchase, buy_count, on=[\"Customer ID\",\"Year_Month\"], how=\"left\")\n",
    "iffirst_perchase.head()"
   ]
  },
  {
   "cell_type": "code",
   "execution_count": 71,
   "metadata": {},
   "outputs": [],
   "source": [
    "#依照首購時間判斷是否為新舊客\n",
    "def ifReturn(creat_d, first_d):\n",
    "    if creat_d > first_d:\n",
    "        if creat_d.month == first_d.month:\n",
    "            return \"new_customer\"\n",
    "        else:\n",
    "            return \"return_customer\"\n",
    "    else:\n",
    "        return \"new_customer\"\n",
    "\n",
    "iffirst_perchase[\"new_return\"] = iffirst_perchase.apply(lambda x: ifReturn(x[\"created_at_date\"],x[\"first_perchase\"]),axis=1)"
   ]
  },
  {
   "cell_type": "code",
   "execution_count": 72,
   "metadata": {},
   "outputs": [
    {
     "data": {
      "text/html": [
       "<div>\n",
       "<style scoped>\n",
       "    .dataframe tbody tr th:only-of-type {\n",
       "        vertical-align: middle;\n",
       "    }\n",
       "\n",
       "    .dataframe tbody tr th {\n",
       "        vertical-align: top;\n",
       "    }\n",
       "\n",
       "    .dataframe thead th {\n",
       "        text-align: right;\n",
       "    }\n",
       "</style>\n",
       "<table border=\"1\" class=\"dataframe\">\n",
       "  <thead>\n",
       "    <tr style=\"text-align: right;\">\n",
       "      <th></th>\n",
       "      <th>Year_Month</th>\n",
       "      <th>item_id</th>\n",
       "      <th>status</th>\n",
       "      <th>created_at</th>\n",
       "      <th>sku</th>\n",
       "      <th>price</th>\n",
       "      <th>qty_ordered</th>\n",
       "      <th>grand_total</th>\n",
       "      <th>increment_id</th>\n",
       "      <th>category_name_1</th>\n",
       "      <th>discount_amount</th>\n",
       "      <th>payment_method</th>\n",
       "      <th>Year</th>\n",
       "      <th>Month</th>\n",
       "      <th>Customer ID</th>\n",
       "      <th>Day</th>\n",
       "      <th>created_at_date</th>\n",
       "      <th>first_perchase</th>\n",
       "      <th>new_return</th>\n",
       "    </tr>\n",
       "  </thead>\n",
       "  <tbody>\n",
       "    <tr>\n",
       "      <th>0</th>\n",
       "      <td>2016-07</td>\n",
       "      <td>211131.0</td>\n",
       "      <td>completed</td>\n",
       "      <td>2016-07-01</td>\n",
       "      <td>kreations_YI 06-L</td>\n",
       "      <td>1950.00</td>\n",
       "      <td>1</td>\n",
       "      <td>1950.00</td>\n",
       "      <td>100147443</td>\n",
       "      <td>Women's Fashion</td>\n",
       "      <td>0.00</td>\n",
       "      <td>cod</td>\n",
       "      <td>2016</td>\n",
       "      <td>07</td>\n",
       "      <td>1</td>\n",
       "      <td>01</td>\n",
       "      <td>2016-07-01</td>\n",
       "      <td>2016-07-01</td>\n",
       "      <td>new_customer</td>\n",
       "    </tr>\n",
       "    <tr>\n",
       "      <th>1</th>\n",
       "      <td>2016-07</td>\n",
       "      <td>211135.0</td>\n",
       "      <td>completed</td>\n",
       "      <td>2016-07-01</td>\n",
       "      <td>kcc_krone deal</td>\n",
       "      <td>360.00</td>\n",
       "      <td>1</td>\n",
       "      <td>60.00</td>\n",
       "      <td>100147446</td>\n",
       "      <td>Beauty &amp; Grooming</td>\n",
       "      <td>300.00</td>\n",
       "      <td>cod</td>\n",
       "      <td>2016</td>\n",
       "      <td>07</td>\n",
       "      <td>4</td>\n",
       "      <td>01</td>\n",
       "      <td>2016-07-01</td>\n",
       "      <td>2016-07-01</td>\n",
       "      <td>new_customer</td>\n",
       "    </tr>\n",
       "    <tr>\n",
       "      <th>2</th>\n",
       "      <td>2016-07</td>\n",
       "      <td>211138.0</td>\n",
       "      <td>completed</td>\n",
       "      <td>2016-07-01</td>\n",
       "      <td>kcc_krone deal</td>\n",
       "      <td>360.00</td>\n",
       "      <td>1</td>\n",
       "      <td>60.00</td>\n",
       "      <td>100147449</td>\n",
       "      <td>Beauty &amp; Grooming</td>\n",
       "      <td>300.00</td>\n",
       "      <td>cod</td>\n",
       "      <td>2016</td>\n",
       "      <td>07</td>\n",
       "      <td>7</td>\n",
       "      <td>01</td>\n",
       "      <td>2016-07-01</td>\n",
       "      <td>2016-07-01</td>\n",
       "      <td>new_customer</td>\n",
       "    </tr>\n",
       "  </tbody>\n",
       "</table>\n",
       "</div>"
      ],
      "text/plain": [
       "  Year_Month   item_id     status  created_at                sku   price  \\\n",
       "0    2016-07  211131.0  completed  2016-07-01  kreations_YI 06-L 1950.00   \n",
       "1    2016-07  211135.0  completed  2016-07-01     kcc_krone deal  360.00   \n",
       "2    2016-07  211138.0  completed  2016-07-01     kcc_krone deal  360.00   \n",
       "\n",
       "   qty_ordered  grand_total increment_id    category_name_1  discount_amount  \\\n",
       "0            1      1950.00    100147443    Women's Fashion             0.00   \n",
       "1            1        60.00    100147446  Beauty & Grooming           300.00   \n",
       "2            1        60.00    100147449  Beauty & Grooming           300.00   \n",
       "\n",
       "  payment_method  Year Month  Customer ID Day created_at_date first_perchase  \\\n",
       "0            cod  2016    07            1  01      2016-07-01     2016-07-01   \n",
       "1            cod  2016    07            4  01      2016-07-01     2016-07-01   \n",
       "2            cod  2016    07            7  01      2016-07-01     2016-07-01   \n",
       "\n",
       "     new_return  \n",
       "0  new_customer  \n",
       "1  new_customer  \n",
       "2  new_customer  "
      ]
     },
     "execution_count": 72,
     "metadata": {},
     "output_type": "execute_result"
    }
   ],
   "source": [
    "iffirst_perchase.head(3)"
   ]
  },
  {
   "cell_type": "code",
   "execution_count": 73,
   "metadata": {},
   "outputs": [
    {
     "data": {
      "text/html": [
       "<div>\n",
       "<style scoped>\n",
       "    .dataframe tbody tr th:only-of-type {\n",
       "        vertical-align: middle;\n",
       "    }\n",
       "\n",
       "    .dataframe tbody tr th {\n",
       "        vertical-align: top;\n",
       "    }\n",
       "\n",
       "    .dataframe thead th {\n",
       "        text-align: right;\n",
       "    }\n",
       "</style>\n",
       "<table border=\"1\" class=\"dataframe\">\n",
       "  <thead>\n",
       "    <tr style=\"text-align: right;\">\n",
       "      <th></th>\n",
       "      <th>Year_Month</th>\n",
       "      <th>new_return</th>\n",
       "      <th>Customer ID</th>\n",
       "      <th>grand_total</th>\n",
       "      <th>increment_id</th>\n",
       "      <th>total_customer</th>\n",
       "      <th>new_return_ratio</th>\n",
       "      <th>new_return_AOV</th>\n",
       "    </tr>\n",
       "  </thead>\n",
       "  <tbody>\n",
       "    <tr>\n",
       "      <th>0</th>\n",
       "      <td>2016-07</td>\n",
       "      <td>new_customer</td>\n",
       "      <td>1622</td>\n",
       "      <td>11720820.27</td>\n",
       "      <td>4930</td>\n",
       "      <td>1622</td>\n",
       "      <td>1.00</td>\n",
       "      <td>2377.45</td>\n",
       "    </tr>\n",
       "    <tr>\n",
       "      <th>1</th>\n",
       "      <td>2016-08</td>\n",
       "      <td>new_customer</td>\n",
       "      <td>2322</td>\n",
       "      <td>13510017.13</td>\n",
       "      <td>3243</td>\n",
       "      <td>2640</td>\n",
       "      <td>0.88</td>\n",
       "      <td>4165.90</td>\n",
       "    </tr>\n",
       "    <tr>\n",
       "      <th>2</th>\n",
       "      <td>2016-08</td>\n",
       "      <td>return_customer</td>\n",
       "      <td>318</td>\n",
       "      <td>4078462.10</td>\n",
       "      <td>3224</td>\n",
       "      <td>2640</td>\n",
       "      <td>0.12</td>\n",
       "      <td>1265.03</td>\n",
       "    </tr>\n",
       "    <tr>\n",
       "      <th>3</th>\n",
       "      <td>2016-09</td>\n",
       "      <td>new_customer</td>\n",
       "      <td>3227</td>\n",
       "      <td>21148930.95</td>\n",
       "      <td>4388</td>\n",
       "      <td>3772</td>\n",
       "      <td>0.86</td>\n",
       "      <td>4819.72</td>\n",
       "    </tr>\n",
       "    <tr>\n",
       "      <th>4</th>\n",
       "      <td>2016-09</td>\n",
       "      <td>return_customer</td>\n",
       "      <td>545</td>\n",
       "      <td>6354737.11</td>\n",
       "      <td>2647</td>\n",
       "      <td>3772</td>\n",
       "      <td>0.14</td>\n",
       "      <td>2400.73</td>\n",
       "    </tr>\n",
       "  </tbody>\n",
       "</table>\n",
       "</div>"
      ],
      "text/plain": [
       "  Year_Month       new_return  Customer ID  grand_total  increment_id  \\\n",
       "0    2016-07     new_customer         1622  11720820.27          4930   \n",
       "1    2016-08     new_customer         2322  13510017.13          3243   \n",
       "2    2016-08  return_customer          318   4078462.10          3224   \n",
       "3    2016-09     new_customer         3227  21148930.95          4388   \n",
       "4    2016-09  return_customer          545   6354737.11          2647   \n",
       "\n",
       "   total_customer  new_return_ratio  new_return_AOV  \n",
       "0            1622              1.00         2377.45  \n",
       "1            2640              0.88         4165.90  \n",
       "2            2640              0.12         1265.03  \n",
       "3            3772              0.86         4819.72  \n",
       "4            3772              0.14         2400.73  "
      ]
     },
     "execution_count": 73,
     "metadata": {},
     "output_type": "execute_result"
    }
   ],
   "source": [
    "#統計每月新舊客的人數、比例、訂單數、消費金額和客單價\n",
    "new_return_G = iffirst_perchase.groupby([\"Year_Month\",\"new_return\"])[\"grand_total\"].agg(\"sum\").reset_index()\n",
    "new_return_O = iffirst_perchase.groupby([\"Year_Month\",\"new_return\"])[\"increment_id\"].nunique().reset_index()\n",
    "new_return_C = iffirst_perchase.groupby([\"Year_Month\",\"new_return\"])[\"Customer ID\"].nunique().reset_index()\n",
    "new_return_C\n",
    "monthly_total_C = new_return_C.groupby(\"Year_Month\")[\"Customer ID\"].agg(\"sum\").reset_index()\n",
    "monthly_total_C.columns = [\"Year_Month\",\"total_customer\"]\n",
    "\n",
    "new_return_T = pd.merge(new_return_C,new_return_G,how=\"left\")\n",
    "new_return_T = pd.merge(new_return_T,new_return_O,how=\"left\")\n",
    "new_return_T = pd.merge(new_return_T,monthly_total_C,on=\"Year_Month\",how=\"left\")\n",
    "new_return_T[\"new_return_ratio\"] = round(new_return_T[\"Customer ID\"]/new_return_T[\"total_customer\"],2)\n",
    "new_return_T[\"new_return_AOV\"] = round(new_return_T[\"grand_total\"]/new_return_T[\"increment_id\"],2)\n",
    "new_return_T.head()"
   ]
  },
  {
   "cell_type": "code",
   "execution_count": 74,
   "metadata": {},
   "outputs": [
    {
     "data": {
      "text/plain": [
       "new_return\n",
       "new_customer      8279.42\n",
       "return_customer   7759.86\n",
       "Name: new_return_AOV, dtype: float64"
      ]
     },
     "execution_count": 74,
     "metadata": {},
     "output_type": "execute_result"
    }
   ],
   "source": [
    "new_return_T.groupby(\"new_return\")[\"new_return_AOV\"].agg(\"mean\")"
   ]
  },
  {
   "cell_type": "markdown",
   "metadata": {},
   "source": [
    "<div class=\"alert alert-warning\">\n",
    "<b>Insight 5.</b><br>\n",
    "<br>\n",
    "將銷售數據區分為新舊客後可以觀察到：<br>\n",
    "• 近兩年每個月份新客族群的比例皆高於舊客，營收的成長幅度主要仰賴新客，舊客的消費金額大致來說並沒有明顯的提升。<br>\n",
    "• 新舊客兩者的客單價沒有相差太大，需進一步分析顧客主要購買的產品為何。<br>\n",
    "• 每月的用戶數量並沒有隨時間增加，加上第4點提到65%的客人只購買1次，代表大活動仍有一定的成效，吸引到的客人前來購買，可是後續回購表現不佳。另外觀察到2018年開始出現新舊客人數減少的現象，因為資料集缺少行銷活動做比對，本次目標將著重在不同客群的消費行為，接下來會分析銷售產品的排名，鞏固、提升現有用戶的回購。<br>\n",
    "</div>"
   ]
  },
  {
   "cell_type": "code",
   "execution_count": 75,
   "metadata": {},
   "outputs": [
    {
     "data": {
      "image/png": "[encoded data removed]",
      "text/plain": [
       "<Figure size 1440x432 with 1 Axes>"
      ]
     },
     "metadata": {},
     "output_type": "display_data"
    }
   ],
   "source": [
    "#每月新舊客的人數比例\n",
    "fig, ax = plt.subplots(figsize=(20, 6))\n",
    "sns.set(style=\"darkgrid\",palette=\"Set1\")\n",
    "sns.lineplot(data=new_return_T, x=\"Year_Month\", y=\"new_return_ratio\", hue = \"new_return\", marker= \"o\")\n",
    "ax.set_xlabel(\"\")\n",
    "ax.set_ylabel(\"Number of Customers\")\n",
    "ax.xaxis.set_tick_params(rotation=45)\n",
    "plt.legend();"
   ]
  },
  {
   "cell_type": "code",
   "execution_count": 76,
   "metadata": {},
   "outputs": [
    {
     "data": {
      "image/png": "[encoded data removed]",
      "text/plain": [
       "<Figure size 1440x432 with 1 Axes>"
      ]
     },
     "metadata": {},
     "output_type": "display_data"
    }
   ],
   "source": [
    "#每月新舊客的人數和訂單數\n",
    "fig, ax = plt.subplots(figsize=(20, 6))\n",
    "sns.set(style=\"darkgrid\",palette=\"Set1\")\n",
    "sns.barplot(data=new_return_T, x=\"Year_Month\", y=\"Customer ID\", hue = \"new_return\")\n",
    "sns.lineplot(data=new_return_T, x=\"Year_Month\", y=\"increment_id\", hue = \"new_return\", marker= \"o\",legend=False)\n",
    "ax.set_xlabel(\"\")\n",
    "ax.set_ylabel(\"Number of Customers\")\n",
    "# ax2 = ax.twinx()\n",
    "# ax2.set_ylabel(\"Number of Orders\")\n",
    "ax.yaxis.get_major_formatter().set_scientific(False)\n",
    "ax.xaxis.set_tick_params(rotation=45)\n",
    "plt.legend();"
   ]
  },
  {
   "cell_type": "code",
   "execution_count": 79,
   "metadata": {},
   "outputs": [
    {
     "data": {
      "image/png": "[encoded data removed]",
      "text/plain": [
       "<Figure size 1440x360 with 1 Axes>"
      ]
     },
     "metadata": {},
     "output_type": "display_data"
    }
   ],
   "source": [
    "#每月新舊客消費金額\n",
    "fig, ax = plt.subplots(figsize=(20, 5))\n",
    "sns.set(style=\"darkgrid\",palette=\"Set1\")\n",
    "sns.barplot(data=new_return_T, x=\"Year_Month\", y=\"grand_total\", hue = \"new_return\")\n",
    "#sns.barplot(data=dt_temR, x=\"Year_Month\", y=\"grand_total\")\n",
    "ax.set_xlabel(\"\")\n",
    "ax.set_ylabel(\"Revenue\")\n",
    "ax.yaxis.get_major_formatter().set_scientific(False)\n",
    "ax.xaxis.set_tick_params(rotation=45)\n",
    "plt.legend();"
   ]
  },
  {
   "cell_type": "markdown",
   "metadata": {},
   "source": [
    "<div class=\"alert alert-success\">\n",
    "6. 計算每個月的回購率\n",
    "(當月回購人數 / 當月所有購買人數)\n",
    "</div>"
   ]
  },
  {
   "cell_type": "code",
   "execution_count": 80,
   "metadata": {},
   "outputs": [
    {
     "data": {
      "text/html": [
       "<div>\n",
       "<style scoped>\n",
       "    .dataframe tbody tr th:only-of-type {\n",
       "        vertical-align: middle;\n",
       "    }\n",
       "\n",
       "    .dataframe tbody tr th {\n",
       "        vertical-align: top;\n",
       "    }\n",
       "\n",
       "    .dataframe thead th {\n",
       "        text-align: right;\n",
       "    }\n",
       "</style>\n",
       "<table border=\"1\" class=\"dataframe\">\n",
       "  <thead>\n",
       "    <tr style=\"text-align: right;\">\n",
       "      <th>Year_Month</th>\n",
       "      <th>2016-07</th>\n",
       "      <th>2016-08</th>\n",
       "      <th>2016-09</th>\n",
       "      <th>2016-10</th>\n",
       "      <th>2016-11</th>\n",
       "      <th>2016-12</th>\n",
       "      <th>2017-01</th>\n",
       "      <th>2017-02</th>\n",
       "      <th>2017-03</th>\n",
       "      <th>2017-04</th>\n",
       "      <th>...</th>\n",
       "      <th>2017-11</th>\n",
       "      <th>2017-12</th>\n",
       "      <th>2018-01</th>\n",
       "      <th>2018-02</th>\n",
       "      <th>2018-03</th>\n",
       "      <th>2018-04</th>\n",
       "      <th>2018-05</th>\n",
       "      <th>2018-06</th>\n",
       "      <th>2018-07</th>\n",
       "      <th>2018-08</th>\n",
       "    </tr>\n",
       "    <tr>\n",
       "      <th>Customer ID</th>\n",
       "      <th></th>\n",
       "      <th></th>\n",
       "      <th></th>\n",
       "      <th></th>\n",
       "      <th></th>\n",
       "      <th></th>\n",
       "      <th></th>\n",
       "      <th></th>\n",
       "      <th></th>\n",
       "      <th></th>\n",
       "      <th></th>\n",
       "      <th></th>\n",
       "      <th></th>\n",
       "      <th></th>\n",
       "      <th></th>\n",
       "      <th></th>\n",
       "      <th></th>\n",
       "      <th></th>\n",
       "      <th></th>\n",
       "      <th></th>\n",
       "      <th></th>\n",
       "    </tr>\n",
       "  </thead>\n",
       "  <tbody>\n",
       "    <tr>\n",
       "      <th>1</th>\n",
       "      <td>1</td>\n",
       "      <td>0</td>\n",
       "      <td>0</td>\n",
       "      <td>0</td>\n",
       "      <td>0</td>\n",
       "      <td>0</td>\n",
       "      <td>0</td>\n",
       "      <td>0</td>\n",
       "      <td>0</td>\n",
       "      <td>0</td>\n",
       "      <td>...</td>\n",
       "      <td>0</td>\n",
       "      <td>0</td>\n",
       "      <td>0</td>\n",
       "      <td>0</td>\n",
       "      <td>0</td>\n",
       "      <td>0</td>\n",
       "      <td>0</td>\n",
       "      <td>0</td>\n",
       "      <td>0</td>\n",
       "      <td>0</td>\n",
       "    </tr>\n",
       "    <tr>\n",
       "      <th>3</th>\n",
       "      <td>0</td>\n",
       "      <td>0</td>\n",
       "      <td>0</td>\n",
       "      <td>0</td>\n",
       "      <td>0</td>\n",
       "      <td>0</td>\n",
       "      <td>0</td>\n",
       "      <td>0</td>\n",
       "      <td>0</td>\n",
       "      <td>0</td>\n",
       "      <td>...</td>\n",
       "      <td>0</td>\n",
       "      <td>0</td>\n",
       "      <td>0</td>\n",
       "      <td>0</td>\n",
       "      <td>0</td>\n",
       "      <td>0</td>\n",
       "      <td>0</td>\n",
       "      <td>0</td>\n",
       "      <td>0</td>\n",
       "      <td>0</td>\n",
       "    </tr>\n",
       "    <tr>\n",
       "      <th>4</th>\n",
       "      <td>9</td>\n",
       "      <td>20</td>\n",
       "      <td>17</td>\n",
       "      <td>30</td>\n",
       "      <td>62</td>\n",
       "      <td>19</td>\n",
       "      <td>5</td>\n",
       "      <td>16</td>\n",
       "      <td>20</td>\n",
       "      <td>9</td>\n",
       "      <td>...</td>\n",
       "      <td>10</td>\n",
       "      <td>1</td>\n",
       "      <td>1</td>\n",
       "      <td>2</td>\n",
       "      <td>0</td>\n",
       "      <td>0</td>\n",
       "      <td>0</td>\n",
       "      <td>0</td>\n",
       "      <td>0</td>\n",
       "      <td>4</td>\n",
       "    </tr>\n",
       "    <tr>\n",
       "      <th>6</th>\n",
       "      <td>1</td>\n",
       "      <td>0</td>\n",
       "      <td>0</td>\n",
       "      <td>0</td>\n",
       "      <td>0</td>\n",
       "      <td>0</td>\n",
       "      <td>0</td>\n",
       "      <td>0</td>\n",
       "      <td>0</td>\n",
       "      <td>0</td>\n",
       "      <td>...</td>\n",
       "      <td>0</td>\n",
       "      <td>0</td>\n",
       "      <td>0</td>\n",
       "      <td>0</td>\n",
       "      <td>0</td>\n",
       "      <td>0</td>\n",
       "      <td>0</td>\n",
       "      <td>0</td>\n",
       "      <td>0</td>\n",
       "      <td>0</td>\n",
       "    </tr>\n",
       "    <tr>\n",
       "      <th>7</th>\n",
       "      <td>1</td>\n",
       "      <td>0</td>\n",
       "      <td>0</td>\n",
       "      <td>0</td>\n",
       "      <td>0</td>\n",
       "      <td>0</td>\n",
       "      <td>0</td>\n",
       "      <td>0</td>\n",
       "      <td>0</td>\n",
       "      <td>3</td>\n",
       "      <td>...</td>\n",
       "      <td>0</td>\n",
       "      <td>0</td>\n",
       "      <td>0</td>\n",
       "      <td>0</td>\n",
       "      <td>0</td>\n",
       "      <td>0</td>\n",
       "      <td>0</td>\n",
       "      <td>0</td>\n",
       "      <td>0</td>\n",
       "      <td>0</td>\n",
       "    </tr>\n",
       "  </tbody>\n",
       "</table>\n",
       "<p>5 rows × 26 columns</p>\n",
       "</div>"
      ],
      "text/plain": [
       "Year_Month   2016-07  2016-08  2016-09  2016-10  2016-11  2016-12  2017-01  \\\n",
       "Customer ID                                                                  \n",
       "1                  1        0        0        0        0        0        0   \n",
       "3                  0        0        0        0        0        0        0   \n",
       "4                  9       20       17       30       62       19        5   \n",
       "6                  1        0        0        0        0        0        0   \n",
       "7                  1        0        0        0        0        0        0   \n",
       "\n",
       "Year_Month   2017-02  2017-03  2017-04  ...  2017-11  2017-12  2018-01  \\\n",
       "Customer ID                             ...                              \n",
       "1                  0        0        0  ...        0        0        0   \n",
       "3                  0        0        0  ...        0        0        0   \n",
       "4                 16       20        9  ...       10        1        1   \n",
       "6                  0        0        0  ...        0        0        0   \n",
       "7                  0        0        3  ...        0        0        0   \n",
       "\n",
       "Year_Month   2018-02  2018-03  2018-04  2018-05  2018-06  2018-07  2018-08  \n",
       "Customer ID                                                                 \n",
       "1                  0        0        0        0        0        0        0  \n",
       "3                  0        0        0        0        0        0        0  \n",
       "4                  2        0        0        0        0        0        4  \n",
       "6                  0        0        0        0        0        0        0  \n",
       "7                  0        0        0        0        0        0        0  \n",
       "\n",
       "[5 rows x 26 columns]"
      ]
     },
     "execution_count": 80,
     "metadata": {},
     "output_type": "execute_result"
    }
   ],
   "source": [
    "# 使用樞紐計算所有客人在每個月份的消費次數\n",
    "purchase_time = order_completed.pivot_table(index=\"Customer ID\",columns=\"Year_Month\",values=\"increment_id\",aggfunc=\"nunique\",fill_value=0)\n",
    "purchase_time.head()"
   ]
  },
  {
   "cell_type": "code",
   "execution_count": 81,
   "metadata": {},
   "outputs": [
    {
     "name": "stdout",
     "output_type": "stream",
     "text": [
      "平均回購率：0.155\n"
     ]
    }
   ],
   "source": [
    "# 當月加下個月的消費次數大於1，則代表該顧客有回購\n",
    "pivot_purchase = purchase_time.applymap(lambda x:1 if x>0 else 0)\n",
    "pivot_repurchase = (pivot_purchase.shift(-1,axis=1).fillna(0)+pivot_purchase).applymap(lambda x: 1 if x>1 else 0 )\n",
    "pivot_repurchase = pivot_repurchase.shift(1,axis=1).fillna(0)\n",
    "repurchase_rate = pivot_repurchase.sum()/pivot_purchase.sum()\n",
    "repurchase_rate = repurchase_rate.reset_index(name = \"repurchase_rate\")\n",
    "avg_repurchase_rateround = round(repurchase_rate[\"repurchase_rate\"].mean(),3)\n",
    "print(f\"平均回購率：{avg_repurchase_rateround}\")"
   ]
  },
  {
   "cell_type": "markdown",
   "metadata": {},
   "source": [
    "<div class=\"alert alert-warning\">\n",
    "<b>Insight 6. </b><br>\n",
    "<br>\n",
    "回購週期以1個月做計算，平均回購率為15.5%，大節日的月份回購率表現較差，原因在於新客人數提升了，但舊客沒有同步增加。<br>\n",
    "接下來進一步搭配RFM模型觀察消費族群的購買狀況。\n",
    "</div>"
   ]
  },
  {
   "cell_type": "code",
   "execution_count": 82,
   "metadata": {},
   "outputs": [
    {
     "data": {
      "image/png": "[encoded data removed]",
      "text/plain": [
       "<Figure size 1440x360 with 1 Axes>"
      ]
     },
     "metadata": {},
     "output_type": "display_data"
    }
   ],
   "source": [
    "fig, ax = plt.subplots(figsize=(20, 5))\n",
    "sns.set(style=\"darkgrid\", palette=\"Set1\")\n",
    "sns.lineplot(data=repurchase_rate, x=\"Year_Month\", y=\"repurchase_rate\",marker=\"o\")\n",
    "plt.axhline(y=avg_repurchase_rateround, c=\"gray\", ls=\"--\", lw=1)\n",
    "ax.set_xlabel(\"repurchase rate each month\")\n",
    "ax.set_ylabel(\"\")\n",
    "plt.xticks(rotation=45);"
   ]
  },
  {
   "cell_type": "markdown",
   "metadata": {},
   "source": [
    "<div class=\"alert alert-success\">\n",
    "7. 使用RFM模型將顧客分類成不同客群<br>\n",
    "• 最近一次消費（Recency）。顧客上次消費時間愈近，價值愈大。<br>\n",
    "• 消費頻率（Frequency）。顧客在一個月或一年中，買了多少次東西？購買頻率愈高，用戶價值愈大。<br>\n",
    "• 消費金額（Monetary）。顧客一共在產品上花了多少錢？創造了多少利潤？消費金額愈高，用戶價值愈大。<br>\n",
    "</div>"
   ]
  },
  {
   "cell_type": "code",
   "execution_count": 83,
   "metadata": {},
   "outputs": [
    {
     "name": "stdout",
     "output_type": "stream",
     "text": [
      "Set the reference date as 2018-08-31 00:00:00\n"
     ]
    }
   ],
   "source": [
    "#把 reference_date 設定在顧客最後消費的3天後\n",
    "reference_date = dt[\"created_at_date\"].max() + datetime.timedelta(days=3)\n",
    "print(f\"Set the reference date as {reference_date}\")"
   ]
  },
  {
   "cell_type": "code",
   "execution_count": 84,
   "metadata": {},
   "outputs": [],
   "source": [
    "rfm_dt = order_completed.groupby(\"Customer ID\").agg \\\n",
    "    ({\"created_at_date\" : lambda created_at_date :(reference_date - created_at_date.max()).days,  # Recency\n",
    "      \"increment_id\" : lambda increment_id: increment_id.nunique(),  # Frequency\n",
    "      \"grand_total\":  lambda grand_total: grand_total.sum()}).reset_index().sort_values(by=\"Customer ID\")    # Monetary"
   ]
  },
  {
   "cell_type": "code",
   "execution_count": 85,
   "metadata": {},
   "outputs": [
    {
     "data": {
      "text/html": [
       "<div>\n",
       "<style scoped>\n",
       "    .dataframe tbody tr th:only-of-type {\n",
       "        vertical-align: middle;\n",
       "    }\n",
       "\n",
       "    .dataframe tbody tr th {\n",
       "        vertical-align: top;\n",
       "    }\n",
       "\n",
       "    .dataframe thead th {\n",
       "        text-align: right;\n",
       "    }\n",
       "</style>\n",
       "<table border=\"1\" class=\"dataframe\">\n",
       "  <thead>\n",
       "    <tr style=\"text-align: right;\">\n",
       "      <th></th>\n",
       "      <th>Customer ID</th>\n",
       "      <th>created_at_date</th>\n",
       "      <th>increment_id</th>\n",
       "      <th>grand_total</th>\n",
       "    </tr>\n",
       "  </thead>\n",
       "  <tbody>\n",
       "    <tr>\n",
       "      <th>0</th>\n",
       "      <td>1</td>\n",
       "      <td>791</td>\n",
       "      <td>1</td>\n",
       "      <td>1950.00</td>\n",
       "    </tr>\n",
       "    <tr>\n",
       "      <th>1</th>\n",
       "      <td>3</td>\n",
       "      <td>469</td>\n",
       "      <td>1</td>\n",
       "      <td>4980.00</td>\n",
       "    </tr>\n",
       "    <tr>\n",
       "      <th>2</th>\n",
       "      <td>4</td>\n",
       "      <td>4</td>\n",
       "      <td>236</td>\n",
       "      <td>1316173.25</td>\n",
       "    </tr>\n",
       "    <tr>\n",
       "      <th>3</th>\n",
       "      <td>6</td>\n",
       "      <td>791</td>\n",
       "      <td>1</td>\n",
       "      <td>170.00</td>\n",
       "    </tr>\n",
       "    <tr>\n",
       "      <th>4</th>\n",
       "      <td>7</td>\n",
       "      <td>503</td>\n",
       "      <td>4</td>\n",
       "      <td>105.00</td>\n",
       "    </tr>\n",
       "  </tbody>\n",
       "</table>\n",
       "</div>"
      ],
      "text/plain": [
       "   Customer ID  created_at_date  increment_id  grand_total\n",
       "0            1              791             1      1950.00\n",
       "1            3              469             1      4980.00\n",
       "2            4                4           236   1316173.25\n",
       "3            6              791             1       170.00\n",
       "4            7              503             4       105.00"
      ]
     },
     "execution_count": 85,
     "metadata": {},
     "output_type": "execute_result"
    }
   ],
   "source": [
    "rfm_dt.head()"
   ]
  },
  {
   "cell_type": "code",
   "execution_count": 86,
   "metadata": {},
   "outputs": [
    {
     "data": {
      "text/html": [
       "<div>\n",
       "<style scoped>\n",
       "    .dataframe tbody tr th:only-of-type {\n",
       "        vertical-align: middle;\n",
       "    }\n",
       "\n",
       "    .dataframe tbody tr th {\n",
       "        vertical-align: top;\n",
       "    }\n",
       "\n",
       "    .dataframe thead th {\n",
       "        text-align: right;\n",
       "    }\n",
       "</style>\n",
       "<table border=\"1\" class=\"dataframe\">\n",
       "  <thead>\n",
       "    <tr style=\"text-align: right;\">\n",
       "      <th></th>\n",
       "      <th>Customer ID</th>\n",
       "      <th>Recency</th>\n",
       "      <th>Frequency</th>\n",
       "      <th>Monetary</th>\n",
       "    </tr>\n",
       "  </thead>\n",
       "  <tbody>\n",
       "    <tr>\n",
       "      <th>0</th>\n",
       "      <td>1</td>\n",
       "      <td>791</td>\n",
       "      <td>1</td>\n",
       "      <td>1950.00</td>\n",
       "    </tr>\n",
       "    <tr>\n",
       "      <th>1</th>\n",
       "      <td>3</td>\n",
       "      <td>469</td>\n",
       "      <td>1</td>\n",
       "      <td>4980.00</td>\n",
       "    </tr>\n",
       "    <tr>\n",
       "      <th>2</th>\n",
       "      <td>4</td>\n",
       "      <td>4</td>\n",
       "      <td>236</td>\n",
       "      <td>1316173.25</td>\n",
       "    </tr>\n",
       "    <tr>\n",
       "      <th>3</th>\n",
       "      <td>6</td>\n",
       "      <td>791</td>\n",
       "      <td>1</td>\n",
       "      <td>170.00</td>\n",
       "    </tr>\n",
       "    <tr>\n",
       "      <th>4</th>\n",
       "      <td>7</td>\n",
       "      <td>503</td>\n",
       "      <td>4</td>\n",
       "      <td>105.00</td>\n",
       "    </tr>\n",
       "  </tbody>\n",
       "</table>\n",
       "</div>"
      ],
      "text/plain": [
       "   Customer ID  Recency  Frequency   Monetary\n",
       "0            1      791          1    1950.00\n",
       "1            3      469          1    4980.00\n",
       "2            4        4        236 1316173.25\n",
       "3            6      791          1     170.00\n",
       "4            7      503          4     105.00"
      ]
     },
     "execution_count": 86,
     "metadata": {},
     "output_type": "execute_result"
    }
   ],
   "source": [
    "#把欄位重新命名為 Recency, Frequency, Monetary\n",
    "rfm_dt.columns = [\"Customer ID\", \"Recency\", \"Frequency\", \"Monetary\"]\n",
    "rfm_dt.head()"
   ]
  },
  {
   "cell_type": "code",
   "execution_count": 87,
   "metadata": {},
   "outputs": [],
   "source": [
    "#R、F、M每一個維度劃分1~5分，5分代表最高分。\n",
    "# Recency指標數字越小表示客戶近期剛購買，因此Recency越低則可得到更高分(5分)。\n",
    "# Frequency和Monetary指標的表示客戶購買頻繁並且消費更多的金額，因此Frequency和Monetary值越高可得到更高分(5分)。\n",
    "rfm_dt[\"Recency_Score\"]  = pd.qcut(rfm_dt['Recency'], 5, [5, 4, 3, 2, 1])\n",
    "rfm_dt[\"Frequency_Score\"]  = pd.qcut(rfm_dt['Frequency'].rank(method=\"first\"),  5, [1, 2, 3, 4, 5])\n",
    "rfm_dt[\"Monetary_Score\"]  = pd.qcut(rfm_dt['Monetary'], 5, [1, 2, 3, 4, 5])"
   ]
  },
  {
   "cell_type": "code",
   "execution_count": 88,
   "metadata": {},
   "outputs": [
    {
     "data": {
      "text/html": [
       "<div>\n",
       "<style scoped>\n",
       "    .dataframe tbody tr th:only-of-type {\n",
       "        vertical-align: middle;\n",
       "    }\n",
       "\n",
       "    .dataframe tbody tr th {\n",
       "        vertical-align: top;\n",
       "    }\n",
       "\n",
       "    .dataframe thead th {\n",
       "        text-align: right;\n",
       "    }\n",
       "</style>\n",
       "<table border=\"1\" class=\"dataframe\">\n",
       "  <thead>\n",
       "    <tr style=\"text-align: right;\">\n",
       "      <th></th>\n",
       "      <th>Customer ID</th>\n",
       "      <th>Recency</th>\n",
       "      <th>Frequency</th>\n",
       "      <th>Monetary</th>\n",
       "      <th>Recency_Score</th>\n",
       "      <th>Frequency_Score</th>\n",
       "      <th>Monetary_Score</th>\n",
       "      <th>RFM_SCORE</th>\n",
       "    </tr>\n",
       "  </thead>\n",
       "  <tbody>\n",
       "    <tr>\n",
       "      <th>0</th>\n",
       "      <td>1</td>\n",
       "      <td>791</td>\n",
       "      <td>1</td>\n",
       "      <td>1950.00</td>\n",
       "      <td>1</td>\n",
       "      <td>1</td>\n",
       "      <td>2</td>\n",
       "      <td>112</td>\n",
       "    </tr>\n",
       "    <tr>\n",
       "      <th>1</th>\n",
       "      <td>3</td>\n",
       "      <td>469</td>\n",
       "      <td>1</td>\n",
       "      <td>4980.00</td>\n",
       "      <td>2</td>\n",
       "      <td>1</td>\n",
       "      <td>3</td>\n",
       "      <td>213</td>\n",
       "    </tr>\n",
       "    <tr>\n",
       "      <th>2</th>\n",
       "      <td>4</td>\n",
       "      <td>4</td>\n",
       "      <td>236</td>\n",
       "      <td>1316173.25</td>\n",
       "      <td>5</td>\n",
       "      <td>5</td>\n",
       "      <td>5</td>\n",
       "      <td>555</td>\n",
       "    </tr>\n",
       "    <tr>\n",
       "      <th>3</th>\n",
       "      <td>6</td>\n",
       "      <td>791</td>\n",
       "      <td>1</td>\n",
       "      <td>170.00</td>\n",
       "      <td>1</td>\n",
       "      <td>1</td>\n",
       "      <td>1</td>\n",
       "      <td>111</td>\n",
       "    </tr>\n",
       "    <tr>\n",
       "      <th>4</th>\n",
       "      <td>7</td>\n",
       "      <td>503</td>\n",
       "      <td>4</td>\n",
       "      <td>105.00</td>\n",
       "      <td>2</td>\n",
       "      <td>5</td>\n",
       "      <td>1</td>\n",
       "      <td>251</td>\n",
       "    </tr>\n",
       "  </tbody>\n",
       "</table>\n",
       "</div>"
      ],
      "text/plain": [
       "   Customer ID  Recency  Frequency   Monetary Recency_Score Frequency_Score  \\\n",
       "0            1      791          1    1950.00             1               1   \n",
       "1            3      469          1    4980.00             2               1   \n",
       "2            4        4        236 1316173.25             5               5   \n",
       "3            6      791          1     170.00             1               1   \n",
       "4            7      503          4     105.00             2               5   \n",
       "\n",
       "  Monetary_Score RFM_SCORE  \n",
       "0              2       112  \n",
       "1              3       213  \n",
       "2              5       555  \n",
       "3              1       111  \n",
       "4              1       251  "
      ]
     },
     "execution_count": 88,
     "metadata": {},
     "output_type": "execute_result"
    }
   ],
   "source": [
    "rfm_dt[\"RFM_SCORE\"] = (rfm_dt[\"Recency_Score\"].astype(str) + rfm_dt[\"Frequency_Score\"].astype(str) + rfm_dt[\"Monetary_Score\"].astype(str))\n",
    "rfm_dt.head()"
   ]
  },
  {
   "cell_type": "markdown",
   "metadata": {},
   "source": [
    "<div class=\"alert alert-success\">\n",
    "在第5點有提到這次的行銷目標：鞏固、提升回購人數。<br>\n",
    "在電商零售產業，平台透過行銷活動培養消費者每個月有固定搜尋和購買的習慣，因為回購不強調客人要買花多少錢(即Monetary)，更重視他有較高的 Recency_Score 和 Frequency_Score，這兩個分數比起 Monetary_Score 更重要。<br>\n",
    "因此，接下來我們使用 Recency_Score 和 Frequency_Score 來把顧客分群。\n",
    "</div>"
   ]
  },
  {
   "cell_type": "markdown",
   "metadata": {},
   "source": [
    "<img src =\"https://github.com/LiangYuDer/E-commerce-Analysis/blob/main/Recency%20and%20Frequency%20Grid.JPG?raw=true\" width = \"750\" height =\"410\" >"
   ]
  },
  {
   "cell_type": "code",
   "execution_count": 89,
   "metadata": {},
   "outputs": [],
   "source": [
    "#1. Champions VIP顧客\n",
    "#2. Loyal Customers 忠實顧客\n",
    "#3. Potential Loyalists 潛在的忠誠顧客\n",
    "#4. New Customers 新顧客\n",
    "#5. Promising 有希望的顧客\n",
    "#6. Need Attention 需要關注的顧客\n",
    "#7. About to Sleep 快睡著(流失)的顧客\n",
    "#8. Can't Lose Them 不能失去的顧客\n",
    "#9. At Risk 有風險的顧客\n",
    "#10. Hibernating 冬眠(流失)的顧客\n",
    "\n",
    "seg_map = {\n",
    "    r\"[1-2][1-2]\": \"Hibernating\",\n",
    "    r\"[1-2][3-4]\": \"At Risk\",\n",
    "    r\"[1-2]5\": \"Can't Lose Them\",\n",
    "    r\"3[1-2]\": \"About To Sleep\",\n",
    "    r\"33\": \"Need Attention\",\n",
    "    r\"[3-4][4-5]\": \"Loyal Customers\",\n",
    "    r\"41\": \"Promising\",\n",
    "    r\"51\": \"New Customers\",\n",
    "    r\"[4-5][2-3]\": \"Potential Loyalists\",\n",
    "    r\"5[4-5]\": \"Champions\"\n",
    "}"
   ]
  },
  {
   "cell_type": "code",
   "execution_count": 90,
   "metadata": {},
   "outputs": [
    {
     "data": {
      "text/html": [
       "<div>\n",
       "<style scoped>\n",
       "    .dataframe tbody tr th:only-of-type {\n",
       "        vertical-align: middle;\n",
       "    }\n",
       "\n",
       "    .dataframe tbody tr th {\n",
       "        vertical-align: top;\n",
       "    }\n",
       "\n",
       "    .dataframe thead th {\n",
       "        text-align: right;\n",
       "    }\n",
       "</style>\n",
       "<table border=\"1\" class=\"dataframe\">\n",
       "  <thead>\n",
       "    <tr style=\"text-align: right;\">\n",
       "      <th></th>\n",
       "      <th>Customer ID</th>\n",
       "      <th>Recency</th>\n",
       "      <th>Frequency</th>\n",
       "      <th>Monetary</th>\n",
       "      <th>Recency_Score</th>\n",
       "      <th>Frequency_Score</th>\n",
       "      <th>Monetary_Score</th>\n",
       "      <th>RFM_SCORE</th>\n",
       "      <th>Segment</th>\n",
       "    </tr>\n",
       "  </thead>\n",
       "  <tbody>\n",
       "    <tr>\n",
       "      <th>0</th>\n",
       "      <td>1</td>\n",
       "      <td>791</td>\n",
       "      <td>1</td>\n",
       "      <td>1950.00</td>\n",
       "      <td>1</td>\n",
       "      <td>1</td>\n",
       "      <td>2</td>\n",
       "      <td>112</td>\n",
       "      <td>Hibernating</td>\n",
       "    </tr>\n",
       "    <tr>\n",
       "      <th>1</th>\n",
       "      <td>3</td>\n",
       "      <td>469</td>\n",
       "      <td>1</td>\n",
       "      <td>4980.00</td>\n",
       "      <td>2</td>\n",
       "      <td>1</td>\n",
       "      <td>3</td>\n",
       "      <td>213</td>\n",
       "      <td>Hibernating</td>\n",
       "    </tr>\n",
       "    <tr>\n",
       "      <th>2</th>\n",
       "      <td>4</td>\n",
       "      <td>4</td>\n",
       "      <td>236</td>\n",
       "      <td>1316173.25</td>\n",
       "      <td>5</td>\n",
       "      <td>5</td>\n",
       "      <td>5</td>\n",
       "      <td>555</td>\n",
       "      <td>Champions</td>\n",
       "    </tr>\n",
       "    <tr>\n",
       "      <th>3</th>\n",
       "      <td>6</td>\n",
       "      <td>791</td>\n",
       "      <td>1</td>\n",
       "      <td>170.00</td>\n",
       "      <td>1</td>\n",
       "      <td>1</td>\n",
       "      <td>1</td>\n",
       "      <td>111</td>\n",
       "      <td>Hibernating</td>\n",
       "    </tr>\n",
       "    <tr>\n",
       "      <th>4</th>\n",
       "      <td>7</td>\n",
       "      <td>503</td>\n",
       "      <td>4</td>\n",
       "      <td>105.00</td>\n",
       "      <td>2</td>\n",
       "      <td>5</td>\n",
       "      <td>1</td>\n",
       "      <td>251</td>\n",
       "      <td>Can't Lose Them</td>\n",
       "    </tr>\n",
       "  </tbody>\n",
       "</table>\n",
       "</div>"
      ],
      "text/plain": [
       "   Customer ID  Recency  Frequency   Monetary Recency_Score Frequency_Score  \\\n",
       "0            1      791          1    1950.00             1               1   \n",
       "1            3      469          1    4980.00             2               1   \n",
       "2            4        4        236 1316173.25             5               5   \n",
       "3            6      791          1     170.00             1               1   \n",
       "4            7      503          4     105.00             2               5   \n",
       "\n",
       "  Monetary_Score RFM_SCORE          Segment  \n",
       "0              2       112      Hibernating  \n",
       "1              3       213      Hibernating  \n",
       "2              5       555        Champions  \n",
       "3              1       111      Hibernating  \n",
       "4              1       251  Can't Lose Them  "
      ]
     },
     "execution_count": 90,
     "metadata": {},
     "output_type": "execute_result"
    }
   ],
   "source": [
    "rfm_dt[\"Segment\"] = rfm_dt[\"Recency_Score\"].astype(str) + rfm_dt[\"Frequency_Score\"].astype(str)\n",
    "rfm_dt[\"Segment\"] = rfm_dt[\"Segment\"].replace(seg_map, regex=True)\n",
    "rfm_dt.head()"
   ]
  },
  {
   "cell_type": "code",
   "execution_count": 91,
   "metadata": {},
   "outputs": [
    {
     "data": {
      "text/html": [
       "<div>\n",
       "<style scoped>\n",
       "    .dataframe tbody tr th:only-of-type {\n",
       "        vertical-align: middle;\n",
       "    }\n",
       "\n",
       "    .dataframe tbody tr th {\n",
       "        vertical-align: top;\n",
       "    }\n",
       "\n",
       "    .dataframe thead th {\n",
       "        text-align: right;\n",
       "    }\n",
       "</style>\n",
       "<table border=\"1\" class=\"dataframe\">\n",
       "  <thead>\n",
       "    <tr style=\"text-align: right;\">\n",
       "      <th></th>\n",
       "      <th>Segment</th>\n",
       "      <th>Customer Number</th>\n",
       "      <th>Monetary</th>\n",
       "      <th>avg_monetary</th>\n",
       "      <th>ratio_segment</th>\n",
       "      <th>ratio_monetary</th>\n",
       "    </tr>\n",
       "  </thead>\n",
       "  <tbody>\n",
       "    <tr>\n",
       "      <th>4</th>\n",
       "      <td>Hibernating</td>\n",
       "      <td>23565</td>\n",
       "      <td>159229683.02</td>\n",
       "      <td>6757.04</td>\n",
       "      <td>29.41</td>\n",
       "      <td>9.76</td>\n",
       "    </tr>\n",
       "    <tr>\n",
       "      <th>8</th>\n",
       "      <td>Potential Loyalists</td>\n",
       "      <td>14508</td>\n",
       "      <td>114342741.45</td>\n",
       "      <td>7881.36</td>\n",
       "      <td>18.11</td>\n",
       "      <td>7.01</td>\n",
       "    </tr>\n",
       "    <tr>\n",
       "      <th>5</th>\n",
       "      <td>Loyal Customers</td>\n",
       "      <td>12434</td>\n",
       "      <td>521854253.52</td>\n",
       "      <td>41969.94</td>\n",
       "      <td>15.52</td>\n",
       "      <td>31.97</td>\n",
       "    </tr>\n",
       "    <tr>\n",
       "      <th>3</th>\n",
       "      <td>Champions</td>\n",
       "      <td>11146</td>\n",
       "      <td>602843538.77</td>\n",
       "      <td>54086.09</td>\n",
       "      <td>13.91</td>\n",
       "      <td>36.94</td>\n",
       "    </tr>\n",
       "    <tr>\n",
       "      <th>0</th>\n",
       "      <td>About To Sleep</td>\n",
       "      <td>7931</td>\n",
       "      <td>44579705.29</td>\n",
       "      <td>5620.94</td>\n",
       "      <td>9.90</td>\n",
       "      <td>2.73</td>\n",
       "    </tr>\n",
       "    <tr>\n",
       "      <th>1</th>\n",
       "      <td>At Risk</td>\n",
       "      <td>4653</td>\n",
       "      <td>46382796.45</td>\n",
       "      <td>9968.36</td>\n",
       "      <td>5.81</td>\n",
       "      <td>2.84</td>\n",
       "    </tr>\n",
       "    <tr>\n",
       "      <th>2</th>\n",
       "      <td>Can't Lose Them</td>\n",
       "      <td>3815</td>\n",
       "      <td>126687454.44</td>\n",
       "      <td>33207.72</td>\n",
       "      <td>4.76</td>\n",
       "      <td>7.76</td>\n",
       "    </tr>\n",
       "    <tr>\n",
       "      <th>6</th>\n",
       "      <td>Need Attention</td>\n",
       "      <td>1918</td>\n",
       "      <td>14831329.15</td>\n",
       "      <td>7732.71</td>\n",
       "      <td>2.39</td>\n",
       "      <td>0.91</td>\n",
       "    </tr>\n",
       "    <tr>\n",
       "      <th>9</th>\n",
       "      <td>Promising</td>\n",
       "      <td>82</td>\n",
       "      <td>680461.35</td>\n",
       "      <td>8298.31</td>\n",
       "      <td>0.10</td>\n",
       "      <td>0.04</td>\n",
       "    </tr>\n",
       "    <tr>\n",
       "      <th>7</th>\n",
       "      <td>New Customers</td>\n",
       "      <td>69</td>\n",
       "      <td>678801.09</td>\n",
       "      <td>9837.70</td>\n",
       "      <td>0.09</td>\n",
       "      <td>0.04</td>\n",
       "    </tr>\n",
       "  </tbody>\n",
       "</table>\n",
       "</div>"
      ],
      "text/plain": [
       "               Segment  Customer Number     Monetary  avg_monetary  \\\n",
       "4          Hibernating            23565 159229683.02       6757.04   \n",
       "8  Potential Loyalists            14508 114342741.45       7881.36   \n",
       "5      Loyal Customers            12434 521854253.52      41969.94   \n",
       "3            Champions            11146 602843538.77      54086.09   \n",
       "0       About To Sleep             7931  44579705.29       5620.94   \n",
       "1              At Risk             4653  46382796.45       9968.36   \n",
       "2      Can't Lose Them             3815 126687454.44      33207.72   \n",
       "6       Need Attention             1918  14831329.15       7732.71   \n",
       "9            Promising               82    680461.35       8298.31   \n",
       "7        New Customers               69    678801.09       9837.70   \n",
       "\n",
       "   ratio_segment  ratio_monetary  \n",
       "4          29.41            9.76  \n",
       "8          18.11            7.01  \n",
       "5          15.52           31.97  \n",
       "3          13.91           36.94  \n",
       "0           9.90            2.73  \n",
       "1           5.81            2.84  \n",
       "2           4.76            7.76  \n",
       "6           2.39            0.91  \n",
       "9           0.10            0.04  \n",
       "7           0.09            0.04  "
      ]
     },
     "execution_count": 91,
     "metadata": {},
     "output_type": "execute_result"
    }
   ],
   "source": [
    "#統計每個分組的顧客人數、消費金額和比例\n",
    "rfm_dt_segnum = rfm_dt.groupby(\"Segment\").agg({\"Customer ID\":\"count\",\"Monetary\":[\"sum\",\"mean\"]}).reset_index()\n",
    "rfm_dt_segnum = rfm_dt_segnum.droplevel(0, axis=1)\n",
    "rfm_dt_segnum[\"ratio_segment\"] = 100*(rfm_dt_segnum[\"count\"] / rfm_dt_segnum[\"count\"].sum())\n",
    "rfm_dt_segnum[\"ratio_monetary\"] = 100*(rfm_dt_segnum[\"sum\"] / rfm_dt_segnum[\"sum\"].sum())\n",
    "rfm_dt_segnum.columns = [\"Segment\", \"Customer Number\",\"Monetary\",\"avg_monetary\",\"ratio_segment\",\"ratio_monetary\"]\n",
    "rfm_dt_segnum.sort_values(\"Customer Number\", ascending=False)"
   ]
  },
  {
   "cell_type": "markdown",
   "metadata": {},
   "source": [
    "<div class=\"alert alert-warning\">\n",
    "<b>Insight 7. </b><br>\n",
    "<br>\n",
    "• 核心顧客(Champions、Loyal Customers、Potential Loyalists)：近期剛買完且消費頻率屬中上，針對高活躍的核心顧客，建議可以根據常買的商品推出「定期購服務」，或是「個性化推薦」的訊息作為互動方式。<br>\n",
    "• 新顧客(New Customers)：因為消費者最近剛完成購買，短時間內不一定會有回購需求，為了提升新客的黏著度變成核心客群，可以在策略上以「建立與顧客的接觸點」，讓客人可以透過社群接收到產品資訊、會員活動等。<br>\n",
    "• 久沒來的老顧客(Can't Lose Them)：曾經消費頻率高的顧客，但已經有段時間沒來消費了，這群客人的溝通成本較低，可以利用補貨提醒的方式搭配相關折價券，觀察回購成果，因為不希望讓他們變成流失客群，後續可以針對沒回購的客人了解不回購的原因。<br>\n",
    "• 冬眠(流失)的顧客(Hibernating)：距上次消費間隔已久且消費頻率最低，可視為「一次性消費者」。可以先了解顧客在過往購物體驗上是否遇到不滿的狀況，建議提供較高的折扣重新邀請顧客使用優化後的服務。<br>\n",
    "</div>"
   ]
  },
  {
   "cell_type": "code",
   "execution_count": 92,
   "metadata": {},
   "outputs": [
    {
     "data": {
      "application/vnd.plotly.v1+json": {
       "config": {
        "plotlyServerURL": "https://plot.ly"
       },
       "data": [
        {
         "branchvalues": "total",
         "domain": {
          "x": [
           0,
           1
          ],
          "y": [
           0,
           1
          ]
         },
         "hovertemplate": "labels=%{label}<br>Customer Number=%{value}<br>parent=%{parent}<br>id=%{id}<extra></extra>",
         "ids": [
          "About To Sleep",
          "At Risk",
          "Can't Lose Them",
          "Champions",
          "Hibernating",
          "Loyal Customers",
          "Need Attention",
          "New Customers",
          "Potential Loyalists",
          "Promising"
         ],
         "labels": [
          "About To Sleep",
          "At Risk",
          "Can't Lose Them",
          "Champions",
          "Hibernating",
          "Loyal Customers",
          "Need Attention",
          "New Customers",
          "Potential Loyalists",
          "Promising"
         ],
         "name": "",
         "parents": [
          "",
          "",
          "",
          "",
          "",
          "",
          "",
          "",
          "",
          ""
         ],
         "type": "treemap",
         "values": [
          7931,
          4653,
          3815,
          11146,
          23565,
          12434,
          1918,
          69,
          14508,
          82
         ]
        }
       ],
       "layout": {
        "height": 400,
        "legend": {
         "tracegroupgap": 0
        },
        "margin": {
         "b": 10,
         "l": 20,
         "r": 20,
         "t": 10
        },
        "template": {
         "data": {
          "bar": [
           {
            "error_x": {
             "color": "#2a3f5f"
            },
            "error_y": {
             "color": "#2a3f5f"
            },
            "marker": {
             "line": {
              "color": "#E5ECF6",
              "width": 0.5
             },
             "pattern": {
              "fillmode": "overlay",
              "size": 10,
              "solidity": 0.2
             }
            },
            "type": "bar"
           }
          ],
          "barpolar": [
           {
            "marker": {
             "line": {
              "color": "#E5ECF6",
              "width": 0.5
             },
             "pattern": {
              "fillmode": "overlay",
              "size": 10,
              "solidity": 0.2
             }
            },
            "type": "barpolar"
           }
          ],
          "carpet": [
           {
            "aaxis": {
             "endlinecolor": "#2a3f5f",
             "gridcolor": "white",
             "linecolor": "white",
             "minorgridcolor": "white",
             "startlinecolor": "#2a3f5f"
            },
            "baxis": {
             "endlinecolor": "#2a3f5f",
             "gridcolor": "white",
             "linecolor": "white",
             "minorgridcolor": "white",
             "startlinecolor": "#2a3f5f"
            },
            "type": "carpet"
           }
          ],
          "choropleth": [
           {
            "colorbar": {
             "outlinewidth": 0,
             "ticks": ""
            },
            "type": "choropleth"
           }
          ],
          "contour": [
           {
            "colorbar": {
             "outlinewidth": 0,
             "ticks": ""
            },
            "colorscale": [
             [
              0,
              "#0d0887"
             ],
             [
              0.1111111111111111,
              "#46039f"
             ],
             [
              0.2222222222222222,
              "#7201a8"
             ],
             [
              0.3333333333333333,
              "#9c179e"
             ],
             [
              0.4444444444444444,
              "#bd3786"
             ],
             [
              0.5555555555555556,
              "#d8576b"
             ],
             [
              0.6666666666666666,
              "#ed7953"
             ],
             [
              0.7777777777777778,
              "#fb9f3a"
             ],
             [
              0.8888888888888888,
              "#fdca26"
             ],
             [
              1,
              "#f0f921"
             ]
            ],
            "type": "contour"
           }
          ],
          "contourcarpet": [
           {
            "colorbar": {
             "outlinewidth": 0,
             "ticks": ""
            },
            "type": "contourcarpet"
           }
          ],
          "heatmap": [
           {
            "colorbar": {
             "outlinewidth": 0,
             "ticks": ""
            },
            "colorscale": [
             [
              0,
              "#0d0887"
             ],
             [
              0.1111111111111111,
              "#46039f"
             ],
             [
              0.2222222222222222,
              "#7201a8"
             ],
             [
              0.3333333333333333,
              "#9c179e"
             ],
             [
              0.4444444444444444,
              "#bd3786"
             ],
             [
              0.5555555555555556,
              "#d8576b"
             ],
             [
              0.6666666666666666,
              "#ed7953"
             ],
             [
              0.7777777777777778,
              "#fb9f3a"
             ],
             [
              0.8888888888888888,
              "#fdca26"
             ],
             [
              1,
              "#f0f921"
             ]
            ],
            "type": "heatmap"
           }
          ],
          "heatmapgl": [
           {
            "colorbar": {
             "outlinewidth": 0,
             "ticks": ""
            },
            "colorscale": [
             [
              0,
              "#0d0887"
             ],
             [
              0.1111111111111111,
              "#46039f"
             ],
             [
              0.2222222222222222,
              "#7201a8"
             ],
             [
              0.3333333333333333,
              "#9c179e"
             ],
             [
              0.4444444444444444,
              "#bd3786"
             ],
             [
              0.5555555555555556,
              "#d8576b"
             ],
             [
              0.6666666666666666,
              "#ed7953"
             ],
             [
              0.7777777777777778,
              "#fb9f3a"
             ],
             [
              0.8888888888888888,
              "#fdca26"
             ],
             [
              1,
              "#f0f921"
             ]
            ],
            "type": "heatmapgl"
           }
          ],
          "histogram": [
           {
            "marker": {
             "pattern": {
              "fillmode": "overlay",
              "size": 10,
              "solidity": 0.2
             }
            },
            "type": "histogram"
           }
          ],
          "histogram2d": [
           {
            "colorbar": {
             "outlinewidth": 0,
             "ticks": ""
            },
            "colorscale": [
             [
              0,
              "#0d0887"
             ],
             [
              0.1111111111111111,
              "#46039f"
             ],
             [
              0.2222222222222222,
              "#7201a8"
             ],
             [
              0.3333333333333333,
              "#9c179e"
             ],
             [
              0.4444444444444444,
              "#bd3786"
             ],
             [
              0.5555555555555556,
              "#d8576b"
             ],
             [
              0.6666666666666666,
              "#ed7953"
             ],
             [
              0.7777777777777778,
              "#fb9f3a"
             ],
             [
              0.8888888888888888,
              "#fdca26"
             ],
             [
              1,
              "#f0f921"
             ]
            ],
            "type": "histogram2d"
           }
          ],
          "histogram2dcontour": [
           {
            "colorbar": {
             "outlinewidth": 0,
             "ticks": ""
            },
            "colorscale": [
             [
              0,
              "#0d0887"
             ],
             [
              0.1111111111111111,
              "#46039f"
             ],
             [
              0.2222222222222222,
              "#7201a8"
             ],
             [
              0.3333333333333333,
              "#9c179e"
             ],
             [
              0.4444444444444444,
              "#bd3786"
             ],
             [
              0.5555555555555556,
              "#d8576b"
             ],
             [
              0.6666666666666666,
              "#ed7953"
             ],
             [
              0.7777777777777778,
              "#fb9f3a"
             ],
             [
              0.8888888888888888,
              "#fdca26"
             ],
             [
              1,
              "#f0f921"
             ]
            ],
            "type": "histogram2dcontour"
           }
          ],
          "mesh3d": [
           {
            "colorbar": {
             "outlinewidth": 0,
             "ticks": ""
            },
            "type": "mesh3d"
           }
          ],
          "parcoords": [
           {
            "line": {
             "colorbar": {
              "outlinewidth": 0,
              "ticks": ""
             }
            },
            "type": "parcoords"
           }
          ],
          "pie": [
           {
            "automargin": true,
            "type": "pie"
           }
          ],
          "scatter": [
           {
            "fillpattern": {
             "fillmode": "overlay",
             "size": 10,
             "solidity": 0.2
            },
            "type": "scatter"
           }
          ],
          "scatter3d": [
           {
            "line": {
             "colorbar": {
              "outlinewidth": 0,
              "ticks": ""
             }
            },
            "marker": {
             "colorbar": {
              "outlinewidth": 0,
              "ticks": ""
             }
            },
            "type": "scatter3d"
           }
          ],
          "scattercarpet": [
           {
            "marker": {
             "colorbar": {
              "outlinewidth": 0,
              "ticks": ""
             }
            },
            "type": "scattercarpet"
           }
          ],
          "scattergeo": [
           {
            "marker": {
             "colorbar": {
              "outlinewidth": 0,
              "ticks": ""
             }
            },
            "type": "scattergeo"
           }
          ],
          "scattergl": [
           {
            "marker": {
             "colorbar": {
              "outlinewidth": 0,
              "ticks": ""
             }
            },
            "type": "scattergl"
           }
          ],
          "scattermapbox": [
           {
            "marker": {
             "colorbar": {
              "outlinewidth": 0,
              "ticks": ""
             }
            },
            "type": "scattermapbox"
           }
          ],
          "scatterpolar": [
           {
            "marker": {
             "colorbar": {
              "outlinewidth": 0,
              "ticks": ""
             }
            },
            "type": "scatterpolar"
           }
          ],
          "scatterpolargl": [
           {
            "marker": {
             "colorbar": {
              "outlinewidth": 0,
              "ticks": ""
             }
            },
            "type": "scatterpolargl"
           }
          ],
          "scatterternary": [
           {
            "marker": {
             "colorbar": {
              "outlinewidth": 0,
              "ticks": ""
             }
            },
            "type": "scatterternary"
           }
          ],
          "surface": [
           {
            "colorbar": {
             "outlinewidth": 0,
             "ticks": ""
            },
            "colorscale": [
             [
              0,
              "#0d0887"
             ],
             [
              0.1111111111111111,
              "#46039f"
             ],
             [
              0.2222222222222222,
              "#7201a8"
             ],
             [
              0.3333333333333333,
              "#9c179e"
             ],
             [
              0.4444444444444444,
              "#bd3786"
             ],
             [
              0.5555555555555556,
              "#d8576b"
             ],
             [
              0.6666666666666666,
              "#ed7953"
             ],
             [
              0.7777777777777778,
              "#fb9f3a"
             ],
             [
              0.8888888888888888,
              "#fdca26"
             ],
             [
              1,
              "#f0f921"
             ]
            ],
            "type": "surface"
           }
          ],
          "table": [
           {
            "cells": {
             "fill": {
              "color": "#EBF0F8"
             },
             "line": {
              "color": "white"
             }
            },
            "header": {
             "fill": {
              "color": "#C8D4E3"
             },
             "line": {
              "color": "white"
             }
            },
            "type": "table"
           }
          ]
         },
         "layout": {
          "annotationdefaults": {
           "arrowcolor": "#2a3f5f",
           "arrowhead": 0,
           "arrowwidth": 1
          },
          "autotypenumbers": "strict",
          "coloraxis": {
           "colorbar": {
            "outlinewidth": 0,
            "ticks": ""
           }
          },
          "colorscale": {
           "diverging": [
            [
             0,
             "#8e0152"
            ],
            [
             0.1,
             "#c51b7d"
            ],
            [
             0.2,
             "#de77ae"
            ],
            [
             0.3,
             "#f1b6da"
            ],
            [
             0.4,
             "#fde0ef"
            ],
            [
             0.5,
             "#f7f7f7"
            ],
            [
             0.6,
             "#e6f5d0"
            ],
            [
             0.7,
             "#b8e186"
            ],
            [
             0.8,
             "#7fbc41"
            ],
            [
             0.9,
             "#4d9221"
            ],
            [
             1,
             "#276419"
            ]
           ],
           "sequential": [
            [
             0,
             "#0d0887"
            ],
            [
             0.1111111111111111,
             "#46039f"
            ],
            [
             0.2222222222222222,
             "#7201a8"
            ],
            [
             0.3333333333333333,
             "#9c179e"
            ],
            [
             0.4444444444444444,
             "#bd3786"
            ],
            [
             0.5555555555555556,
             "#d8576b"
            ],
            [
             0.6666666666666666,
             "#ed7953"
            ],
            [
             0.7777777777777778,
             "#fb9f3a"
            ],
            [
             0.8888888888888888,
             "#fdca26"
            ],
            [
             1,
             "#f0f921"
            ]
           ],
           "sequentialminus": [
            [
             0,
             "#0d0887"
            ],
            [
             0.1111111111111111,
             "#46039f"
            ],
            [
             0.2222222222222222,
             "#7201a8"
            ],
            [
             0.3333333333333333,
             "#9c179e"
            ],
            [
             0.4444444444444444,
             "#bd3786"
            ],
            [
             0.5555555555555556,
             "#d8576b"
            ],
            [
             0.6666666666666666,
             "#ed7953"
            ],
            [
             0.7777777777777778,
             "#fb9f3a"
            ],
            [
             0.8888888888888888,
             "#fdca26"
            ],
            [
             1,
             "#f0f921"
            ]
           ]
          },
          "colorway": [
           "#636efa",
           "#EF553B",
           "#00cc96",
           "#ab63fa",
           "#FFA15A",
           "#19d3f3",
           "#FF6692",
           "#B6E880",
           "#FF97FF",
           "#FECB52"
          ],
          "font": {
           "color": "#2a3f5f"
          },
          "geo": {
           "bgcolor": "white",
           "lakecolor": "white",
           "landcolor": "#E5ECF6",
           "showlakes": true,
           "showland": true,
           "subunitcolor": "white"
          },
          "hoverlabel": {
           "align": "left"
          },
          "hovermode": "closest",
          "mapbox": {
           "style": "light"
          },
          "paper_bgcolor": "white",
          "plot_bgcolor": "#E5ECF6",
          "polar": {
           "angularaxis": {
            "gridcolor": "white",
            "linecolor": "white",
            "ticks": ""
           },
           "bgcolor": "#E5ECF6",
           "radialaxis": {
            "gridcolor": "white",
            "linecolor": "white",
            "ticks": ""
           }
          },
          "scene": {
           "xaxis": {
            "backgroundcolor": "#E5ECF6",
            "gridcolor": "white",
            "gridwidth": 2,
            "linecolor": "white",
            "showbackground": true,
            "ticks": "",
            "zerolinecolor": "white"
           },
           "yaxis": {
            "backgroundcolor": "#E5ECF6",
            "gridcolor": "white",
            "gridwidth": 2,
            "linecolor": "white",
            "showbackground": true,
            "ticks": "",
            "zerolinecolor": "white"
           },
           "zaxis": {
            "backgroundcolor": "#E5ECF6",
            "gridcolor": "white",
            "gridwidth": 2,
            "linecolor": "white",
            "showbackground": true,
            "ticks": "",
            "zerolinecolor": "white"
           }
          },
          "shapedefaults": {
           "line": {
            "color": "#2a3f5f"
           }
          },
          "ternary": {
           "aaxis": {
            "gridcolor": "white",
            "linecolor": "white",
            "ticks": ""
           },
           "baxis": {
            "gridcolor": "white",
            "linecolor": "white",
            "ticks": ""
           },
           "bgcolor": "#E5ECF6",
           "caxis": {
            "gridcolor": "white",
            "linecolor": "white",
            "ticks": ""
           }
          },
          "title": {
           "x": 0.05
          },
          "xaxis": {
           "automargin": true,
           "gridcolor": "white",
           "linecolor": "white",
           "ticks": "",
           "title": {
            "standoff": 15
           },
           "zerolinecolor": "white",
           "zerolinewidth": 2
          },
          "yaxis": {
           "automargin": true,
           "gridcolor": "white",
           "linecolor": "white",
           "ticks": "",
           "title": {
            "standoff": 15
           },
           "zerolinecolor": "white",
           "zerolinewidth": 2
          }
         }
        },
        "treemapcolorway": [
         "#fae588",
         "#f79d65",
         "#f9dc5c",
         "#e8ac65",
         "#e76f51",
         "#ef233c",
         "#b7094c"
        ],
        "width": 800
       }
      }
     },
     "metadata": {},
     "output_type": "display_data"
    }
   ],
   "source": [
    "#利用 treemap 呈現每個分組的顧客數量\n",
    "colors=['#fae588','#f79d65','#f9dc5c','#e8ac65','#e76f51','#ef233c','#b7094c']\n",
    "fig = px.treemap(rfm_dt_segnum, path=['Segment'],values='Customer Number', width=800, height=400)\n",
    "fig.update_layout(\n",
    "    treemapcolorway = colors, #defines the colors in the treemap\n",
    "    margin = dict(t=10, l=20, r=20, b=10))\n",
    "fig.show()"
   ]
  },
  {
   "cell_type": "code",
   "execution_count": 93,
   "metadata": {},
   "outputs": [
    {
     "data": {
      "text/html": [
       "<div>\n",
       "<style scoped>\n",
       "    .dataframe tbody tr th:only-of-type {\n",
       "        vertical-align: middle;\n",
       "    }\n",
       "\n",
       "    .dataframe tbody tr th {\n",
       "        vertical-align: top;\n",
       "    }\n",
       "\n",
       "    .dataframe thead th {\n",
       "        text-align: right;\n",
       "    }\n",
       "</style>\n",
       "<table border=\"1\" class=\"dataframe\">\n",
       "  <thead>\n",
       "    <tr style=\"text-align: right;\">\n",
       "      <th></th>\n",
       "      <th>Recency</th>\n",
       "      <th>Frequency</th>\n",
       "      <th>Monetary</th>\n",
       "    </tr>\n",
       "    <tr>\n",
       "      <th>Segment</th>\n",
       "      <th></th>\n",
       "      <th></th>\n",
       "      <th></th>\n",
       "    </tr>\n",
       "  </thead>\n",
       "  <tbody>\n",
       "    <tr>\n",
       "      <th>About To Sleep</th>\n",
       "      <td>348.39</td>\n",
       "      <td>1.00</td>\n",
       "      <td>5620.94</td>\n",
       "    </tr>\n",
       "    <tr>\n",
       "      <th>At Risk</th>\n",
       "      <td>583.89</td>\n",
       "      <td>2.03</td>\n",
       "      <td>9968.36</td>\n",
       "    </tr>\n",
       "    <tr>\n",
       "      <th>Can't Lose Them</th>\n",
       "      <td>562.63</td>\n",
       "      <td>7.68</td>\n",
       "      <td>33207.72</td>\n",
       "    </tr>\n",
       "    <tr>\n",
       "      <th>Champions</th>\n",
       "      <td>86.20</td>\n",
       "      <td>5.57</td>\n",
       "      <td>54086.09</td>\n",
       "    </tr>\n",
       "    <tr>\n",
       "      <th>Hibernating</th>\n",
       "      <td>598.35</td>\n",
       "      <td>1.00</td>\n",
       "      <td>6757.04</td>\n",
       "    </tr>\n",
       "    <tr>\n",
       "      <th>Loyal Customers</th>\n",
       "      <td>277.38</td>\n",
       "      <td>4.66</td>\n",
       "      <td>41969.94</td>\n",
       "    </tr>\n",
       "    <tr>\n",
       "      <th>Need Attention</th>\n",
       "      <td>283.76</td>\n",
       "      <td>1.00</td>\n",
       "      <td>7732.71</td>\n",
       "    </tr>\n",
       "    <tr>\n",
       "      <th>New Customers</th>\n",
       "      <td>104.35</td>\n",
       "      <td>1.00</td>\n",
       "      <td>9837.70</td>\n",
       "    </tr>\n",
       "    <tr>\n",
       "      <th>Potential Loyalists</th>\n",
       "      <td>200.67</td>\n",
       "      <td>1.00</td>\n",
       "      <td>7881.36</td>\n",
       "    </tr>\n",
       "    <tr>\n",
       "      <th>Promising</th>\n",
       "      <td>237.55</td>\n",
       "      <td>1.00</td>\n",
       "      <td>8298.31</td>\n",
       "    </tr>\n",
       "  </tbody>\n",
       "</table>\n",
       "</div>"
      ],
      "text/plain": [
       "                     Recency  Frequency  Monetary\n",
       "Segment                                          \n",
       "About To Sleep        348.39       1.00   5620.94\n",
       "At Risk               583.89       2.03   9968.36\n",
       "Can't Lose Them       562.63       7.68  33207.72\n",
       "Champions              86.20       5.57  54086.09\n",
       "Hibernating           598.35       1.00   6757.04\n",
       "Loyal Customers       277.38       4.66  41969.94\n",
       "Need Attention        283.76       1.00   7732.71\n",
       "New Customers         104.35       1.00   9837.70\n",
       "Potential Loyalists   200.67       1.00   7881.36\n",
       "Promising             237.55       1.00   8298.31"
      ]
     },
     "execution_count": 93,
     "metadata": {},
     "output_type": "execute_result"
    }
   ],
   "source": [
    "rfm_dt[[\"Segment\",\"Recency\", \"Frequency\", \"Monetary\"]].groupby(\"Segment\").agg(\"mean\")"
   ]
  },
  {
   "cell_type": "markdown",
   "metadata": {},
   "source": [
    "<div class=\"alert alert-success\">\n",
    "8. 統計最有價值顧客購買的產品和消費總金額\n",
    "</div>"
   ]
  },
  {
   "cell_type": "code",
   "execution_count": 94,
   "metadata": {},
   "outputs": [
    {
     "data": {
      "text/html": [
       "<div>\n",
       "<style scoped>\n",
       "    .dataframe tbody tr th:only-of-type {\n",
       "        vertical-align: middle;\n",
       "    }\n",
       "\n",
       "    .dataframe tbody tr th {\n",
       "        vertical-align: top;\n",
       "    }\n",
       "\n",
       "    .dataframe thead th {\n",
       "        text-align: right;\n",
       "    }\n",
       "</style>\n",
       "<table border=\"1\" class=\"dataframe\">\n",
       "  <thead>\n",
       "    <tr style=\"text-align: right;\">\n",
       "      <th></th>\n",
       "      <th>category_name_1</th>\n",
       "      <th>count</th>\n",
       "      <th>sum</th>\n",
       "    </tr>\n",
       "  </thead>\n",
       "  <tbody>\n",
       "    <tr>\n",
       "      <th>9</th>\n",
       "      <td>Mobiles &amp; Tablets</td>\n",
       "      <td>15227</td>\n",
       "      <td>218141664.23</td>\n",
       "    </tr>\n",
       "    <tr>\n",
       "      <th>0</th>\n",
       "      <td>Appliances</td>\n",
       "      <td>9426</td>\n",
       "      <td>106733401.86</td>\n",
       "    </tr>\n",
       "    <tr>\n",
       "      <th>4</th>\n",
       "      <td>Entertainment</td>\n",
       "      <td>4502</td>\n",
       "      <td>81876816.60</td>\n",
       "    </tr>\n",
       "    <tr>\n",
       "      <th>14</th>\n",
       "      <td>Women's Fashion</td>\n",
       "      <td>11096</td>\n",
       "      <td>43833354.33</td>\n",
       "    </tr>\n",
       "    <tr>\n",
       "      <th>13</th>\n",
       "      <td>Superstore</td>\n",
       "      <td>13288</td>\n",
       "      <td>31763279.03</td>\n",
       "    </tr>\n",
       "    <tr>\n",
       "      <th>3</th>\n",
       "      <td>Computing</td>\n",
       "      <td>2287</td>\n",
       "      <td>23105740.16</td>\n",
       "    </tr>\n",
       "    <tr>\n",
       "      <th>8</th>\n",
       "      <td>Men's Fashion</td>\n",
       "      <td>11945</td>\n",
       "      <td>21257698.73</td>\n",
       "    </tr>\n",
       "    <tr>\n",
       "      <th>1</th>\n",
       "      <td>Beauty &amp; Grooming</td>\n",
       "      <td>8470</td>\n",
       "      <td>16529698.62</td>\n",
       "    </tr>\n",
       "    <tr>\n",
       "      <th>6</th>\n",
       "      <td>Home &amp; Living</td>\n",
       "      <td>5047</td>\n",
       "      <td>14345832.34</td>\n",
       "    </tr>\n",
       "    <tr>\n",
       "      <th>10</th>\n",
       "      <td>Others</td>\n",
       "      <td>3012</td>\n",
       "      <td>14269108.84</td>\n",
       "    </tr>\n",
       "    <tr>\n",
       "      <th>12</th>\n",
       "      <td>Soghaat</td>\n",
       "      <td>8057</td>\n",
       "      <td>9964569.82</td>\n",
       "    </tr>\n",
       "    <tr>\n",
       "      <th>5</th>\n",
       "      <td>Health &amp; Sports</td>\n",
       "      <td>4963</td>\n",
       "      <td>9867515.07</td>\n",
       "    </tr>\n",
       "    <tr>\n",
       "      <th>7</th>\n",
       "      <td>Kids &amp; Baby</td>\n",
       "      <td>2695</td>\n",
       "      <td>7227147.44</td>\n",
       "    </tr>\n",
       "    <tr>\n",
       "      <th>15</th>\n",
       "      <td>\\N</td>\n",
       "      <td>420</td>\n",
       "      <td>2437043.24</td>\n",
       "    </tr>\n",
       "    <tr>\n",
       "      <th>11</th>\n",
       "      <td>School &amp; Education</td>\n",
       "      <td>555</td>\n",
       "      <td>938348.44</td>\n",
       "    </tr>\n",
       "    <tr>\n",
       "      <th>2</th>\n",
       "      <td>Books</td>\n",
       "      <td>352</td>\n",
       "      <td>549723.02</td>\n",
       "    </tr>\n",
       "  </tbody>\n",
       "</table>\n",
       "</div>"
      ],
      "text/plain": [
       "       category_name_1  count          sum\n",
       "9    Mobiles & Tablets  15227 218141664.23\n",
       "0           Appliances   9426 106733401.86\n",
       "4        Entertainment   4502  81876816.60\n",
       "14     Women's Fashion  11096  43833354.33\n",
       "13          Superstore  13288  31763279.03\n",
       "3            Computing   2287  23105740.16\n",
       "8        Men's Fashion  11945  21257698.73\n",
       "1    Beauty & Grooming   8470  16529698.62\n",
       "6        Home & Living   5047  14345832.34\n",
       "10              Others   3012  14269108.84\n",
       "12             Soghaat   8057   9964569.82\n",
       "5      Health & Sports   4963   9867515.07\n",
       "7          Kids & Baby   2695   7227147.44\n",
       "15                  \\N    420   2437043.24\n",
       "11  School & Education    555    938348.44\n",
       "2                Books    352    549723.02"
      ]
     },
     "execution_count": 94,
     "metadata": {},
     "output_type": "execute_result"
    }
   ],
   "source": [
    "rfm_dt_mapping = rfm_dt[[\"Customer ID\",\"Segment\"]]\n",
    "dt_rfm = dt.merge(rfm_dt_mapping,how=\"left\")\n",
    "dt_rfm_champ =dt_rfm[(dt_rfm[\"status\"] == \"completed\") & (dt_rfm[\"Segment\"] == \"Champions\")].groupby(\"category_name_1\")[\"grand_total\"].agg([\"count\",\"sum\"]).reset_index()\n",
    "dt_rfm_champ.sort_values(by=\"sum\", ascending=False)"
   ]
  },
  {
   "cell_type": "markdown",
   "metadata": {},
   "source": [
    "<div class=\"alert alert-warning\">\n",
    "<b>Insight 8. </b><br>\n",
    "<br>\n",
    "• 分群結果可發現VIP顧客的人數比例為13.91%、銷售金額占36.94%，最近購買距今天數(Recency)平均多達86.2天，以電商的角度看回購週期其實蠻高的，而且其他分群的天數甚至更高，因此針對「降低回購天數」會是接下來訂定策略著重的方向。<br>\n",
    "• 為了更解客人的購買輪廓，可以跟顧客常買的產品類型、是否使用促銷優惠券等數據交叉比對。例如VIP顧客主要購買了手機和平板電腦、家電、娛樂產品、女裝服飾等，女性產品高於男性產品。<br>\n",
    "• 因為手機、家電回購週期較長，後續就可以從相關的產品主題中推薦給顧客，中高價位的像是電腦椅、手機殼等3C周邊，低單價的商品則可選服飾相關，測試應用在不同客群的效果。<br>\n",
    "</div> "
   ]
  },
  {
   "cell_type": "code",
   "execution_count": 95,
   "metadata": {},
   "outputs": [
    {
     "data": {
      "image/png": "[encoded data removed]",
      "text/plain": [
       "<Figure size 720x720 with 1 Axes>"
      ]
     },
     "metadata": {},
     "output_type": "display_data"
    }
   ],
   "source": [
    "#8-1 最有價值顧客購買的商品圓餅圖\n",
    "fig, ax = plt.subplots(figsize=(10, 10))\n",
    "colors = sns.color_palette(\"Set3\")[0:5]\n",
    "plt.pie(dt_rfm_champ[\"count\"], labels = dt_rfm_champ[\"category_name_1\"], colors=colors, autopct='%.0f%%')\n",
    "plt.show()"
   ]
  },
  {
   "cell_type": "code",
   "execution_count": 96,
   "metadata": {},
   "outputs": [
    {
     "data": {
      "image/png": "[encoded data removed]",
      "text/plain": [
       "<Figure size 720x720 with 1 Axes>"
      ]
     },
     "metadata": {},
     "output_type": "display_data"
    }
   ],
   "source": [
    "#8-2 最有價值顧客購買商品的消費總金額圓餅圖\n",
    "fig, ax = plt.subplots(figsize=(10, 10))\n",
    "colors = sns.color_palette(\"Set3\")[0:5]\n",
    "plt.pie(dt_rfm_champ[\"sum\"], labels = dt_rfm_champ[\"category_name_1\"], colors=colors, autopct='%.0f%%')\n",
    "plt.show()"
   ]
  },
  {
   "cell_type": "markdown",
   "metadata": {},
   "source": []
  },
  {
   "cell_type": "code",
   "execution_count": 97,
   "metadata": {},
   "outputs": [],
   "source": [
    "order_completed.to_csv(\"order_completed.csv\", index=False)"
   ]
  }
 ],
 "metadata": {
  "kernelspec": {
   "display_name": "Python 3.8.8 ('base')",
   "language": "python",
   "name": "python3"
  },
  "language_info": {
   "codemirror_mode": {
    "name": "ipython",
    "version": 3
   },
   "file_extension": ".py",
   "mimetype": "text/x-python",
   "name": "python",
   "nbconvert_exporter": "python",
   "pygments_lexer": "ipython3",
   "version": "3.8.8"
  },
  "orig_nbformat": 4,
  "vscode": {
   "interpreter": {
    "hash": "0f34cc79250ad0e4a99eb7fe7afdf3165bc4aa2cc1bb10fa40edf34315c4e305"
   }
  }
 },
 "nbformat": 4,
 "nbformat_minor": 2
}
