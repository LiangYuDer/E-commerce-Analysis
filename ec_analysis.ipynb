{
 "cells": [
  {
   "cell_type": "code",
   "execution_count": 2,
   "metadata": {},
   "outputs": [],
   "source": [
    "import numpy as np\n",
    "import pandas as pd\n",
    "import sqlite3\n",
    "\n",
    "df_customers = pd.read_csv(\"F:/Kaggle/E-Commerce-Analysis/olist_customers_dataset.csv\")\n",
    "df_sellers = pd.read_csv(\"F:/Kaggle/E-commerce-Analysis/olist_sellers_dataset.csv\")\n",
    "df_order_reviews = pd.read_csv(\"F:/kaggle/E-commerce-Analysis/olist_order_reviews_dataset.csv\")\n",
    "df_order_items = pd.read_csv(\"F:/kaggle/E-commerce-Analysis/olist_order_items_dataset.csv\")\n",
    "df_products = pd.read_csv(\"F:/kaggle/E-commerce-Analysis/olist_products_dataset.csv\")\n",
    "df_geolocation = pd.read_csv(\"F:/kaggle/E-commerce-Analysis/olist_geolocation_dataset.csv\")\n",
    "df_product_category_name_translation = pd.read_csv(\"F:/kaggle/E-commerce-Analysis/product_category_name_translation.csv\")\n",
    "df_orders = pd.read_csv(\"F:/kaggle/E-commerce-Analysis/olist_orders_dataset.csv\")\n",
    "df_order_payments = pd.read_csv(\"F:/kaggle/E-commerce-Analysis/olist_order_payments_dataset.csv\")"
   ]
  }
 ],
 "metadata": {
  "kernelspec": {
   "display_name": "Python 3.8.8 ('base')",
   "language": "python",
   "name": "python3"
  },
  "language_info": {
   "codemirror_mode": {
    "name": "ipython",
    "version": 3
   },
   "file_extension": ".py",
   "mimetype": "text/x-python",
   "name": "python",
   "nbconvert_exporter": "python",
   "pygments_lexer": "ipython3",
   "version": "3.8.8"
  },
  "orig_nbformat": 4,
  "vscode": {
   "interpreter": {
    "hash": "0f34cc79250ad0e4a99eb7fe7afdf3165bc4aa2cc1bb10fa40edf34315c4e305"
   }
  }
 },
 "nbformat": 4,
 "nbformat_minor": 2
}
