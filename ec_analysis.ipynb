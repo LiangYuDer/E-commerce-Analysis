{
 "cells": [
  {
   "cell_type": "code",
   "execution_count": 1,
   "metadata": {},
   "outputs": [],
   "source": [
    "import numpy as np\n",
    "import pandas as pd\n",
    "import matplotlib.pyplot as plt\n",
    "import plotly.express as px\n",
    "import seaborn as sns\n",
    "from datetime import timedelta\n",
    "pd.set_option('display.float_format', '{:.2f}'.format)"
   ]
  },
  {
   "cell_type": "code",
   "execution_count": 2,
   "metadata": {},
   "outputs": [
    {
     "name": "stderr",
     "output_type": "stream",
     "text": [
      "c:\\Users\\LiangYu\\anaconda3\\lib\\site-packages\\IPython\\core\\interactiveshell.py:3165: DtypeWarning: Columns (1,2,3,7,8,9,11,12,13,14,17,18,19) have mixed types.Specify dtype option on import or set low_memory=False.\n",
      "  has_raised = await self.run_ast_nodes(code_ast.body, cell_name,\n"
     ]
    },
    {
     "name": "stdout",
     "output_type": "stream",
     "text": [
      "<class 'pandas.core.frame.DataFrame'>\n",
      "RangeIndex: 1048575 entries, 0 to 1048574\n",
      "Data columns (total 26 columns):\n",
      " #   Column                 Non-Null Count   Dtype  \n",
      "---  ------                 --------------   -----  \n",
      " 0   item_id                584524 non-null  float64\n",
      " 1   status                 584509 non-null  object \n",
      " 2   created_at             584524 non-null  object \n",
      " 3   sku                    584504 non-null  object \n",
      " 4   price                  584524 non-null  float64\n",
      " 5   qty_ordered            584524 non-null  float64\n",
      " 6   grand_total            584524 non-null  float64\n",
      " 7   increment_id           584524 non-null  object \n",
      " 8   category_name_1        584360 non-null  object \n",
      " 9   sales_commission_code  447349 non-null  object \n",
      " 10  discount_amount        584524 non-null  float64\n",
      " 11  payment_method         584524 non-null  object \n",
      " 12  Working Date           584524 non-null  object \n",
      " 13  BI Status              584524 non-null  object \n",
      " 14   MV                    584524 non-null  object \n",
      " 15  Year                   584524 non-null  float64\n",
      " 16  Month                  584524 non-null  float64\n",
      " 17  Customer Since         584513 non-null  object \n",
      " 18  M-Y                    584524 non-null  object \n",
      " 19  FY                     584524 non-null  object \n",
      " 20  Customer ID            584513 non-null  float64\n",
      " 21  Unnamed: 21            0 non-null       float64\n",
      " 22  Unnamed: 22            0 non-null       float64\n",
      " 23  Unnamed: 23            0 non-null       float64\n",
      " 24  Unnamed: 24            0 non-null       float64\n",
      " 25  Unnamed: 25            0 non-null       float64\n",
      "dtypes: float64(13), object(13)\n",
      "memory usage: 208.0+ MB\n"
     ]
    }
   ],
   "source": [
    "dt = pd.read_csv(\"F:/Kaggle/E-commerce-Analysis/Pakistan Largest Ecommerce Dataset.csv\")\n",
    "dt.info()"
   ]
  },
  {
   "cell_type": "code",
   "execution_count": 3,
   "metadata": {},
   "outputs": [],
   "source": [
    "#保留需要的columns，並且刪除整行是空值的欄位\n",
    "dt = dt.loc[:,[\"item_id\", \"status\", \"created_at\", \"sku\", \"price\", \"qty_ordered\", \"grand_total\", \"increment_id\", \"category_name_1\",\"discount_amount\", \\\n",
    "    \"payment_method\", \"Year\", \"Month\", \"Customer ID\"]]\n",
    "dt = dt.dropna(how = 'all')"
   ]
  },
  {
   "cell_type": "code",
   "execution_count": 4,
   "metadata": {},
   "outputs": [],
   "source": [
    "#另有11筆資料缺少會員id，也將這些訂單資料刪除。\n",
    "#dt[dt[\"Customer ID\"].isna()]\n",
    "dt = dt.dropna(subset=[\"Customer ID\"])"
   ]
  },
  {
   "cell_type": "code",
   "execution_count": 5,
   "metadata": {},
   "outputs": [
    {
     "data": {
      "text/html": [
       "<div>\n",
       "<style scoped>\n",
       "    .dataframe tbody tr th:only-of-type {\n",
       "        vertical-align: middle;\n",
       "    }\n",
       "\n",
       "    .dataframe tbody tr th {\n",
       "        vertical-align: top;\n",
       "    }\n",
       "\n",
       "    .dataframe thead th {\n",
       "        text-align: right;\n",
       "    }\n",
       "</style>\n",
       "<table border=\"1\" class=\"dataframe\">\n",
       "  <thead>\n",
       "    <tr style=\"text-align: right;\">\n",
       "      <th></th>\n",
       "      <th>item_id</th>\n",
       "      <th>price</th>\n",
       "      <th>qty_ordered</th>\n",
       "      <th>grand_total</th>\n",
       "      <th>discount_amount</th>\n",
       "      <th>Year</th>\n",
       "      <th>Month</th>\n",
       "      <th>Customer ID</th>\n",
       "    </tr>\n",
       "  </thead>\n",
       "  <tbody>\n",
       "    <tr>\n",
       "      <th>count</th>\n",
       "      <td>584513.00</td>\n",
       "      <td>584513.00</td>\n",
       "      <td>584513.00</td>\n",
       "      <td>584513.00</td>\n",
       "      <td>584513.00</td>\n",
       "      <td>584513.00</td>\n",
       "      <td>584513.00</td>\n",
       "      <td>584513.00</td>\n",
       "    </tr>\n",
       "    <tr>\n",
       "      <th>mean</th>\n",
       "      <td>565663.13</td>\n",
       "      <td>6348.82</td>\n",
       "      <td>1.30</td>\n",
       "      <td>8530.68</td>\n",
       "      <td>499.50</td>\n",
       "      <td>2017.04</td>\n",
       "      <td>7.17</td>\n",
       "      <td>45790.51</td>\n",
       "    </tr>\n",
       "    <tr>\n",
       "      <th>std</th>\n",
       "      <td>200120.93</td>\n",
       "      <td>14949.40</td>\n",
       "      <td>4.00</td>\n",
       "      <td>61321.38</td>\n",
       "      <td>1506.96</td>\n",
       "      <td>0.71</td>\n",
       "      <td>3.49</td>\n",
       "      <td>34414.96</td>\n",
       "    </tr>\n",
       "    <tr>\n",
       "      <th>min</th>\n",
       "      <td>211131.00</td>\n",
       "      <td>0.00</td>\n",
       "      <td>1.00</td>\n",
       "      <td>-1594.00</td>\n",
       "      <td>-599.50</td>\n",
       "      <td>2016.00</td>\n",
       "      <td>1.00</td>\n",
       "      <td>1.00</td>\n",
       "    </tr>\n",
       "    <tr>\n",
       "      <th>25%</th>\n",
       "      <td>394997.00</td>\n",
       "      <td>360.00</td>\n",
       "      <td>1.00</td>\n",
       "      <td>945.00</td>\n",
       "      <td>0.00</td>\n",
       "      <td>2017.00</td>\n",
       "      <td>4.00</td>\n",
       "      <td>13516.00</td>\n",
       "    </tr>\n",
       "    <tr>\n",
       "      <th>50%</th>\n",
       "      <td>568417.00</td>\n",
       "      <td>899.00</td>\n",
       "      <td>1.00</td>\n",
       "      <td>1960.40</td>\n",
       "      <td>0.00</td>\n",
       "      <td>2017.00</td>\n",
       "      <td>7.00</td>\n",
       "      <td>42856.00</td>\n",
       "    </tr>\n",
       "    <tr>\n",
       "      <th>75%</th>\n",
       "      <td>739102.00</td>\n",
       "      <td>4070.00</td>\n",
       "      <td>1.00</td>\n",
       "      <td>6999.00</td>\n",
       "      <td>160.52</td>\n",
       "      <td>2018.00</td>\n",
       "      <td>11.00</td>\n",
       "      <td>73536.00</td>\n",
       "    </tr>\n",
       "    <tr>\n",
       "      <th>max</th>\n",
       "      <td>905208.00</td>\n",
       "      <td>1012625.90</td>\n",
       "      <td>1000.00</td>\n",
       "      <td>17888000.00</td>\n",
       "      <td>90300.00</td>\n",
       "      <td>2018.00</td>\n",
       "      <td>12.00</td>\n",
       "      <td>115326.00</td>\n",
       "    </tr>\n",
       "  </tbody>\n",
       "</table>\n",
       "</div>"
      ],
      "text/plain": [
       "        item_id      price  qty_ordered  grand_total  discount_amount  \\\n",
       "count 584513.00  584513.00    584513.00    584513.00        584513.00   \n",
       "mean  565663.13    6348.82         1.30      8530.68           499.50   \n",
       "std   200120.93   14949.40         4.00     61321.38          1506.96   \n",
       "min   211131.00       0.00         1.00     -1594.00          -599.50   \n",
       "25%   394997.00     360.00         1.00       945.00             0.00   \n",
       "50%   568417.00     899.00         1.00      1960.40             0.00   \n",
       "75%   739102.00    4070.00         1.00      6999.00           160.52   \n",
       "max   905208.00 1012625.90      1000.00  17888000.00         90300.00   \n",
       "\n",
       "           Year     Month  Customer ID  \n",
       "count 584513.00 584513.00    584513.00  \n",
       "mean    2017.04      7.17     45790.51  \n",
       "std        0.71      3.49     34414.96  \n",
       "min     2016.00      1.00         1.00  \n",
       "25%     2017.00      4.00     13516.00  \n",
       "50%     2017.00      7.00     42856.00  \n",
       "75%     2018.00     11.00     73536.00  \n",
       "max     2018.00     12.00    115326.00  "
      ]
     },
     "execution_count": 5,
     "metadata": {},
     "output_type": "execute_result"
    }
   ],
   "source": [
    "dt.describe()"
   ]
  },
  {
   "cell_type": "code",
   "execution_count": 6,
   "metadata": {},
   "outputs": [
    {
     "data": {
      "text/html": [
       "<div>\n",
       "<style scoped>\n",
       "    .dataframe tbody tr th:only-of-type {\n",
       "        vertical-align: middle;\n",
       "    }\n",
       "\n",
       "    .dataframe tbody tr th {\n",
       "        vertical-align: top;\n",
       "    }\n",
       "\n",
       "    .dataframe thead th {\n",
       "        text-align: right;\n",
       "    }\n",
       "</style>\n",
       "<table border=\"1\" class=\"dataframe\">\n",
       "  <thead>\n",
       "    <tr style=\"text-align: right;\">\n",
       "      <th></th>\n",
       "      <th>status</th>\n",
       "      <th>created_at</th>\n",
       "      <th>sku</th>\n",
       "      <th>increment_id</th>\n",
       "      <th>category_name_1</th>\n",
       "      <th>payment_method</th>\n",
       "    </tr>\n",
       "  </thead>\n",
       "  <tbody>\n",
       "    <tr>\n",
       "      <th>count</th>\n",
       "      <td>584498</td>\n",
       "      <td>584513</td>\n",
       "      <td>584493</td>\n",
       "      <td>584513</td>\n",
       "      <td>584349</td>\n",
       "      <td>584513</td>\n",
       "    </tr>\n",
       "    <tr>\n",
       "      <th>unique</th>\n",
       "      <td>16</td>\n",
       "      <td>789</td>\n",
       "      <td>84888</td>\n",
       "      <td>408776</td>\n",
       "      <td>16</td>\n",
       "      <td>18</td>\n",
       "    </tr>\n",
       "    <tr>\n",
       "      <th>top</th>\n",
       "      <td>complete</td>\n",
       "      <td>11/25/2016</td>\n",
       "      <td>MATSAM59DB75ADB2F80</td>\n",
       "      <td>100266667</td>\n",
       "      <td>Mobiles &amp; Tablets</td>\n",
       "      <td>cod</td>\n",
       "    </tr>\n",
       "    <tr>\n",
       "      <th>freq</th>\n",
       "      <td>233685</td>\n",
       "      <td>15169</td>\n",
       "      <td>3775</td>\n",
       "      <td>72</td>\n",
       "      <td>115710</td>\n",
       "      <td>271955</td>\n",
       "    </tr>\n",
       "  </tbody>\n",
       "</table>\n",
       "</div>"
      ],
      "text/plain": [
       "          status  created_at                  sku increment_id  \\\n",
       "count     584498      584513               584493       584513   \n",
       "unique        16         789                84888       408776   \n",
       "top     complete  11/25/2016  MATSAM59DB75ADB2F80    100266667   \n",
       "freq      233685       15169                 3775           72   \n",
       "\n",
       "          category_name_1 payment_method  \n",
       "count              584349         584513  \n",
       "unique                 16             18  \n",
       "top     Mobiles & Tablets            cod  \n",
       "freq               115710         271955  "
      ]
     },
     "execution_count": 6,
     "metadata": {},
     "output_type": "execute_result"
    }
   ],
   "source": [
    "dt.describe(include=['object','bool'])"
   ]
  },
  {
   "cell_type": "code",
   "execution_count": 7,
   "metadata": {},
   "outputs": [
    {
     "data": {
      "text/plain": [
       "array(['complete', 'canceled', 'order_refunded', 'received', 'refund',\n",
       "       'closed', 'fraud', 'holded', 'exchange', 'pending_paypal', 'paid',\n",
       "       '\\\\N', 'cod', 'pending', nan, 'processing', 'payment_review'],\n",
       "      dtype=object)"
      ]
     },
     "execution_count": 7,
     "metadata": {},
     "output_type": "execute_result"
    }
   ],
   "source": [
    "#檢查 status 內不同的分類，接著把意思相近的分類整理成 \"已完成\"、\"取消\"、\"處理中\"\n",
    "dt[\"status\"].unique()"
   ]
  },
  {
   "cell_type": "code",
   "execution_count": 8,
   "metadata": {},
   "outputs": [],
   "source": [
    "dt[\"status\"] = dt[\"status\"].replace(\n",
    "    {\"complete\": \"completed\",\n",
    "    \"received\": \"completed\",\n",
    "    \"cod\": \"completed\",\n",
    "    \"paid\": \"completed\",\n",
    "    \"closed\": \"completed\",\n",
    "    \"exchange\": \"completed\",\n",
    "    \"canceled\": \"canceled\",\n",
    "    \"order_refunded\": \"canceled\",\n",
    "    \"refund\": \"canceled\",\n",
    "    \"fraud\": \"canceled\",\n",
    "    \"payment_review\": \"pending\",\n",
    "    \"pending\": \"pending\",\n",
    "    \"processing\": \"pending\",\n",
    "    \"holded\": \"pending\",\n",
    "    \"pending_paypal\": \"pending\"})"
   ]
  },
  {
   "cell_type": "code",
   "execution_count": 9,
   "metadata": {},
   "outputs": [],
   "source": [
    "#將所需的 column 轉換成正確的資料類型\n",
    "dt[\"Customer ID\"] = dt[\"Customer ID\"].astype(int)\n",
    "dt[\"item_id\"] = dt[\"item_id\"].astype(str)\n",
    "dt[\"qty_ordered\"] = dt[\"qty_ordered\"].astype(int)  \n",
    "dt[\"Year\"] = dt[\"Year\"].astype(int)  \n",
    "dt[\"Month\"] = dt[\"Month\"].astype(int)"
   ]
  },
  {
   "cell_type": "code",
   "execution_count": 10,
   "metadata": {},
   "outputs": [
    {
     "name": "stdout",
     "output_type": "stream",
     "text": [
      "2016-07-01 00:00:00\n",
      "2018-08-28 00:00:00\n"
     ]
    }
   ],
   "source": [
    "#將消費日期轉為正確格式 %Y/%m/%m\n",
    "dt[\"Day\"] = dt[\"created_at\"].str.split('/', expand=True)[1].apply(lambda x: x if len(x)>1 else \"0\"+x)\n",
    "dt[\"Month\"] = dt[\"Month\"].astype(str).apply(lambda x: x if len(x)>1 else \"0\"+x)\n",
    "dt[\"created_at\"] = dt[\"Year\"].astype(str) + \"-\" + dt[\"Month\"] + \"-\" + dt[\"Day\"].astype(str)\n",
    "dt[\"created_at_date\"] = pd.to_datetime(dt[\"created_at\"])\n",
    "print(dt[\"created_at_date\"].min())\n",
    "print(dt[\"created_at_date\"].max())"
   ]
  },
  {
   "cell_type": "code",
   "execution_count": 54,
   "metadata": {},
   "outputs": [
    {
     "data": {
      "text/html": [
       "<div>\n",
       "<style scoped>\n",
       "    .dataframe tbody tr th:only-of-type {\n",
       "        vertical-align: middle;\n",
       "    }\n",
       "\n",
       "    .dataframe tbody tr th {\n",
       "        vertical-align: top;\n",
       "    }\n",
       "\n",
       "    .dataframe thead th {\n",
       "        text-align: right;\n",
       "    }\n",
       "</style>\n",
       "<table border=\"1\" class=\"dataframe\">\n",
       "  <thead>\n",
       "    <tr style=\"text-align: right;\">\n",
       "      <th></th>\n",
       "      <th>Year_Month</th>\n",
       "      <th>Year</th>\n",
       "      <th>Month</th>\n",
       "      <th>qty_ordered</th>\n",
       "      <th>grand_total</th>\n",
       "    </tr>\n",
       "  </thead>\n",
       "  <tbody>\n",
       "    <tr>\n",
       "      <th>0</th>\n",
       "      <td>2016-07</td>\n",
       "      <td>2016</td>\n",
       "      <td>07</td>\n",
       "      <td>6639</td>\n",
       "      <td>11720820.27</td>\n",
       "    </tr>\n",
       "    <tr>\n",
       "      <th>1</th>\n",
       "      <td>2016-08</td>\n",
       "      <td>2016</td>\n",
       "      <td>08</td>\n",
       "      <td>8506</td>\n",
       "      <td>17588479.23</td>\n",
       "    </tr>\n",
       "    <tr>\n",
       "      <th>2</th>\n",
       "      <td>2016-09</td>\n",
       "      <td>2016</td>\n",
       "      <td>09</td>\n",
       "      <td>9150</td>\n",
       "      <td>27503668.06</td>\n",
       "    </tr>\n",
       "    <tr>\n",
       "      <th>3</th>\n",
       "      <td>2016-10</td>\n",
       "      <td>2016</td>\n",
       "      <td>10</td>\n",
       "      <td>9074</td>\n",
       "      <td>24824142.90</td>\n",
       "    </tr>\n",
       "    <tr>\n",
       "      <th>4</th>\n",
       "      <td>2016-11</td>\n",
       "      <td>2016</td>\n",
       "      <td>11</td>\n",
       "      <td>42330</td>\n",
       "      <td>97895239.77</td>\n",
       "    </tr>\n",
       "  </tbody>\n",
       "</table>\n",
       "</div>"
      ],
      "text/plain": [
       "  Year_Month  Year Month  qty_ordered  grand_total\n",
       "0    2016-07  2016    07         6639  11720820.27\n",
       "1    2016-08  2016    08         8506  17588479.23\n",
       "2    2016-09  2016    09         9150  27503668.06\n",
       "3    2016-10  2016    10         9074  24824142.90\n",
       "4    2016-11  2016    11        42330  97895239.77"
      ]
     },
     "execution_count": 54,
     "metadata": {},
     "output_type": "execute_result"
    }
   ],
   "source": [
    "#1 統計2016/07/01 - 2018/08/28 月營收\n",
    "revenue = dt[dt[\"status\"] == \"completed\"][[\"Year\", \"Month\", \"qty_ordered\", \"grand_total\"]].groupby([\"Year\", \"Month\"]).agg(\"sum\").sort_values(by=[\"Year\", \"Month\"]).reset_index()\n",
    "created_at_y_m = revenue[\"Year\"].astype(str) + \"-\" + revenue[\"Month\"]\n",
    "revenue.insert(0,\"Year_Month\",created_at_y_m)\n",
    "revenue.head()"
   ]
  },
  {
   "cell_type": "code",
   "execution_count": 145,
   "metadata": {},
   "outputs": [
    {
     "data": {
      "image/png": "[encoded data removed]",
      "text/plain": [
       "<Figure size 1440x360 with 1 Axes>"
      ]
     },
     "metadata": {},
     "output_type": "display_data"
    }
   ],
   "source": [
    "fig, ax = plt.subplots(figsize=(20, 5))\n",
    "sns.set(style=\"darkgrid\", palette=\"Set1\")\n",
    "sns.lineplot(data=revenue, x=\"Year_Month\", y=\"grand_total\",marker=\"o\")\n",
    "ax.yaxis.get_major_formatter().set_scientific(False)\n",
    "#ax.yaxis.get_major_formatter().set_useOffset(False)\n",
    "ax.set_xlabel('')\n",
    "ax.set_ylabel('Revenue')\n",
    "plt.xticks(rotation=45);"
   ]
  },
  {
   "cell_type": "code",
   "execution_count": 13,
   "metadata": {},
   "outputs": [],
   "source": [
    "created_at_y_m = dt[\"Year\"].astype(str) + \"-\" + dt[\"Month\"]\n",
    "dt.insert(0,\"Year_Month\",created_at_y_m)"
   ]
  },
  {
   "cell_type": "code",
   "execution_count": 169,
   "metadata": {},
   "outputs": [
    {
     "data": {
      "text/html": [
       "<div>\n",
       "<style scoped>\n",
       "    .dataframe tbody tr th:only-of-type {\n",
       "        vertical-align: middle;\n",
       "    }\n",
       "\n",
       "    .dataframe tbody tr th {\n",
       "        vertical-align: top;\n",
       "    }\n",
       "\n",
       "    .dataframe thead th {\n",
       "        text-align: right;\n",
       "    }\n",
       "</style>\n",
       "<table border=\"1\" class=\"dataframe\">\n",
       "  <thead>\n",
       "    <tr style=\"text-align: right;\">\n",
       "      <th></th>\n",
       "      <th>Year_Month</th>\n",
       "      <th>grand_total</th>\n",
       "      <th>total_order</th>\n",
       "      <th>AOV</th>\n",
       "    </tr>\n",
       "  </thead>\n",
       "  <tbody>\n",
       "    <tr>\n",
       "      <th>0</th>\n",
       "      <td>2016-07</td>\n",
       "      <td>11720820.27</td>\n",
       "      <td>4930</td>\n",
       "      <td>2377.45</td>\n",
       "    </tr>\n",
       "    <tr>\n",
       "      <th>1</th>\n",
       "      <td>2016-08</td>\n",
       "      <td>17588479.23</td>\n",
       "      <td>6467</td>\n",
       "      <td>2719.73</td>\n",
       "    </tr>\n",
       "    <tr>\n",
       "      <th>2</th>\n",
       "      <td>2016-09</td>\n",
       "      <td>27503668.06</td>\n",
       "      <td>7035</td>\n",
       "      <td>3909.55</td>\n",
       "    </tr>\n",
       "    <tr>\n",
       "      <th>3</th>\n",
       "      <td>2016-10</td>\n",
       "      <td>24824142.90</td>\n",
       "      <td>6304</td>\n",
       "      <td>3937.84</td>\n",
       "    </tr>\n",
       "    <tr>\n",
       "      <th>4</th>\n",
       "      <td>2016-11</td>\n",
       "      <td>97895239.77</td>\n",
       "      <td>30544</td>\n",
       "      <td>3205.06</td>\n",
       "    </tr>\n",
       "  </tbody>\n",
       "</table>\n",
       "</div>"
      ],
      "text/plain": [
       "  Year_Month  grand_total  total_order     AOV\n",
       "0    2016-07  11720820.27         4930 2377.45\n",
       "1    2016-08  17588479.23         6467 2719.73\n",
       "2    2016-09  27503668.06         7035 3909.55\n",
       "3    2016-10  24824142.90         6304 3937.84\n",
       "4    2016-11  97895239.77        30544 3205.06"
      ]
     },
     "execution_count": 169,
     "metadata": {},
     "output_type": "execute_result"
    }
   ],
   "source": [
    "#2 統計每月份客單價 每月收入/訂單總數\n",
    "orders = dt[dt[\"status\"] == \"completed\"].groupby(\"Year_Month\")[\"increment_id\"].nunique().reset_index()\n",
    "revenue[\"total_order\"] = orders[\"increment_id\"]\n",
    "revenue[\"AOV\"] = revenue[\"grand_total\"]/revenue[\"total_order\"]\n",
    "revenue[[\"Year_Month\",\"grand_total\",\"total_order\",\"AOV\"]].head()"
   ]
  },
  {
   "cell_type": "code",
   "execution_count": 15,
   "metadata": {},
   "outputs": [
    {
     "data": {
      "image/png": "[encoded data removed]",
      "text/plain": [
       "<Figure size 1440x360 with 1 Axes>"
      ]
     },
     "metadata": {},
     "output_type": "display_data"
    }
   ],
   "source": [
    "fig, ax = plt.subplots(figsize=(20, 5))\n",
    "sns.set(style=\"darkgrid\", palette=\"YlGn\")\n",
    "sns.lineplot(data=revenue, x=\"Year_Month\", y=\"AOV\",marker=\"o\")\n",
    "ax.set_xlabel(\"\")\n",
    "ax.set_ylabel(\"AOV\")\n",
    "plt.xticks(rotation=45);"
   ]
  },
  {
   "cell_type": "code",
   "execution_count": 172,
   "metadata": {},
   "outputs": [
    {
     "data": {
      "text/html": [
       "<div>\n",
       "<style scoped>\n",
       "    .dataframe tbody tr th:only-of-type {\n",
       "        vertical-align: middle;\n",
       "    }\n",
       "\n",
       "    .dataframe tbody tr th {\n",
       "        vertical-align: top;\n",
       "    }\n",
       "\n",
       "    .dataframe thead th {\n",
       "        text-align: right;\n",
       "    }\n",
       "</style>\n",
       "<table border=\"1\" class=\"dataframe\">\n",
       "  <thead>\n",
       "    <tr style=\"text-align: right;\">\n",
       "      <th></th>\n",
       "      <th>Year_Month</th>\n",
       "      <th>Customer ID</th>\n",
       "      <th>month_total_order</th>\n",
       "      <th>month_capita_order</th>\n",
       "    </tr>\n",
       "  </thead>\n",
       "  <tbody>\n",
       "    <tr>\n",
       "      <th>0</th>\n",
       "      <td>2016-07</td>\n",
       "      <td>1622</td>\n",
       "      <td>4930</td>\n",
       "      <td>3.04</td>\n",
       "    </tr>\n",
       "    <tr>\n",
       "      <th>1</th>\n",
       "      <td>2016-08</td>\n",
       "      <td>2640</td>\n",
       "      <td>6467</td>\n",
       "      <td>2.45</td>\n",
       "    </tr>\n",
       "    <tr>\n",
       "      <th>2</th>\n",
       "      <td>2016-09</td>\n",
       "      <td>3772</td>\n",
       "      <td>7035</td>\n",
       "      <td>1.87</td>\n",
       "    </tr>\n",
       "    <tr>\n",
       "      <th>3</th>\n",
       "      <td>2016-10</td>\n",
       "      <td>2765</td>\n",
       "      <td>6304</td>\n",
       "      <td>2.28</td>\n",
       "    </tr>\n",
       "    <tr>\n",
       "      <th>4</th>\n",
       "      <td>2016-11</td>\n",
       "      <td>12811</td>\n",
       "      <td>30544</td>\n",
       "      <td>2.38</td>\n",
       "    </tr>\n",
       "  </tbody>\n",
       "</table>\n",
       "</div>"
      ],
      "text/plain": [
       "  Year_Month  Customer ID  month_total_order  month_capita_order\n",
       "0    2016-07         1622               4930                3.04\n",
       "1    2016-08         2640               6467                2.45\n",
       "2    2016-09         3772               7035                1.87\n",
       "3    2016-10         2765               6304                2.28\n",
       "4    2016-11        12811              30544                2.38"
      ]
     },
     "execution_count": 172,
     "metadata": {},
     "output_type": "execute_result"
    }
   ],
   "source": [
    "#3 統計每月份人均消費訂單數\n",
    "customer_id_count = dt[dt[\"status\"] == \"completed\"].groupby([\"Year_Month\"])[\"Customer ID\"].nunique().reset_index()\n",
    "customer_id_count[\"month_total_order\"] = orders[\"increment_id\"]\n",
    "customer_id_count[\"month_capita_order\"] = round(customer_id_count[\"month_total_order\"]/customer_id_count[\"Customer ID\"],2)\n",
    "customer_id_count.head()"
   ]
  },
  {
   "cell_type": "code",
   "execution_count": 53,
   "metadata": {},
   "outputs": [
    {
     "data": {
      "image/png": "[encoded data removed]",
      "text/plain": [
       "<Figure size 1440x360 with 1 Axes>"
      ]
     },
     "metadata": {},
     "output_type": "display_data"
    }
   ],
   "source": [
    "fig, ax = plt.subplots(figsize=(20, 5))\n",
    "sns.set(style=\"darkgrid\", palette=\"bright\")\n",
    "sns.lineplot(data=customer_id_count, x=\"Year_Month\", y=\"month_capita_order\",marker=\"o\")\n",
    "ax.set_xlabel(\"\")\n",
    "ax.set_ylabel(\"month_capita_order\")\n",
    "plt.xticks(rotation=45);"
   ]
  },
  {
   "cell_type": "code",
   "execution_count": 167,
   "metadata": {},
   "outputs": [
    {
     "data": {
      "text/html": [
       "<div>\n",
       "<style scoped>\n",
       "    .dataframe tbody tr th:only-of-type {\n",
       "        vertical-align: middle;\n",
       "    }\n",
       "\n",
       "    .dataframe tbody tr th {\n",
       "        vertical-align: top;\n",
       "    }\n",
       "\n",
       "    .dataframe thead th {\n",
       "        text-align: right;\n",
       "    }\n",
       "</style>\n",
       "<table border=\"1\" class=\"dataframe\">\n",
       "  <thead>\n",
       "    <tr style=\"text-align: right;\">\n",
       "      <th></th>\n",
       "      <th>Order</th>\n",
       "      <th>Customer_Counts</th>\n",
       "      <th>%</th>\n",
       "    </tr>\n",
       "  </thead>\n",
       "  <tbody>\n",
       "    <tr>\n",
       "      <th>0</th>\n",
       "      <td>One Order</td>\n",
       "      <td>51801</td>\n",
       "      <td>0.65</td>\n",
       "    </tr>\n",
       "    <tr>\n",
       "      <th>1</th>\n",
       "      <td>More than One Order</td>\n",
       "      <td>28320</td>\n",
       "      <td>0.35</td>\n",
       "    </tr>\n",
       "  </tbody>\n",
       "</table>\n",
       "</div>"
      ],
      "text/plain": [
       "                 Order  Customer_Counts    %\n",
       "0            One Order            51801 0.65\n",
       "1  More than One Order            28320 0.35"
      ]
     },
     "execution_count": 167,
     "metadata": {},
     "output_type": "execute_result"
    }
   ],
   "source": [
    "#4 統計顧客訂單數比例(購買1次 vs 購買2次以上)\n",
    "number_of_orders = dt[dt[\"status\"] == \"completed\"].groupby(\"Customer ID\")[\"increment_id\"].nunique().reset_index()\n",
    "one = len(number_of_orders[number_of_orders[\"increment_id\"]==1])\n",
    "more = len(number_of_orders[number_of_orders[\"increment_id\"]!=1])\n",
    "data = {\"Order\": [\"One Order\", \"More than One Order\"], \"Customer_Counts\": [one, more], \"%\":[one/(one+more),more/(one+more)]}\n",
    "order_counts = pd.DataFrame.from_dict(data)\n",
    "order_counts"
   ]
  },
  {
   "cell_type": "code",
   "execution_count": 51,
   "metadata": {},
   "outputs": [
    {
     "data": {
      "text/html": [
       "<div>\n",
       "<style scoped>\n",
       "    .dataframe tbody tr th:only-of-type {\n",
       "        vertical-align: middle;\n",
       "    }\n",
       "\n",
       "    .dataframe tbody tr th {\n",
       "        vertical-align: top;\n",
       "    }\n",
       "\n",
       "    .dataframe thead th {\n",
       "        text-align: right;\n",
       "    }\n",
       "</style>\n",
       "<table border=\"1\" class=\"dataframe\">\n",
       "  <thead>\n",
       "    <tr style=\"text-align: right;\">\n",
       "      <th></th>\n",
       "      <th>Customer ID</th>\n",
       "      <th>first_perchase</th>\n",
       "      <th>Year_Month</th>\n",
       "      <th>item_id</th>\n",
       "      <th>status</th>\n",
       "      <th>created_at</th>\n",
       "      <th>sku</th>\n",
       "      <th>price</th>\n",
       "      <th>qty_ordered</th>\n",
       "      <th>grand_total</th>\n",
       "      <th>increment_id</th>\n",
       "      <th>category_name_1</th>\n",
       "      <th>discount_amount</th>\n",
       "      <th>payment_method</th>\n",
       "      <th>Year</th>\n",
       "      <th>Month</th>\n",
       "      <th>Day</th>\n",
       "      <th>created_at_date</th>\n",
       "    </tr>\n",
       "  </thead>\n",
       "  <tbody>\n",
       "    <tr>\n",
       "      <th>0</th>\n",
       "      <td>1</td>\n",
       "      <td>2016-07-01</td>\n",
       "      <td>2016-07</td>\n",
       "      <td>211131.0</td>\n",
       "      <td>completed</td>\n",
       "      <td>2016-07-01</td>\n",
       "      <td>kreations_YI 06-L</td>\n",
       "      <td>1950.00</td>\n",
       "      <td>1</td>\n",
       "      <td>1950.00</td>\n",
       "      <td>100147443</td>\n",
       "      <td>Women's Fashion</td>\n",
       "      <td>0.00</td>\n",
       "      <td>cod</td>\n",
       "      <td>2016</td>\n",
       "      <td>07</td>\n",
       "      <td>01</td>\n",
       "      <td>2016-07-01</td>\n",
       "    </tr>\n",
       "    <tr>\n",
       "      <th>4</th>\n",
       "      <td>3</td>\n",
       "      <td>2016-07-01</td>\n",
       "      <td>2017-05</td>\n",
       "      <td>473369.0</td>\n",
       "      <td>completed</td>\n",
       "      <td>2017-05-19</td>\n",
       "      <td>BT_BT-422</td>\n",
       "      <td>530.00</td>\n",
       "      <td>1</td>\n",
       "      <td>1245.00</td>\n",
       "      <td>100306394</td>\n",
       "      <td>Men's Fashion</td>\n",
       "      <td>0.00</td>\n",
       "      <td>cod</td>\n",
       "      <td>2017</td>\n",
       "      <td>05</td>\n",
       "      <td>19</td>\n",
       "      <td>2017-05-19</td>\n",
       "    </tr>\n",
       "    <tr>\n",
       "      <th>5</th>\n",
       "      <td>3</td>\n",
       "      <td>2016-07-01</td>\n",
       "      <td>2017-05</td>\n",
       "      <td>473370.0</td>\n",
       "      <td>completed</td>\n",
       "      <td>2017-05-19</td>\n",
       "      <td>ALHAMRA_US-0961-K</td>\n",
       "      <td>299.00</td>\n",
       "      <td>1</td>\n",
       "      <td>1245.00</td>\n",
       "      <td>100306394</td>\n",
       "      <td>Men's Fashion</td>\n",
       "      <td>0.00</td>\n",
       "      <td>cod</td>\n",
       "      <td>2017</td>\n",
       "      <td>05</td>\n",
       "      <td>19</td>\n",
       "      <td>2017-05-19</td>\n",
       "    </tr>\n",
       "    <tr>\n",
       "      <th>6</th>\n",
       "      <td>3</td>\n",
       "      <td>2016-07-01</td>\n",
       "      <td>2017-05</td>\n",
       "      <td>473371.0</td>\n",
       "      <td>completed</td>\n",
       "      <td>2017-05-19</td>\n",
       "      <td>e-seller_7</td>\n",
       "      <td>66.00</td>\n",
       "      <td>1</td>\n",
       "      <td>1245.00</td>\n",
       "      <td>100306394</td>\n",
       "      <td>Mobiles &amp; Tablets</td>\n",
       "      <td>0.00</td>\n",
       "      <td>cod</td>\n",
       "      <td>2017</td>\n",
       "      <td>05</td>\n",
       "      <td>19</td>\n",
       "      <td>2017-05-19</td>\n",
       "    </tr>\n",
       "    <tr>\n",
       "      <th>7</th>\n",
       "      <td>3</td>\n",
       "      <td>2016-07-01</td>\n",
       "      <td>2017-05</td>\n",
       "      <td>473372.0</td>\n",
       "      <td>completed</td>\n",
       "      <td>2017-05-19</td>\n",
       "      <td>BD_BIG DEAL_16</td>\n",
       "      <td>350.00</td>\n",
       "      <td>1</td>\n",
       "      <td>1245.00</td>\n",
       "      <td>100306394</td>\n",
       "      <td>Mobiles &amp; Tablets</td>\n",
       "      <td>0.00</td>\n",
       "      <td>cod</td>\n",
       "      <td>2017</td>\n",
       "      <td>05</td>\n",
       "      <td>19</td>\n",
       "      <td>2017-05-19</td>\n",
       "    </tr>\n",
       "  </tbody>\n",
       "</table>\n",
       "</div>"
      ],
      "text/plain": [
       "   Customer ID first_perchase Year_Month   item_id     status  created_at  \\\n",
       "0            1     2016-07-01    2016-07  211131.0  completed  2016-07-01   \n",
       "4            3     2016-07-01    2017-05  473369.0  completed  2017-05-19   \n",
       "5            3     2016-07-01    2017-05  473370.0  completed  2017-05-19   \n",
       "6            3     2016-07-01    2017-05  473371.0  completed  2017-05-19   \n",
       "7            3     2016-07-01    2017-05  473372.0  completed  2017-05-19   \n",
       "\n",
       "                 sku   price  qty_ordered  grand_total increment_id  \\\n",
       "0  kreations_YI 06-L 1950.00            1      1950.00    100147443   \n",
       "4          BT_BT-422  530.00            1      1245.00    100306394   \n",
       "5  ALHAMRA_US-0961-K  299.00            1      1245.00    100306394   \n",
       "6         e-seller_7   66.00            1      1245.00    100306394   \n",
       "7     BD_BIG DEAL_16  350.00            1      1245.00    100306394   \n",
       "\n",
       "     category_name_1  discount_amount payment_method  Year Month Day  \\\n",
       "0    Women's Fashion             0.00            cod  2016    07  01   \n",
       "4      Men's Fashion             0.00            cod  2017    05  19   \n",
       "5      Men's Fashion             0.00            cod  2017    05  19   \n",
       "6  Mobiles & Tablets             0.00            cod  2017    05  19   \n",
       "7  Mobiles & Tablets             0.00            cod  2017    05  19   \n",
       "\n",
       "  created_at_date  \n",
       "0      2016-07-01  \n",
       "4      2017-05-19  \n",
       "5      2017-05-19  \n",
       "6      2017-05-19  \n",
       "7      2017-05-19  "
      ]
     },
     "execution_count": 51,
     "metadata": {},
     "output_type": "execute_result"
    }
   ],
   "source": [
    "#5 統計每月新舊客的人數和各自的營收貢獻 \n",
    "# 新舊客定義為第一次購買為新客，若往後月份回購即列為舊客\n",
    "iffirst_perchase = dt.groupby(\"Customer ID\")[\"created_at_date\"].agg(\"min\").reset_index()\n",
    "iffirst_perchase.columns = [\"Customer ID\",\"first_perchase\"]\n",
    "iffirst_perchase = iffirst_perchase.merge(dt,how=\"left\")\n",
    "iffirst_perchase = iffirst_perchase[iffirst_perchase[\"status\"] == \"completed\"]\n",
    "iffirst_perchase.head()"
   ]
  },
  {
   "cell_type": "code",
   "execution_count": 57,
   "metadata": {},
   "outputs": [],
   "source": [
    "#依照首購時間判斷是否為新舊客\n",
    "def oldfriend(creat_d, first_d):\n",
    "    if creat_d > first_d:\n",
    "        return \"return_customer\"\n",
    "    else:\n",
    "        return \"new_customer\"\n",
    "\n",
    "iffirst_perchase[\"new_return\"] = iffirst_perchase.apply(lambda x: oldfriend(x[\"created_at_date\"],x[\"first_perchase\"]),axis=1)"
   ]
  },
  {
   "cell_type": "code",
   "execution_count": 58,
   "metadata": {},
   "outputs": [
    {
     "data": {
      "text/html": [
       "<div>\n",
       "<style scoped>\n",
       "    .dataframe tbody tr th:only-of-type {\n",
       "        vertical-align: middle;\n",
       "    }\n",
       "\n",
       "    .dataframe tbody tr th {\n",
       "        vertical-align: top;\n",
       "    }\n",
       "\n",
       "    .dataframe thead th {\n",
       "        text-align: right;\n",
       "    }\n",
       "</style>\n",
       "<table border=\"1\" class=\"dataframe\">\n",
       "  <thead>\n",
       "    <tr style=\"text-align: right;\">\n",
       "      <th></th>\n",
       "      <th>Customer ID</th>\n",
       "      <th>first_perchase</th>\n",
       "      <th>Year_Month</th>\n",
       "      <th>item_id</th>\n",
       "      <th>status</th>\n",
       "      <th>created_at</th>\n",
       "      <th>sku</th>\n",
       "      <th>price</th>\n",
       "      <th>qty_ordered</th>\n",
       "      <th>grand_total</th>\n",
       "      <th>increment_id</th>\n",
       "      <th>category_name_1</th>\n",
       "      <th>discount_amount</th>\n",
       "      <th>payment_method</th>\n",
       "      <th>Year</th>\n",
       "      <th>Month</th>\n",
       "      <th>Day</th>\n",
       "      <th>created_at_date</th>\n",
       "      <th>new_return</th>\n",
       "    </tr>\n",
       "  </thead>\n",
       "  <tbody>\n",
       "    <tr>\n",
       "      <th>0</th>\n",
       "      <td>1</td>\n",
       "      <td>2016-07-01</td>\n",
       "      <td>2016-07</td>\n",
       "      <td>211131.0</td>\n",
       "      <td>completed</td>\n",
       "      <td>2016-07-01</td>\n",
       "      <td>kreations_YI 06-L</td>\n",
       "      <td>1950.00</td>\n",
       "      <td>1</td>\n",
       "      <td>1950.00</td>\n",
       "      <td>100147443</td>\n",
       "      <td>Women's Fashion</td>\n",
       "      <td>0.00</td>\n",
       "      <td>cod</td>\n",
       "      <td>2016</td>\n",
       "      <td>07</td>\n",
       "      <td>01</td>\n",
       "      <td>2016-07-01</td>\n",
       "      <td>new_customer</td>\n",
       "    </tr>\n",
       "    <tr>\n",
       "      <th>4</th>\n",
       "      <td>3</td>\n",
       "      <td>2016-07-01</td>\n",
       "      <td>2017-05</td>\n",
       "      <td>473369.0</td>\n",
       "      <td>completed</td>\n",
       "      <td>2017-05-19</td>\n",
       "      <td>BT_BT-422</td>\n",
       "      <td>530.00</td>\n",
       "      <td>1</td>\n",
       "      <td>1245.00</td>\n",
       "      <td>100306394</td>\n",
       "      <td>Men's Fashion</td>\n",
       "      <td>0.00</td>\n",
       "      <td>cod</td>\n",
       "      <td>2017</td>\n",
       "      <td>05</td>\n",
       "      <td>19</td>\n",
       "      <td>2017-05-19</td>\n",
       "      <td>return_customer</td>\n",
       "    </tr>\n",
       "    <tr>\n",
       "      <th>5</th>\n",
       "      <td>3</td>\n",
       "      <td>2016-07-01</td>\n",
       "      <td>2017-05</td>\n",
       "      <td>473370.0</td>\n",
       "      <td>completed</td>\n",
       "      <td>2017-05-19</td>\n",
       "      <td>ALHAMRA_US-0961-K</td>\n",
       "      <td>299.00</td>\n",
       "      <td>1</td>\n",
       "      <td>1245.00</td>\n",
       "      <td>100306394</td>\n",
       "      <td>Men's Fashion</td>\n",
       "      <td>0.00</td>\n",
       "      <td>cod</td>\n",
       "      <td>2017</td>\n",
       "      <td>05</td>\n",
       "      <td>19</td>\n",
       "      <td>2017-05-19</td>\n",
       "      <td>return_customer</td>\n",
       "    </tr>\n",
       "  </tbody>\n",
       "</table>\n",
       "</div>"
      ],
      "text/plain": [
       "   Customer ID first_perchase Year_Month   item_id     status  created_at  \\\n",
       "0            1     2016-07-01    2016-07  211131.0  completed  2016-07-01   \n",
       "4            3     2016-07-01    2017-05  473369.0  completed  2017-05-19   \n",
       "5            3     2016-07-01    2017-05  473370.0  completed  2017-05-19   \n",
       "\n",
       "                 sku   price  qty_ordered  grand_total increment_id  \\\n",
       "0  kreations_YI 06-L 1950.00            1      1950.00    100147443   \n",
       "4          BT_BT-422  530.00            1      1245.00    100306394   \n",
       "5  ALHAMRA_US-0961-K  299.00            1      1245.00    100306394   \n",
       "\n",
       "   category_name_1  discount_amount payment_method  Year Month Day  \\\n",
       "0  Women's Fashion             0.00            cod  2016    07  01   \n",
       "4    Men's Fashion             0.00            cod  2017    05  19   \n",
       "5    Men's Fashion             0.00            cod  2017    05  19   \n",
       "\n",
       "  created_at_date       new_return  \n",
       "0      2016-07-01     new_customer  \n",
       "4      2017-05-19  return_customer  \n",
       "5      2017-05-19  return_customer  "
      ]
     },
     "execution_count": 58,
     "metadata": {},
     "output_type": "execute_result"
    }
   ],
   "source": [
    "iffirst_perchase.head(3)"
   ]
  },
  {
   "cell_type": "code",
   "execution_count": 117,
   "metadata": {},
   "outputs": [
    {
     "data": {
      "text/html": [
       "<div>\n",
       "<style scoped>\n",
       "    .dataframe tbody tr th:only-of-type {\n",
       "        vertical-align: middle;\n",
       "    }\n",
       "\n",
       "    .dataframe tbody tr th {\n",
       "        vertical-align: top;\n",
       "    }\n",
       "\n",
       "    .dataframe thead th {\n",
       "        text-align: right;\n",
       "    }\n",
       "</style>\n",
       "<table border=\"1\" class=\"dataframe\">\n",
       "  <thead>\n",
       "    <tr style=\"text-align: right;\">\n",
       "      <th></th>\n",
       "      <th>Year_Month</th>\n",
       "      <th>new_return</th>\n",
       "      <th>Customer ID</th>\n",
       "      <th>sum</th>\n",
       "      <th>count</th>\n",
       "    </tr>\n",
       "  </thead>\n",
       "  <tbody>\n",
       "    <tr>\n",
       "      <th>0</th>\n",
       "      <td>2016-07</td>\n",
       "      <td>new_customer</td>\n",
       "      <td>1496</td>\n",
       "      <td>7486043.52</td>\n",
       "      <td>2681</td>\n",
       "    </tr>\n",
       "    <tr>\n",
       "      <th>1</th>\n",
       "      <td>2016-07</td>\n",
       "      <td>return_customer</td>\n",
       "      <td>351</td>\n",
       "      <td>4234776.75</td>\n",
       "      <td>3242</td>\n",
       "    </tr>\n",
       "    <tr>\n",
       "      <th>2</th>\n",
       "      <td>2016-08</td>\n",
       "      <td>new_customer</td>\n",
       "      <td>2140</td>\n",
       "      <td>11524951.63</td>\n",
       "      <td>3073</td>\n",
       "    </tr>\n",
       "    <tr>\n",
       "      <th>3</th>\n",
       "      <td>2016-08</td>\n",
       "      <td>return_customer</td>\n",
       "      <td>726</td>\n",
       "      <td>6063527.60</td>\n",
       "      <td>4495</td>\n",
       "    </tr>\n",
       "    <tr>\n",
       "      <th>4</th>\n",
       "      <td>2016-09</td>\n",
       "      <td>new_customer</td>\n",
       "      <td>2959</td>\n",
       "      <td>17211146.60</td>\n",
       "      <td>3985</td>\n",
       "    </tr>\n",
       "  </tbody>\n",
       "</table>\n",
       "</div>"
      ],
      "text/plain": [
       "  Year_Month       new_return  Customer ID         sum  count\n",
       "0    2016-07     new_customer         1496  7486043.52   2681\n",
       "1    2016-07  return_customer          351  4234776.75   3242\n",
       "2    2016-08     new_customer         2140 11524951.63   3073\n",
       "3    2016-08  return_customer          726  6063527.60   4495\n",
       "4    2016-09     new_customer         2959 17211146.60   3985"
      ]
     },
     "execution_count": 117,
     "metadata": {},
     "output_type": "execute_result"
    }
   ],
   "source": [
    "new_return_G = iffirst_perchase.groupby([\"Year_Month\",\"new_return\"])[\"grand_total\"].agg([\"sum\",\"count\"]).reset_index()\n",
    "new_return_C = iffirst_perchase.groupby([\"Year_Month\",\"new_return\"])[\"Customer ID\"].nunique().reset_index()\n",
    "# dt_temN = dt_temS[dt_temS[\"n_r\"] == \"new_customer\"]\n",
    "# dt_temR = dt_temS[dt_temS[\"n_r\"] == \"return_customer\"]\n",
    "new_return_T = new_return_C.merge(new_return_G,how=\"left\")\n",
    "new_return_T.head()"
   ]
  },
  {
   "cell_type": "code",
   "execution_count": 115,
   "metadata": {},
   "outputs": [
    {
     "data": {
      "image/png": "[encoded data removed]",
      "text/plain": [
       "<Figure size 1440x432 with 1 Axes>"
      ]
     },
     "metadata": {},
     "output_type": "display_data"
    }
   ],
   "source": [
    "#每月新舊客人數圖表 & 訂單數\n",
    "fig, ax = plt.subplots(figsize=(20, 6))\n",
    "sns.set(style=\"darkgrid\",palette=\"Set1\")\n",
    "sns.barplot(data=new_return_T, x=\"Year_Month\", y=\"Customer ID\", hue = \"new_return\")\n",
    "sns.lineplot(data=new_return_T, x=\"Year_Month\", y=\"count\", hue = \"new_return\", marker= \"o\", legend= False)\n",
    "ax.set_xlabel(\"\")\n",
    "ax.set_ylabel(\"Number of Customers\")\n",
    "# ax2 = ax.twinx()\n",
    "# ax2.set_ylabel(\"Number of Orders\")\n",
    "ax.yaxis.get_major_formatter().set_scientific(False)\n",
    "ax.xaxis.set_tick_params(rotation=45)\n",
    "plt.legend(title=\"New Customer VS Return Customer\");"
   ]
  },
  {
   "cell_type": "code",
   "execution_count": 74,
   "metadata": {},
   "outputs": [
    {
     "data": {
      "image/png": "[encoded data removed]",
      "text/plain": [
       "<Figure size 1440x360 with 1 Axes>"
      ]
     },
     "metadata": {},
     "output_type": "display_data"
    }
   ],
   "source": [
    "#每月新舊客消費金額圖表\n",
    "fig, ax = plt.subplots(figsize=(20, 5))\n",
    "sns.set(style=\"darkgrid\",palette=\"bright\")\n",
    "sns.barplot(data=new_return_T, x=\"Year_Month\", y=\"sum\", hue = \"new_return\")\n",
    "#sns.barplot(data=dt_temR, x=\"Year_Month\", y=\"grand_total\")\n",
    "ax.set_xlabel(\"\")\n",
    "ax.set_ylabel(\"Revenue\")\n",
    "ax.yaxis.get_major_formatter().set_scientific(False)\n",
    "ax.xaxis.set_tick_params(rotation=45)\n",
    "plt.legend(title=\"New Customer VS Return Customer\");"
   ]
  },
  {
   "cell_type": "code",
   "execution_count": 72,
   "metadata": {},
   "outputs": [
    {
     "data": {
      "text/html": [
       "<div>\n",
       "<style scoped>\n",
       "    .dataframe tbody tr th:only-of-type {\n",
       "        vertical-align: middle;\n",
       "    }\n",
       "\n",
       "    .dataframe tbody tr th {\n",
       "        vertical-align: top;\n",
       "    }\n",
       "\n",
       "    .dataframe thead th {\n",
       "        text-align: right;\n",
       "    }\n",
       "</style>\n",
       "<table border=\"1\" class=\"dataframe\">\n",
       "  <thead>\n",
       "    <tr style=\"text-align: right;\">\n",
       "      <th>Year_Month</th>\n",
       "      <th>2016-07</th>\n",
       "      <th>2016-08</th>\n",
       "      <th>2016-09</th>\n",
       "      <th>2016-10</th>\n",
       "      <th>2016-11</th>\n",
       "      <th>2016-12</th>\n",
       "      <th>2017-01</th>\n",
       "      <th>2017-02</th>\n",
       "      <th>2017-03</th>\n",
       "      <th>2017-04</th>\n",
       "      <th>...</th>\n",
       "      <th>2017-11</th>\n",
       "      <th>2017-12</th>\n",
       "      <th>2018-01</th>\n",
       "      <th>2018-02</th>\n",
       "      <th>2018-03</th>\n",
       "      <th>2018-04</th>\n",
       "      <th>2018-05</th>\n",
       "      <th>2018-06</th>\n",
       "      <th>2018-07</th>\n",
       "      <th>2018-08</th>\n",
       "    </tr>\n",
       "    <tr>\n",
       "      <th>Customer ID</th>\n",
       "      <th></th>\n",
       "      <th></th>\n",
       "      <th></th>\n",
       "      <th></th>\n",
       "      <th></th>\n",
       "      <th></th>\n",
       "      <th></th>\n",
       "      <th></th>\n",
       "      <th></th>\n",
       "      <th></th>\n",
       "      <th></th>\n",
       "      <th></th>\n",
       "      <th></th>\n",
       "      <th></th>\n",
       "      <th></th>\n",
       "      <th></th>\n",
       "      <th></th>\n",
       "      <th></th>\n",
       "      <th></th>\n",
       "      <th></th>\n",
       "      <th></th>\n",
       "    </tr>\n",
       "  </thead>\n",
       "  <tbody>\n",
       "    <tr>\n",
       "      <th>1</th>\n",
       "      <td>1</td>\n",
       "      <td>0</td>\n",
       "      <td>0</td>\n",
       "      <td>0</td>\n",
       "      <td>0</td>\n",
       "      <td>0</td>\n",
       "      <td>0</td>\n",
       "      <td>0</td>\n",
       "      <td>0</td>\n",
       "      <td>0</td>\n",
       "      <td>...</td>\n",
       "      <td>0</td>\n",
       "      <td>0</td>\n",
       "      <td>0</td>\n",
       "      <td>0</td>\n",
       "      <td>0</td>\n",
       "      <td>0</td>\n",
       "      <td>0</td>\n",
       "      <td>0</td>\n",
       "      <td>0</td>\n",
       "      <td>0</td>\n",
       "    </tr>\n",
       "    <tr>\n",
       "      <th>3</th>\n",
       "      <td>0</td>\n",
       "      <td>0</td>\n",
       "      <td>0</td>\n",
       "      <td>0</td>\n",
       "      <td>0</td>\n",
       "      <td>0</td>\n",
       "      <td>0</td>\n",
       "      <td>0</td>\n",
       "      <td>0</td>\n",
       "      <td>0</td>\n",
       "      <td>...</td>\n",
       "      <td>0</td>\n",
       "      <td>0</td>\n",
       "      <td>0</td>\n",
       "      <td>0</td>\n",
       "      <td>0</td>\n",
       "      <td>0</td>\n",
       "      <td>0</td>\n",
       "      <td>0</td>\n",
       "      <td>0</td>\n",
       "      <td>0</td>\n",
       "    </tr>\n",
       "    <tr>\n",
       "      <th>4</th>\n",
       "      <td>9</td>\n",
       "      <td>20</td>\n",
       "      <td>17</td>\n",
       "      <td>30</td>\n",
       "      <td>62</td>\n",
       "      <td>19</td>\n",
       "      <td>5</td>\n",
       "      <td>16</td>\n",
       "      <td>20</td>\n",
       "      <td>9</td>\n",
       "      <td>...</td>\n",
       "      <td>10</td>\n",
       "      <td>1</td>\n",
       "      <td>1</td>\n",
       "      <td>2</td>\n",
       "      <td>0</td>\n",
       "      <td>0</td>\n",
       "      <td>0</td>\n",
       "      <td>0</td>\n",
       "      <td>0</td>\n",
       "      <td>4</td>\n",
       "    </tr>\n",
       "    <tr>\n",
       "      <th>6</th>\n",
       "      <td>1</td>\n",
       "      <td>0</td>\n",
       "      <td>0</td>\n",
       "      <td>0</td>\n",
       "      <td>0</td>\n",
       "      <td>0</td>\n",
       "      <td>0</td>\n",
       "      <td>0</td>\n",
       "      <td>0</td>\n",
       "      <td>0</td>\n",
       "      <td>...</td>\n",
       "      <td>0</td>\n",
       "      <td>0</td>\n",
       "      <td>0</td>\n",
       "      <td>0</td>\n",
       "      <td>0</td>\n",
       "      <td>0</td>\n",
       "      <td>0</td>\n",
       "      <td>0</td>\n",
       "      <td>0</td>\n",
       "      <td>0</td>\n",
       "    </tr>\n",
       "    <tr>\n",
       "      <th>7</th>\n",
       "      <td>1</td>\n",
       "      <td>0</td>\n",
       "      <td>0</td>\n",
       "      <td>0</td>\n",
       "      <td>0</td>\n",
       "      <td>0</td>\n",
       "      <td>0</td>\n",
       "      <td>0</td>\n",
       "      <td>0</td>\n",
       "      <td>3</td>\n",
       "      <td>...</td>\n",
       "      <td>0</td>\n",
       "      <td>0</td>\n",
       "      <td>0</td>\n",
       "      <td>0</td>\n",
       "      <td>0</td>\n",
       "      <td>0</td>\n",
       "      <td>0</td>\n",
       "      <td>0</td>\n",
       "      <td>0</td>\n",
       "      <td>0</td>\n",
       "    </tr>\n",
       "  </tbody>\n",
       "</table>\n",
       "<p>5 rows × 26 columns</p>\n",
       "</div>"
      ],
      "text/plain": [
       "Year_Month   2016-07  2016-08  2016-09  2016-10  2016-11  2016-12  2017-01  \\\n",
       "Customer ID                                                                  \n",
       "1                  1        0        0        0        0        0        0   \n",
       "3                  0        0        0        0        0        0        0   \n",
       "4                  9       20       17       30       62       19        5   \n",
       "6                  1        0        0        0        0        0        0   \n",
       "7                  1        0        0        0        0        0        0   \n",
       "\n",
       "Year_Month   2017-02  2017-03  2017-04  ...  2017-11  2017-12  2018-01  \\\n",
       "Customer ID                             ...                              \n",
       "1                  0        0        0  ...        0        0        0   \n",
       "3                  0        0        0  ...        0        0        0   \n",
       "4                 16       20        9  ...       10        1        1   \n",
       "6                  0        0        0  ...        0        0        0   \n",
       "7                  0        0        3  ...        0        0        0   \n",
       "\n",
       "Year_Month   2018-02  2018-03  2018-04  2018-05  2018-06  2018-07  2018-08  \n",
       "Customer ID                                                                 \n",
       "1                  0        0        0        0        0        0        0  \n",
       "3                  0        0        0        0        0        0        0  \n",
       "4                  2        0        0        0        0        0        4  \n",
       "6                  0        0        0        0        0        0        0  \n",
       "7                  0        0        0        0        0        0        0  \n",
       "\n",
       "[5 rows x 26 columns]"
      ]
     },
     "execution_count": 72,
     "metadata": {},
     "output_type": "execute_result"
    }
   ],
   "source": [
    "#6 計算每個月的回購率\n",
    "purchase_time = dt[dt[\"status\"] == \"completed\"].pivot_table(index=\"Customer ID\",columns=\"Year_Month\",values=\"increment_id\",aggfunc=\"nunique\",fill_value=0)\n",
    "purchase_time.head()"
   ]
  },
  {
   "cell_type": "code",
   "execution_count": 63,
   "metadata": {},
   "outputs": [],
   "source": [
    "pivot_purchase = purchase_time.applymap(lambda x:1 if x>0 else 0)\n",
    "pivot_repurchase = (pivot_purchase.shift(-1,axis=1).fillna(0)+pivot_purchase).applymap(lambda x: 1 if x>1 else 0 )\n",
    "pivot_repurchase = pivot_repurchase.shift(1,axis=1).fillna(0)\n",
    "repurchase_rate = pivot_repurchase.sum()/pivot_purchase.sum()\n",
    "repurchase_rate = repurchase_rate.reset_index(name = \"repurchase_rate\")"
   ]
  },
  {
   "cell_type": "code",
   "execution_count": 119,
   "metadata": {},
   "outputs": [
    {
     "data": {
      "image/png": "[encoded data removed]",
      "text/plain": [
       "<Figure size 1440x360 with 1 Axes>"
      ]
     },
     "metadata": {},
     "output_type": "display_data"
    }
   ],
   "source": [
    "fig, ax = plt.subplots(figsize=(20, 5))\n",
    "sns.set(style=\"darkgrid\", palette=\"Set1\")\n",
    "sns.lineplot(data=repurchase_rate, x=\"Year_Month\", y=\"repurchase_rate\",marker=\"o\")\n",
    "ax.set_xlabel(\"repurchase rate each month\")\n",
    "ax.set_ylabel(\"\")\n",
    "plt.xticks(rotation=45);"
   ]
  },
  {
   "cell_type": "markdown",
   "metadata": {},
   "source": [
    "1.最近一次消費（Recency）。顧客上次消費時間愈近，價值愈大。\n",
    "\n",
    "2.消費頻率（Frequency）。顧客在一個月或一年中，買了多少次東西？購買頻率愈高，用戶價值愈大。\n",
    "\n",
    "3.消費金額（Monetary）。顧客一共在產品上花了多少錢？創造了多少利潤？消費金額愈高，用戶價值愈大。"
   ]
  },
  {
   "cell_type": "code",
   "execution_count": 27,
   "metadata": {},
   "outputs": [
    {
     "name": "stdout",
     "output_type": "stream",
     "text": [
      "Set the reference date as 2018-08-31 00:00:00\n"
     ]
    }
   ],
   "source": [
    "#7 使用RFM模型將顧客分類成不同客群\n",
    "#把 reference_date 設為顧客最後消費的3天後\n",
    "reference_date = dt[\"created_at_date\"].max() + timedelta(days=3)\n",
    "print(f\"Set the reference date as {reference_date}\")"
   ]
  },
  {
   "cell_type": "code",
   "execution_count": 121,
   "metadata": {},
   "outputs": [],
   "source": [
    "rfm_dt = dt[dt[\"status\"] == \"completed\"].groupby(\"Customer ID\").agg \\\n",
    "    ({\"created_at_date\" : lambda created_at_date :(reference_date - created_at_date.max()).days,  # Recency\n",
    "      \"increment_id\" : lambda increment_id: increment_id.nunique(),  # Frequency\n",
    "      \"grand_total\":  lambda grand_total: grand_total.sum()}).reset_index().sort_values(by=\"Customer ID\")    # Monetary"
   ]
  },
  {
   "cell_type": "code",
   "execution_count": 122,
   "metadata": {},
   "outputs": [
    {
     "data": {
      "text/html": [
       "<div>\n",
       "<style scoped>\n",
       "    .dataframe tbody tr th:only-of-type {\n",
       "        vertical-align: middle;\n",
       "    }\n",
       "\n",
       "    .dataframe tbody tr th {\n",
       "        vertical-align: top;\n",
       "    }\n",
       "\n",
       "    .dataframe thead th {\n",
       "        text-align: right;\n",
       "    }\n",
       "</style>\n",
       "<table border=\"1\" class=\"dataframe\">\n",
       "  <thead>\n",
       "    <tr style=\"text-align: right;\">\n",
       "      <th></th>\n",
       "      <th>Customer ID</th>\n",
       "      <th>created_at_date</th>\n",
       "      <th>increment_id</th>\n",
       "      <th>grand_total</th>\n",
       "    </tr>\n",
       "  </thead>\n",
       "  <tbody>\n",
       "    <tr>\n",
       "      <th>0</th>\n",
       "      <td>1</td>\n",
       "      <td>791</td>\n",
       "      <td>1</td>\n",
       "      <td>1950.00</td>\n",
       "    </tr>\n",
       "    <tr>\n",
       "      <th>1</th>\n",
       "      <td>3</td>\n",
       "      <td>469</td>\n",
       "      <td>1</td>\n",
       "      <td>4980.00</td>\n",
       "    </tr>\n",
       "    <tr>\n",
       "      <th>2</th>\n",
       "      <td>4</td>\n",
       "      <td>4</td>\n",
       "      <td>236</td>\n",
       "      <td>1316173.25</td>\n",
       "    </tr>\n",
       "    <tr>\n",
       "      <th>3</th>\n",
       "      <td>6</td>\n",
       "      <td>791</td>\n",
       "      <td>1</td>\n",
       "      <td>170.00</td>\n",
       "    </tr>\n",
       "    <tr>\n",
       "      <th>4</th>\n",
       "      <td>7</td>\n",
       "      <td>503</td>\n",
       "      <td>4</td>\n",
       "      <td>105.00</td>\n",
       "    </tr>\n",
       "  </tbody>\n",
       "</table>\n",
       "</div>"
      ],
      "text/plain": [
       "   Customer ID  created_at_date  increment_id  grand_total\n",
       "0            1              791             1      1950.00\n",
       "1            3              469             1      4980.00\n",
       "2            4                4           236   1316173.25\n",
       "3            6              791             1       170.00\n",
       "4            7              503             4       105.00"
      ]
     },
     "execution_count": 122,
     "metadata": {},
     "output_type": "execute_result"
    }
   ],
   "source": [
    "rfm_dt.head()"
   ]
  },
  {
   "cell_type": "code",
   "execution_count": 123,
   "metadata": {},
   "outputs": [
    {
     "data": {
      "text/html": [
       "<div>\n",
       "<style scoped>\n",
       "    .dataframe tbody tr th:only-of-type {\n",
       "        vertical-align: middle;\n",
       "    }\n",
       "\n",
       "    .dataframe tbody tr th {\n",
       "        vertical-align: top;\n",
       "    }\n",
       "\n",
       "    .dataframe thead th {\n",
       "        text-align: right;\n",
       "    }\n",
       "</style>\n",
       "<table border=\"1\" class=\"dataframe\">\n",
       "  <thead>\n",
       "    <tr style=\"text-align: right;\">\n",
       "      <th></th>\n",
       "      <th>Customer ID</th>\n",
       "      <th>Recency</th>\n",
       "      <th>Frequency</th>\n",
       "      <th>Monetary</th>\n",
       "    </tr>\n",
       "  </thead>\n",
       "  <tbody>\n",
       "    <tr>\n",
       "      <th>0</th>\n",
       "      <td>1</td>\n",
       "      <td>791</td>\n",
       "      <td>1</td>\n",
       "      <td>1950.00</td>\n",
       "    </tr>\n",
       "    <tr>\n",
       "      <th>1</th>\n",
       "      <td>3</td>\n",
       "      <td>469</td>\n",
       "      <td>1</td>\n",
       "      <td>4980.00</td>\n",
       "    </tr>\n",
       "    <tr>\n",
       "      <th>2</th>\n",
       "      <td>4</td>\n",
       "      <td>4</td>\n",
       "      <td>236</td>\n",
       "      <td>1316173.25</td>\n",
       "    </tr>\n",
       "    <tr>\n",
       "      <th>3</th>\n",
       "      <td>6</td>\n",
       "      <td>791</td>\n",
       "      <td>1</td>\n",
       "      <td>170.00</td>\n",
       "    </tr>\n",
       "    <tr>\n",
       "      <th>4</th>\n",
       "      <td>7</td>\n",
       "      <td>503</td>\n",
       "      <td>4</td>\n",
       "      <td>105.00</td>\n",
       "    </tr>\n",
       "  </tbody>\n",
       "</table>\n",
       "</div>"
      ],
      "text/plain": [
       "   Customer ID  Recency  Frequency   Monetary\n",
       "0            1      791          1    1950.00\n",
       "1            3      469          1    4980.00\n",
       "2            4        4        236 1316173.25\n",
       "3            6      791          1     170.00\n",
       "4            7      503          4     105.00"
      ]
     },
     "execution_count": 123,
     "metadata": {},
     "output_type": "execute_result"
    }
   ],
   "source": [
    "#把欄位重新命名為 Recency, Frequency, Monetary\n",
    "rfm_dt.columns = [\"Customer ID\", \"Recency\", \"Frequency\", \"Monetary\"]\n",
    "rfm_dt.head()"
   ]
  },
  {
   "cell_type": "code",
   "execution_count": 124,
   "metadata": {},
   "outputs": [],
   "source": [
    "#R、F、M每一個維度劃分1~5分，5分代表最高分。\n",
    "# Recency指標數字越小表示客戶近期剛購買，因此Recency越低則可得到更高分(5分)。\n",
    "# Frequency和Monetary指標的表示客戶購買頻繁並且消費更多的金額，因此Frequency和Monetary值越高可得到更高分(5分)。\n",
    "rfm_dt[\"Recency_Score\"]  = pd.qcut(rfm_dt['Recency'], 5, [5, 4, 3, 2, 1])\n",
    "rfm_dt[\"Frequency_Score\"]  = pd.qcut(rfm_dt['Frequency'].rank(method=\"first\"),  5, [1, 2, 3, 4, 5])\n",
    "rfm_dt[\"Monetary_Score\"]  = pd.qcut(rfm_dt['Monetary'], 5, [1, 2, 3, 4, 5])"
   ]
  },
  {
   "cell_type": "code",
   "execution_count": 125,
   "metadata": {},
   "outputs": [
    {
     "data": {
      "text/html": [
       "<div>\n",
       "<style scoped>\n",
       "    .dataframe tbody tr th:only-of-type {\n",
       "        vertical-align: middle;\n",
       "    }\n",
       "\n",
       "    .dataframe tbody tr th {\n",
       "        vertical-align: top;\n",
       "    }\n",
       "\n",
       "    .dataframe thead th {\n",
       "        text-align: right;\n",
       "    }\n",
       "</style>\n",
       "<table border=\"1\" class=\"dataframe\">\n",
       "  <thead>\n",
       "    <tr style=\"text-align: right;\">\n",
       "      <th></th>\n",
       "      <th>Customer ID</th>\n",
       "      <th>Recency</th>\n",
       "      <th>Frequency</th>\n",
       "      <th>Monetary</th>\n",
       "      <th>Recency_Score</th>\n",
       "      <th>Frequency_Score</th>\n",
       "      <th>Monetary_Score</th>\n",
       "      <th>RFM_SCORE</th>\n",
       "    </tr>\n",
       "  </thead>\n",
       "  <tbody>\n",
       "    <tr>\n",
       "      <th>0</th>\n",
       "      <td>1</td>\n",
       "      <td>791</td>\n",
       "      <td>1</td>\n",
       "      <td>1950.00</td>\n",
       "      <td>1</td>\n",
       "      <td>1</td>\n",
       "      <td>2</td>\n",
       "      <td>112</td>\n",
       "    </tr>\n",
       "    <tr>\n",
       "      <th>1</th>\n",
       "      <td>3</td>\n",
       "      <td>469</td>\n",
       "      <td>1</td>\n",
       "      <td>4980.00</td>\n",
       "      <td>2</td>\n",
       "      <td>1</td>\n",
       "      <td>3</td>\n",
       "      <td>213</td>\n",
       "    </tr>\n",
       "    <tr>\n",
       "      <th>2</th>\n",
       "      <td>4</td>\n",
       "      <td>4</td>\n",
       "      <td>236</td>\n",
       "      <td>1316173.25</td>\n",
       "      <td>5</td>\n",
       "      <td>5</td>\n",
       "      <td>5</td>\n",
       "      <td>555</td>\n",
       "    </tr>\n",
       "    <tr>\n",
       "      <th>3</th>\n",
       "      <td>6</td>\n",
       "      <td>791</td>\n",
       "      <td>1</td>\n",
       "      <td>170.00</td>\n",
       "      <td>1</td>\n",
       "      <td>1</td>\n",
       "      <td>1</td>\n",
       "      <td>111</td>\n",
       "    </tr>\n",
       "    <tr>\n",
       "      <th>4</th>\n",
       "      <td>7</td>\n",
       "      <td>503</td>\n",
       "      <td>4</td>\n",
       "      <td>105.00</td>\n",
       "      <td>2</td>\n",
       "      <td>5</td>\n",
       "      <td>1</td>\n",
       "      <td>251</td>\n",
       "    </tr>\n",
       "  </tbody>\n",
       "</table>\n",
       "</div>"
      ],
      "text/plain": [
       "   Customer ID  Recency  Frequency   Monetary Recency_Score Frequency_Score  \\\n",
       "0            1      791          1    1950.00             1               1   \n",
       "1            3      469          1    4980.00             2               1   \n",
       "2            4        4        236 1316173.25             5               5   \n",
       "3            6      791          1     170.00             1               1   \n",
       "4            7      503          4     105.00             2               5   \n",
       "\n",
       "  Monetary_Score RFM_SCORE  \n",
       "0              2       112  \n",
       "1              3       213  \n",
       "2              5       555  \n",
       "3              1       111  \n",
       "4              1       251  "
      ]
     },
     "execution_count": 125,
     "metadata": {},
     "output_type": "execute_result"
    }
   ],
   "source": [
    "rfm_dt[\"RFM_SCORE\"] = (rfm_dt[\"Recency_Score\"].astype(str) + rfm_dt[\"Frequency_Score\"].astype(str) + rfm_dt[\"Monetary_Score\"].astype(str))\n",
    "rfm_dt.head()"
   ]
  },
  {
   "cell_type": "markdown",
   "metadata": {},
   "source": [
    "在電商零售產業，若消費者每個月有固定搜尋和購買的習慣，那麼推測他會得到較高的 Recency_Score 和 Frequency_Score，這兩個分數比起 Monetary_Score 更為重要。\n",
    "\n",
    "因此，接下來我們使用 Recency_Score 和 Frequency_Score 來把顧客做分群。"
   ]
  },
  {
   "cell_type": "code",
   "execution_count": 126,
   "metadata": {},
   "outputs": [],
   "source": [
    "#1. Champions VIP顧客\n",
    "#2. Loyal Customers 忠實顧客\n",
    "#3. Potential Loyalists 潛在的忠誠顧客\n",
    "#4. New Customers 新顧客\n",
    "#5. Promising 有希望的顧客\n",
    "#6. Need Attention 需要關注的顧客\n",
    "#7. About to Sleep 快睡著(流失)的顧客\n",
    "#8. Can't Lose Them 不能失去的顧客\n",
    "#9. At Risk 有風險的顧客\n",
    "#10. Hibernating 冬眠(流失)的顧客\n",
    "\n",
    "seg_map = {\n",
    "    r\"[1-2][1-2]\": \"Hibernating\",\n",
    "    r\"[1-2][3-4]\": \"At Risk\",\n",
    "    r\"[1-2]5\": \"Can't Lose Them\",\n",
    "    r\"3[1-2]\": \"About To Sleep\",\n",
    "    r\"33\": \"Need Attention\",\n",
    "    r\"[3-4][4-5]\": \"Loyal Customers\",\n",
    "    r\"41\": \"Promising\",\n",
    "    r\"51\": \"New Customers\",\n",
    "    r\"[4-5][2-3]\": \"Potential Loyalists\",\n",
    "    r\"5[4-5]\": \"Champions\"\n",
    "}"
   ]
  },
  {
   "cell_type": "code",
   "execution_count": 127,
   "metadata": {},
   "outputs": [
    {
     "data": {
      "text/html": [
       "<div>\n",
       "<style scoped>\n",
       "    .dataframe tbody tr th:only-of-type {\n",
       "        vertical-align: middle;\n",
       "    }\n",
       "\n",
       "    .dataframe tbody tr th {\n",
       "        vertical-align: top;\n",
       "    }\n",
       "\n",
       "    .dataframe thead th {\n",
       "        text-align: right;\n",
       "    }\n",
       "</style>\n",
       "<table border=\"1\" class=\"dataframe\">\n",
       "  <thead>\n",
       "    <tr style=\"text-align: right;\">\n",
       "      <th></th>\n",
       "      <th>Customer ID</th>\n",
       "      <th>Recency</th>\n",
       "      <th>Frequency</th>\n",
       "      <th>Monetary</th>\n",
       "      <th>Recency_Score</th>\n",
       "      <th>Frequency_Score</th>\n",
       "      <th>Monetary_Score</th>\n",
       "      <th>RFM_SCORE</th>\n",
       "      <th>Segment</th>\n",
       "    </tr>\n",
       "  </thead>\n",
       "  <tbody>\n",
       "    <tr>\n",
       "      <th>0</th>\n",
       "      <td>1</td>\n",
       "      <td>791</td>\n",
       "      <td>1</td>\n",
       "      <td>1950.00</td>\n",
       "      <td>1</td>\n",
       "      <td>1</td>\n",
       "      <td>2</td>\n",
       "      <td>112</td>\n",
       "      <td>Hibernating</td>\n",
       "    </tr>\n",
       "    <tr>\n",
       "      <th>1</th>\n",
       "      <td>3</td>\n",
       "      <td>469</td>\n",
       "      <td>1</td>\n",
       "      <td>4980.00</td>\n",
       "      <td>2</td>\n",
       "      <td>1</td>\n",
       "      <td>3</td>\n",
       "      <td>213</td>\n",
       "      <td>Hibernating</td>\n",
       "    </tr>\n",
       "    <tr>\n",
       "      <th>2</th>\n",
       "      <td>4</td>\n",
       "      <td>4</td>\n",
       "      <td>236</td>\n",
       "      <td>1316173.25</td>\n",
       "      <td>5</td>\n",
       "      <td>5</td>\n",
       "      <td>5</td>\n",
       "      <td>555</td>\n",
       "      <td>Champions</td>\n",
       "    </tr>\n",
       "    <tr>\n",
       "      <th>3</th>\n",
       "      <td>6</td>\n",
       "      <td>791</td>\n",
       "      <td>1</td>\n",
       "      <td>170.00</td>\n",
       "      <td>1</td>\n",
       "      <td>1</td>\n",
       "      <td>1</td>\n",
       "      <td>111</td>\n",
       "      <td>Hibernating</td>\n",
       "    </tr>\n",
       "    <tr>\n",
       "      <th>4</th>\n",
       "      <td>7</td>\n",
       "      <td>503</td>\n",
       "      <td>4</td>\n",
       "      <td>105.00</td>\n",
       "      <td>2</td>\n",
       "      <td>5</td>\n",
       "      <td>1</td>\n",
       "      <td>251</td>\n",
       "      <td>Can't Lose Them</td>\n",
       "    </tr>\n",
       "  </tbody>\n",
       "</table>\n",
       "</div>"
      ],
      "text/plain": [
       "   Customer ID  Recency  Frequency   Monetary Recency_Score Frequency_Score  \\\n",
       "0            1      791          1    1950.00             1               1   \n",
       "1            3      469          1    4980.00             2               1   \n",
       "2            4        4        236 1316173.25             5               5   \n",
       "3            6      791          1     170.00             1               1   \n",
       "4            7      503          4     105.00             2               5   \n",
       "\n",
       "  Monetary_Score RFM_SCORE          Segment  \n",
       "0              2       112      Hibernating  \n",
       "1              3       213      Hibernating  \n",
       "2              5       555        Champions  \n",
       "3              1       111      Hibernating  \n",
       "4              1       251  Can't Lose Them  "
      ]
     },
     "execution_count": 127,
     "metadata": {},
     "output_type": "execute_result"
    }
   ],
   "source": [
    "rfm_dt[\"Segment\"] = rfm_dt[\"Recency_Score\"].astype(str) + rfm_dt[\"Frequency_Score\"].astype(str)\n",
    "rfm_dt[\"Segment\"] = rfm_dt[\"Segment\"].replace(seg_map, regex=True)\n",
    "rfm_dt.head()"
   ]
  },
  {
   "cell_type": "code",
   "execution_count": 128,
   "metadata": {},
   "outputs": [
    {
     "data": {
      "text/html": [
       "<div>\n",
       "<style scoped>\n",
       "    .dataframe tbody tr th:only-of-type {\n",
       "        vertical-align: middle;\n",
       "    }\n",
       "\n",
       "    .dataframe tbody tr th {\n",
       "        vertical-align: top;\n",
       "    }\n",
       "\n",
       "    .dataframe thead th {\n",
       "        text-align: right;\n",
       "    }\n",
       "</style>\n",
       "<table border=\"1\" class=\"dataframe\">\n",
       "  <thead>\n",
       "    <tr style=\"text-align: right;\">\n",
       "      <th></th>\n",
       "      <th>Segment</th>\n",
       "      <th>Customer Number</th>\n",
       "      <th>%</th>\n",
       "    </tr>\n",
       "  </thead>\n",
       "  <tbody>\n",
       "    <tr>\n",
       "      <th>0</th>\n",
       "      <td>Hibernating</td>\n",
       "      <td>23565</td>\n",
       "      <td>29.41</td>\n",
       "    </tr>\n",
       "    <tr>\n",
       "      <th>1</th>\n",
       "      <td>Potential Loyalists</td>\n",
       "      <td>14508</td>\n",
       "      <td>18.11</td>\n",
       "    </tr>\n",
       "    <tr>\n",
       "      <th>2</th>\n",
       "      <td>Loyal Customers</td>\n",
       "      <td>12434</td>\n",
       "      <td>15.52</td>\n",
       "    </tr>\n",
       "    <tr>\n",
       "      <th>3</th>\n",
       "      <td>Champions</td>\n",
       "      <td>11146</td>\n",
       "      <td>13.91</td>\n",
       "    </tr>\n",
       "    <tr>\n",
       "      <th>4</th>\n",
       "      <td>About To Sleep</td>\n",
       "      <td>7931</td>\n",
       "      <td>9.90</td>\n",
       "    </tr>\n",
       "    <tr>\n",
       "      <th>5</th>\n",
       "      <td>At Risk</td>\n",
       "      <td>4653</td>\n",
       "      <td>5.81</td>\n",
       "    </tr>\n",
       "    <tr>\n",
       "      <th>6</th>\n",
       "      <td>Can't Lose Them</td>\n",
       "      <td>3815</td>\n",
       "      <td>4.76</td>\n",
       "    </tr>\n",
       "    <tr>\n",
       "      <th>7</th>\n",
       "      <td>Need Attention</td>\n",
       "      <td>1918</td>\n",
       "      <td>2.39</td>\n",
       "    </tr>\n",
       "    <tr>\n",
       "      <th>8</th>\n",
       "      <td>Promising</td>\n",
       "      <td>82</td>\n",
       "      <td>0.10</td>\n",
       "    </tr>\n",
       "    <tr>\n",
       "      <th>9</th>\n",
       "      <td>New Customers</td>\n",
       "      <td>69</td>\n",
       "      <td>0.09</td>\n",
       "    </tr>\n",
       "  </tbody>\n",
       "</table>\n",
       "</div>"
      ],
      "text/plain": [
       "               Segment  Customer Number     %\n",
       "0          Hibernating            23565 29.41\n",
       "1  Potential Loyalists            14508 18.11\n",
       "2      Loyal Customers            12434 15.52\n",
       "3            Champions            11146 13.91\n",
       "4       About To Sleep             7931  9.90\n",
       "5              At Risk             4653  5.81\n",
       "6      Can't Lose Them             3815  4.76\n",
       "7       Need Attention             1918  2.39\n",
       "8            Promising               82  0.10\n",
       "9        New Customers               69  0.09"
      ]
     },
     "execution_count": 128,
     "metadata": {},
     "output_type": "execute_result"
    }
   ],
   "source": [
    "#統計每個分組的顧客人數\n",
    "rfm_dt_segnum = rfm_dt.groupby(\"Segment\").agg({\"Customer ID\":\"count\"}).sort_values(\"Customer ID\", ascending=False).reset_index()\n",
    "rfm_dt_segnum[\"%\"] = 100 * (rfm_dt_segnum[\"Customer ID\"] / rfm_dt_segnum[\"Customer ID\"].sum())\n",
    "rfm_dt_segnum.columns = [\"Segment\", \"Customer Number\",\"%\"]\n",
    "rfm_dt_segnum"
   ]
  },
  {
   "cell_type": "code",
   "execution_count": 129,
   "metadata": {},
   "outputs": [
    {
     "data": {
      "application/vnd.plotly.v1+json": {
       "config": {
        "plotlyServerURL": "https://plot.ly"
       },
       "data": [
        {
         "branchvalues": "total",
         "domain": {
          "x": [
           0,
           1
          ],
          "y": [
           0,
           1
          ]
         },
         "hovertemplate": "labels=%{label}<br>Customer Number=%{value}<br>parent=%{parent}<br>id=%{id}<extra></extra>",
         "ids": [
          "About To Sleep",
          "At Risk",
          "Can't Lose Them",
          "Champions",
          "Hibernating",
          "Loyal Customers",
          "Need Attention",
          "New Customers",
          "Potential Loyalists",
          "Promising"
         ],
         "labels": [
          "About To Sleep",
          "At Risk",
          "Can't Lose Them",
          "Champions",
          "Hibernating",
          "Loyal Customers",
          "Need Attention",
          "New Customers",
          "Potential Loyalists",
          "Promising"
         ],
         "name": "",
         "parents": [
          "",
          "",
          "",
          "",
          "",
          "",
          "",
          "",
          "",
          ""
         ],
         "type": "treemap",
         "values": [
          7931,
          4653,
          3815,
          11146,
          23565,
          12434,
          1918,
          69,
          14508,
          82
         ]
        }
       ],
       "layout": {
        "height": 400,
        "legend": {
         "tracegroupgap": 0
        },
        "margin": {
         "b": 10,
         "l": 20,
         "r": 20,
         "t": 10
        },
        "template": {
         "data": {
          "bar": [
           {
            "error_x": {
             "color": "#2a3f5f"
            },
            "error_y": {
             "color": "#2a3f5f"
            },
            "marker": {
             "line": {
              "color": "#E5ECF6",
              "width": 0.5
             },
             "pattern": {
              "fillmode": "overlay",
              "size": 10,
              "solidity": 0.2
             }
            },
            "type": "bar"
           }
          ],
          "barpolar": [
           {
            "marker": {
             "line": {
              "color": "#E5ECF6",
              "width": 0.5
             },
             "pattern": {
              "fillmode": "overlay",
              "size": 10,
              "solidity": 0.2
             }
            },
            "type": "barpolar"
           }
          ],
          "carpet": [
           {
            "aaxis": {
             "endlinecolor": "#2a3f5f",
             "gridcolor": "white",
             "linecolor": "white",
             "minorgridcolor": "white",
             "startlinecolor": "#2a3f5f"
            },
            "baxis": {
             "endlinecolor": "#2a3f5f",
             "gridcolor": "white",
             "linecolor": "white",
             "minorgridcolor": "white",
             "startlinecolor": "#2a3f5f"
            },
            "type": "carpet"
           }
          ],
          "choropleth": [
           {
            "colorbar": {
             "outlinewidth": 0,
             "ticks": ""
            },
            "type": "choropleth"
           }
          ],
          "contour": [
           {
            "colorbar": {
             "outlinewidth": 0,
             "ticks": ""
            },
            "colorscale": [
             [
              0,
              "#0d0887"
             ],
             [
              0.1111111111111111,
              "#46039f"
             ],
             [
              0.2222222222222222,
              "#7201a8"
             ],
             [
              0.3333333333333333,
              "#9c179e"
             ],
             [
              0.4444444444444444,
              "#bd3786"
             ],
             [
              0.5555555555555556,
              "#d8576b"
             ],
             [
              0.6666666666666666,
              "#ed7953"
             ],
             [
              0.7777777777777778,
              "#fb9f3a"
             ],
             [
              0.8888888888888888,
              "#fdca26"
             ],
             [
              1,
              "#f0f921"
             ]
            ],
            "type": "contour"
           }
          ],
          "contourcarpet": [
           {
            "colorbar": {
             "outlinewidth": 0,
             "ticks": ""
            },
            "type": "contourcarpet"
           }
          ],
          "heatmap": [
           {
            "colorbar": {
             "outlinewidth": 0,
             "ticks": ""
            },
            "colorscale": [
             [
              0,
              "#0d0887"
             ],
             [
              0.1111111111111111,
              "#46039f"
             ],
             [
              0.2222222222222222,
              "#7201a8"
             ],
             [
              0.3333333333333333,
              "#9c179e"
             ],
             [
              0.4444444444444444,
              "#bd3786"
             ],
             [
              0.5555555555555556,
              "#d8576b"
             ],
             [
              0.6666666666666666,
              "#ed7953"
             ],
             [
              0.7777777777777778,
              "#fb9f3a"
             ],
             [
              0.8888888888888888,
              "#fdca26"
             ],
             [
              1,
              "#f0f921"
             ]
            ],
            "type": "heatmap"
           }
          ],
          "heatmapgl": [
           {
            "colorbar": {
             "outlinewidth": 0,
             "ticks": ""
            },
            "colorscale": [
             [
              0,
              "#0d0887"
             ],
             [
              0.1111111111111111,
              "#46039f"
             ],
             [
              0.2222222222222222,
              "#7201a8"
             ],
             [
              0.3333333333333333,
              "#9c179e"
             ],
             [
              0.4444444444444444,
              "#bd3786"
             ],
             [
              0.5555555555555556,
              "#d8576b"
             ],
             [
              0.6666666666666666,
              "#ed7953"
             ],
             [
              0.7777777777777778,
              "#fb9f3a"
             ],
             [
              0.8888888888888888,
              "#fdca26"
             ],
             [
              1,
              "#f0f921"
             ]
            ],
            "type": "heatmapgl"
           }
          ],
          "histogram": [
           {
            "marker": {
             "pattern": {
              "fillmode": "overlay",
              "size": 10,
              "solidity": 0.2
             }
            },
            "type": "histogram"
           }
          ],
          "histogram2d": [
           {
            "colorbar": {
             "outlinewidth": 0,
             "ticks": ""
            },
            "colorscale": [
             [
              0,
              "#0d0887"
             ],
             [
              0.1111111111111111,
              "#46039f"
             ],
             [
              0.2222222222222222,
              "#7201a8"
             ],
             [
              0.3333333333333333,
              "#9c179e"
             ],
             [
              0.4444444444444444,
              "#bd3786"
             ],
             [
              0.5555555555555556,
              "#d8576b"
             ],
             [
              0.6666666666666666,
              "#ed7953"
             ],
             [
              0.7777777777777778,
              "#fb9f3a"
             ],
             [
              0.8888888888888888,
              "#fdca26"
             ],
             [
              1,
              "#f0f921"
             ]
            ],
            "type": "histogram2d"
           }
          ],
          "histogram2dcontour": [
           {
            "colorbar": {
             "outlinewidth": 0,
             "ticks": ""
            },
            "colorscale": [
             [
              0,
              "#0d0887"
             ],
             [
              0.1111111111111111,
              "#46039f"
             ],
             [
              0.2222222222222222,
              "#7201a8"
             ],
             [
              0.3333333333333333,
              "#9c179e"
             ],
             [
              0.4444444444444444,
              "#bd3786"
             ],
             [
              0.5555555555555556,
              "#d8576b"
             ],
             [
              0.6666666666666666,
              "#ed7953"
             ],
             [
              0.7777777777777778,
              "#fb9f3a"
             ],
             [
              0.8888888888888888,
              "#fdca26"
             ],
             [
              1,
              "#f0f921"
             ]
            ],
            "type": "histogram2dcontour"
           }
          ],
          "mesh3d": [
           {
            "colorbar": {
             "outlinewidth": 0,
             "ticks": ""
            },
            "type": "mesh3d"
           }
          ],
          "parcoords": [
           {
            "line": {
             "colorbar": {
              "outlinewidth": 0,
              "ticks": ""
             }
            },
            "type": "parcoords"
           }
          ],
          "pie": [
           {
            "automargin": true,
            "type": "pie"
           }
          ],
          "scatter": [
           {
            "fillpattern": {
             "fillmode": "overlay",
             "size": 10,
             "solidity": 0.2
            },
            "type": "scatter"
           }
          ],
          "scatter3d": [
           {
            "line": {
             "colorbar": {
              "outlinewidth": 0,
              "ticks": ""
             }
            },
            "marker": {
             "colorbar": {
              "outlinewidth": 0,
              "ticks": ""
             }
            },
            "type": "scatter3d"
           }
          ],
          "scattercarpet": [
           {
            "marker": {
             "colorbar": {
              "outlinewidth": 0,
              "ticks": ""
             }
            },
            "type": "scattercarpet"
           }
          ],
          "scattergeo": [
           {
            "marker": {
             "colorbar": {
              "outlinewidth": 0,
              "ticks": ""
             }
            },
            "type": "scattergeo"
           }
          ],
          "scattergl": [
           {
            "marker": {
             "colorbar": {
              "outlinewidth": 0,
              "ticks": ""
             }
            },
            "type": "scattergl"
           }
          ],
          "scattermapbox": [
           {
            "marker": {
             "colorbar": {
              "outlinewidth": 0,
              "ticks": ""
             }
            },
            "type": "scattermapbox"
           }
          ],
          "scatterpolar": [
           {
            "marker": {
             "colorbar": {
              "outlinewidth": 0,
              "ticks": ""
             }
            },
            "type": "scatterpolar"
           }
          ],
          "scatterpolargl": [
           {
            "marker": {
             "colorbar": {
              "outlinewidth": 0,
              "ticks": ""
             }
            },
            "type": "scatterpolargl"
           }
          ],
          "scatterternary": [
           {
            "marker": {
             "colorbar": {
              "outlinewidth": 0,
              "ticks": ""
             }
            },
            "type": "scatterternary"
           }
          ],
          "surface": [
           {
            "colorbar": {
             "outlinewidth": 0,
             "ticks": ""
            },
            "colorscale": [
             [
              0,
              "#0d0887"
             ],
             [
              0.1111111111111111,
              "#46039f"
             ],
             [
              0.2222222222222222,
              "#7201a8"
             ],
             [
              0.3333333333333333,
              "#9c179e"
             ],
             [
              0.4444444444444444,
              "#bd3786"
             ],
             [
              0.5555555555555556,
              "#d8576b"
             ],
             [
              0.6666666666666666,
              "#ed7953"
             ],
             [
              0.7777777777777778,
              "#fb9f3a"
             ],
             [
              0.8888888888888888,
              "#fdca26"
             ],
             [
              1,
              "#f0f921"
             ]
            ],
            "type": "surface"
           }
          ],
          "table": [
           {
            "cells": {
             "fill": {
              "color": "#EBF0F8"
             },
             "line": {
              "color": "white"
             }
            },
            "header": {
             "fill": {
              "color": "#C8D4E3"
             },
             "line": {
              "color": "white"
             }
            },
            "type": "table"
           }
          ]
         },
         "layout": {
          "annotationdefaults": {
           "arrowcolor": "#2a3f5f",
           "arrowhead": 0,
           "arrowwidth": 1
          },
          "autotypenumbers": "strict",
          "coloraxis": {
           "colorbar": {
            "outlinewidth": 0,
            "ticks": ""
           }
          },
          "colorscale": {
           "diverging": [
            [
             0,
             "#8e0152"
            ],
            [
             0.1,
             "#c51b7d"
            ],
            [
             0.2,
             "#de77ae"
            ],
            [
             0.3,
             "#f1b6da"
            ],
            [
             0.4,
             "#fde0ef"
            ],
            [
             0.5,
             "#f7f7f7"
            ],
            [
             0.6,
             "#e6f5d0"
            ],
            [
             0.7,
             "#b8e186"
            ],
            [
             0.8,
             "#7fbc41"
            ],
            [
             0.9,
             "#4d9221"
            ],
            [
             1,
             "#276419"
            ]
           ],
           "sequential": [
            [
             0,
             "#0d0887"
            ],
            [
             0.1111111111111111,
             "#46039f"
            ],
            [
             0.2222222222222222,
             "#7201a8"
            ],
            [
             0.3333333333333333,
             "#9c179e"
            ],
            [
             0.4444444444444444,
             "#bd3786"
            ],
            [
             0.5555555555555556,
             "#d8576b"
            ],
            [
             0.6666666666666666,
             "#ed7953"
            ],
            [
             0.7777777777777778,
             "#fb9f3a"
            ],
            [
             0.8888888888888888,
             "#fdca26"
            ],
            [
             1,
             "#f0f921"
            ]
           ],
           "sequentialminus": [
            [
             0,
             "#0d0887"
            ],
            [
             0.1111111111111111,
             "#46039f"
            ],
            [
             0.2222222222222222,
             "#7201a8"
            ],
            [
             0.3333333333333333,
             "#9c179e"
            ],
            [
             0.4444444444444444,
             "#bd3786"
            ],
            [
             0.5555555555555556,
             "#d8576b"
            ],
            [
             0.6666666666666666,
             "#ed7953"
            ],
            [
             0.7777777777777778,
             "#fb9f3a"
            ],
            [
             0.8888888888888888,
             "#fdca26"
            ],
            [
             1,
             "#f0f921"
            ]
           ]
          },
          "colorway": [
           "#636efa",
           "#EF553B",
           "#00cc96",
           "#ab63fa",
           "#FFA15A",
           "#19d3f3",
           "#FF6692",
           "#B6E880",
           "#FF97FF",
           "#FECB52"
          ],
          "font": {
           "color": "#2a3f5f"
          },
          "geo": {
           "bgcolor": "white",
           "lakecolor": "white",
           "landcolor": "#E5ECF6",
           "showlakes": true,
           "showland": true,
           "subunitcolor": "white"
          },
          "hoverlabel": {
           "align": "left"
          },
          "hovermode": "closest",
          "mapbox": {
           "style": "light"
          },
          "paper_bgcolor": "white",
          "plot_bgcolor": "#E5ECF6",
          "polar": {
           "angularaxis": {
            "gridcolor": "white",
            "linecolor": "white",
            "ticks": ""
           },
           "bgcolor": "#E5ECF6",
           "radialaxis": {
            "gridcolor": "white",
            "linecolor": "white",
            "ticks": ""
           }
          },
          "scene": {
           "xaxis": {
            "backgroundcolor": "#E5ECF6",
            "gridcolor": "white",
            "gridwidth": 2,
            "linecolor": "white",
            "showbackground": true,
            "ticks": "",
            "zerolinecolor": "white"
           },
           "yaxis": {
            "backgroundcolor": "#E5ECF6",
            "gridcolor": "white",
            "gridwidth": 2,
            "linecolor": "white",
            "showbackground": true,
            "ticks": "",
            "zerolinecolor": "white"
           },
           "zaxis": {
            "backgroundcolor": "#E5ECF6",
            "gridcolor": "white",
            "gridwidth": 2,
            "linecolor": "white",
            "showbackground": true,
            "ticks": "",
            "zerolinecolor": "white"
           }
          },
          "shapedefaults": {
           "line": {
            "color": "#2a3f5f"
           }
          },
          "ternary": {
           "aaxis": {
            "gridcolor": "white",
            "linecolor": "white",
            "ticks": ""
           },
           "baxis": {
            "gridcolor": "white",
            "linecolor": "white",
            "ticks": ""
           },
           "bgcolor": "#E5ECF6",
           "caxis": {
            "gridcolor": "white",
            "linecolor": "white",
            "ticks": ""
           }
          },
          "title": {
           "x": 0.05
          },
          "xaxis": {
           "automargin": true,
           "gridcolor": "white",
           "linecolor": "white",
           "ticks": "",
           "title": {
            "standoff": 15
           },
           "zerolinecolor": "white",
           "zerolinewidth": 2
          },
          "yaxis": {
           "automargin": true,
           "gridcolor": "white",
           "linecolor": "white",
           "ticks": "",
           "title": {
            "standoff": 15
           },
           "zerolinecolor": "white",
           "zerolinewidth": 2
          }
         }
        },
        "treemapcolorway": [
         "#fae588",
         "#f79d65",
         "#f9dc5c",
         "#e8ac65",
         "#e76f51",
         "#ef233c",
         "#b7094c"
        ],
        "width": 800
       }
      }
     },
     "metadata": {},
     "output_type": "display_data"
    }
   ],
   "source": [
    "colors=['#fae588','#f79d65','#f9dc5c','#e8ac65','#e76f51','#ef233c','#b7094c']\n",
    "fig = px.treemap(rfm_dt_segnum, path=['Segment'],values='Customer Number', width=800, height=400)\n",
    "fig.update_layout(\n",
    "    treemapcolorway = colors, #defines the colors in the treemap\n",
    "    margin = dict(t=10, l=20, r=20, b=10))\n",
    "fig.show()"
   ]
  },
  {
   "cell_type": "code",
   "execution_count": 130,
   "metadata": {},
   "outputs": [
    {
     "data": {
      "text/html": [
       "<div>\n",
       "<style scoped>\n",
       "    .dataframe tbody tr th:only-of-type {\n",
       "        vertical-align: middle;\n",
       "    }\n",
       "\n",
       "    .dataframe tbody tr th {\n",
       "        vertical-align: top;\n",
       "    }\n",
       "\n",
       "    .dataframe thead th {\n",
       "        text-align: right;\n",
       "    }\n",
       "</style>\n",
       "<table border=\"1\" class=\"dataframe\">\n",
       "  <thead>\n",
       "    <tr style=\"text-align: right;\">\n",
       "      <th></th>\n",
       "      <th>Recency</th>\n",
       "      <th>Frequency</th>\n",
       "      <th>Monetary</th>\n",
       "    </tr>\n",
       "    <tr>\n",
       "      <th>Segment</th>\n",
       "      <th></th>\n",
       "      <th></th>\n",
       "      <th></th>\n",
       "    </tr>\n",
       "  </thead>\n",
       "  <tbody>\n",
       "    <tr>\n",
       "      <th>About To Sleep</th>\n",
       "      <td>348.39</td>\n",
       "      <td>1.00</td>\n",
       "      <td>5620.94</td>\n",
       "    </tr>\n",
       "    <tr>\n",
       "      <th>At Risk</th>\n",
       "      <td>583.89</td>\n",
       "      <td>2.03</td>\n",
       "      <td>9968.36</td>\n",
       "    </tr>\n",
       "    <tr>\n",
       "      <th>Can't Lose Them</th>\n",
       "      <td>562.63</td>\n",
       "      <td>7.68</td>\n",
       "      <td>33207.72</td>\n",
       "    </tr>\n",
       "    <tr>\n",
       "      <th>Champions</th>\n",
       "      <td>86.20</td>\n",
       "      <td>5.57</td>\n",
       "      <td>54086.09</td>\n",
       "    </tr>\n",
       "    <tr>\n",
       "      <th>Hibernating</th>\n",
       "      <td>598.35</td>\n",
       "      <td>1.00</td>\n",
       "      <td>6757.04</td>\n",
       "    </tr>\n",
       "    <tr>\n",
       "      <th>Loyal Customers</th>\n",
       "      <td>277.38</td>\n",
       "      <td>4.66</td>\n",
       "      <td>41969.94</td>\n",
       "    </tr>\n",
       "    <tr>\n",
       "      <th>Need Attention</th>\n",
       "      <td>283.76</td>\n",
       "      <td>1.00</td>\n",
       "      <td>7732.71</td>\n",
       "    </tr>\n",
       "    <tr>\n",
       "      <th>New Customers</th>\n",
       "      <td>104.35</td>\n",
       "      <td>1.00</td>\n",
       "      <td>9837.70</td>\n",
       "    </tr>\n",
       "    <tr>\n",
       "      <th>Potential Loyalists</th>\n",
       "      <td>200.67</td>\n",
       "      <td>1.00</td>\n",
       "      <td>7881.36</td>\n",
       "    </tr>\n",
       "    <tr>\n",
       "      <th>Promising</th>\n",
       "      <td>237.55</td>\n",
       "      <td>1.00</td>\n",
       "      <td>8298.31</td>\n",
       "    </tr>\n",
       "  </tbody>\n",
       "</table>\n",
       "</div>"
      ],
      "text/plain": [
       "                     Recency  Frequency  Monetary\n",
       "Segment                                          \n",
       "About To Sleep        348.39       1.00   5620.94\n",
       "At Risk               583.89       2.03   9968.36\n",
       "Can't Lose Them       562.63       7.68  33207.72\n",
       "Champions              86.20       5.57  54086.09\n",
       "Hibernating           598.35       1.00   6757.04\n",
       "Loyal Customers       277.38       4.66  41969.94\n",
       "Need Attention        283.76       1.00   7732.71\n",
       "New Customers         104.35       1.00   9837.70\n",
       "Potential Loyalists   200.67       1.00   7881.36\n",
       "Promising             237.55       1.00   8298.31"
      ]
     },
     "execution_count": 130,
     "metadata": {},
     "output_type": "execute_result"
    }
   ],
   "source": [
    "rfm_dt[[\"Segment\",\"Recency\", \"Frequency\", \"Monetary\"]].groupby(\"Segment\").agg(\"mean\")"
   ]
  },
  {
   "cell_type": "code",
   "execution_count": 142,
   "metadata": {},
   "outputs": [
    {
     "data": {
      "text/html": [
       "<div>\n",
       "<style scoped>\n",
       "    .dataframe tbody tr th:only-of-type {\n",
       "        vertical-align: middle;\n",
       "    }\n",
       "\n",
       "    .dataframe tbody tr th {\n",
       "        vertical-align: top;\n",
       "    }\n",
       "\n",
       "    .dataframe thead th {\n",
       "        text-align: right;\n",
       "    }\n",
       "</style>\n",
       "<table border=\"1\" class=\"dataframe\">\n",
       "  <thead>\n",
       "    <tr style=\"text-align: right;\">\n",
       "      <th></th>\n",
       "      <th>category_name_1</th>\n",
       "      <th>count</th>\n",
       "      <th>sum</th>\n",
       "    </tr>\n",
       "  </thead>\n",
       "  <tbody>\n",
       "    <tr>\n",
       "      <th>0</th>\n",
       "      <td>Appliances</td>\n",
       "      <td>9426</td>\n",
       "      <td>106733401.86</td>\n",
       "    </tr>\n",
       "    <tr>\n",
       "      <th>1</th>\n",
       "      <td>Beauty &amp; Grooming</td>\n",
       "      <td>8470</td>\n",
       "      <td>16529698.62</td>\n",
       "    </tr>\n",
       "    <tr>\n",
       "      <th>2</th>\n",
       "      <td>Books</td>\n",
       "      <td>352</td>\n",
       "      <td>549723.02</td>\n",
       "    </tr>\n",
       "    <tr>\n",
       "      <th>3</th>\n",
       "      <td>Computing</td>\n",
       "      <td>2287</td>\n",
       "      <td>23105740.16</td>\n",
       "    </tr>\n",
       "    <tr>\n",
       "      <th>4</th>\n",
       "      <td>Entertainment</td>\n",
       "      <td>4502</td>\n",
       "      <td>81876816.60</td>\n",
       "    </tr>\n",
       "    <tr>\n",
       "      <th>5</th>\n",
       "      <td>Health &amp; Sports</td>\n",
       "      <td>4963</td>\n",
       "      <td>9867515.07</td>\n",
       "    </tr>\n",
       "    <tr>\n",
       "      <th>6</th>\n",
       "      <td>Home &amp; Living</td>\n",
       "      <td>5047</td>\n",
       "      <td>14345832.34</td>\n",
       "    </tr>\n",
       "    <tr>\n",
       "      <th>7</th>\n",
       "      <td>Kids &amp; Baby</td>\n",
       "      <td>2695</td>\n",
       "      <td>7227147.44</td>\n",
       "    </tr>\n",
       "    <tr>\n",
       "      <th>8</th>\n",
       "      <td>Men's Fashion</td>\n",
       "      <td>11945</td>\n",
       "      <td>21257698.73</td>\n",
       "    </tr>\n",
       "    <tr>\n",
       "      <th>9</th>\n",
       "      <td>Mobiles &amp; Tablets</td>\n",
       "      <td>15227</td>\n",
       "      <td>218141664.23</td>\n",
       "    </tr>\n",
       "    <tr>\n",
       "      <th>10</th>\n",
       "      <td>Others</td>\n",
       "      <td>3012</td>\n",
       "      <td>14269108.84</td>\n",
       "    </tr>\n",
       "    <tr>\n",
       "      <th>11</th>\n",
       "      <td>School &amp; Education</td>\n",
       "      <td>555</td>\n",
       "      <td>938348.44</td>\n",
       "    </tr>\n",
       "    <tr>\n",
       "      <th>12</th>\n",
       "      <td>Soghaat</td>\n",
       "      <td>8057</td>\n",
       "      <td>9964569.82</td>\n",
       "    </tr>\n",
       "    <tr>\n",
       "      <th>13</th>\n",
       "      <td>Superstore</td>\n",
       "      <td>13288</td>\n",
       "      <td>31763279.03</td>\n",
       "    </tr>\n",
       "    <tr>\n",
       "      <th>14</th>\n",
       "      <td>Women's Fashion</td>\n",
       "      <td>11096</td>\n",
       "      <td>43833354.33</td>\n",
       "    </tr>\n",
       "    <tr>\n",
       "      <th>15</th>\n",
       "      <td>\\N</td>\n",
       "      <td>420</td>\n",
       "      <td>2437043.24</td>\n",
       "    </tr>\n",
       "  </tbody>\n",
       "</table>\n",
       "</div>"
      ],
      "text/plain": [
       "       category_name_1  count          sum\n",
       "0           Appliances   9426 106733401.86\n",
       "1    Beauty & Grooming   8470  16529698.62\n",
       "2                Books    352    549723.02\n",
       "3            Computing   2287  23105740.16\n",
       "4        Entertainment   4502  81876816.60\n",
       "5      Health & Sports   4963   9867515.07\n",
       "6        Home & Living   5047  14345832.34\n",
       "7          Kids & Baby   2695   7227147.44\n",
       "8        Men's Fashion  11945  21257698.73\n",
       "9    Mobiles & Tablets  15227 218141664.23\n",
       "10              Others   3012  14269108.84\n",
       "11  School & Education    555    938348.44\n",
       "12             Soghaat   8057   9964569.82\n",
       "13          Superstore  13288  31763279.03\n",
       "14     Women's Fashion  11096  43833354.33\n",
       "15                  \\N    420   2437043.24"
      ]
     },
     "execution_count": 142,
     "metadata": {},
     "output_type": "execute_result"
    }
   ],
   "source": [
    "#8 統計最有價值顧客最常買的產品和消費總金額\n",
    "rfm_dt_mapping = rfm_dt[[\"Customer ID\",\"Segment\"]]\n",
    "dt_rfm = dt.merge(rfm_dt_mapping,how=\"left\")\n",
    "a =dt_rfm[(dt_rfm[\"status\"] == \"completed\") & (dt_rfm[\"Segment\"] == \"Champions\")].groupby(\"category_name_1\")[\"grand_total\"].agg([\"count\",\"sum\"]).reset_index()\n",
    "#dt_rfm.head()\n",
    "a"
   ]
  },
  {
   "cell_type": "markdown",
   "metadata": {},
   "source": [
    "dt.loc[:,[\"item_id\", \"status\", \"created_at\", \"sku\", \"price\", \"qty_ordered\", \"grand_total\", \"increment_id\", \"category_name_1\",\"discount_amount\", \\\n",
    "    \"payment_method\", \"Year\", \"Month\", \"Customer ID\"]]Year_Month\n",
    "    pivot_purchase = pivot_purchase_times.applymap(lambda x: 1 if x>0  else  0)\n",
    "pivot_backpurchase  =(pivot_purchase.shift(-1,axis=1).fillna(0)+pivot_purchase).applymap(lambda x: 1 if x>1 else 0 )\n",
    "pivot_backpurchase.sum()/pivot_purchase.sum()\n",
    "/9946"
   ]
  },
  {
   "cell_type": "code",
   "execution_count": 132,
   "metadata": {},
   "outputs": [],
   "source": [
    "# shop_sum = revenue.groupby(\"invoice_date_y\")[\"price\"].agg(\"sum\")\n",
    "# customer_id_count = df.groupby(\"invoice_date_y\")[\"invoice_no\",\"customer_id\"].nunique()\n",
    "# customer_id_count\n",
    "# shop_per_num =pd.concat([shop_sum,customer_id_count],axis=1)\n",
    "# shop_per_num"
   ]
  },
  {
   "cell_type": "code",
   "execution_count": 133,
   "metadata": {},
   "outputs": [],
   "source": [
    "#order_data = pd.merge(df_orders, df_order_payments, on=\"order_id\")\n",
    "# order_count = order_data[order_data[\"order_status\"] != \"canceled\"].groupby(\"order_purchase_y\").agg(\"count\")\n",
    "# customer_id_count = order_data[order_data[\"order_status\"] != \"canceled\"].groupby(\"order_purchase_y\")[\"customer_id\"].nunique()\n",
    "# order_count"
   ]
  },
  {
   "cell_type": "markdown",
   "metadata": {},
   "source": [
    "\n",
    "#5 每個月回購率v\n",
    "#6 RFM模型 v\n",
    "#7 商品銷量分布(圓餅圖)\n",
    "\n",
    "x #8 商品退貨Top10\n",
    "\n",
    "#9 付費方式占比\n",
    "#10 新舊客戶 >> 生成最早購買時間欄位v\n",
    "https://medium.com/multiplyai/user-acquisition-stats-b3fd0928acff\n"
   ]
  },
  {
   "cell_type": "code",
   "execution_count": 134,
   "metadata": {},
   "outputs": [],
   "source": [
    "#2016 - 2018 人均訂單數\n",
    "# customer_id\n",
    "# order_count = order_data[order_data[\"order_status\"] != \"canceled\"].groupby(\"order_purchase_y\").agg(\"count\")\n",
    "# customer_id_count = order_data[order_data[\"order_status\"] != \"canceled\"].groupby(\"order_purchase_y\")[\"customer_id\"].nunique()\n",
    "# order_count\n"
   ]
  },
  {
   "cell_type": "code",
   "execution_count": 135,
   "metadata": {},
   "outputs": [],
   "source": [
    "# customer_id_count\n",
    "\n",
    "\n",
    "# grand_total_check = dt[dt[\"grand_total\"] < 0][\"status\"].value_counts().rename_axis(\"status\").reset_index(name=\"counts\")\n",
    "# #grand_total_check\n",
    "# fig, ax = plt.subplots(figsize=(15,5))\n",
    "# sns.set(style=\"darkgrid\", palette=\"bright\")\n",
    "# g = sns.barplot(data=grand_total_check, x=\"status\", y=\"counts\")\n",
    "# ax.bar_label(g.containers[0], padding = 0, fontsize = 12)\n",
    "# plt.xticks(fontsize=12)\n",
    "# plt.yticks(fontsize=12)\n",
    "# plt.xlabel('Order Status', fontsize=12, labelpad=10)\n",
    "# plt.ylabel('Counts', fontsize=12, labelpad=10)"
   ]
  }
 ],
 "metadata": {
  "kernelspec": {
   "display_name": "Python 3.8.8 ('base')",
   "language": "python",
   "name": "python3"
  },
  "language_info": {
   "codemirror_mode": {
    "name": "ipython",
    "version": 3
   },
   "file_extension": ".py",
   "mimetype": "text/x-python",
   "name": "python",
   "nbconvert_exporter": "python",
   "pygments_lexer": "ipython3",
   "version": "3.8.8"
  },
  "orig_nbformat": 4,
  "vscode": {
   "interpreter": {
    "hash": "0f34cc79250ad0e4a99eb7fe7afdf3165bc4aa2cc1bb10fa40edf34315c4e305"
   }
  }
 },
 "nbformat": 4,
 "nbformat_minor": 2
}
